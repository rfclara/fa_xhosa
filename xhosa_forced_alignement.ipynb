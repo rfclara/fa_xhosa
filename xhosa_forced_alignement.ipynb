{
  "cells": [
    {
      "cell_type": "markdown",
      "metadata": {
        "id": "view-in-github",
        "colab_type": "text"
      },
      "source": [
        "<a href=\"https://colab.research.google.com/github/rfclara/fa_xhosa/blob/main/xhosa_forced_alignement.ipynb\" target=\"_parent\"><img src=\"https://colab.research.google.com/assets/colab-badge.svg\" alt=\"Open In Colab\"/></a>"
      ]
    },
    {
      "cell_type": "markdown",
      "source": [
        "# Aligning transcriptions and annotations - Xhosa corpus\n",
        "\n"
      ],
      "metadata": {
        "id": "FffJ6hD7dVqw"
      }
    },
    {
      "cell_type": "markdown",
      "metadata": {
        "id": "-jKa71Y6_VYK"
      },
      "source": [
        "# Introduction"
      ]
    },
    {
      "cell_type": "markdown",
      "source": [
        "The pourpose of this notebook is to align the interlinear glosses with the audio, from a transcribed corpus in Xhosa, one of the official languages of South Africa and Zimbabwe.\n",
        "\n",
        "The transcription of this corpus are not aligned with the speech. We will use [CCT forced alignement](https://pytorch.org/audio/main/tutorials/ctc_forced_alignment_api_tutorial.html) in order to cut the recording into small chunks and get the timestamps corresponding to their transcriptions.\n",
        "\n",
        "\n",
        "Here, we will follow the necessary steps to prepare the data for training or fine-tuning a speech-to-text model,"
      ],
      "metadata": {
        "id": "GfrP1cKUDhAo"
      }
    },
    {
      "cell_type": "markdown",
      "metadata": {
        "id": "ZHqkn2_OCz4Y"
      },
      "source": [
        "\n",
        "\n",
        "<p align=\"center\">\n",
        "  <img src=\"https://github.com/cawoylel/nlp4all/blob/main/asr/illustrations/forced_aligner.png?raw=true:, width=200\" alt=\"transformer\" width=500 class=\"center\">\n",
        "<br>\n",
        "    <em>\n",
        "    Illustration of the task of Forced Alignement, from nlp4all\n",
        "    </em>\n",
        "</p>\n",
        "\n",
        "[MMS](https://github.com/facebookresearch/fairseq/blob/main/examples/mms/README.md) is a Forced Aligner using a multilingual speech model trained on more than one thousand languages. You can check here if your language is included: https://dl.fbaipublicfiles.com/mms/misc/language_coverage_mms.html\n",
        "\n",
        "\n"
      ]
    },
    {
      "cell_type": "markdown",
      "metadata": {
        "id": "4ZM5ZQKY_SEJ"
      },
      "source": [
        "# Installing the dependencies in the virtual environnement\n"
      ]
    },
    {
      "cell_type": "code",
      "source": [
        "!apt install libicu-dev pkg-config"
      ],
      "metadata": {
        "id": "SwpHPRFVs032",
        "colab": {
          "base_uri": "https://localhost:8080/"
        },
        "outputId": "303a2da1-2534-4baa-988c-e22e063ec3b6"
      },
      "execution_count": 1,
      "outputs": [
        {
          "output_type": "stream",
          "name": "stdout",
          "text": [
            "Reading package lists... Done\n",
            "Building dependency tree... Done\n",
            "Reading state information... Done\n",
            "libicu-dev is already the newest version (70.1-2).\n",
            "pkg-config is already the newest version (0.29.2-1ubuntu3).\n",
            "0 upgraded, 0 newly installed, 0 to remove and 45 not upgraded.\n"
          ]
        }
      ]
    },
    {
      "cell_type": "code",
      "execution_count": 2,
      "metadata": {
        "id": "ddzlqgyTNrVB",
        "colab": {
          "base_uri": "https://localhost:8080/"
        },
        "outputId": "095f7114-6ab7-4629-bc83-a5aa1a0e58ed"
      },
      "outputs": [
        {
          "output_type": "stream",
          "name": "stdout",
          "text": [
            "\r0% [Working]\r            \rGet:1 http://security.ubuntu.com/ubuntu jammy-security InRelease [110 kB]\n",
            "\r0% [Waiting for headers] [1 InRelease 0 B/110 kB 0%] [Connecting to cloud.r-project.org] [Connecting\r                                                                                                    \rHit:2 http://archive.ubuntu.com/ubuntu jammy InRelease\n",
            "\r0% [1 InRelease 110 kB/110 kB 100%] [Connecting to cloud.r-project.org] [Connecting to ppa.launchpad\r                                                                                                    \rGet:3 http://archive.ubuntu.com/ubuntu jammy-updates InRelease [119 kB]\n",
            "\r0% [Waiting for headers] [Waiting for headers] [Connected to ppa.launchpadcontent.net (185.125.190.8\r                                                                                                    \rGet:4 https://cloud.r-project.org/bin/linux/ubuntu jammy-cran40/ InRelease [3,626 B]\n",
            "\r0% [Waiting for headers] [Connected to ppa.launchpadcontent.net (185.125.190.80)] [Waiting for heade\r                                                                                                    \rHit:5 http://archive.ubuntu.com/ubuntu jammy-backports InRelease\n",
            "Get:6 https://developer.download.nvidia.com/compute/cuda/repos/ubuntu2204/x86_64  InRelease [1,581 B]\n",
            "Hit:7 https://ppa.launchpadcontent.net/c2d4u.team/c2d4u4.0+/ubuntu jammy InRelease\n",
            "Hit:8 https://ppa.launchpadcontent.net/deadsnakes/ppa/ubuntu jammy InRelease\n",
            "Get:9 http://archive.ubuntu.com/ubuntu jammy-updates/restricted amd64 Packages [2,468 kB]\n",
            "Hit:10 https://ppa.launchpadcontent.net/graphics-drivers/ppa/ubuntu jammy InRelease\n",
            "Hit:11 https://ppa.launchpadcontent.net/ubuntugis/ppa/ubuntu jammy InRelease\n",
            "Get:12 http://archive.ubuntu.com/ubuntu jammy-updates/main amd64 Packages [2,125 kB]\n",
            "Get:13 http://archive.ubuntu.com/ubuntu jammy-updates/universe amd64 Packages [1,375 kB]\n",
            "Get:14 http://security.ubuntu.com/ubuntu jammy-security/universe amd64 Packages [1,083 kB]\n",
            "Get:15 http://security.ubuntu.com/ubuntu jammy-security/main amd64 Packages [1,853 kB]\n",
            "Get:16 http://security.ubuntu.com/ubuntu jammy-security/restricted amd64 Packages [2,395 kB]\n",
            "Get:17 https://developer.download.nvidia.com/compute/cuda/repos/ubuntu2204/x86_64  Packages [872 kB]\n",
            "Fetched 12.4 MB in 5s (2,692 kB/s)\n",
            "Reading package lists... Done\n",
            "Reading package lists... Done\n",
            "Building dependency tree... Done\n",
            "Reading state information... Done\n",
            "The following additional packages will be installed:\n",
            "  libao-common libao4 libid3tag0 libmad0 libopencore-amrnb0 libopencore-amrwb0 libsox-fmt-alsa\n",
            "  libsox-fmt-ao libsox-fmt-base libsox-fmt-mp3 libsox-fmt-oss libsox-fmt-pulse libsox3 libwavpack1\n",
            "Suggested packages:\n",
            "  libaudio2 libsndio6.1\n",
            "The following NEW packages will be installed:\n",
            "  libao-common libao4 libid3tag0 libmad0 libopencore-amrnb0 libopencore-amrwb0 libsox-fmt-all\n",
            "  libsox-fmt-alsa libsox-fmt-ao libsox-fmt-base libsox-fmt-mp3 libsox-fmt-oss libsox-fmt-pulse\n",
            "  libsox3 libwavpack1 sox\n",
            "0 upgraded, 16 newly installed, 0 to remove and 46 not upgraded.\n",
            "Need to get 800 kB of archives.\n",
            "After this operation, 2,533 kB of additional disk space will be used.\n",
            "Get:1 http://archive.ubuntu.com/ubuntu jammy/main amd64 libao-common all 1.2.2+20180113-1.1ubuntu3 [6,568 B]\n",
            "Get:2 http://archive.ubuntu.com/ubuntu jammy/main amd64 libao4 amd64 1.2.2+20180113-1.1ubuntu3 [35.2 kB]\n",
            "Get:3 http://archive.ubuntu.com/ubuntu jammy/universe amd64 libid3tag0 amd64 0.15.1b-14 [31.3 kB]\n",
            "Get:4 http://archive.ubuntu.com/ubuntu jammy/universe amd64 libmad0 amd64 0.15.1b-10ubuntu1 [63.1 kB]\n",
            "Get:5 http://archive.ubuntu.com/ubuntu jammy/universe amd64 libopencore-amrnb0 amd64 0.1.5-1 [94.8 kB]\n",
            "Get:6 http://archive.ubuntu.com/ubuntu jammy/universe amd64 libopencore-amrwb0 amd64 0.1.5-1 [49.1 kB]\n",
            "Get:7 http://archive.ubuntu.com/ubuntu jammy-updates/universe amd64 libsox3 amd64 14.4.2+git20190427-2+deb11u2ubuntu0.22.04.1 [240 kB]\n",
            "Get:8 http://archive.ubuntu.com/ubuntu jammy-updates/universe amd64 libsox-fmt-alsa amd64 14.4.2+git20190427-2+deb11u2ubuntu0.22.04.1 [11.2 kB]\n",
            "Get:9 http://archive.ubuntu.com/ubuntu jammy-updates/universe amd64 libsox-fmt-ao amd64 14.4.2+git20190427-2+deb11u2ubuntu0.22.04.1 [7,740 B]\n",
            "Get:10 http://archive.ubuntu.com/ubuntu jammy/main amd64 libwavpack1 amd64 5.4.0-1build2 [83.7 kB]\n",
            "Get:11 http://archive.ubuntu.com/ubuntu jammy-updates/universe amd64 libsox-fmt-base amd64 14.4.2+git20190427-2+deb11u2ubuntu0.22.04.1 [33.7 kB]\n",
            "Get:12 http://archive.ubuntu.com/ubuntu jammy-updates/universe amd64 libsox-fmt-mp3 amd64 14.4.2+git20190427-2+deb11u2ubuntu0.22.04.1 [17.3 kB]\n",
            "Get:13 http://archive.ubuntu.com/ubuntu jammy-updates/universe amd64 libsox-fmt-oss amd64 14.4.2+git20190427-2+deb11u2ubuntu0.22.04.1 [9,424 B]\n",
            "Get:14 http://archive.ubuntu.com/ubuntu jammy-updates/universe amd64 libsox-fmt-pulse amd64 14.4.2+git20190427-2+deb11u2ubuntu0.22.04.1 [7,732 B]\n",
            "Get:15 http://archive.ubuntu.com/ubuntu jammy-updates/universe amd64 libsox-fmt-all amd64 14.4.2+git20190427-2+deb11u2ubuntu0.22.04.1 [5,016 B]\n",
            "Get:16 http://archive.ubuntu.com/ubuntu jammy-updates/universe amd64 sox amd64 14.4.2+git20190427-2+deb11u2ubuntu0.22.04.1 [104 kB]\n",
            "Fetched 800 kB in 0s (6,230 kB/s)\n",
            "Selecting previously unselected package libao-common.\n",
            "(Reading database ... 121918 files and directories currently installed.)\n",
            "Preparing to unpack .../00-libao-common_1.2.2+20180113-1.1ubuntu3_all.deb ...\n",
            "Unpacking libao-common (1.2.2+20180113-1.1ubuntu3) ...\n",
            "Selecting previously unselected package libao4:amd64.\n",
            "Preparing to unpack .../01-libao4_1.2.2+20180113-1.1ubuntu3_amd64.deb ...\n",
            "Unpacking libao4:amd64 (1.2.2+20180113-1.1ubuntu3) ...\n",
            "Selecting previously unselected package libid3tag0:amd64.\n",
            "Preparing to unpack .../02-libid3tag0_0.15.1b-14_amd64.deb ...\n",
            "Unpacking libid3tag0:amd64 (0.15.1b-14) ...\n",
            "Selecting previously unselected package libmad0:amd64.\n",
            "Preparing to unpack .../03-libmad0_0.15.1b-10ubuntu1_amd64.deb ...\n",
            "Unpacking libmad0:amd64 (0.15.1b-10ubuntu1) ...\n",
            "Selecting previously unselected package libopencore-amrnb0:amd64.\n",
            "Preparing to unpack .../04-libopencore-amrnb0_0.1.5-1_amd64.deb ...\n",
            "Unpacking libopencore-amrnb0:amd64 (0.1.5-1) ...\n",
            "Selecting previously unselected package libopencore-amrwb0:amd64.\n",
            "Preparing to unpack .../05-libopencore-amrwb0_0.1.5-1_amd64.deb ...\n",
            "Unpacking libopencore-amrwb0:amd64 (0.1.5-1) ...\n",
            "Selecting previously unselected package libsox3:amd64.\n",
            "Preparing to unpack .../06-libsox3_14.4.2+git20190427-2+deb11u2ubuntu0.22.04.1_amd64.deb ...\n",
            "Unpacking libsox3:amd64 (14.4.2+git20190427-2+deb11u2ubuntu0.22.04.1) ...\n",
            "Selecting previously unselected package libsox-fmt-alsa:amd64.\n",
            "Preparing to unpack .../07-libsox-fmt-alsa_14.4.2+git20190427-2+deb11u2ubuntu0.22.04.1_amd64.deb ...\n",
            "Unpacking libsox-fmt-alsa:amd64 (14.4.2+git20190427-2+deb11u2ubuntu0.22.04.1) ...\n",
            "Selecting previously unselected package libsox-fmt-ao:amd64.\n",
            "Preparing to unpack .../08-libsox-fmt-ao_14.4.2+git20190427-2+deb11u2ubuntu0.22.04.1_amd64.deb ...\n",
            "Unpacking libsox-fmt-ao:amd64 (14.4.2+git20190427-2+deb11u2ubuntu0.22.04.1) ...\n",
            "Selecting previously unselected package libwavpack1:amd64.\n",
            "Preparing to unpack .../09-libwavpack1_5.4.0-1build2_amd64.deb ...\n",
            "Unpacking libwavpack1:amd64 (5.4.0-1build2) ...\n",
            "Selecting previously unselected package libsox-fmt-base:amd64.\n",
            "Preparing to unpack .../10-libsox-fmt-base_14.4.2+git20190427-2+deb11u2ubuntu0.22.04.1_amd64.deb ...\n",
            "Unpacking libsox-fmt-base:amd64 (14.4.2+git20190427-2+deb11u2ubuntu0.22.04.1) ...\n",
            "Selecting previously unselected package libsox-fmt-mp3:amd64.\n",
            "Preparing to unpack .../11-libsox-fmt-mp3_14.4.2+git20190427-2+deb11u2ubuntu0.22.04.1_amd64.deb ...\n",
            "Unpacking libsox-fmt-mp3:amd64 (14.4.2+git20190427-2+deb11u2ubuntu0.22.04.1) ...\n",
            "Selecting previously unselected package libsox-fmt-oss:amd64.\n",
            "Preparing to unpack .../12-libsox-fmt-oss_14.4.2+git20190427-2+deb11u2ubuntu0.22.04.1_amd64.deb ...\n",
            "Unpacking libsox-fmt-oss:amd64 (14.4.2+git20190427-2+deb11u2ubuntu0.22.04.1) ...\n",
            "Selecting previously unselected package libsox-fmt-pulse:amd64.\n",
            "Preparing to unpack .../13-libsox-fmt-pulse_14.4.2+git20190427-2+deb11u2ubuntu0.22.04.1_amd64.deb ...\n",
            "Unpacking libsox-fmt-pulse:amd64 (14.4.2+git20190427-2+deb11u2ubuntu0.22.04.1) ...\n",
            "Selecting previously unselected package libsox-fmt-all:amd64.\n",
            "Preparing to unpack .../14-libsox-fmt-all_14.4.2+git20190427-2+deb11u2ubuntu0.22.04.1_amd64.deb ...\n",
            "Unpacking libsox-fmt-all:amd64 (14.4.2+git20190427-2+deb11u2ubuntu0.22.04.1) ...\n",
            "Selecting previously unselected package sox.\n",
            "Preparing to unpack .../15-sox_14.4.2+git20190427-2+deb11u2ubuntu0.22.04.1_amd64.deb ...\n",
            "Unpacking sox (14.4.2+git20190427-2+deb11u2ubuntu0.22.04.1) ...\n",
            "Setting up libsox3:amd64 (14.4.2+git20190427-2+deb11u2ubuntu0.22.04.1) ...\n",
            "Setting up libsox-fmt-oss:amd64 (14.4.2+git20190427-2+deb11u2ubuntu0.22.04.1) ...\n",
            "Setting up libao-common (1.2.2+20180113-1.1ubuntu3) ...\n",
            "Setting up libid3tag0:amd64 (0.15.1b-14) ...\n",
            "Setting up libopencore-amrwb0:amd64 (0.1.5-1) ...\n",
            "Setting up libsox-fmt-alsa:amd64 (14.4.2+git20190427-2+deb11u2ubuntu0.22.04.1) ...\n",
            "Setting up libao4:amd64 (1.2.2+20180113-1.1ubuntu3) ...\n",
            "Setting up libmad0:amd64 (0.15.1b-10ubuntu1) ...\n",
            "Setting up libwavpack1:amd64 (5.4.0-1build2) ...\n",
            "Setting up libopencore-amrnb0:amd64 (0.1.5-1) ...\n",
            "Setting up libsox-fmt-base:amd64 (14.4.2+git20190427-2+deb11u2ubuntu0.22.04.1) ...\n",
            "Setting up libsox-fmt-ao:amd64 (14.4.2+git20190427-2+deb11u2ubuntu0.22.04.1) ...\n",
            "Setting up libsox-fmt-mp3:amd64 (14.4.2+git20190427-2+deb11u2ubuntu0.22.04.1) ...\n",
            "Setting up libsox-fmt-pulse:amd64 (14.4.2+git20190427-2+deb11u2ubuntu0.22.04.1) ...\n",
            "Setting up sox (14.4.2+git20190427-2+deb11u2ubuntu0.22.04.1) ...\n",
            "Setting up libsox-fmt-all:amd64 (14.4.2+git20190427-2+deb11u2ubuntu0.22.04.1) ...\n",
            "Processing triggers for man-db (2.10.2-1) ...\n",
            "Processing triggers for libc-bin (2.35-0ubuntu3.4) ...\n",
            "/sbin/ldconfig.real: /usr/local/lib/libtbbmalloc.so.2 is not a symbolic link\n",
            "\n",
            "/sbin/ldconfig.real: /usr/local/lib/libtbbmalloc_proxy.so.2 is not a symbolic link\n",
            "\n",
            "/sbin/ldconfig.real: /usr/local/lib/libtbb.so.12 is not a symbolic link\n",
            "\n",
            "/sbin/ldconfig.real: /usr/local/lib/libtbbbind.so.3 is not a symbolic link\n",
            "\n",
            "/sbin/ldconfig.real: /usr/local/lib/libtbbbind_2_0.so.3 is not a symbolic link\n",
            "\n",
            "/sbin/ldconfig.real: /usr/local/lib/libtbbbind_2_5.so.3 is not a symbolic link\n",
            "\n",
            "Reading package lists... Done\n",
            "Building dependency tree... Done\n",
            "Reading state information... Done\n",
            "ffmpeg is already the newest version (7:4.4.2-0ubuntu0.22.04.1).\n",
            "0 upgraded, 0 newly installed, 0 to remove and 46 not upgraded.\n",
            "Reading package lists... Done\n",
            "Building dependency tree... Done\n",
            "Reading state information... Done\n",
            "libicu-dev is already the newest version (70.1-2).\n",
            "pkg-config is already the newest version (0.29.2-1ubuntu3).\n",
            "0 upgraded, 0 newly installed, 0 to remove and 46 not upgraded.\n"
          ]
        }
      ],
      "source": [
        "!apt-get update\n",
        "!apt-get install libsox-fmt-all sox # needed for processing audio\n",
        "!apt-get install -y ffmpeg\n",
        "!apt install libicu-dev pkg-config # needed for processing text and unicode symbols"
      ]
    },
    {
      "cell_type": "code",
      "execution_count": 3,
      "metadata": {
        "id": "8O-nLC2sN3UC",
        "colab": {
          "base_uri": "https://localhost:8080/"
        },
        "outputId": "62e82768-288e-4194-b3e9-24236f778c5d"
      },
      "outputs": [
        {
          "output_type": "stream",
          "name": "stdout",
          "text": [
            "Found existing installation: torch 2.3.0+cu121\n",
            "Uninstalling torch-2.3.0+cu121:\n",
            "  Successfully uninstalled torch-2.3.0+cu121\n",
            "Found existing installation: torchaudio 2.3.0+cu121\n",
            "Uninstalling torchaudio-2.3.0+cu121:\n",
            "  Successfully uninstalled torchaudio-2.3.0+cu121\n",
            "Looking in indexes: https://download.pytorch.org/whl/nightly/cu118\n",
            "Collecting torch\n",
            "  Downloading https://download.pytorch.org/whl/nightly/cu118/torch-2.4.0.dev20240523%2Bcu118-cp310-cp310-linux_x86_64.whl (855.8 MB)\n",
            "\u001b[2K     \u001b[90m━━━━━━━━━━━━━━━━━━━━━━━━━━━━━━━━━━━━━━━━\u001b[0m \u001b[32m855.8/855.8 MB\u001b[0m \u001b[31m813.8 kB/s\u001b[0m eta \u001b[36m0:00:00\u001b[0m\n",
            "\u001b[?25hCollecting torchaudio\n",
            "  Downloading https://download.pytorch.org/whl/nightly/cu118/torchaudio-2.2.0.dev20240523%2Bcu118-cp310-cp310-linux_x86_64.whl (3.3 MB)\n",
            "\u001b[2K     \u001b[90m━━━━━━━━━━━━━━━━━━━━━━━━━━━━━━━━━━━━━━━━\u001b[0m \u001b[32m3.3/3.3 MB\u001b[0m \u001b[31m19.3 MB/s\u001b[0m eta \u001b[36m0:00:00\u001b[0m\n",
            "\u001b[?25hRequirement already satisfied: filelock in /usr/local/lib/python3.10/dist-packages (from torch) (3.14.0)\n",
            "Requirement already satisfied: typing-extensions>=4.8.0 in /usr/local/lib/python3.10/dist-packages (from torch) (4.11.0)\n",
            "Requirement already satisfied: sympy in /usr/local/lib/python3.10/dist-packages (from torch) (1.12)\n",
            "Requirement already satisfied: networkx in /usr/local/lib/python3.10/dist-packages (from torch) (3.3)\n",
            "Requirement already satisfied: jinja2 in /usr/local/lib/python3.10/dist-packages (from torch) (3.1.4)\n",
            "Requirement already satisfied: fsspec in /usr/local/lib/python3.10/dist-packages (from torch) (2023.6.0)\n",
            "Collecting nvidia-cuda-nvrtc-cu11==11.8.89 (from torch)\n",
            "  Downloading https://download.pytorch.org/whl/nightly/cu118/nvidia_cuda_nvrtc_cu11-11.8.89-py3-none-manylinux1_x86_64.whl (23.2 MB)\n",
            "\u001b[2K     \u001b[90m━━━━━━━━━━━━━━━━━━━━━━━━━━━━━━━━━━━━━━━━\u001b[0m \u001b[32m23.2/23.2 MB\u001b[0m \u001b[31m24.7 MB/s\u001b[0m eta \u001b[36m0:00:00\u001b[0m\n",
            "\u001b[?25hCollecting nvidia-cuda-runtime-cu11==11.8.89 (from torch)\n",
            "  Downloading https://download.pytorch.org/whl/nightly/cu118/nvidia_cuda_runtime_cu11-11.8.89-py3-none-manylinux1_x86_64.whl (875 kB)\n",
            "\u001b[2K     \u001b[90m━━━━━━━━━━━━━━━━━━━━━━━━━━━━━━━━━━━━━━━━\u001b[0m \u001b[32m875.6/875.6 kB\u001b[0m \u001b[31m65.8 MB/s\u001b[0m eta \u001b[36m0:00:00\u001b[0m\n",
            "\u001b[?25hCollecting nvidia-cuda-cupti-cu11==11.8.87 (from torch)\n",
            "  Downloading https://download.pytorch.org/whl/nightly/cu118/nvidia_cuda_cupti_cu11-11.8.87-py3-none-manylinux1_x86_64.whl (13.1 MB)\n",
            "\u001b[2K     \u001b[90m━━━━━━━━━━━━━━━━━━━━━━━━━━━━━━━━━━━━━━━━\u001b[0m \u001b[32m13.1/13.1 MB\u001b[0m \u001b[31m79.9 MB/s\u001b[0m eta \u001b[36m0:00:00\u001b[0m\n",
            "\u001b[?25hCollecting nvidia-cudnn-cu11==8.7.0.84 (from torch)\n",
            "  Downloading https://download.pytorch.org/whl/nightly/cu118/nvidia_cudnn_cu11-8.7.0.84-py3-none-manylinux1_x86_64.whl (728.5 MB)\n",
            "\u001b[2K     \u001b[90m━━━━━━━━━━━━━━━━━━━━━━━━━━━━━━━━━━━━━━━━\u001b[0m \u001b[32m728.5/728.5 MB\u001b[0m \u001b[31m1.4 MB/s\u001b[0m eta \u001b[36m0:00:00\u001b[0m\n",
            "\u001b[?25hCollecting nvidia-cublas-cu11==11.11.3.6 (from torch)\n",
            "  Downloading https://download.pytorch.org/whl/nightly/cu118/nvidia_cublas_cu11-11.11.3.6-py3-none-manylinux1_x86_64.whl (417.9 MB)\n",
            "\u001b[2K     \u001b[90m━━━━━━━━━━━━━━━━━━━━━━━━━━━━━━━━━━━━━━━━\u001b[0m \u001b[32m417.9/417.9 MB\u001b[0m \u001b[31m3.2 MB/s\u001b[0m eta \u001b[36m0:00:00\u001b[0m\n",
            "\u001b[?25hCollecting nvidia-cufft-cu11==10.9.0.58 (from torch)\n",
            "  Downloading https://download.pytorch.org/whl/nightly/cu118/nvidia_cufft_cu11-10.9.0.58-py3-none-manylinux1_x86_64.whl (168.4 MB)\n",
            "\u001b[2K     \u001b[90m━━━━━━━━━━━━━━━━━━━━━━━━━━━━━━━━━━━━━━━━\u001b[0m \u001b[32m168.4/168.4 MB\u001b[0m \u001b[31m7.4 MB/s\u001b[0m eta \u001b[36m0:00:00\u001b[0m\n",
            "\u001b[?25hCollecting nvidia-curand-cu11==10.3.0.86 (from torch)\n",
            "  Downloading https://download.pytorch.org/whl/nightly/cu118/nvidia_curand_cu11-10.3.0.86-py3-none-manylinux1_x86_64.whl (58.1 MB)\n",
            "\u001b[2K     \u001b[90m━━━━━━━━━━━━━━━━━━━━━━━━━━━━━━━━━━━━━━━━\u001b[0m \u001b[32m58.1/58.1 MB\u001b[0m \u001b[31m11.0 MB/s\u001b[0m eta \u001b[36m0:00:00\u001b[0m\n",
            "\u001b[?25hCollecting nvidia-cusolver-cu11==11.4.1.48 (from torch)\n",
            "  Downloading https://download.pytorch.org/whl/nightly/cu118/nvidia_cusolver_cu11-11.4.1.48-py3-none-manylinux1_x86_64.whl (128.2 MB)\n",
            "\u001b[2K     \u001b[90m━━━━━━━━━━━━━━━━━━━━━━━━━━━━━━━━━━━━━━━━\u001b[0m \u001b[32m128.2/128.2 MB\u001b[0m \u001b[31m8.3 MB/s\u001b[0m eta \u001b[36m0:00:00\u001b[0m\n",
            "\u001b[?25hCollecting nvidia-cusparse-cu11==11.7.5.86 (from torch)\n",
            "  Downloading https://download.pytorch.org/whl/nightly/cu118/nvidia_cusparse_cu11-11.7.5.86-py3-none-manylinux1_x86_64.whl (204.1 MB)\n",
            "\u001b[2K     \u001b[90m━━━━━━━━━━━━━━━━━━━━━━━━━━━━━━━━━━━━━━━━\u001b[0m \u001b[32m204.1/204.1 MB\u001b[0m \u001b[31m2.5 MB/s\u001b[0m eta \u001b[36m0:00:00\u001b[0m\n",
            "\u001b[?25hCollecting nvidia-nccl-cu11==2.20.5 (from torch)\n",
            "  Downloading https://download.pytorch.org/whl/nightly/cu118/nvidia_nccl_cu11-2.20.5-py3-none-manylinux2014_x86_64.whl (142.9 MB)\n",
            "\u001b[2K     \u001b[90m━━━━━━━━━━━━━━━━━━━━━━━━━━━━━━━━━━━━━━━━\u001b[0m \u001b[32m142.9/142.9 MB\u001b[0m \u001b[31m8.1 MB/s\u001b[0m eta \u001b[36m0:00:00\u001b[0m\n",
            "\u001b[?25hCollecting nvidia-nvtx-cu11==11.8.86 (from torch)\n",
            "  Downloading https://download.pytorch.org/whl/nightly/cu118/nvidia_nvtx_cu11-11.8.86-py3-none-manylinux1_x86_64.whl (99 kB)\n",
            "\u001b[2K     \u001b[90m━━━━━━━━━━━━━━━━━━━━━━━━━━━━━━━━━━━━━━━━\u001b[0m \u001b[32m99.1/99.1 kB\u001b[0m \u001b[31m16.1 MB/s\u001b[0m eta \u001b[36m0:00:00\u001b[0m\n",
            "\u001b[?25hCollecting pytorch-triton==3.0.0+45fff310c8 (from torch)\n",
            "  Downloading https://download.pytorch.org/whl/nightly/pytorch_triton-3.0.0%2B45fff310c8-cp310-cp310-linux_x86_64.whl (241.8 MB)\n",
            "\u001b[2K     \u001b[90m━━━━━━━━━━━━━━━━━━━━━━━━━━━━━━━━━━━━━━━━\u001b[0m \u001b[32m241.8/241.8 MB\u001b[0m \u001b[31m2.6 MB/s\u001b[0m eta \u001b[36m0:00:00\u001b[0m\n",
            "\u001b[?25hRequirement already satisfied: MarkupSafe>=2.0 in /usr/local/lib/python3.10/dist-packages (from jinja2->torch) (2.1.5)\n",
            "Requirement already satisfied: mpmath>=0.19 in /usr/local/lib/python3.10/dist-packages (from sympy->torch) (1.3.0)\n",
            "Installing collected packages: pytorch-triton, nvidia-nvtx-cu11, nvidia-nccl-cu11, nvidia-cusparse-cu11, nvidia-curand-cu11, nvidia-cufft-cu11, nvidia-cuda-runtime-cu11, nvidia-cuda-nvrtc-cu11, nvidia-cuda-cupti-cu11, nvidia-cublas-cu11, nvidia-cusolver-cu11, nvidia-cudnn-cu11, torch, torchaudio\n",
            "\u001b[31mERROR: pip's dependency resolver does not currently take into account all the packages that are installed. This behaviour is the source of the following dependency conflicts.\n",
            "fastai 2.7.15 requires torch<2.4,>=1.10, but you have torch 2.4.0.dev20240523+cu118 which is incompatible.\n",
            "torchvision 0.18.0+cu121 requires torch==2.3.0, but you have torch 2.4.0.dev20240523+cu118 which is incompatible.\u001b[0m\u001b[31m\n",
            "\u001b[0mSuccessfully installed nvidia-cublas-cu11-11.11.3.6 nvidia-cuda-cupti-cu11-11.8.87 nvidia-cuda-nvrtc-cu11-11.8.89 nvidia-cuda-runtime-cu11-11.8.89 nvidia-cudnn-cu11-8.7.0.84 nvidia-cufft-cu11-10.9.0.58 nvidia-curand-cu11-10.3.0.86 nvidia-cusolver-cu11-11.4.1.48 nvidia-cusparse-cu11-11.7.5.86 nvidia-nccl-cu11-2.20.5 nvidia-nvtx-cu11-11.8.86 pytorch-triton-3.0.0+45fff310c8 torch-2.4.0.dev20240523+cu118 torchaudio-2.2.0.dev20240523+cu118\n",
            "\u001b[2K     \u001b[90m━━━━━━━━━━━━━━━━━━━━━━━━━━━━━━━━━━━━━━━━\u001b[0m \u001b[32m63.9/63.9 kB\u001b[0m \u001b[31m2.4 MB/s\u001b[0m eta \u001b[36m0:00:00\u001b[0m\n",
            "\u001b[?25h  Preparing metadata (setup.py) ... \u001b[?25l\u001b[?25hdone\n",
            "  Building wheel for sox (setup.py) ... \u001b[?25l\u001b[?25hdone\n",
            "  Preparing metadata (setup.py) ... \u001b[?25l\u001b[?25hdone\n",
            "\u001b[2K     \u001b[90m━━━━━━━━━━━━━━━━━━━━━━━━━━━━━━━━━━━━━━━━\u001b[0m \u001b[32m262.4/262.4 kB\u001b[0m \u001b[31m5.5 MB/s\u001b[0m eta \u001b[36m0:00:00\u001b[0m\n",
            "\u001b[?25h  Installing build dependencies ... \u001b[?25l\u001b[?25hdone\n",
            "  Getting requirements to build wheel ... \u001b[?25l\u001b[?25hdone\n",
            "  Preparing metadata (pyproject.toml) ... \u001b[?25l\u001b[?25hdone\n",
            "  Building wheel for ICU-Tokenizer (setup.py) ... \u001b[?25l\u001b[?25hdone\n",
            "  Building wheel for PyICU (pyproject.toml) ... \u001b[?25l\u001b[?25hdone\n",
            "\u001b[2K     \u001b[90m━━━━━━━━━━━━━━━━━━━━━━━━━━━━━━━━━━━━━━━━\u001b[0m \u001b[32m542.0/542.0 kB\u001b[0m \u001b[31m10.4 MB/s\u001b[0m eta \u001b[36m0:00:00\u001b[0m\n",
            "\u001b[2K     \u001b[90m━━━━━━━━━━━━━━━━━━━━━━━━━━━━━━━━━━━━━━━━\u001b[0m \u001b[32m116.3/116.3 kB\u001b[0m \u001b[31m16.1 MB/s\u001b[0m eta \u001b[36m0:00:00\u001b[0m\n",
            "\u001b[2K     \u001b[90m━━━━━━━━━━━━━━━━━━━━━━━━━━━━━━━━━━━━━━━━\u001b[0m \u001b[32m194.1/194.1 kB\u001b[0m \u001b[31m24.4 MB/s\u001b[0m eta \u001b[36m0:00:00\u001b[0m\n",
            "\u001b[2K     \u001b[90m━━━━━━━━━━━━━━━━━━━━━━━━━━━━━━━━━━━━━━━━\u001b[0m \u001b[32m134.8/134.8 kB\u001b[0m \u001b[31m21.8 MB/s\u001b[0m eta \u001b[36m0:00:00\u001b[0m\n",
            "\u001b[?25hRequirement already satisfied: pandas in /usr/local/lib/python3.10/dist-packages (2.0.3)\n",
            "Requirement already satisfied: python-dateutil>=2.8.2 in /usr/local/lib/python3.10/dist-packages (from pandas) (2.8.2)\n",
            "Requirement already satisfied: pytz>=2020.1 in /usr/local/lib/python3.10/dist-packages (from pandas) (2023.4)\n",
            "Requirement already satisfied: tzdata>=2022.1 in /usr/local/lib/python3.10/dist-packages (from pandas) (2024.1)\n",
            "Requirement already satisfied: numpy>=1.21.0 in /usr/local/lib/python3.10/dist-packages (from pandas) (1.25.2)\n",
            "Requirement already satisfied: six>=1.5 in /usr/local/lib/python3.10/dist-packages (from python-dateutil>=2.8.2->pandas) (1.16.0)\n",
            "Collecting tensorboardX\n",
            "  Downloading tensorboardX-2.6.2.2-py2.py3-none-any.whl (101 kB)\n",
            "\u001b[2K     \u001b[90m━━━━━━━━━━━━━━━━━━━━━━━━━━━━━━━━━━━━━━━━\u001b[0m \u001b[32m101.7/101.7 kB\u001b[0m \u001b[31m3.7 MB/s\u001b[0m eta \u001b[36m0:00:00\u001b[0m\n",
            "\u001b[?25hRequirement already satisfied: numpy in /usr/local/lib/python3.10/dist-packages (from tensorboardX) (1.25.2)\n",
            "Requirement already satisfied: packaging in /usr/local/lib/python3.10/dist-packages (from tensorboardX) (24.0)\n",
            "Requirement already satisfied: protobuf>=3.20 in /usr/local/lib/python3.10/dist-packages (from tensorboardX) (3.20.3)\n",
            "Installing collected packages: tensorboardX\n",
            "Successfully installed tensorboardX-2.6.2.2\n"
          ]
        }
      ],
      "source": [
        "!pip uninstall torch torchaudio -y # we need to install the nightly version of torch\n",
        "#!pip install --pre torch torchvision torchaudio --index-url https://download.pytorch.org/whl/nightly/cu118\n",
        "!pip install --pre torch torchaudio --index-url https://download.pytorch.org/whl/nightly/cu118\n",
        "\n",
        "#!pip install -q dataclasses\n",
        "!pip install -q sox # for audio processing\n",
        "!pip install -q ICU-Tokenizer # for tokenizing the text\n",
        "!pip install -q datasets # we will use huggingface datasets for loading the training dataset\n",
        "!pip install pandas\n",
        "!pip install tensorboardX"
      ]
    },
    {
      "cell_type": "markdown",
      "metadata": {
        "id": "J2oC8fZIA6MI"
      },
      "source": [
        "In this step, we clone repositories containing code and resources essential for our ASR project. Specifically, we clone the `rfclara/fa_xhosa` repository, and the `isi-nlp/uroman` repository, which provides functionalities for Romanization of text data."
      ]
    },
    {
      "cell_type": "code",
      "execution_count": 4,
      "metadata": {
        "id": "Ty-GLgwQ_VOn",
        "colab": {
          "base_uri": "https://localhost:8080/"
        },
        "outputId": "e3394afd-2e4c-4026-b780-9b84fc4bb0c2"
      },
      "outputs": [
        {
          "output_type": "stream",
          "name": "stdout",
          "text": [
            "Cloning into 'uroman'...\n",
            "remote: Enumerating objects: 299, done.\u001b[K\n",
            "remote: Counting objects: 100% (131/131), done.\u001b[K\n",
            "remote: Compressing objects: 100% (82/82), done.\u001b[K\n",
            "remote: Total 299 (delta 76), reused 88 (delta 49), pack-reused 168\u001b[K\n",
            "Receiving objects: 100% (299/299), 5.26 MiB | 26.95 MiB/s, done.\n",
            "Resolving deltas: 100% (144/144), done.\n"
          ]
        }
      ],
      "source": [
        "!git clone https://github.com/isi-nlp/uroman.git"
      ]
    },
    {
      "cell_type": "code",
      "execution_count": 5,
      "metadata": {
        "id": "gYVw62egXVtj",
        "colab": {
          "base_uri": "https://localhost:8080/"
        },
        "outputId": "8d1f6d37-816c-42b5-fc6b-00ed5bbed9ea"
      },
      "outputs": [
        {
          "output_type": "stream",
          "name": "stdout",
          "text": [
            "Cloning into 'fairseq'...\n",
            "remote: Enumerating objects: 35184, done.\u001b[K\n",
            "remote: Counting objects:   0% (1/105)\u001b[K\rremote: Counting objects:   1% (2/105)\u001b[K\rremote: Counting objects:   2% (3/105)\u001b[K\rremote: Counting objects:   3% (4/105)\u001b[K\rremote: Counting objects:   4% (5/105)\u001b[K\rremote: Counting objects:   5% (6/105)\u001b[K\rremote: Counting objects:   6% (7/105)\u001b[K\rremote: Counting objects:   7% (8/105)\u001b[K\rremote: Counting objects:   8% (9/105)\u001b[K\rremote: Counting objects:   9% (10/105)\u001b[K\rremote: Counting objects:  10% (11/105)\u001b[K\rremote: Counting objects:  11% (12/105)\u001b[K\rremote: Counting objects:  12% (13/105)\u001b[K\rremote: Counting objects:  13% (14/105)\u001b[K\rremote: Counting objects:  14% (15/105)\u001b[K\rremote: Counting objects:  15% (16/105)\u001b[K\rremote: Counting objects:  16% (17/105)\u001b[K\rremote: Counting objects:  17% (18/105)\u001b[K\rremote: Counting objects:  18% (19/105)\u001b[K\rremote: Counting objects:  19% (20/105)\u001b[K\rremote: Counting objects:  20% (21/105)\u001b[K\rremote: Counting objects:  21% (23/105)\u001b[K\rremote: Counting objects:  22% (24/105)\u001b[K\rremote: Counting objects:  23% (25/105)\u001b[K\rremote: Counting objects:  24% (26/105)\u001b[K\rremote: Counting objects:  25% (27/105)\u001b[K\rremote: Counting objects:  26% (28/105)\u001b[K\rremote: Counting objects:  27% (29/105)\u001b[K\rremote: Counting objects:  28% (30/105)\u001b[K\rremote: Counting objects:  29% (31/105)\u001b[K\rremote: Counting objects:  30% (32/105)\u001b[K\rremote: Counting objects:  31% (33/105)\u001b[K\rremote: Counting objects:  32% (34/105)\u001b[K\rremote: Counting objects:  33% (35/105)\u001b[K\rremote: Counting objects:  34% (36/105)\u001b[K\rremote: Counting objects:  35% (37/105)\u001b[K\rremote: Counting objects:  36% (38/105)\u001b[K\rremote: Counting objects:  37% (39/105)\u001b[K\rremote: Counting objects:  38% (40/105)\u001b[K\rremote: Counting objects:  39% (41/105)\u001b[K\rremote: Counting objects:  40% (42/105)\u001b[K\rremote: Counting objects:  41% (44/105)\u001b[K\rremote: Counting objects:  42% (45/105)\u001b[K\rremote: Counting objects:  43% (46/105)\u001b[K\rremote: Counting objects:  44% (47/105)\u001b[K\rremote: Counting objects:  45% (48/105)\u001b[K\rremote: Counting objects:  46% (49/105)\u001b[K\rremote: Counting objects:  47% (50/105)\u001b[K\rremote: Counting objects:  48% (51/105)\u001b[K\rremote: Counting objects:  49% (52/105)\u001b[K\rremote: Counting objects:  50% (53/105)\u001b[K\rremote: Counting objects:  51% (54/105)\u001b[K\rremote: Counting objects:  52% (55/105)\u001b[K\rremote: Counting objects:  53% (56/105)\u001b[K\rremote: Counting objects:  54% (57/105)\u001b[K\rremote: Counting objects:  55% (58/105)\u001b[K\rremote: Counting objects:  56% (59/105)\u001b[K\rremote: Counting objects:  57% (60/105)\u001b[K\rremote: Counting objects:  58% (61/105)\u001b[K\rremote: Counting objects:  59% (62/105)\u001b[K\rremote: Counting objects:  60% (63/105)\u001b[K\rremote: Counting objects:  61% (65/105)\u001b[K\rremote: Counting objects:  62% (66/105)\u001b[K\rremote: Counting objects:  63% (67/105)\u001b[K\rremote: Counting objects:  64% (68/105)\u001b[K\rremote: Counting objects:  65% (69/105)\u001b[K\rremote: Counting objects:  66% (70/105)\u001b[K\rremote: Counting objects:  67% (71/105)\u001b[K\rremote: Counting objects:  68% (72/105)\u001b[K\rremote: Counting objects:  69% (73/105)\u001b[K\rremote: Counting objects:  70% (74/105)\u001b[K\rremote: Counting objects:  71% (75/105)\u001b[K\rremote: Counting objects:  72% (76/105)\u001b[K\rremote: Counting objects:  73% (77/105)\u001b[K\rremote: Counting objects:  74% (78/105)\u001b[K\rremote: Counting objects:  75% (79/105)\u001b[K\rremote: Counting objects:  76% (80/105)\u001b[K\rremote: Counting objects:  77% (81/105)\u001b[K\rremote: Counting objects:  78% (82/105)\u001b[K\rremote: Counting objects:  79% (83/105)\u001b[K\rremote: Counting objects:  80% (84/105)\u001b[K\rremote: Counting objects:  81% (86/105)\u001b[K\rremote: Counting objects:  82% (87/105)\u001b[K\rremote: Counting objects:  83% (88/105)\u001b[K\rremote: Counting objects:  84% (89/105)\u001b[K\rremote: Counting objects:  85% (90/105)\u001b[K\rremote: Counting objects:  86% (91/105)\u001b[K\rremote: Counting objects:  87% (92/105)\u001b[K\rremote: Counting objects:  88% (93/105)\u001b[K\rremote: Counting objects:  89% (94/105)\u001b[K\rremote: Counting objects:  90% (95/105)\u001b[K\rremote: Counting objects:  91% (96/105)\u001b[K\rremote: Counting objects:  92% (97/105)\u001b[K\rremote: Counting objects:  93% (98/105)\u001b[K\rremote: Counting objects:  94% (99/105)\u001b[K\rremote: Counting objects:  95% (100/105)\u001b[K\rremote: Counting objects:  96% (101/105)\u001b[K\rremote: Counting objects:  97% (102/105)\u001b[K\rremote: Counting objects:  98% (103/105)\u001b[K\rremote: Counting objects:  99% (104/105)\u001b[K\rremote: Counting objects: 100% (105/105)\u001b[K\rremote: Counting objects: 100% (105/105), done.\u001b[K\n",
            "remote: Compressing objects: 100% (58/58), done.\u001b[K\n",
            "remote: Total 35184 (delta 61), reused 71 (delta 47), pack-reused 35079\u001b[K\n",
            "Receiving objects: 100% (35184/35184), 25.22 MiB | 22.69 MiB/s, done.\n",
            "Resolving deltas: 100% (25548/25548), done.\n",
            "Obtaining file:///content\n",
            "\u001b[31mERROR: file:///content does not appear to be a Python project: neither 'setup.py' nor 'pyproject.toml' found.\u001b[0m\u001b[31m\n",
            "\u001b[0m"
          ]
        }
      ],
      "source": [
        "!git clone https://github.com/facebookresearch/fairseq.git\n",
        "!cd fairseq\n",
        "!pip install --editable ./"
      ]
    },
    {
      "cell_type": "code",
      "source": [
        "import os"
      ],
      "metadata": {
        "id": "z1bgYtMS7vNc"
      },
      "execution_count": 6,
      "outputs": []
    },
    {
      "cell_type": "code",
      "source": [
        "!git clone https://github.com/rfclara/fa_xhosa\n",
        "!mkdir /content/fa_xhosa\n",
        "os.chdir(\"/content/fa_xhosa\")\n",
        "from google.colab import files\n",
        "uploaded = files.upload()"
      ],
      "metadata": {
        "id": "KXE-mpeULtBI",
        "colab": {
          "base_uri": "https://localhost:8080/",
          "height": 235
        },
        "outputId": "9556dc45-8944-43dd-b043-6fe9c5790d81"
      },
      "execution_count": 7,
      "outputs": [
        {
          "output_type": "stream",
          "name": "stdout",
          "text": [
            "Cloning into 'fa_xhosa'...\n",
            "fatal: could not read Username for 'https://github.com': No such device or address\n"
          ]
        },
        {
          "output_type": "display_data",
          "data": {
            "text/plain": [
              "<IPython.core.display.HTML object>"
            ],
            "text/html": [
              "\n",
              "     <input type=\"file\" id=\"files-ed62affd-d20e-4408-be03-f08a25fc5f81\" name=\"files[]\" multiple disabled\n",
              "        style=\"border:none\" />\n",
              "     <output id=\"result-ed62affd-d20e-4408-be03-f08a25fc5f81\">\n",
              "      Upload widget is only available when the cell has been executed in the\n",
              "      current browser session. Please rerun this cell to enable.\n",
              "      </output>\n",
              "      <script>// Copyright 2017 Google LLC\n",
              "//\n",
              "// Licensed under the Apache License, Version 2.0 (the \"License\");\n",
              "// you may not use this file except in compliance with the License.\n",
              "// You may obtain a copy of the License at\n",
              "//\n",
              "//      http://www.apache.org/licenses/LICENSE-2.0\n",
              "//\n",
              "// Unless required by applicable law or agreed to in writing, software\n",
              "// distributed under the License is distributed on an \"AS IS\" BASIS,\n",
              "// WITHOUT WARRANTIES OR CONDITIONS OF ANY KIND, either express or implied.\n",
              "// See the License for the specific language governing permissions and\n",
              "// limitations under the License.\n",
              "\n",
              "/**\n",
              " * @fileoverview Helpers for google.colab Python module.\n",
              " */\n",
              "(function(scope) {\n",
              "function span(text, styleAttributes = {}) {\n",
              "  const element = document.createElement('span');\n",
              "  element.textContent = text;\n",
              "  for (const key of Object.keys(styleAttributes)) {\n",
              "    element.style[key] = styleAttributes[key];\n",
              "  }\n",
              "  return element;\n",
              "}\n",
              "\n",
              "// Max number of bytes which will be uploaded at a time.\n",
              "const MAX_PAYLOAD_SIZE = 100 * 1024;\n",
              "\n",
              "function _uploadFiles(inputId, outputId) {\n",
              "  const steps = uploadFilesStep(inputId, outputId);\n",
              "  const outputElement = document.getElementById(outputId);\n",
              "  // Cache steps on the outputElement to make it available for the next call\n",
              "  // to uploadFilesContinue from Python.\n",
              "  outputElement.steps = steps;\n",
              "\n",
              "  return _uploadFilesContinue(outputId);\n",
              "}\n",
              "\n",
              "// This is roughly an async generator (not supported in the browser yet),\n",
              "// where there are multiple asynchronous steps and the Python side is going\n",
              "// to poll for completion of each step.\n",
              "// This uses a Promise to block the python side on completion of each step,\n",
              "// then passes the result of the previous step as the input to the next step.\n",
              "function _uploadFilesContinue(outputId) {\n",
              "  const outputElement = document.getElementById(outputId);\n",
              "  const steps = outputElement.steps;\n",
              "\n",
              "  const next = steps.next(outputElement.lastPromiseValue);\n",
              "  return Promise.resolve(next.value.promise).then((value) => {\n",
              "    // Cache the last promise value to make it available to the next\n",
              "    // step of the generator.\n",
              "    outputElement.lastPromiseValue = value;\n",
              "    return next.value.response;\n",
              "  });\n",
              "}\n",
              "\n",
              "/**\n",
              " * Generator function which is called between each async step of the upload\n",
              " * process.\n",
              " * @param {string} inputId Element ID of the input file picker element.\n",
              " * @param {string} outputId Element ID of the output display.\n",
              " * @return {!Iterable<!Object>} Iterable of next steps.\n",
              " */\n",
              "function* uploadFilesStep(inputId, outputId) {\n",
              "  const inputElement = document.getElementById(inputId);\n",
              "  inputElement.disabled = false;\n",
              "\n",
              "  const outputElement = document.getElementById(outputId);\n",
              "  outputElement.innerHTML = '';\n",
              "\n",
              "  const pickedPromise = new Promise((resolve) => {\n",
              "    inputElement.addEventListener('change', (e) => {\n",
              "      resolve(e.target.files);\n",
              "    });\n",
              "  });\n",
              "\n",
              "  const cancel = document.createElement('button');\n",
              "  inputElement.parentElement.appendChild(cancel);\n",
              "  cancel.textContent = 'Cancel upload';\n",
              "  const cancelPromise = new Promise((resolve) => {\n",
              "    cancel.onclick = () => {\n",
              "      resolve(null);\n",
              "    };\n",
              "  });\n",
              "\n",
              "  // Wait for the user to pick the files.\n",
              "  const files = yield {\n",
              "    promise: Promise.race([pickedPromise, cancelPromise]),\n",
              "    response: {\n",
              "      action: 'starting',\n",
              "    }\n",
              "  };\n",
              "\n",
              "  cancel.remove();\n",
              "\n",
              "  // Disable the input element since further picks are not allowed.\n",
              "  inputElement.disabled = true;\n",
              "\n",
              "  if (!files) {\n",
              "    return {\n",
              "      response: {\n",
              "        action: 'complete',\n",
              "      }\n",
              "    };\n",
              "  }\n",
              "\n",
              "  for (const file of files) {\n",
              "    const li = document.createElement('li');\n",
              "    li.append(span(file.name, {fontWeight: 'bold'}));\n",
              "    li.append(span(\n",
              "        `(${file.type || 'n/a'}) - ${file.size} bytes, ` +\n",
              "        `last modified: ${\n",
              "            file.lastModifiedDate ? file.lastModifiedDate.toLocaleDateString() :\n",
              "                                    'n/a'} - `));\n",
              "    const percent = span('0% done');\n",
              "    li.appendChild(percent);\n",
              "\n",
              "    outputElement.appendChild(li);\n",
              "\n",
              "    const fileDataPromise = new Promise((resolve) => {\n",
              "      const reader = new FileReader();\n",
              "      reader.onload = (e) => {\n",
              "        resolve(e.target.result);\n",
              "      };\n",
              "      reader.readAsArrayBuffer(file);\n",
              "    });\n",
              "    // Wait for the data to be ready.\n",
              "    let fileData = yield {\n",
              "      promise: fileDataPromise,\n",
              "      response: {\n",
              "        action: 'continue',\n",
              "      }\n",
              "    };\n",
              "\n",
              "    // Use a chunked sending to avoid message size limits. See b/62115660.\n",
              "    let position = 0;\n",
              "    do {\n",
              "      const length = Math.min(fileData.byteLength - position, MAX_PAYLOAD_SIZE);\n",
              "      const chunk = new Uint8Array(fileData, position, length);\n",
              "      position += length;\n",
              "\n",
              "      const base64 = btoa(String.fromCharCode.apply(null, chunk));\n",
              "      yield {\n",
              "        response: {\n",
              "          action: 'append',\n",
              "          file: file.name,\n",
              "          data: base64,\n",
              "        },\n",
              "      };\n",
              "\n",
              "      let percentDone = fileData.byteLength === 0 ?\n",
              "          100 :\n",
              "          Math.round((position / fileData.byteLength) * 100);\n",
              "      percent.textContent = `${percentDone}% done`;\n",
              "\n",
              "    } while (position < fileData.byteLength);\n",
              "  }\n",
              "\n",
              "  // All done.\n",
              "  yield {\n",
              "    response: {\n",
              "      action: 'complete',\n",
              "    }\n",
              "  };\n",
              "}\n",
              "\n",
              "scope.google = scope.google || {};\n",
              "scope.google.colab = scope.google.colab || {};\n",
              "scope.google.colab._files = {\n",
              "  _uploadFiles,\n",
              "  _uploadFilesContinue,\n",
              "};\n",
              "})(self);\n",
              "</script> "
            ]
          },
          "metadata": {}
        },
        {
          "output_type": "stream",
          "name": "stdout",
          "text": [
            "Saving extract_step5_transcriptions.py to extract_step5_transcriptions.py\n",
            "Saving extract_transcriptions.py to extract_transcriptions.py\n",
            "Saving json_to_textgrid.py to json_to_textgrid.py\n",
            "Saving remove_comments.py to remove_comments.py\n"
          ]
        }
      ]
    },
    {
      "cell_type": "markdown",
      "source": [
        "## Prepearing the data\n",
        "Getting the audio files and the transcriptions.\n",
        "\n",
        "`original.zip` should decompress into one folder called `original` containing the audio files and the transcirptions. Each filename must match and differe only by its extension (.wav, .xlsx)\n",
        "\n",
        "example :\n",
        "story1.wav\n",
        "story1.xlsx"
      ],
      "metadata": {
        "id": "wqNEaVzM2hAO"
      }
    },
    {
      "cell_type": "markdown",
      "source": [
        "**EITHER** give this notebook acces to your drive:\n",
        "run next cell. It will ask for the permission to acces your drive and it will copy the archive from your Drive to the virtual environnement.\n",
        "\n",
        "Make sure `xhosa.zip` is placed directly in the main directory of your Drive. If not, you may change the path on the cell.\n",
        "\n",
        "example :\n",
        "`!cp /content/drive/MyDrive/your/actual/path/original.zip /content`"
      ],
      "metadata": {
        "id": "Fj3aZfAmmRm7"
      }
    },
    {
      "cell_type": "code",
      "source": [
        "# Step 1: Mount Google Drive\n",
        "from google.colab import drive\n",
        "drive.mount('/content/drive')\n",
        "\n",
        "# Step 2: Copy the zip file from Google Drive to the Colab environment\n",
        "!cp /content/drive/MyDrive/original.zip /content"
      ],
      "metadata": {
        "id": "MoS9NCsm6Zje",
        "colab": {
          "base_uri": "https://localhost:8080/"
        },
        "outputId": "68492859-fae6-4a3c-f572-d59d5859730c"
      },
      "execution_count": 9,
      "outputs": [
        {
          "output_type": "stream",
          "name": "stdout",
          "text": [
            "Mounted at /content/drive\n"
          ]
        }
      ]
    },
    {
      "cell_type": "markdown",
      "source": [
        "__OR__ upload *original.zip* directory containing the trancriptions and the recordings directly here."
      ],
      "metadata": {
        "id": "ewxzASa6MDSv"
      }
    },
    {
      "cell_type": "code",
      "source": [
        "from google.colab import files\n",
        "uploaded = files.upload()"
      ],
      "metadata": {
        "id": "im1u3ZkLBP0C"
      },
      "execution_count": null,
      "outputs": []
    },
    {
      "cell_type": "markdown",
      "source": [
        "Decompress original.zip into /content/xhosa"
      ],
      "metadata": {
        "id": "7oWITZsII1jm"
      }
    },
    {
      "cell_type": "code",
      "source": [
        "!mkdir /content/xhosa\n",
        "!unzip /content/original.zip -d /content/xhosa"
      ],
      "metadata": {
        "id": "MR6CwWhZInT7"
      },
      "execution_count": null,
      "outputs": []
    },
    {
      "cell_type": "markdown",
      "source": [
        "CLONING rfclara/fa_xhosa repository from github"
      ],
      "metadata": {
        "id": "gfHDvEnGB1Lr"
      }
    },
    {
      "cell_type": "markdown",
      "source": [
        "### Converting the .xlsx transcriptions to .txt"
      ],
      "metadata": {
        "id": "i8MMjTcoJnV-"
      }
    },
    {
      "cell_type": "code",
      "source": [
        "!python /content/fa_xhosa/extract_transcriptions.py /content/xhosa/original /content/xhosa/ready"
      ],
      "metadata": {
        "id": "RCgQ7jT6_AJI"
      },
      "execution_count": null,
      "outputs": []
    },
    {
      "cell_type": "markdown",
      "source": [
        "**OPTIONAL**\n",
        "\n",
        "REMOVING COMMENTS BETWEEN BRACKETS : ex : \\<code-swiching>, \\<laugh>\n"
      ],
      "metadata": {
        "id": "3zkTjgwq8O_W"
      }
    },
    {
      "cell_type": "code",
      "source": [
        "%%shell\n",
        "for f in /content/xhosa/ready/*.txt; do\n",
        "  python /content/fa_xhosa/remove_comments.py $f\n",
        "done"
      ],
      "metadata": {
        "id": "s3xsVjDe8Of1"
      },
      "execution_count": null,
      "outputs": []
    },
    {
      "cell_type": "markdown",
      "source": [
        "The following cell will display the first 10 lines of the first trancription. Make sure this cell is displaying the expected result before continuing. All transcriptions can be found in /content/xhosa/ready"
      ],
      "metadata": {
        "id": "LId9xxyqyzrM"
      }
    },
    {
      "cell_type": "code",
      "source": [
        "!head -n 10 $(ls /content/xhosa/ready/*.txt | head -n 1)"
      ],
      "metadata": {
        "id": "H50h3opOyyuc",
        "colab": {
          "base_uri": "https://localhost:8080/"
        },
        "outputId": "033aeca9-0324-4dd7-9185-47ab108032de"
      },
      "execution_count": 13,
      "outputs": [
        {
          "output_type": "stream",
          "name": "stdout",
          "text": [
            "ungabuza kaloku\n",
            "so  phezolo u+ ee bekusenzeka ni o+ pha kwaMashezi\n",
            "benikhona ?\n",
            "Yho yho into {e}be ipha\n",
            "ibengumyadala\n",
            "Eeh\n",
            "ndiyakutshela\n",
            "ngoba kaloku   ee besithenjiswe kuthwa kuzofika\n",
            "akutshiwongo ukuba kuzofika umlungu\n",
            "kuthwe  kuza abelungu   abesuka ePitoli\n"
          ]
        }
      ]
    },
    {
      "cell_type": "markdown",
      "metadata": {
        "id": "MXa7lmZ-CV0s"
      },
      "source": [
        "### Resampling the audios  <a name=\"resampling\"></a>"
      ]
    },
    {
      "cell_type": "markdown",
      "metadata": {
        "id": "GyZtr8YXCaBR"
      },
      "source": [
        "After downloading the audios, we need to resample them. Many modern speech models only deal with *16 000 sampling*. We will use `ffmpeg` to resample the audios into 16 000. We will also save the resampled audios into `.wav` files."
      ]
    },
    {
      "cell_type": "markdown",
      "source": [
        "We will save the resampled wav files into a new `ready` directory containing all the extracted transcriptions .txt."
      ],
      "metadata": {
        "id": "rdUS_kHtSR2W"
      }
    },
    {
      "cell_type": "code",
      "execution_count": null,
      "metadata": {
        "id": "BQOR_M2AQqDQ"
      },
      "outputs": [],
      "source": [
        "%%shell\n",
        "for f in /content/xhosa/original/*.wav; do\n",
        "  filename=\"$(basename \"$f\")\"\n",
        "  directory=\"$(dirname \"$f\")\"\n",
        "  stem=${filename%.*}\n",
        "  ffmpeg -i \"$f\" -ac 1 -ar 16000 \"/content/xhosa/ready/${stem}.wav\" ;\n",
        "done"
      ]
    },
    {
      "cell_type": "markdown",
      "metadata": {
        "id": "mHPQxYv3M9oq"
      },
      "source": [
        "## Neural Forced Alignment  <a name=\"aligner\"></a>"
      ]
    },
    {
      "cell_type": "markdown",
      "source": [
        "Using [torchaudio.functional.forced_align()](https://pytorch.org/audio/stable/generated/torchaudio.functional.forced_align.html#torchaudio-functional-forced-align) the following cell will automatically align each line of the transcription with its corresponding time in the audio file. This step may take some minutes/hours dpending on the length of the corpus."
      ],
      "metadata": {
        "id": "dDdfrfZHu9b9"
      }
    },
    {
      "cell_type": "code",
      "execution_count": 15,
      "metadata": {
        "id": "BOGlte_SOe8T",
        "colab": {
          "base_uri": "https://localhost:8080/"
        },
        "outputId": "0fd1e0d3-bbae-4250-dd01-b5fe89843e0c"
      },
      "outputs": [
        {
          "output_type": "stream",
          "name": "stdout",
          "text": [
            "Using torch version: 2.4.0.dev20240523+cu118\n",
            "Using torchaudio version: 2.2.0.dev20240523+cu118\n",
            "Using device:  cpu\n",
            "Read 24 lines from /content/xhosa/ready/BLN150925D_b.txt\n",
            "Downloading model and dictionary...\n",
            "100% 1.18G/1.18G [00:08<00:00, 151MB/s]\n",
            "100% 79.0/79.0 [00:00<00:00, 52.2kB/s]\n",
            "Using torch version: 2.4.0.dev20240523+cu118\n",
            "Using torchaudio version: 2.2.0.dev20240523+cu118\n",
            "Using device:  cpu\n",
            "Read 29 lines from /content/xhosa/ready/BLN150925M_b.txt\n",
            "Downloading model and dictionary...\n",
            "Model path already exists. Skipping downloading....\n",
            "Dictionary path already exists. Skipping downloading....\n",
            "Using torch version: 2.4.0.dev20240523+cu118\n",
            "Using torchaudio version: 2.2.0.dev20240523+cu118\n",
            "Using device:  cpu\n",
            "Traceback (most recent call last):\n",
            "  File \"/usr/lib/python3.10/runpy.py\", line 196, in _run_module_as_main\n",
            "    return _run_code(code, main_globals, None,\n",
            "  File \"/usr/lib/python3.10/runpy.py\", line 86, in _run_code\n",
            "    exec(code, run_globals)\n",
            "  File \"/content/fairseq/examples/mms/data_prep/align_and_segment.py\", line 192, in <module>\n",
            "    main(args)\n",
            "  File \"/content/fairseq/examples/mms/data_prep/align_and_segment.py\", line 108, in main\n",
            "    with open(args.text_filepath) as f:\n",
            "FileNotFoundError: [Errno 2] No such file or directory: '/content/xhosa/ready/BU151210S_a.txt'\n",
            "Using torch version: 2.4.0.dev20240523+cu118\n",
            "Using torchaudio version: 2.2.0.dev20240523+cu118\n",
            "Using device:  cpu\n",
            "Read 6 lines from /content/xhosa/ready/BU151210S_b.txt\n",
            "Downloading model and dictionary...\n",
            "Model path already exists. Skipping downloading....\n",
            "Dictionary path already exists. Skipping downloading....\n",
            "Using torch version: 2.4.0.dev20240523+cu118\n",
            "Using torchaudio version: 2.2.0.dev20240523+cu118\n",
            "Using device:  cpu\n",
            "Read 7 lines from /content/xhosa/ready/BU160331M_a.txt\n",
            "Downloading model and dictionary...\n",
            "Model path already exists. Skipping downloading....\n",
            "Dictionary path already exists. Skipping downloading....\n",
            "Using torch version: 2.4.0.dev20240523+cu118\n",
            "Using torchaudio version: 2.2.0.dev20240523+cu118\n",
            "Using device:  cpu\n",
            "Read 7 lines from /content/xhosa/ready/BU160331M_b.txt\n",
            "Downloading model and dictionary...\n",
            "Model path already exists. Skipping downloading....\n",
            "Dictionary path already exists. Skipping downloading....\n",
            "Using torch version: 2.4.0.dev20240523+cu118\n",
            "Using torchaudio version: 2.2.0.dev20240523+cu118\n",
            "Using device:  cpu\n",
            "Read 8 lines from /content/xhosa/ready/BU160331M_c.txt\n",
            "Downloading model and dictionary...\n",
            "Model path already exists. Skipping downloading....\n",
            "Dictionary path already exists. Skipping downloading....\n",
            "Using torch version: 2.4.0.dev20240523+cu118\n",
            "Using torchaudio version: 2.2.0.dev20240523+cu118\n",
            "Using device:  cpu\n",
            "Read 8 lines from /content/xhosa/ready/BU160331M_e.txt\n",
            "Downloading model and dictionary...\n",
            "Model path already exists. Skipping downloading....\n",
            "Dictionary path already exists. Skipping downloading....\n",
            "Using torch version: 2.4.0.dev20240523+cu118\n",
            "Using torchaudio version: 2.2.0.dev20240523+cu118\n",
            "Using device:  cpu\n",
            "Read 14 lines from /content/xhosa/ready/BU160331M_g.txt\n",
            "Downloading model and dictionary...\n",
            "Model path already exists. Skipping downloading....\n",
            "Dictionary path already exists. Skipping downloading....\n",
            "Using torch version: 2.4.0.dev20240523+cu118\n",
            "Using torchaudio version: 2.2.0.dev20240523+cu118\n",
            "Using device:  cpu\n",
            "Read 67 lines from /content/xhosa/ready/BU191231O.txt\n",
            "Downloading model and dictionary...\n",
            "Model path already exists. Skipping downloading....\n",
            "Dictionary path already exists. Skipping downloading....\n",
            "Using torch version: 2.4.0.dev20240523+cu118\n",
            "Using torchaudio version: 2.2.0.dev20240523+cu118\n",
            "Using device:  cpu\n",
            "Read 62 lines from /content/xhosa/ready/GX150515M_c.txt\n",
            "Downloading model and dictionary...\n",
            "Model path already exists. Skipping downloading....\n",
            "Dictionary path already exists. Skipping downloading....\n",
            "Using torch version: 2.4.0.dev20240523+cu118\n",
            "Using torchaudio version: 2.2.0.dev20240523+cu118\n",
            "Using device:  cpu\n",
            "Read 8 lines from /content/xhosa/ready/LM180625S_a.txt\n",
            "Downloading model and dictionary...\n",
            "Model path already exists. Skipping downloading....\n",
            "Dictionary path already exists. Skipping downloading....\n",
            "Using torch version: 2.4.0.dev20240523+cu118\n",
            "Using torchaudio version: 2.2.0.dev20240523+cu118\n",
            "Using device:  cpu\n",
            "Read 81 lines from /content/xhosa/ready/MN180626O_a.txt\n",
            "Downloading model and dictionary...\n",
            "Model path already exists. Skipping downloading....\n",
            "Dictionary path already exists. Skipping downloading....\n",
            "Using torch version: 2.4.0.dev20240523+cu118\n",
            "Using torchaudio version: 2.2.0.dev20240523+cu118\n",
            "Using device:  cpu\n",
            "Read 54 lines from /content/xhosa/ready/MN180626O_b.txt\n",
            "Downloading model and dictionary...\n",
            "Model path already exists. Skipping downloading....\n",
            "Dictionary path already exists. Skipping downloading....\n",
            "Traceback (most recent call last):\n",
            "  File \"/usr/lib/python3.10/runpy.py\", line 196, in _run_module_as_main\n",
            "    return _run_code(code, main_globals, None,\n",
            "  File \"/usr/lib/python3.10/runpy.py\", line 86, in _run_code\n",
            "    exec(code, run_globals)\n",
            "  File \"/content/fairseq/examples/mms/data_prep/align_and_segment.py\", line 192, in <module>\n",
            "    main(args)\n",
            "  File \"/content/fairseq/examples/mms/data_prep/align_and_segment.py\", line 131, in main\n",
            "    spans = get_spans(tokens, segments)\n",
            "  File \"/content/fairseq/examples/mms/data_prep/align_utils.py\", line 151, in get_spans\n",
            "    assert(seg.label == ltr)\n",
            "AssertionError\n",
            "Using torch version: 2.4.0.dev20240523+cu118\n",
            "Using torchaudio version: 2.2.0.dev20240523+cu118\n",
            "Using device:  cpu\n",
            "Read 18 lines from /content/xhosa/ready/MTF170609D_k.txt\n",
            "Downloading model and dictionary...\n",
            "Model path already exists. Skipping downloading....\n",
            "Dictionary path already exists. Skipping downloading....\n",
            "Traceback (most recent call last):\n",
            "  File \"/usr/lib/python3.10/runpy.py\", line 196, in _run_module_as_main\n",
            "    return _run_code(code, main_globals, None,\n",
            "  File \"/usr/lib/python3.10/runpy.py\", line 86, in _run_code\n",
            "    exec(code, run_globals)\n",
            "  File \"/content/fairseq/examples/mms/data_prep/align_and_segment.py\", line 192, in <module>\n",
            "    main(args)\n",
            "  File \"/content/fairseq/examples/mms/data_prep/align_and_segment.py\", line 146, in main\n",
            "    tfm.trim(audio_start_sec , audio_end_sec)\n",
            "  File \"/usr/local/lib/python3.10/dist-packages/sox/transform.py\", line 3509, in trim\n",
            "    raise ValueError(\"start_time must be smaller than end_time.\")\n",
            "ValueError: start_time must be smaller than end_time.\n",
            "Using torch version: 2.4.0.dev20240523+cu118\n",
            "Using torchaudio version: 2.2.0.dev20240523+cu118\n",
            "Using device:  cpu\n",
            "Traceback (most recent call last):\n",
            "  File \"/usr/lib/python3.10/runpy.py\", line 196, in _run_module_as_main\n",
            "    return _run_code(code, main_globals, None,\n",
            "  File \"/usr/lib/python3.10/runpy.py\", line 86, in _run_code\n",
            "    exec(code, run_globals)\n",
            "  File \"/content/fairseq/examples/mms/data_prep/align_and_segment.py\", line 192, in <module>\n",
            "    main(args)\n",
            "  File \"/content/fairseq/examples/mms/data_prep/align_and_segment.py\", line 108, in main\n",
            "    with open(args.text_filepath) as f:\n",
            "FileNotFoundError: [Errno 2] No such file or directory: '/content/xhosa/ready/NC191228D.txt'\n",
            "Using torch version: 2.4.0.dev20240523+cu118\n",
            "Using torchaudio version: 2.2.0.dev20240523+cu118\n",
            "Using device:  cpu\n",
            "Read 24 lines from /content/xhosa/ready/PSJ150516D_c.txt\n",
            "Downloading model and dictionary...\n",
            "Model path already exists. Skipping downloading....\n",
            "Dictionary path already exists. Skipping downloading....\n"
          ]
        },
        {
          "output_type": "execute_result",
          "data": {
            "text/plain": []
          },
          "metadata": {},
          "execution_count": 15
        }
      ],
      "source": [
        "%%shell\n",
        "input_folder=/content/xhosa/ready\n",
        "output_folder=/content/xhosa/aligned\n",
        "cd /content/fairseq/\n",
        "for audio in $input_folder/*.wav; do\n",
        "  filename=\"$(basename \"$audio\")\"\n",
        "  stem=${filename%.*}\n",
        "  output_path=$output_folder/$stem\n",
        "  rm -rf $output_path\n",
        "  python -m examples.mms.data_prep.align_and_segment \\\n",
        "  --audio_filepath $input_folder/$stem.wav \\\n",
        "  --text_filepath $input_folder/$stem.txt \\\n",
        "  --lang xho \\\n",
        "  --outdir $output_path \\\n",
        "  --uroman /content/uroman/bin\n",
        "done"
      ]
    },
    {
      "cell_type": "markdown",
      "source": [
        "The two following cells are optional. If you are not interested in the chunks or .json files, you can skip them and you will be able to download the TextGrids later."
      ],
      "metadata": {
        "id": "AVf-OQ2Fuh8X"
      }
    },
    {
      "cell_type": "code",
      "source": [
        "!cd /content/xhosa/\n",
        "# Zip the 'aligned' folder into 'aligned.zip'\n",
        "!zip -r /content/xhosa/aligned.zip /content/xhosa/aligned"
      ],
      "metadata": {
        "id": "_hnd2DeCRhCf",
        "colab": {
          "base_uri": "https://localhost:8080/"
        },
        "outputId": "1719a5ff-628b-4cfc-efac-8767f48f0f69"
      },
      "execution_count": 16,
      "outputs": [
        {
          "output_type": "stream",
          "name": "stdout",
          "text": [
            "  adding: content/xhosa/aligned/ (stored 0%)\n",
            "  adding: content/xhosa/aligned/BU160331M_a/ (stored 0%)\n",
            "  adding: content/xhosa/aligned/BU160331M_a/segment2.flac (deflated 0%)\n",
            "  adding: content/xhosa/aligned/BU160331M_a/segment6.flac (deflated 0%)\n",
            "  adding: content/xhosa/aligned/BU160331M_a/manifest.json (deflated 69%)\n",
            "  adding: content/xhosa/aligned/BU160331M_a/segment1.flac (deflated 0%)\n",
            "  adding: content/xhosa/aligned/BU160331M_a/segment4.flac (deflated 0%)\n",
            "  adding: content/xhosa/aligned/BU160331M_a/segment3.flac (deflated 0%)\n",
            "  adding: content/xhosa/aligned/BU160331M_a/segment5.flac (deflated 0%)\n",
            "  adding: content/xhosa/aligned/BU160331M_a/segment0.flac (deflated 0%)\n",
            "  adding: content/xhosa/aligned/BLN150925D_b/ (stored 0%)\n",
            "  adding: content/xhosa/aligned/BLN150925D_b/segment8.flac (stored 0%)\n",
            "  adding: content/xhosa/aligned/BLN150925D_b/segment2.flac (stored 0%)\n",
            "  adding: content/xhosa/aligned/BLN150925D_b/segment6.flac (stored 0%)\n",
            "  adding: content/xhosa/aligned/BLN150925D_b/segment18.flac (stored 0%)\n",
            "  adding: content/xhosa/aligned/BLN150925D_b/segment10.flac (stored 0%)\n",
            "  adding: content/xhosa/aligned/BLN150925D_b/segment14.flac (stored 0%)\n",
            "  adding: content/xhosa/aligned/BLN150925D_b/segment16.flac (stored 0%)\n",
            "  adding: content/xhosa/aligned/BLN150925D_b/manifest.json (deflated 74%)\n",
            "  adding: content/xhosa/aligned/BLN150925D_b/segment7.flac (deflated 0%)\n",
            "  adding: content/xhosa/aligned/BLN150925D_b/segment17.flac (stored 0%)\n",
            "  adding: content/xhosa/aligned/BLN150925D_b/segment13.flac (deflated 0%)\n",
            "  adding: content/xhosa/aligned/BLN150925D_b/segment21.flac (stored 0%)\n",
            "  adding: content/xhosa/aligned/BLN150925D_b/segment9.flac (deflated 0%)\n",
            "  adding: content/xhosa/aligned/BLN150925D_b/segment1.flac (deflated 0%)\n",
            "  adding: content/xhosa/aligned/BLN150925D_b/segment4.flac (stored 0%)\n",
            "  adding: content/xhosa/aligned/BLN150925D_b/segment3.flac (stored 0%)\n",
            "  adding: content/xhosa/aligned/BLN150925D_b/segment12.flac (deflated 0%)\n",
            "  adding: content/xhosa/aligned/BLN150925D_b/segment19.flac (deflated 0%)\n",
            "  adding: content/xhosa/aligned/BLN150925D_b/segment20.flac (deflated 0%)\n",
            "  adding: content/xhosa/aligned/BLN150925D_b/segment5.flac (stored 0%)\n",
            "  adding: content/xhosa/aligned/BLN150925D_b/segment11.flac (stored 0%)\n",
            "  adding: content/xhosa/aligned/BLN150925D_b/segment23.flac (deflated 0%)\n",
            "  adding: content/xhosa/aligned/BLN150925D_b/segment15.flac (deflated 0%)\n",
            "  adding: content/xhosa/aligned/BLN150925D_b/segment22.flac (deflated 0%)\n",
            "  adding: content/xhosa/aligned/BLN150925D_b/segment0.flac (deflated 0%)\n",
            "  adding: content/xhosa/aligned/BU160331M_e/ (stored 0%)\n",
            "  adding: content/xhosa/aligned/BU160331M_e/segment2.flac (deflated 0%)\n",
            "  adding: content/xhosa/aligned/BU160331M_e/segment6.flac (deflated 0%)\n",
            "  adding: content/xhosa/aligned/BU160331M_e/manifest.json (deflated 68%)\n",
            "  adding: content/xhosa/aligned/BU160331M_e/segment7.flac (deflated 0%)\n",
            "  adding: content/xhosa/aligned/BU160331M_e/segment1.flac (deflated 0%)\n",
            "  adding: content/xhosa/aligned/BU160331M_e/segment4.flac (deflated 0%)\n",
            "  adding: content/xhosa/aligned/BU160331M_e/segment3.flac (deflated 0%)\n",
            "  adding: content/xhosa/aligned/BU160331M_e/segment5.flac (deflated 0%)\n",
            "  adding: content/xhosa/aligned/BU160331M_e/segment0.flac (deflated 0%)\n",
            "  adding: content/xhosa/aligned/GX150515M_c/ (stored 0%)\n",
            "  adding: content/xhosa/aligned/GX150515M_c/segment33.flac (stored 0%)\n",
            "  adding: content/xhosa/aligned/GX150515M_c/segment53.flac (deflated 0%)\n",
            "  adding: content/xhosa/aligned/GX150515M_c/segment57.flac (deflated 0%)\n",
            "  adding: content/xhosa/aligned/GX150515M_c/segment8.flac (deflated 0%)\n",
            "  adding: content/xhosa/aligned/GX150515M_c/segment2.flac (stored 0%)\n",
            "  adding: content/xhosa/aligned/GX150515M_c/segment38.flac (deflated 0%)\n",
            "  adding: content/xhosa/aligned/GX150515M_c/segment6.flac (stored 0%)\n",
            "  adding: content/xhosa/aligned/GX150515M_c/segment18.flac (stored 0%)\n",
            "  adding: content/xhosa/aligned/GX150515M_c/segment10.flac (deflated 0%)\n",
            "  adding: content/xhosa/aligned/GX150515M_c/segment54.flac (deflated 0%)\n",
            "  adding: content/xhosa/aligned/GX150515M_c/segment14.flac (deflated 0%)\n",
            "  adding: content/xhosa/aligned/GX150515M_c/segment36.flac (deflated 0%)\n",
            "  adding: content/xhosa/aligned/GX150515M_c/segment16.flac (deflated 0%)\n",
            "  adding: content/xhosa/aligned/GX150515M_c/segment28.flac (stored 0%)\n",
            "  adding: content/xhosa/aligned/GX150515M_c/segment29.flac (deflated 0%)\n",
            "  adding: content/xhosa/aligned/GX150515M_c/segment24.flac (deflated 0%)\n",
            "  adding: content/xhosa/aligned/GX150515M_c/segment48.flac (stored 0%)\n",
            "  adding: content/xhosa/aligned/GX150515M_c/segment30.flac (deflated 0%)\n",
            "  adding: content/xhosa/aligned/GX150515M_c/segment25.flac (stored 0%)\n",
            "  adding: content/xhosa/aligned/GX150515M_c/manifest.json (deflated 76%)\n",
            "  adding: content/xhosa/aligned/GX150515M_c/segment45.flac (deflated 0%)\n",
            "  adding: content/xhosa/aligned/GX150515M_c/segment55.flac (stored 0%)\n",
            "  adding: content/xhosa/aligned/GX150515M_c/segment7.flac (deflated 0%)\n",
            "  adding: content/xhosa/aligned/GX150515M_c/segment17.flac (deflated 0%)\n",
            "  adding: content/xhosa/aligned/GX150515M_c/segment13.flac (deflated 0%)\n",
            "  adding: content/xhosa/aligned/GX150515M_c/segment21.flac (stored 0%)\n",
            "  adding: content/xhosa/aligned/GX150515M_c/segment47.flac (deflated 0%)\n",
            "  adding: content/xhosa/aligned/GX150515M_c/segment59.flac (deflated 0%)\n",
            "  adding: content/xhosa/aligned/GX150515M_c/segment42.flac (stored 0%)\n",
            "  adding: content/xhosa/aligned/GX150515M_c/segment49.flac (stored 0%)\n",
            "  adding: content/xhosa/aligned/GX150515M_c/segment9.flac (deflated 0%)\n",
            "  adding: content/xhosa/aligned/GX150515M_c/segment43.flac (stored 0%)\n",
            "  adding: content/xhosa/aligned/GX150515M_c/segment46.flac (deflated 0%)\n",
            "  adding: content/xhosa/aligned/GX150515M_c/segment32.flac (stored 0%)\n",
            "  adding: content/xhosa/aligned/GX150515M_c/segment37.flac (deflated 0%)\n",
            "  adding: content/xhosa/aligned/GX150515M_c/segment1.flac (stored 0%)\n",
            "  adding: content/xhosa/aligned/GX150515M_c/segment44.flac (deflated 0%)\n",
            "  adding: content/xhosa/aligned/GX150515M_c/segment51.flac (deflated 0%)\n",
            "  adding: content/xhosa/aligned/GX150515M_c/segment4.flac (deflated 0%)\n",
            "  adding: content/xhosa/aligned/GX150515M_c/segment3.flac (stored 0%)\n",
            "  adding: content/xhosa/aligned/GX150515M_c/segment31.flac (deflated 0%)\n",
            "  adding: content/xhosa/aligned/GX150515M_c/segment39.flac (deflated 0%)\n",
            "  adding: content/xhosa/aligned/GX150515M_c/segment26.flac (stored 0%)\n",
            "  adding: content/xhosa/aligned/GX150515M_c/segment12.flac (stored 0%)\n",
            "  adding: content/xhosa/aligned/GX150515M_c/segment34.flac (deflated 0%)\n",
            "  adding: content/xhosa/aligned/GX150515M_c/segment19.flac (deflated 0%)\n",
            "  adding: content/xhosa/aligned/GX150515M_c/segment35.flac (stored 0%)\n",
            "  adding: content/xhosa/aligned/GX150515M_c/segment50.flac (stored 0%)\n",
            "  adding: content/xhosa/aligned/GX150515M_c/segment20.flac (stored 0%)\n",
            "  adding: content/xhosa/aligned/GX150515M_c/segment56.flac (stored 0%)\n",
            "  adding: content/xhosa/aligned/GX150515M_c/segment5.flac (stored 0%)\n",
            "  adding: content/xhosa/aligned/GX150515M_c/segment58.flac (deflated 0%)\n",
            "  adding: content/xhosa/aligned/GX150515M_c/segment61.flac (deflated 0%)\n",
            "  adding: content/xhosa/aligned/GX150515M_c/segment11.flac (deflated 0%)\n",
            "  adding: content/xhosa/aligned/GX150515M_c/segment40.flac (stored 0%)\n",
            "  adding: content/xhosa/aligned/GX150515M_c/segment52.flac (deflated 0%)\n",
            "  adding: content/xhosa/aligned/GX150515M_c/segment23.flac (deflated 0%)\n",
            "  adding: content/xhosa/aligned/GX150515M_c/segment41.flac (stored 0%)\n",
            "  adding: content/xhosa/aligned/GX150515M_c/segment60.flac (stored 0%)\n",
            "  adding: content/xhosa/aligned/GX150515M_c/segment15.flac (stored 0%)\n",
            "  adding: content/xhosa/aligned/GX150515M_c/segment22.flac (stored 0%)\n",
            "  adding: content/xhosa/aligned/GX150515M_c/segment0.flac (deflated 0%)\n",
            "  adding: content/xhosa/aligned/GX150515M_c/segment27.flac (stored 0%)\n",
            "  adding: content/xhosa/aligned/BU160331M_g/ (stored 0%)\n",
            "  adding: content/xhosa/aligned/BU160331M_g/segment8.flac (deflated 0%)\n",
            "  adding: content/xhosa/aligned/BU160331M_g/segment2.flac (deflated 0%)\n",
            "  adding: content/xhosa/aligned/BU160331M_g/segment6.flac (deflated 0%)\n",
            "  adding: content/xhosa/aligned/BU160331M_g/segment10.flac (stored 0%)\n",
            "  adding: content/xhosa/aligned/BU160331M_g/manifest.json (deflated 71%)\n",
            "  adding: content/xhosa/aligned/BU160331M_g/segment7.flac (deflated 0%)\n",
            "  adding: content/xhosa/aligned/BU160331M_g/segment13.flac (deflated 0%)\n",
            "  adding: content/xhosa/aligned/BU160331M_g/segment9.flac (deflated 0%)\n",
            "  adding: content/xhosa/aligned/BU160331M_g/segment1.flac (deflated 0%)\n",
            "  adding: content/xhosa/aligned/BU160331M_g/segment4.flac (deflated 0%)\n",
            "  adding: content/xhosa/aligned/BU160331M_g/segment3.flac (deflated 0%)\n",
            "  adding: content/xhosa/aligned/BU160331M_g/segment12.flac (deflated 0%)\n",
            "  adding: content/xhosa/aligned/BU160331M_g/segment5.flac (deflated 0%)\n",
            "  adding: content/xhosa/aligned/BU160331M_g/segment11.flac (deflated 0%)\n",
            "  adding: content/xhosa/aligned/BU160331M_g/segment0.flac (deflated 0%)\n",
            "  adding: content/xhosa/aligned/BU151210S_b/ (stored 0%)\n",
            "  adding: content/xhosa/aligned/BU151210S_b/segment2.flac (stored 0%)\n",
            "  adding: content/xhosa/aligned/BU151210S_b/manifest.json (deflated 66%)\n",
            "  adding: content/xhosa/aligned/BU151210S_b/segment1.flac (deflated 0%)\n",
            "  adding: content/xhosa/aligned/BU151210S_b/segment4.flac (deflated 0%)\n",
            "  adding: content/xhosa/aligned/BU151210S_b/segment3.flac (deflated 0%)\n",
            "  adding: content/xhosa/aligned/BU151210S_b/segment5.flac (deflated 0%)\n",
            "  adding: content/xhosa/aligned/BU151210S_b/segment0.flac (deflated 0%)\n",
            "  adding: content/xhosa/aligned/BLN150925M_b/ (stored 0%)\n",
            "  adding: content/xhosa/aligned/BLN150925M_b/segment8.flac (deflated 0%)\n",
            "  adding: content/xhosa/aligned/BLN150925M_b/segment2.flac (deflated 0%)\n",
            "  adding: content/xhosa/aligned/BLN150925M_b/segment6.flac (deflated 0%)\n",
            "  adding: content/xhosa/aligned/BLN150925M_b/segment18.flac (stored 0%)\n",
            "  adding: content/xhosa/aligned/BLN150925M_b/segment10.flac (deflated 0%)\n",
            "  adding: content/xhosa/aligned/BLN150925M_b/segment14.flac (deflated 0%)\n",
            "  adding: content/xhosa/aligned/BLN150925M_b/segment16.flac (deflated 0%)\n",
            "  adding: content/xhosa/aligned/BLN150925M_b/segment28.flac (deflated 0%)\n",
            "  adding: content/xhosa/aligned/BLN150925M_b/segment24.flac (deflated 0%)\n",
            "  adding: content/xhosa/aligned/BLN150925M_b/segment25.flac (deflated 0%)\n",
            "  adding: content/xhosa/aligned/BLN150925M_b/manifest.json (deflated 73%)\n",
            "  adding: content/xhosa/aligned/BLN150925M_b/segment7.flac (deflated 0%)\n",
            "  adding: content/xhosa/aligned/BLN150925M_b/segment17.flac (deflated 0%)\n",
            "  adding: content/xhosa/aligned/BLN150925M_b/segment13.flac (deflated 0%)\n",
            "  adding: content/xhosa/aligned/BLN150925M_b/segment21.flac (deflated 0%)\n",
            "  adding: content/xhosa/aligned/BLN150925M_b/segment9.flac (deflated 0%)\n",
            "  adding: content/xhosa/aligned/BLN150925M_b/segment1.flac (deflated 0%)\n",
            "  adding: content/xhosa/aligned/BLN150925M_b/segment4.flac (deflated 0%)\n",
            "  adding: content/xhosa/aligned/BLN150925M_b/segment3.flac (deflated 0%)\n",
            "  adding: content/xhosa/aligned/BLN150925M_b/segment26.flac (deflated 0%)\n",
            "  adding: content/xhosa/aligned/BLN150925M_b/segment12.flac (deflated 0%)\n",
            "  adding: content/xhosa/aligned/BLN150925M_b/segment19.flac (stored 0%)\n",
            "  adding: content/xhosa/aligned/BLN150925M_b/segment20.flac (deflated 0%)\n",
            "  adding: content/xhosa/aligned/BLN150925M_b/segment5.flac (deflated 0%)\n",
            "  adding: content/xhosa/aligned/BLN150925M_b/segment11.flac (deflated 0%)\n",
            "  adding: content/xhosa/aligned/BLN150925M_b/segment23.flac (deflated 0%)\n",
            "  adding: content/xhosa/aligned/BLN150925M_b/segment15.flac (stored 0%)\n",
            "  adding: content/xhosa/aligned/BLN150925M_b/segment22.flac (deflated 0%)\n",
            "  adding: content/xhosa/aligned/BLN150925M_b/segment0.flac (deflated 0%)\n",
            "  adding: content/xhosa/aligned/BLN150925M_b/segment27.flac (deflated 0%)\n",
            "  adding: content/xhosa/aligned/LM180625S_a/ (stored 0%)\n",
            "  adding: content/xhosa/aligned/LM180625S_a/segment2.flac (deflated 0%)\n",
            "  adding: content/xhosa/aligned/LM180625S_a/segment6.flac (deflated 0%)\n",
            "  adding: content/xhosa/aligned/LM180625S_a/manifest.json (deflated 69%)\n",
            "  adding: content/xhosa/aligned/LM180625S_a/segment7.flac (deflated 0%)\n",
            "  adding: content/xhosa/aligned/LM180625S_a/segment1.flac (deflated 0%)\n",
            "  adding: content/xhosa/aligned/LM180625S_a/segment4.flac (stored 0%)\n",
            "  adding: content/xhosa/aligned/LM180625S_a/segment3.flac (deflated 0%)\n",
            "  adding: content/xhosa/aligned/LM180625S_a/segment5.flac (deflated 0%)\n",
            "  adding: content/xhosa/aligned/LM180625S_a/segment0.flac (deflated 0%)\n",
            "  adding: content/xhosa/aligned/BU191231O/ (stored 0%)\n",
            "  adding: content/xhosa/aligned/BU191231O/segment33.flac (deflated 0%)\n",
            "  adding: content/xhosa/aligned/BU191231O/segment53.flac (deflated 0%)\n",
            "  adding: content/xhosa/aligned/BU191231O/segment57.flac (deflated 0%)\n",
            "  adding: content/xhosa/aligned/BU191231O/segment8.flac (deflated 0%)\n",
            "  adding: content/xhosa/aligned/BU191231O/segment2.flac (deflated 0%)\n",
            "  adding: content/xhosa/aligned/BU191231O/segment38.flac (deflated 0%)\n",
            "  adding: content/xhosa/aligned/BU191231O/segment6.flac (deflated 0%)\n",
            "  adding: content/xhosa/aligned/BU191231O/segment18.flac (deflated 0%)\n",
            "  adding: content/xhosa/aligned/BU191231O/segment10.flac (deflated 0%)\n",
            "  adding: content/xhosa/aligned/BU191231O/segment54.flac (deflated 0%)\n",
            "  adding: content/xhosa/aligned/BU191231O/segment14.flac (deflated 0%)\n",
            "  adding: content/xhosa/aligned/BU191231O/segment36.flac (deflated 0%)\n",
            "  adding: content/xhosa/aligned/BU191231O/segment16.flac (deflated 0%)\n",
            "  adding: content/xhosa/aligned/BU191231O/segment28.flac (deflated 0%)\n",
            "  adding: content/xhosa/aligned/BU191231O/segment29.flac (deflated 0%)\n",
            "  adding: content/xhosa/aligned/BU191231O/segment24.flac (deflated 0%)\n",
            "  adding: content/xhosa/aligned/BU191231O/segment48.flac (deflated 0%)\n",
            "  adding: content/xhosa/aligned/BU191231O/segment30.flac (deflated 0%)\n",
            "  adding: content/xhosa/aligned/BU191231O/segment25.flac (deflated 0%)\n",
            "  adding: content/xhosa/aligned/BU191231O/manifest.json (deflated 82%)\n",
            "  adding: content/xhosa/aligned/BU191231O/segment45.flac (deflated 0%)\n",
            "  adding: content/xhosa/aligned/BU191231O/segment55.flac (deflated 0%)\n",
            "  adding: content/xhosa/aligned/BU191231O/segment7.flac (deflated 0%)\n",
            "  adding: content/xhosa/aligned/BU191231O/segment17.flac (deflated 0%)\n",
            "  adding: content/xhosa/aligned/BU191231O/segment13.flac (deflated 0%)\n",
            "  adding: content/xhosa/aligned/BU191231O/segment21.flac (deflated 0%)\n",
            "  adding: content/xhosa/aligned/BU191231O/segment47.flac (deflated 0%)\n",
            "  adding: content/xhosa/aligned/BU191231O/segment59.flac (deflated 0%)\n",
            "  adding: content/xhosa/aligned/BU191231O/segment42.flac (deflated 0%)\n",
            "  adding: content/xhosa/aligned/BU191231O/segment49.flac (deflated 0%)\n",
            "  adding: content/xhosa/aligned/BU191231O/segment9.flac (deflated 0%)\n",
            "  adding: content/xhosa/aligned/BU191231O/segment43.flac (deflated 0%)\n",
            "  adding: content/xhosa/aligned/BU191231O/segment46.flac (stored 0%)\n",
            "  adding: content/xhosa/aligned/BU191231O/segment32.flac (deflated 0%)\n",
            "  adding: content/xhosa/aligned/BU191231O/segment37.flac (deflated 0%)\n",
            "  adding: content/xhosa/aligned/BU191231O/segment1.flac (deflated 0%)\n",
            "  adding: content/xhosa/aligned/BU191231O/segment44.flac (deflated 0%)\n",
            "  adding: content/xhosa/aligned/BU191231O/segment51.flac (deflated 0%)\n",
            "  adding: content/xhosa/aligned/BU191231O/segment4.flac (stored 0%)\n",
            "  adding: content/xhosa/aligned/BU191231O/segment64.flac (deflated 0%)\n",
            "  adding: content/xhosa/aligned/BU191231O/segment3.flac (stored 0%)\n",
            "  adding: content/xhosa/aligned/BU191231O/segment31.flac (deflated 0%)\n",
            "  adding: content/xhosa/aligned/BU191231O/segment66.flac (deflated 0%)\n",
            "  adding: content/xhosa/aligned/BU191231O/segment39.flac (deflated 0%)\n",
            "  adding: content/xhosa/aligned/BU191231O/segment65.flac (stored 0%)\n",
            "  adding: content/xhosa/aligned/BU191231O/segment26.flac (deflated 0%)\n",
            "  adding: content/xhosa/aligned/BU191231O/segment12.flac (deflated 0%)\n",
            "  adding: content/xhosa/aligned/BU191231O/segment34.flac (deflated 0%)\n",
            "  adding: content/xhosa/aligned/BU191231O/segment19.flac (deflated 0%)\n",
            "  adding: content/xhosa/aligned/BU191231O/segment35.flac (deflated 0%)\n",
            "  adding: content/xhosa/aligned/BU191231O/segment50.flac (deflated 0%)\n",
            "  adding: content/xhosa/aligned/BU191231O/segment20.flac (deflated 0%)\n",
            "  adding: content/xhosa/aligned/BU191231O/segment56.flac (deflated 0%)\n",
            "  adding: content/xhosa/aligned/BU191231O/segment5.flac (deflated 0%)\n",
            "  adding: content/xhosa/aligned/BU191231O/segment58.flac (deflated 0%)\n",
            "  adding: content/xhosa/aligned/BU191231O/segment61.flac (deflated 0%)\n",
            "  adding: content/xhosa/aligned/BU191231O/segment11.flac (deflated 0%)\n",
            "  adding: content/xhosa/aligned/BU191231O/segment40.flac (deflated 0%)\n",
            "  adding: content/xhosa/aligned/BU191231O/segment62.flac (deflated 0%)\n",
            "  adding: content/xhosa/aligned/BU191231O/segment52.flac (deflated 0%)\n",
            "  adding: content/xhosa/aligned/BU191231O/segment23.flac (deflated 0%)\n",
            "  adding: content/xhosa/aligned/BU191231O/segment41.flac (deflated 0%)\n",
            "  adding: content/xhosa/aligned/BU191231O/segment60.flac (deflated 0%)\n",
            "  adding: content/xhosa/aligned/BU191231O/segment15.flac (deflated 0%)\n",
            "  adding: content/xhosa/aligned/BU191231O/segment22.flac (deflated 0%)\n",
            "  adding: content/xhosa/aligned/BU191231O/segment0.flac (deflated 0%)\n",
            "  adding: content/xhosa/aligned/BU191231O/segment27.flac (deflated 0%)\n",
            "  adding: content/xhosa/aligned/BU191231O/segment63.flac (deflated 0%)\n",
            "  adding: content/xhosa/aligned/MTF170609D_k/ (stored 0%)\n",
            "  adding: content/xhosa/aligned/MTF170609D_k/segment2.flac (deflated 0%)\n",
            "  adding: content/xhosa/aligned/MTF170609D_k/manifest.json (deflated 69%)\n",
            "  adding: content/xhosa/aligned/MTF170609D_k/segment1.flac (stored 0%)\n",
            "  adding: content/xhosa/aligned/MTF170609D_k/segment4.flac (stored 0%)\n",
            "  adding: content/xhosa/aligned/MTF170609D_k/segment3.flac (deflated 0%)\n",
            "  adding: content/xhosa/aligned/MTF170609D_k/segment5.flac (deflated 0%)\n",
            "  adding: content/xhosa/aligned/MTF170609D_k/segment0.flac (deflated 0%)\n",
            "  adding: content/xhosa/aligned/MN180626O_a/ (stored 0%)\n",
            "  adding: content/xhosa/aligned/MN180626O_a/segment33.flac (deflated 0%)\n",
            "  adding: content/xhosa/aligned/MN180626O_a/segment53.flac (stored 0%)\n",
            "  adding: content/xhosa/aligned/MN180626O_a/segment57.flac (stored 0%)\n",
            "  adding: content/xhosa/aligned/MN180626O_a/segment8.flac (deflated 0%)\n",
            "  adding: content/xhosa/aligned/MN180626O_a/segment78.flac (deflated 0%)\n",
            "  adding: content/xhosa/aligned/MN180626O_a/segment2.flac (deflated 0%)\n",
            "  adding: content/xhosa/aligned/MN180626O_a/segment38.flac (deflated 0%)\n",
            "  adding: content/xhosa/aligned/MN180626O_a/segment6.flac (deflated 0%)\n",
            "  adding: content/xhosa/aligned/MN180626O_a/segment79.flac (deflated 0%)\n",
            "  adding: content/xhosa/aligned/MN180626O_a/segment18.flac (deflated 0%)\n",
            "  adding: content/xhosa/aligned/MN180626O_a/segment69.flac (stored 0%)\n",
            "  adding: content/xhosa/aligned/MN180626O_a/segment74.flac (deflated 0%)\n",
            "  adding: content/xhosa/aligned/MN180626O_a/segment10.flac (deflated 0%)\n",
            "  adding: content/xhosa/aligned/MN180626O_a/segment54.flac (deflated 0%)\n",
            "  adding: content/xhosa/aligned/MN180626O_a/segment14.flac (deflated 0%)\n",
            "  adding: content/xhosa/aligned/MN180626O_a/segment36.flac (stored 0%)\n",
            "  adding: content/xhosa/aligned/MN180626O_a/segment16.flac (stored 0%)\n",
            "  adding: content/xhosa/aligned/MN180626O_a/segment28.flac (stored 0%)\n",
            "  adding: content/xhosa/aligned/MN180626O_a/segment29.flac (deflated 0%)\n",
            "  adding: content/xhosa/aligned/MN180626O_a/segment68.flac (stored 0%)\n",
            "  adding: content/xhosa/aligned/MN180626O_a/segment24.flac (deflated 0%)\n",
            "  adding: content/xhosa/aligned/MN180626O_a/segment48.flac (deflated 0%)\n",
            "  adding: content/xhosa/aligned/MN180626O_a/segment30.flac (deflated 0%)\n",
            "  adding: content/xhosa/aligned/MN180626O_a/segment25.flac (deflated 0%)\n",
            "  adding: content/xhosa/aligned/MN180626O_a/manifest.json (deflated 78%)\n",
            "  adding: content/xhosa/aligned/MN180626O_a/segment45.flac (deflated 0%)\n",
            "  adding: content/xhosa/aligned/MN180626O_a/segment55.flac (deflated 0%)\n",
            "  adding: content/xhosa/aligned/MN180626O_a/segment7.flac (deflated 0%)\n",
            "  adding: content/xhosa/aligned/MN180626O_a/segment70.flac (deflated 0%)\n",
            "  adding: content/xhosa/aligned/MN180626O_a/segment17.flac (deflated 0%)\n",
            "  adding: content/xhosa/aligned/MN180626O_a/segment13.flac (deflated 0%)\n",
            "  adding: content/xhosa/aligned/MN180626O_a/segment21.flac (deflated 0%)\n",
            "  adding: content/xhosa/aligned/MN180626O_a/segment47.flac (deflated 0%)\n",
            "  adding: content/xhosa/aligned/MN180626O_a/segment59.flac (stored 0%)\n",
            "  adding: content/xhosa/aligned/MN180626O_a/segment42.flac (deflated 0%)\n",
            "  adding: content/xhosa/aligned/MN180626O_a/segment49.flac (deflated 0%)\n",
            "  adding: content/xhosa/aligned/MN180626O_a/segment9.flac (deflated 0%)\n",
            "  adding: content/xhosa/aligned/MN180626O_a/segment43.flac (deflated 0%)\n",
            "  adding: content/xhosa/aligned/MN180626O_a/segment46.flac (deflated 0%)\n",
            "  adding: content/xhosa/aligned/MN180626O_a/segment32.flac (deflated 0%)\n",
            "  adding: content/xhosa/aligned/MN180626O_a/segment76.flac (deflated 0%)\n",
            "  adding: content/xhosa/aligned/MN180626O_a/segment67.flac (deflated 0%)\n",
            "  adding: content/xhosa/aligned/MN180626O_a/segment37.flac (stored 0%)\n",
            "  adding: content/xhosa/aligned/MN180626O_a/segment77.flac (deflated 0%)\n",
            "  adding: content/xhosa/aligned/MN180626O_a/segment1.flac (deflated 0%)\n",
            "  adding: content/xhosa/aligned/MN180626O_a/segment44.flac (deflated 0%)\n",
            "  adding: content/xhosa/aligned/MN180626O_a/segment51.flac (deflated 0%)\n",
            "  adding: content/xhosa/aligned/MN180626O_a/segment4.flac (deflated 0%)\n",
            "  adding: content/xhosa/aligned/MN180626O_a/segment64.flac (deflated 0%)\n",
            "  adding: content/xhosa/aligned/MN180626O_a/segment3.flac (deflated 0%)\n",
            "  adding: content/xhosa/aligned/MN180626O_a/segment31.flac (deflated 0%)\n",
            "  adding: content/xhosa/aligned/MN180626O_a/segment66.flac (deflated 0%)\n",
            "  adding: content/xhosa/aligned/MN180626O_a/segment39.flac (deflated 0%)\n",
            "  adding: content/xhosa/aligned/MN180626O_a/segment65.flac (deflated 0%)\n",
            "  adding: content/xhosa/aligned/MN180626O_a/segment26.flac (deflated 0%)\n",
            "  adding: content/xhosa/aligned/MN180626O_a/segment75.flac (deflated 0%)\n",
            "  adding: content/xhosa/aligned/MN180626O_a/segment73.flac (deflated 0%)\n",
            "  adding: content/xhosa/aligned/MN180626O_a/segment12.flac (deflated 0%)\n",
            "  adding: content/xhosa/aligned/MN180626O_a/segment34.flac (deflated 0%)\n",
            "  adding: content/xhosa/aligned/MN180626O_a/segment19.flac (deflated 0%)\n",
            "  adding: content/xhosa/aligned/MN180626O_a/segment35.flac (stored 0%)\n",
            "  adding: content/xhosa/aligned/MN180626O_a/segment50.flac (deflated 0%)\n",
            "  adding: content/xhosa/aligned/MN180626O_a/segment20.flac (deflated 0%)\n",
            "  adding: content/xhosa/aligned/MN180626O_a/segment56.flac (stored 0%)\n",
            "  adding: content/xhosa/aligned/MN180626O_a/segment5.flac (deflated 0%)\n",
            "  adding: content/xhosa/aligned/MN180626O_a/segment72.flac (deflated 0%)\n",
            "  adding: content/xhosa/aligned/MN180626O_a/segment58.flac (stored 0%)\n",
            "  adding: content/xhosa/aligned/MN180626O_a/segment61.flac (deflated 0%)\n",
            "  adding: content/xhosa/aligned/MN180626O_a/segment11.flac (deflated 0%)\n",
            "  adding: content/xhosa/aligned/MN180626O_a/segment40.flac (stored 0%)\n",
            "  adding: content/xhosa/aligned/MN180626O_a/segment62.flac (deflated 0%)\n",
            "  adding: content/xhosa/aligned/MN180626O_a/segment52.flac (stored 0%)\n",
            "  adding: content/xhosa/aligned/MN180626O_a/segment23.flac (deflated 0%)\n",
            "  adding: content/xhosa/aligned/MN180626O_a/segment41.flac (deflated 0%)\n",
            "  adding: content/xhosa/aligned/MN180626O_a/segment60.flac (deflated 0%)\n",
            "  adding: content/xhosa/aligned/MN180626O_a/segment15.flac (stored 0%)\n",
            "  adding: content/xhosa/aligned/MN180626O_a/segment22.flac (deflated 0%)\n",
            "  adding: content/xhosa/aligned/MN180626O_a/segment0.flac (deflated 0%)\n",
            "  adding: content/xhosa/aligned/MN180626O_a/segment80.flac (deflated 0%)\n",
            "  adding: content/xhosa/aligned/MN180626O_a/segment71.flac (deflated 0%)\n",
            "  adding: content/xhosa/aligned/MN180626O_a/segment27.flac (deflated 0%)\n",
            "  adding: content/xhosa/aligned/MN180626O_a/segment63.flac (deflated 0%)\n",
            "  adding: content/xhosa/aligned/BU160331M_b/ (stored 0%)\n",
            "  adding: content/xhosa/aligned/BU160331M_b/segment2.flac (deflated 0%)\n",
            "  adding: content/xhosa/aligned/BU160331M_b/segment6.flac (deflated 0%)\n",
            "  adding: content/xhosa/aligned/BU160331M_b/manifest.json (deflated 67%)\n",
            "  adding: content/xhosa/aligned/BU160331M_b/segment1.flac (deflated 0%)\n",
            "  adding: content/xhosa/aligned/BU160331M_b/segment4.flac (deflated 0%)\n",
            "  adding: content/xhosa/aligned/BU160331M_b/segment3.flac (deflated 0%)\n",
            "  adding: content/xhosa/aligned/BU160331M_b/segment5.flac (deflated 0%)\n",
            "  adding: content/xhosa/aligned/BU160331M_b/segment0.flac (deflated 0%)\n",
            "  adding: content/xhosa/aligned/BU160331M_c/ (stored 0%)\n",
            "  adding: content/xhosa/aligned/BU160331M_c/segment2.flac (deflated 0%)\n",
            "  adding: content/xhosa/aligned/BU160331M_c/segment6.flac (deflated 0%)\n",
            "  adding: content/xhosa/aligned/BU160331M_c/manifest.json (deflated 69%)\n",
            "  adding: content/xhosa/aligned/BU160331M_c/segment7.flac (deflated 0%)\n",
            "  adding: content/xhosa/aligned/BU160331M_c/segment1.flac (deflated 0%)\n",
            "  adding: content/xhosa/aligned/BU160331M_c/segment4.flac (deflated 0%)\n",
            "  adding: content/xhosa/aligned/BU160331M_c/segment3.flac (deflated 0%)\n",
            "  adding: content/xhosa/aligned/BU160331M_c/segment5.flac (deflated 0%)\n",
            "  adding: content/xhosa/aligned/BU160331M_c/segment0.flac (deflated 0%)\n",
            "  adding: content/xhosa/aligned/PSJ150516D_c/ (stored 0%)\n",
            "  adding: content/xhosa/aligned/PSJ150516D_c/segment8.flac (deflated 0%)\n",
            "  adding: content/xhosa/aligned/PSJ150516D_c/segment2.flac (stored 0%)\n",
            "  adding: content/xhosa/aligned/PSJ150516D_c/segment6.flac (stored 0%)\n",
            "  adding: content/xhosa/aligned/PSJ150516D_c/segment18.flac (stored 0%)\n",
            "  adding: content/xhosa/aligned/PSJ150516D_c/segment10.flac (deflated 0%)\n",
            "  adding: content/xhosa/aligned/PSJ150516D_c/segment14.flac (deflated 0%)\n",
            "  adding: content/xhosa/aligned/PSJ150516D_c/segment16.flac (stored 0%)\n",
            "  adding: content/xhosa/aligned/PSJ150516D_c/manifest.json (deflated 72%)\n",
            "  adding: content/xhosa/aligned/PSJ150516D_c/segment7.flac (stored 0%)\n",
            "  adding: content/xhosa/aligned/PSJ150516D_c/segment17.flac (stored 0%)\n",
            "  adding: content/xhosa/aligned/PSJ150516D_c/segment13.flac (stored 0%)\n",
            "  adding: content/xhosa/aligned/PSJ150516D_c/segment21.flac (stored 0%)\n",
            "  adding: content/xhosa/aligned/PSJ150516D_c/segment9.flac (deflated 0%)\n",
            "  adding: content/xhosa/aligned/PSJ150516D_c/segment1.flac (stored 0%)\n",
            "  adding: content/xhosa/aligned/PSJ150516D_c/segment4.flac (stored 0%)\n",
            "  adding: content/xhosa/aligned/PSJ150516D_c/segment3.flac (deflated 0%)\n",
            "  adding: content/xhosa/aligned/PSJ150516D_c/segment12.flac (deflated 0%)\n",
            "  adding: content/xhosa/aligned/PSJ150516D_c/segment19.flac (deflated 0%)\n",
            "  adding: content/xhosa/aligned/PSJ150516D_c/segment20.flac (stored 0%)\n",
            "  adding: content/xhosa/aligned/PSJ150516D_c/segment5.flac (stored 0%)\n",
            "  adding: content/xhosa/aligned/PSJ150516D_c/segment11.flac (deflated 0%)\n",
            "  adding: content/xhosa/aligned/PSJ150516D_c/segment23.flac (stored 0%)\n",
            "  adding: content/xhosa/aligned/PSJ150516D_c/segment15.flac (deflated 0%)\n",
            "  adding: content/xhosa/aligned/PSJ150516D_c/segment22.flac (stored 0%)\n",
            "  adding: content/xhosa/aligned/PSJ150516D_c/segment0.flac (deflated 0%)\n"
          ]
        }
      ]
    },
    {
      "cell_type": "markdown",
      "source": [
        "**SAVE** `aligned:` folder containing all the chunks and manifest.json (file containing the time stamps) **into your Drive.**"
      ],
      "metadata": {
        "id": "L_aQuorx18cg"
      }
    },
    {
      "cell_type": "code",
      "source": [
        "# Ensure you are in the correct directory\n",
        "!cd /content/xhosa/\n",
        "# copy aligned.zip into your Drive\n",
        "!cp /content/xhosa/aligned.zip /content/drive/MyDrive/aligned.zip"
      ],
      "metadata": {
        "id": "_Yfg-zweNFKi"
      },
      "execution_count": 17,
      "outputs": []
    },
    {
      "cell_type": "markdown",
      "source": [
        "**OR**"
      ],
      "metadata": {
        "id": "qzk7oFW4Pdkf"
      }
    },
    {
      "cell_type": "markdown",
      "source": [
        "**SAVE** `aligned:` folder containing all the chunks and manifest.json (file containing the time stamps) **into your local device.**"
      ],
      "metadata": {
        "id": "LlndFhjE1laR"
      }
    },
    {
      "cell_type": "code",
      "source": [
        "from google.colab import files\n",
        "# Download the zip file\n",
        "files.download('/content/xhosa/aligned.zip')"
      ],
      "metadata": {
        "id": "saXKany8PdGi",
        "colab": {
          "base_uri": "https://localhost:8080/",
          "height": 37
        },
        "outputId": "d78d2d2c-7e71-4e42-fd34-55383508e08f"
      },
      "execution_count": 18,
      "outputs": [
        {
          "output_type": "display_data",
          "data": {
            "text/plain": [
              "<IPython.core.display.Javascript object>"
            ],
            "application/javascript": [
              "\n",
              "    async function download(id, filename, size) {\n",
              "      if (!google.colab.kernel.accessAllowed) {\n",
              "        return;\n",
              "      }\n",
              "      const div = document.createElement('div');\n",
              "      const label = document.createElement('label');\n",
              "      label.textContent = `Downloading \"${filename}\": `;\n",
              "      div.appendChild(label);\n",
              "      const progress = document.createElement('progress');\n",
              "      progress.max = size;\n",
              "      div.appendChild(progress);\n",
              "      document.body.appendChild(div);\n",
              "\n",
              "      const buffers = [];\n",
              "      let downloaded = 0;\n",
              "\n",
              "      const channel = await google.colab.kernel.comms.open(id);\n",
              "      // Send a message to notify the kernel that we're ready.\n",
              "      channel.send({})\n",
              "\n",
              "      for await (const message of channel.messages) {\n",
              "        // Send a message to notify the kernel that we're ready.\n",
              "        channel.send({})\n",
              "        if (message.buffers) {\n",
              "          for (const buffer of message.buffers) {\n",
              "            buffers.push(buffer);\n",
              "            downloaded += buffer.byteLength;\n",
              "            progress.value = downloaded;\n",
              "          }\n",
              "        }\n",
              "      }\n",
              "      const blob = new Blob(buffers, {type: 'application/binary'});\n",
              "      const a = document.createElement('a');\n",
              "      a.href = window.URL.createObjectURL(blob);\n",
              "      a.download = filename;\n",
              "      div.appendChild(a);\n",
              "      a.click();\n",
              "      div.remove();\n",
              "    }\n",
              "  "
            ]
          },
          "metadata": {}
        },
        {
          "output_type": "display_data",
          "data": {
            "text/plain": [
              "<IPython.core.display.Javascript object>"
            ],
            "application/javascript": [
              "download(\"download_53c325cf-2602-47a8-955d-fd165d5d66ea\", \"aligned.zip\", 23861288)"
            ]
          },
          "metadata": {}
        }
      ]
    },
    {
      "cell_type": "markdown",
      "source": [
        "note : aligned.zip decompress into content -> xhosa -> aligned and not into aligned directly."
      ],
      "metadata": {
        "id": "kyhGHxLDcgOo"
      }
    },
    {
      "cell_type": "markdown",
      "source": [
        "## Converting the aligned transcriptions to .TextGrid\n",
        "So you can open it in Praat or convert it to .eaf or any other compatible format."
      ],
      "metadata": {
        "id": "_FBwOGuk160G"
      }
    },
    {
      "cell_type": "code",
      "source": [
        "!pip install textgrid"
      ],
      "metadata": {
        "id": "VUZLfVDL_o2n"
      },
      "execution_count": null,
      "outputs": []
    },
    {
      "cell_type": "code",
      "source": [
        "%%shell\n",
        "input_directory=\"/content/xhosa/aligned/\"\n",
        "output_directory=\"/content/xhosa/textgrids/\"  # All output files will be saved here\n",
        "\n",
        "# Ensure the output directory exists\n",
        "mkdir -p \"$output_directory\"\n",
        "\n",
        "# Find all 'manifest.json' files under the input_directory\n",
        "find \"$input_directory\" -type f -name \"manifest.json\" | while IFS= read -r manifest; do\n",
        "  # Extract the directory of the manifest and the name of the subdirectory containing the manifest\n",
        "  manifest_directory=$(dirname \"$manifest\")\n",
        "  subdirectory_name=$(basename \"$manifest_directory\")\n",
        "\n",
        "  # Construct the output file path using the subdirectory name for uniqueness\n",
        "  output_file_path=\"${output_directory}${subdirectory_name}.TextGrid\"\n",
        "\n",
        "  # Call the python script with the manifest and output file path\n",
        "  python /content/fa_xhosa/json_to_textgrid.py \"$manifest\" \"$output_file_path\"\n",
        "\n",
        "  echo \"Processed $manifest into $output_file_path\"\n",
        "done\n"
      ],
      "metadata": {
        "id": "RKhxWPlA3D5N"
      },
      "execution_count": null,
      "outputs": []
    },
    {
      "cell_type": "markdown",
      "source": [
        "TODO : add speaker and annotations from the original excel files to the textgrids (different tiers)"
      ],
      "metadata": {
        "id": "RuqNjCghdNXu"
      }
    },
    {
      "cell_type": "code",
      "source": [
        "!zip -r /content/xhosa/textgrids.zip /content/xhosa/textgrids"
      ],
      "metadata": {
        "id": "zGJWENRBeMJJ"
      },
      "execution_count": null,
      "outputs": []
    },
    {
      "cell_type": "markdown",
      "source": [
        "**SAVE** the TextGrid files into your drive."
      ],
      "metadata": {
        "id": "PkPeUE2RTWqK"
      }
    },
    {
      "cell_type": "code",
      "source": [
        "!cp /content/xhosa/textgrids.zip /content/drive/MyDrive/textgrids.zip"
      ],
      "metadata": {
        "id": "YE2qj5HGF_gO"
      },
      "execution_count": null,
      "outputs": []
    },
    {
      "cell_type": "markdown",
      "source": [
        "**Download** the TextGrid files into your computer."
      ],
      "metadata": {
        "id": "fBFKdZ9F26HM"
      }
    },
    {
      "cell_type": "code",
      "source": [
        "from google.colab import files\n",
        "files.download('/content/xhosa/textgrids.zip')"
      ],
      "metadata": {
        "id": "ZR6urk7Q22vx"
      },
      "execution_count": null,
      "outputs": []
    },
    {
      "cell_type": "markdown",
      "source": [
        "This notebook is inspired by [this](https://colab.research.google.com/github/cawoylel/nlp4all/blob/main/asr/src/asr_tutorial.ipynb) tutorial from [_NLP4ALL_](https://github.com/cawoylel/nlp4all) which is focused on simplifying the process of building NLP models for underrepresented languages and making it more accessible: \" We aim to provide a replicable framework that communities can adapt for their languages, aligning with our vision of making NLP technology widely accessible.\""
      ],
      "metadata": {
        "id": "7G5CpdCKs1JC"
      }
    }
  ],
  "metadata": {
    "colab": {
      "provenance": [],
      "collapsed_sections": [
        "-jKa71Y6_VYK"
      ],
      "include_colab_link": true
    },
    "kernelspec": {
      "display_name": "Python 3",
      "name": "python3"
    },
    "language_info": {
      "name": "python"
    }
  },
  "nbformat": 4,
  "nbformat_minor": 0
}