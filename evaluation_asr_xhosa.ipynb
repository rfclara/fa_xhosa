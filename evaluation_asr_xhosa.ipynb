{
  "nbformat": 4,
  "nbformat_minor": 0,
  "metadata": {
    "colab": {
      "provenance": [],
      "authorship_tag": "ABX9TyOzj3w6e8tHsAOciYeYYwHx",
      "include_colab_link": true
    },
    "kernelspec": {
      "name": "python3",
      "display_name": "Python 3"
    },
    "language_info": {
      "name": "python"
    }
  },
  "cells": [
    {
      "cell_type": "markdown",
      "metadata": {
        "id": "view-in-github",
        "colab_type": "text"
      },
      "source": [
        "<a href=\"https://colab.research.google.com/github/rfclara/fa_xhosa/blob/main/evaluation_asr_xhosa.ipynb\" target=\"_parent\"><img src=\"https://colab.research.google.com/assets/colab-badge.svg\" alt=\"Open In Colab\"/></a>"
      ]
    },
    {
      "cell_type": "markdown",
      "source": [
        "# Are evangelist speech models able to understand natural language ?"
      ],
      "metadata": {
        "id": "pyMFtkl8swgU"
      }
    },
    {
      "cell_type": "markdown",
      "source": [
        "# Introduction\n",
        "\n",
        "In this notebook, we explore the performance of an existing Automatic Speech Recognition (ASR) model for Xhosa, developed under the [Massively Multilingual Speech (MMS)](https://huggingface.co/docs/transformers/model_doc/mms) project by Facebook AI Research. The model's evaluation is conducted using a natural data corpus provided by the University of Gothenburg's Spraakbanken (Language Bank), accessible at [Spraakbanken's Xhosa Corpus](https://spraakbanken.gu.se/korp/?mode=xhosa#?lang=eng&cqp=%5B%5D&corpus=xhosa).\n",
        "\n",
        "## Objectives\n",
        "\n",
        "1. **Align and preprocess the data:**\n",
        "   - The original Spraakbanken's Xhosa Corpus is fully manually transcribed by students in South Africa who have undergone specific training. Each sentence has been aligned to the corresponding audio using the MMS [forced alignment tool](https://github.com/facebookresearch/fairseq/tree/main/examples/mms/data_prep), as detailed in this [Notebook](https://github.com/rfclara/fa_xhosa/blob/main/xhosa_forced_alignement.ipynb). The preprocessing involved removing punctuation and comments such as \\<laugh> or \\<code-switching> to ensure the corpus is in a consistent format suitable for evaluation.\n",
        "\n",
        "2. **Evaluate Existing MMS ASR Model:**\n",
        "  - Assess the robustness and accuracy of the MMS ASR model for Xhosa using a natural language dataset from Spraakbanken. Thanks to this natural data, we will have the opportinity to verify Meta's claim: \"while the content of the audio recordings is religious, our analysis shows that this does not overly bias the model to produce more religious language”.\n",
        "\n",
        "\n",
        "3. **Fine-Tuning the ASR Model:**\n",
        "   - Investigate whether fine-tuning the MMS ASR model on the natural data corpus improves its performance, given that the original model appears to be primarily trained on biblical texts.\n",
        "\n",
        "4. **Compare the performances:**\n",
        "Compare WER and CER metrix for the MMS ASR model before and after fine-tunning.\n",
        "\n",
        "## Structure of the Notebook\n",
        "\n",
        "1. **Data Preparation:**\n",
        "   - Steps to download and preprocess the dataset.\n",
        "   \n",
        "2. **Model Evaluation:**\n",
        "   - Application of the MMS ASR model on the prepared dataset.\n",
        "   - Performance metrics and error analysis.\n",
        "   \n",
        "3. **Fine-Tuning:**\n",
        "   - Process of fine-tuning the MMS ASR model using the natural data corpus.\n",
        "   - Comparison of performance metrics before and after fine-tuning.\n",
        "   \n",
        "4. **Results and Discussion:**\n",
        "   - Insights gained from the evaluation.\n",
        "   - Discussion on the model's strengths and areas for improvement.\n",
        "   \n",
        "5. **Conclusion:**\n",
        "   - Summary of findings.\n",
        "   - Future work and potential improvements.\n",
        "\n",
        "By following this structured approach, we aim to provide a comprehensive assessment of the MMS ASR model's capabilities in handling real-world Xhosa speech data, contributing valuable insights to the ongoing development and refinement of multilingual ASR technologies.\n"
      ],
      "metadata": {
        "id": "zZ4uQ-IFfDBp"
      }
    },
    {
      "cell_type": "markdown",
      "source": [
        "# Step 1: Set Up the Environment\n",
        "Install required libraries and import the requiered packages"
      ],
      "metadata": {
        "id": "-sVFRaqPe4wu"
      }
    },
    {
      "cell_type": "code",
      "source": [
        "!pip install torchaudio transformers jiwer\n",
        "import torchaudio\n",
        "from transformers import Wav2Vec2ForCTC, Wav2Vec2Processor\n",
        "import torch\n",
        "import os\n",
        "import json"
      ],
      "metadata": {
        "id": "-DucTBgPHHuu"
      },
      "execution_count": null,
      "outputs": []
    },
    {
      "cell_type": "code",
      "source": [
        "!git clone https://github.com/pytorch/fairseq\n",
        "!pwd\n",
        "%cd \"/content/fairseq\"\n",
        "!pip install --editable ./\n",
        "!pip install tensorboardX"
      ],
      "metadata": {
        "colab": {
          "base_uri": "https://localhost:8080/"
        },
        "id": "Bo8kapnpIw7S",
        "outputId": "6820024d-16be-43df-a978-9b0ed4149d5e"
      },
      "execution_count": 2,
      "outputs": [
        {
          "output_type": "stream",
          "name": "stdout",
          "text": [
            "  Building editable for fairseq (pyproject.toml) ... \u001b[?25l\u001b[?25hdone\n",
            "  Created wheel for fairseq: filename=fairseq-0.12.2-0.editable-cp310-cp310-linux_x86_64.whl size=9543 sha256=bc3c18189d35233dbffe987ce0a19dc9891378cbddb421f92c6be6290c3f4dda\n",
            "  Stored in directory: /tmp/pip-ephem-wheel-cache-td0v9qz0/wheels/c6/d7/db/bc419b1daa8266aa8de2a7c4d29f62dbfa814e8701fe4695a2\n",
            "  Building wheel for antlr4-python3-runtime (setup.py) ... \u001b[?25l\u001b[?25hdone\n",
            "  Created wheel for antlr4-python3-runtime: filename=antlr4_python3_runtime-4.8-py3-none-any.whl size=141211 sha256=1812311aa1ef8a2a749d9580cc1fb569f2daf64c6f9ce8c1e04b368a153d2342\n",
            "  Stored in directory: /root/.cache/pip/wheels/a7/20/bd/e1477d664f22d99989fd28ee1a43d6633dddb5cb9e801350d5\n",
            "Successfully built fairseq antlr4-python3-runtime\n",
            "Installing collected packages: bitarray, antlr4-python3-runtime, portalocker, omegaconf, colorama, sacrebleu, hydra-core, fairseq\n",
            "Successfully installed antlr4-python3-runtime-4.8 bitarray-2.9.2 colorama-0.4.6 fairseq-0.12.2 hydra-core-1.0.7 omegaconf-2.0.6 portalocker-2.8.2 sacrebleu-2.4.2\n",
            "Collecting tensorboardX\n",
            "  Downloading tensorboardX-2.6.2.2-py2.py3-none-any.whl (101 kB)\n",
            "\u001b[2K     \u001b[90m━━━━━━━━━━━━━━━━━━━━━━━━━━━━━━━━━━━━━━━━\u001b[0m \u001b[32m101.7/101.7 kB\u001b[0m \u001b[31m2.5 MB/s\u001b[0m eta \u001b[36m0:00:00\u001b[0m\n",
            "\u001b[?25hRequirement already satisfied: numpy in /usr/local/lib/python3.10/dist-packages (from tensorboardX) (1.25.2)\n",
            "Requirement already satisfied: packaging in /usr/local/lib/python3.10/dist-packages (from tensorboardX) (24.0)\n",
            "Requirement already satisfied: protobuf>=3.20 in /usr/local/lib/python3.10/dist-packages (from tensorboardX) (3.20.3)\n",
            "Installing collected packages: tensorboardX\n",
            "Successfully installed tensorboardX-2.6.2.2\n"
          ]
        }
      ]
    },
    {
      "cell_type": "markdown",
      "source": [
        "## Step 2: Load the Model\n",
        "Load the processor and model for Xhosa from Facebook's MMS"
      ],
      "metadata": {
        "id": "e0G_yPFqexW-"
      }
    },
    {
      "cell_type": "code",
      "source": [
        "from transformers import Wav2Vec2ForCTC, AutoProcessor\n",
        "\n",
        "model_id = \"facebook/mms-1b-all\" # mms-1b-fl102, mms-1b-l1107, mms-1b-all\n",
        "target_lang = \"xho\"  # Xhosa language code\n",
        "\n",
        "processor = AutoProcessor.from_pretrained(model_id, target_lang=target_lang)\n",
        "model = Wav2Vec2ForCTC.from_pretrained(model_id, target_lang=target_lang, ignore_mismatched_sizes=True)"
      ],
      "metadata": {
        "id": "jKH-Fx-PHKv8"
      },
      "execution_count": null,
      "outputs": []
    },
    {
      "cell_type": "markdown",
      "source": [
        "# Step 3: Download the clean and aligned audio files and gold transcriptions"
      ],
      "metadata": {
        "id": "ApyBWwOjls6E"
      }
    },
    {
      "cell_type": "code",
      "source": [
        "from google.colab import drive\n",
        "drive.mount('/content/drive')\n",
        "!cp /content/drive/MyDrive/aligned.zip /content\n",
        "!unzip /content/aligned.zip -d /"
      ],
      "metadata": {
        "colab": {
          "base_uri": "https://localhost:8080/"
        },
        "id": "R8pJPQ-XHQWO",
        "outputId": "f6481ce3-8abe-4bc9-b41a-97f41b62ccb3"
      },
      "execution_count": 4,
      "outputs": [
        {
          "output_type": "stream",
          "name": "stdout",
          "text": [
            "Mounted at /content/drive\n",
            "Archive:  /content/aligned.zip\n",
            "   creating: /content/xhosa/aligned/\n",
            "   creating: /content/xhosa/aligned/BU160331M_a/\n",
            "  inflating: /content/xhosa/aligned/BU160331M_a/segment2.flac  \n",
            "  inflating: /content/xhosa/aligned/BU160331M_a/segment6.flac  \n",
            "  inflating: /content/xhosa/aligned/BU160331M_a/manifest.json  \n",
            "  inflating: /content/xhosa/aligned/BU160331M_a/segment1.flac  \n",
            "  inflating: /content/xhosa/aligned/BU160331M_a/segment4.flac  \n",
            "  inflating: /content/xhosa/aligned/BU160331M_a/segment3.flac  \n",
            "  inflating: /content/xhosa/aligned/BU160331M_a/segment5.flac  \n",
            "  inflating: /content/xhosa/aligned/BU160331M_a/segment0.flac  \n",
            "   creating: /content/xhosa/aligned/BLN150925D_b/\n",
            " extracting: /content/xhosa/aligned/BLN150925D_b/segment8.flac  \n",
            " extracting: /content/xhosa/aligned/BLN150925D_b/segment2.flac  \n",
            " extracting: /content/xhosa/aligned/BLN150925D_b/segment6.flac  \n",
            " extracting: /content/xhosa/aligned/BLN150925D_b/segment18.flac  \n",
            " extracting: /content/xhosa/aligned/BLN150925D_b/segment10.flac  \n",
            " extracting: /content/xhosa/aligned/BLN150925D_b/segment14.flac  \n",
            " extracting: /content/xhosa/aligned/BLN150925D_b/segment16.flac  \n",
            "  inflating: /content/xhosa/aligned/BLN150925D_b/manifest.json  \n",
            "  inflating: /content/xhosa/aligned/BLN150925D_b/segment7.flac  \n",
            " extracting: /content/xhosa/aligned/BLN150925D_b/segment17.flac  \n",
            "  inflating: /content/xhosa/aligned/BLN150925D_b/segment13.flac  \n",
            " extracting: /content/xhosa/aligned/BLN150925D_b/segment21.flac  \n",
            "  inflating: /content/xhosa/aligned/BLN150925D_b/segment9.flac  \n",
            "  inflating: /content/xhosa/aligned/BLN150925D_b/segment1.flac  \n",
            " extracting: /content/xhosa/aligned/BLN150925D_b/segment4.flac  \n",
            " extracting: /content/xhosa/aligned/BLN150925D_b/segment3.flac  \n",
            "  inflating: /content/xhosa/aligned/BLN150925D_b/segment12.flac  \n",
            "  inflating: /content/xhosa/aligned/BLN150925D_b/segment19.flac  \n",
            "  inflating: /content/xhosa/aligned/BLN150925D_b/segment20.flac  \n",
            " extracting: /content/xhosa/aligned/BLN150925D_b/segment5.flac  \n",
            " extracting: /content/xhosa/aligned/BLN150925D_b/segment11.flac  \n",
            "  inflating: /content/xhosa/aligned/BLN150925D_b/segment23.flac  \n",
            "  inflating: /content/xhosa/aligned/BLN150925D_b/segment15.flac  \n",
            "  inflating: /content/xhosa/aligned/BLN150925D_b/segment22.flac  \n",
            "  inflating: /content/xhosa/aligned/BLN150925D_b/segment0.flac  \n",
            "   creating: /content/xhosa/aligned/BU160331M_e/\n",
            "  inflating: /content/xhosa/aligned/BU160331M_e/segment2.flac  \n",
            "  inflating: /content/xhosa/aligned/BU160331M_e/segment6.flac  \n",
            "  inflating: /content/xhosa/aligned/BU160331M_e/manifest.json  \n",
            "  inflating: /content/xhosa/aligned/BU160331M_e/segment7.flac  \n",
            "  inflating: /content/xhosa/aligned/BU160331M_e/segment1.flac  \n",
            "  inflating: /content/xhosa/aligned/BU160331M_e/segment4.flac  \n",
            "  inflating: /content/xhosa/aligned/BU160331M_e/segment3.flac  \n",
            "  inflating: /content/xhosa/aligned/BU160331M_e/segment5.flac  \n",
            "  inflating: /content/xhosa/aligned/BU160331M_e/segment0.flac  \n",
            "   creating: /content/xhosa/aligned/GX150515M_c/\n",
            " extracting: /content/xhosa/aligned/GX150515M_c/segment33.flac  \n",
            "  inflating: /content/xhosa/aligned/GX150515M_c/segment53.flac  \n",
            "  inflating: /content/xhosa/aligned/GX150515M_c/segment57.flac  \n",
            "  inflating: /content/xhosa/aligned/GX150515M_c/segment8.flac  \n",
            " extracting: /content/xhosa/aligned/GX150515M_c/segment2.flac  \n",
            "  inflating: /content/xhosa/aligned/GX150515M_c/segment38.flac  \n",
            " extracting: /content/xhosa/aligned/GX150515M_c/segment6.flac  \n",
            " extracting: /content/xhosa/aligned/GX150515M_c/segment18.flac  \n",
            "  inflating: /content/xhosa/aligned/GX150515M_c/segment10.flac  \n",
            "  inflating: /content/xhosa/aligned/GX150515M_c/segment54.flac  \n",
            "  inflating: /content/xhosa/aligned/GX150515M_c/segment14.flac  \n",
            "  inflating: /content/xhosa/aligned/GX150515M_c/segment36.flac  \n",
            "  inflating: /content/xhosa/aligned/GX150515M_c/segment16.flac  \n",
            " extracting: /content/xhosa/aligned/GX150515M_c/segment28.flac  \n",
            "  inflating: /content/xhosa/aligned/GX150515M_c/segment29.flac  \n",
            "  inflating: /content/xhosa/aligned/GX150515M_c/segment24.flac  \n",
            " extracting: /content/xhosa/aligned/GX150515M_c/segment48.flac  \n",
            "  inflating: /content/xhosa/aligned/GX150515M_c/segment30.flac  \n",
            " extracting: /content/xhosa/aligned/GX150515M_c/segment25.flac  \n",
            "  inflating: /content/xhosa/aligned/GX150515M_c/manifest.json  \n",
            "  inflating: /content/xhosa/aligned/GX150515M_c/segment45.flac  \n",
            " extracting: /content/xhosa/aligned/GX150515M_c/segment55.flac  \n",
            "  inflating: /content/xhosa/aligned/GX150515M_c/segment7.flac  \n",
            "  inflating: /content/xhosa/aligned/GX150515M_c/segment17.flac  \n",
            "  inflating: /content/xhosa/aligned/GX150515M_c/segment13.flac  \n",
            " extracting: /content/xhosa/aligned/GX150515M_c/segment21.flac  \n",
            "  inflating: /content/xhosa/aligned/GX150515M_c/segment47.flac  \n",
            "  inflating: /content/xhosa/aligned/GX150515M_c/segment59.flac  \n",
            " extracting: /content/xhosa/aligned/GX150515M_c/segment42.flac  \n",
            " extracting: /content/xhosa/aligned/GX150515M_c/segment49.flac  \n",
            "  inflating: /content/xhosa/aligned/GX150515M_c/segment9.flac  \n",
            " extracting: /content/xhosa/aligned/GX150515M_c/segment43.flac  \n",
            "  inflating: /content/xhosa/aligned/GX150515M_c/segment46.flac  \n",
            " extracting: /content/xhosa/aligned/GX150515M_c/segment32.flac  \n",
            "  inflating: /content/xhosa/aligned/GX150515M_c/segment37.flac  \n",
            " extracting: /content/xhosa/aligned/GX150515M_c/segment1.flac  \n",
            "  inflating: /content/xhosa/aligned/GX150515M_c/segment44.flac  \n",
            "  inflating: /content/xhosa/aligned/GX150515M_c/segment51.flac  \n",
            "  inflating: /content/xhosa/aligned/GX150515M_c/segment4.flac  \n",
            " extracting: /content/xhosa/aligned/GX150515M_c/segment3.flac  \n",
            "  inflating: /content/xhosa/aligned/GX150515M_c/segment31.flac  \n",
            "  inflating: /content/xhosa/aligned/GX150515M_c/segment39.flac  \n",
            " extracting: /content/xhosa/aligned/GX150515M_c/segment26.flac  \n",
            " extracting: /content/xhosa/aligned/GX150515M_c/segment12.flac  \n",
            "  inflating: /content/xhosa/aligned/GX150515M_c/segment34.flac  \n",
            "  inflating: /content/xhosa/aligned/GX150515M_c/segment19.flac  \n",
            " extracting: /content/xhosa/aligned/GX150515M_c/segment35.flac  \n",
            " extracting: /content/xhosa/aligned/GX150515M_c/segment50.flac  \n",
            " extracting: /content/xhosa/aligned/GX150515M_c/segment20.flac  \n",
            " extracting: /content/xhosa/aligned/GX150515M_c/segment56.flac  \n",
            " extracting: /content/xhosa/aligned/GX150515M_c/segment5.flac  \n",
            "  inflating: /content/xhosa/aligned/GX150515M_c/segment58.flac  \n",
            "  inflating: /content/xhosa/aligned/GX150515M_c/segment61.flac  \n",
            "  inflating: /content/xhosa/aligned/GX150515M_c/segment11.flac  \n",
            " extracting: /content/xhosa/aligned/GX150515M_c/segment40.flac  \n",
            "  inflating: /content/xhosa/aligned/GX150515M_c/segment52.flac  \n",
            "  inflating: /content/xhosa/aligned/GX150515M_c/segment23.flac  \n",
            " extracting: /content/xhosa/aligned/GX150515M_c/segment41.flac  \n",
            " extracting: /content/xhosa/aligned/GX150515M_c/segment60.flac  \n",
            " extracting: /content/xhosa/aligned/GX150515M_c/segment15.flac  \n",
            " extracting: /content/xhosa/aligned/GX150515M_c/segment22.flac  \n",
            "  inflating: /content/xhosa/aligned/GX150515M_c/segment0.flac  \n",
            " extracting: /content/xhosa/aligned/GX150515M_c/segment27.flac  \n",
            "   creating: /content/xhosa/aligned/BU160331M_g/\n",
            "  inflating: /content/xhosa/aligned/BU160331M_g/segment8.flac  \n",
            "  inflating: /content/xhosa/aligned/BU160331M_g/segment2.flac  \n",
            "  inflating: /content/xhosa/aligned/BU160331M_g/segment6.flac  \n",
            " extracting: /content/xhosa/aligned/BU160331M_g/segment10.flac  \n",
            "  inflating: /content/xhosa/aligned/BU160331M_g/manifest.json  \n",
            "  inflating: /content/xhosa/aligned/BU160331M_g/segment7.flac  \n",
            "  inflating: /content/xhosa/aligned/BU160331M_g/segment13.flac  \n",
            "  inflating: /content/xhosa/aligned/BU160331M_g/segment9.flac  \n",
            "  inflating: /content/xhosa/aligned/BU160331M_g/segment1.flac  \n",
            "  inflating: /content/xhosa/aligned/BU160331M_g/segment4.flac  \n",
            "  inflating: /content/xhosa/aligned/BU160331M_g/segment3.flac  \n",
            "  inflating: /content/xhosa/aligned/BU160331M_g/segment12.flac  \n",
            "  inflating: /content/xhosa/aligned/BU160331M_g/segment5.flac  \n",
            "  inflating: /content/xhosa/aligned/BU160331M_g/segment11.flac  \n",
            "  inflating: /content/xhosa/aligned/BU160331M_g/segment0.flac  \n",
            "   creating: /content/xhosa/aligned/BU151210S_b/\n",
            " extracting: /content/xhosa/aligned/BU151210S_b/segment2.flac  \n",
            "  inflating: /content/xhosa/aligned/BU151210S_b/manifest.json  \n",
            "  inflating: /content/xhosa/aligned/BU151210S_b/segment1.flac  \n",
            "  inflating: /content/xhosa/aligned/BU151210S_b/segment4.flac  \n",
            "  inflating: /content/xhosa/aligned/BU151210S_b/segment3.flac  \n",
            "  inflating: /content/xhosa/aligned/BU151210S_b/segment5.flac  \n",
            "  inflating: /content/xhosa/aligned/BU151210S_b/segment0.flac  \n",
            "   creating: /content/xhosa/aligned/BLN150925M_b/\n",
            "  inflating: /content/xhosa/aligned/BLN150925M_b/segment8.flac  \n",
            "  inflating: /content/xhosa/aligned/BLN150925M_b/segment2.flac  \n",
            "  inflating: /content/xhosa/aligned/BLN150925M_b/segment6.flac  \n",
            " extracting: /content/xhosa/aligned/BLN150925M_b/segment18.flac  \n",
            "  inflating: /content/xhosa/aligned/BLN150925M_b/segment10.flac  \n",
            "  inflating: /content/xhosa/aligned/BLN150925M_b/segment14.flac  \n",
            "  inflating: /content/xhosa/aligned/BLN150925M_b/segment16.flac  \n",
            "  inflating: /content/xhosa/aligned/BLN150925M_b/segment28.flac  \n",
            "  inflating: /content/xhosa/aligned/BLN150925M_b/segment24.flac  \n",
            "  inflating: /content/xhosa/aligned/BLN150925M_b/segment25.flac  \n",
            "  inflating: /content/xhosa/aligned/BLN150925M_b/manifest.json  \n",
            "  inflating: /content/xhosa/aligned/BLN150925M_b/segment7.flac  \n",
            "  inflating: /content/xhosa/aligned/BLN150925M_b/segment17.flac  \n",
            "  inflating: /content/xhosa/aligned/BLN150925M_b/segment13.flac  \n",
            "  inflating: /content/xhosa/aligned/BLN150925M_b/segment21.flac  \n",
            "  inflating: /content/xhosa/aligned/BLN150925M_b/segment9.flac  \n",
            "  inflating: /content/xhosa/aligned/BLN150925M_b/segment1.flac  \n",
            "  inflating: /content/xhosa/aligned/BLN150925M_b/segment4.flac  \n",
            "  inflating: /content/xhosa/aligned/BLN150925M_b/segment3.flac  \n",
            "  inflating: /content/xhosa/aligned/BLN150925M_b/segment26.flac  \n",
            "  inflating: /content/xhosa/aligned/BLN150925M_b/segment12.flac  \n",
            " extracting: /content/xhosa/aligned/BLN150925M_b/segment19.flac  \n",
            "  inflating: /content/xhosa/aligned/BLN150925M_b/segment20.flac  \n",
            "  inflating: /content/xhosa/aligned/BLN150925M_b/segment5.flac  \n",
            "  inflating: /content/xhosa/aligned/BLN150925M_b/segment11.flac  \n",
            "  inflating: /content/xhosa/aligned/BLN150925M_b/segment23.flac  \n",
            " extracting: /content/xhosa/aligned/BLN150925M_b/segment15.flac  \n",
            "  inflating: /content/xhosa/aligned/BLN150925M_b/segment22.flac  \n",
            "  inflating: /content/xhosa/aligned/BLN150925M_b/segment0.flac  \n",
            "  inflating: /content/xhosa/aligned/BLN150925M_b/segment27.flac  \n",
            "   creating: /content/xhosa/aligned/LM180625S_a/\n",
            "  inflating: /content/xhosa/aligned/LM180625S_a/segment2.flac  \n",
            "  inflating: /content/xhosa/aligned/LM180625S_a/segment6.flac  \n",
            "  inflating: /content/xhosa/aligned/LM180625S_a/manifest.json  \n",
            "  inflating: /content/xhosa/aligned/LM180625S_a/segment7.flac  \n",
            "  inflating: /content/xhosa/aligned/LM180625S_a/segment1.flac  \n",
            " extracting: /content/xhosa/aligned/LM180625S_a/segment4.flac  \n",
            "  inflating: /content/xhosa/aligned/LM180625S_a/segment3.flac  \n",
            "  inflating: /content/xhosa/aligned/LM180625S_a/segment5.flac  \n",
            "  inflating: /content/xhosa/aligned/LM180625S_a/segment0.flac  \n",
            "   creating: /content/xhosa/aligned/BU191231O/\n",
            "  inflating: /content/xhosa/aligned/BU191231O/segment33.flac  \n",
            "  inflating: /content/xhosa/aligned/BU191231O/segment53.flac  \n",
            "  inflating: /content/xhosa/aligned/BU191231O/segment57.flac  \n",
            "  inflating: /content/xhosa/aligned/BU191231O/segment8.flac  \n",
            "  inflating: /content/xhosa/aligned/BU191231O/segment2.flac  \n",
            "  inflating: /content/xhosa/aligned/BU191231O/segment38.flac  \n",
            "  inflating: /content/xhosa/aligned/BU191231O/segment6.flac  \n",
            "  inflating: /content/xhosa/aligned/BU191231O/segment18.flac  \n",
            "  inflating: /content/xhosa/aligned/BU191231O/segment10.flac  \n",
            "  inflating: /content/xhosa/aligned/BU191231O/segment54.flac  \n",
            "  inflating: /content/xhosa/aligned/BU191231O/segment14.flac  \n",
            "  inflating: /content/xhosa/aligned/BU191231O/segment36.flac  \n",
            "  inflating: /content/xhosa/aligned/BU191231O/segment16.flac  \n",
            "  inflating: /content/xhosa/aligned/BU191231O/segment28.flac  \n",
            "  inflating: /content/xhosa/aligned/BU191231O/segment29.flac  \n",
            "  inflating: /content/xhosa/aligned/BU191231O/segment24.flac  \n",
            "  inflating: /content/xhosa/aligned/BU191231O/segment48.flac  \n",
            "  inflating: /content/xhosa/aligned/BU191231O/segment30.flac  \n",
            "  inflating: /content/xhosa/aligned/BU191231O/segment25.flac  \n",
            "  inflating: /content/xhosa/aligned/BU191231O/manifest.json  \n",
            "  inflating: /content/xhosa/aligned/BU191231O/segment45.flac  \n",
            "  inflating: /content/xhosa/aligned/BU191231O/segment55.flac  \n",
            "  inflating: /content/xhosa/aligned/BU191231O/segment7.flac  \n",
            "  inflating: /content/xhosa/aligned/BU191231O/segment17.flac  \n",
            "  inflating: /content/xhosa/aligned/BU191231O/segment13.flac  \n",
            "  inflating: /content/xhosa/aligned/BU191231O/segment21.flac  \n",
            "  inflating: /content/xhosa/aligned/BU191231O/segment47.flac  \n",
            "  inflating: /content/xhosa/aligned/BU191231O/segment59.flac  \n",
            "  inflating: /content/xhosa/aligned/BU191231O/segment42.flac  \n",
            "  inflating: /content/xhosa/aligned/BU191231O/segment49.flac  \n",
            "  inflating: /content/xhosa/aligned/BU191231O/segment9.flac  \n",
            "  inflating: /content/xhosa/aligned/BU191231O/segment43.flac  \n",
            " extracting: /content/xhosa/aligned/BU191231O/segment46.flac  \n",
            "  inflating: /content/xhosa/aligned/BU191231O/segment32.flac  \n",
            "  inflating: /content/xhosa/aligned/BU191231O/segment37.flac  \n",
            "  inflating: /content/xhosa/aligned/BU191231O/segment1.flac  \n",
            "  inflating: /content/xhosa/aligned/BU191231O/segment44.flac  \n",
            "  inflating: /content/xhosa/aligned/BU191231O/segment51.flac  \n",
            " extracting: /content/xhosa/aligned/BU191231O/segment4.flac  \n",
            "  inflating: /content/xhosa/aligned/BU191231O/segment64.flac  \n",
            " extracting: /content/xhosa/aligned/BU191231O/segment3.flac  \n",
            "  inflating: /content/xhosa/aligned/BU191231O/segment31.flac  \n",
            "  inflating: /content/xhosa/aligned/BU191231O/segment66.flac  \n",
            "  inflating: /content/xhosa/aligned/BU191231O/segment39.flac  \n",
            " extracting: /content/xhosa/aligned/BU191231O/segment65.flac  \n",
            "  inflating: /content/xhosa/aligned/BU191231O/segment26.flac  \n",
            "  inflating: /content/xhosa/aligned/BU191231O/segment12.flac  \n",
            "  inflating: /content/xhosa/aligned/BU191231O/segment34.flac  \n",
            "  inflating: /content/xhosa/aligned/BU191231O/segment19.flac  \n",
            "  inflating: /content/xhosa/aligned/BU191231O/segment35.flac  \n",
            "  inflating: /content/xhosa/aligned/BU191231O/segment50.flac  \n",
            "  inflating: /content/xhosa/aligned/BU191231O/segment20.flac  \n",
            "  inflating: /content/xhosa/aligned/BU191231O/segment56.flac  \n",
            "  inflating: /content/xhosa/aligned/BU191231O/segment5.flac  \n",
            "  inflating: /content/xhosa/aligned/BU191231O/segment58.flac  \n",
            "  inflating: /content/xhosa/aligned/BU191231O/segment61.flac  \n",
            "  inflating: /content/xhosa/aligned/BU191231O/segment11.flac  \n",
            "  inflating: /content/xhosa/aligned/BU191231O/segment40.flac  \n",
            "  inflating: /content/xhosa/aligned/BU191231O/segment62.flac  \n",
            "  inflating: /content/xhosa/aligned/BU191231O/segment52.flac  \n",
            "  inflating: /content/xhosa/aligned/BU191231O/segment23.flac  \n",
            "  inflating: /content/xhosa/aligned/BU191231O/segment41.flac  \n",
            "  inflating: /content/xhosa/aligned/BU191231O/segment60.flac  \n",
            "  inflating: /content/xhosa/aligned/BU191231O/segment15.flac  \n",
            "  inflating: /content/xhosa/aligned/BU191231O/segment22.flac  \n",
            "  inflating: /content/xhosa/aligned/BU191231O/segment0.flac  \n",
            "  inflating: /content/xhosa/aligned/BU191231O/segment27.flac  \n",
            "  inflating: /content/xhosa/aligned/BU191231O/segment63.flac  \n",
            "   creating: /content/xhosa/aligned/MTF170609D_k/\n",
            "  inflating: /content/xhosa/aligned/MTF170609D_k/segment2.flac  \n",
            "  inflating: /content/xhosa/aligned/MTF170609D_k/manifest.json  \n",
            " extracting: /content/xhosa/aligned/MTF170609D_k/segment1.flac  \n",
            " extracting: /content/xhosa/aligned/MTF170609D_k/segment4.flac  \n",
            "  inflating: /content/xhosa/aligned/MTF170609D_k/segment3.flac  \n",
            "  inflating: /content/xhosa/aligned/MTF170609D_k/segment5.flac  \n",
            "  inflating: /content/xhosa/aligned/MTF170609D_k/segment0.flac  \n",
            "   creating: /content/xhosa/aligned/MN180626O_a/\n",
            "  inflating: /content/xhosa/aligned/MN180626O_a/segment33.flac  \n",
            " extracting: /content/xhosa/aligned/MN180626O_a/segment53.flac  \n",
            " extracting: /content/xhosa/aligned/MN180626O_a/segment57.flac  \n",
            "  inflating: /content/xhosa/aligned/MN180626O_a/segment8.flac  \n",
            "  inflating: /content/xhosa/aligned/MN180626O_a/segment78.flac  \n",
            "  inflating: /content/xhosa/aligned/MN180626O_a/segment2.flac  \n",
            "  inflating: /content/xhosa/aligned/MN180626O_a/segment38.flac  \n",
            "  inflating: /content/xhosa/aligned/MN180626O_a/segment6.flac  \n",
            "  inflating: /content/xhosa/aligned/MN180626O_a/segment79.flac  \n",
            "  inflating: /content/xhosa/aligned/MN180626O_a/segment18.flac  \n",
            " extracting: /content/xhosa/aligned/MN180626O_a/segment69.flac  \n",
            "  inflating: /content/xhosa/aligned/MN180626O_a/segment74.flac  \n",
            "  inflating: /content/xhosa/aligned/MN180626O_a/segment10.flac  \n",
            "  inflating: /content/xhosa/aligned/MN180626O_a/segment54.flac  \n",
            "  inflating: /content/xhosa/aligned/MN180626O_a/segment14.flac  \n",
            " extracting: /content/xhosa/aligned/MN180626O_a/segment36.flac  \n",
            " extracting: /content/xhosa/aligned/MN180626O_a/segment16.flac  \n",
            " extracting: /content/xhosa/aligned/MN180626O_a/segment28.flac  \n",
            "  inflating: /content/xhosa/aligned/MN180626O_a/segment29.flac  \n",
            " extracting: /content/xhosa/aligned/MN180626O_a/segment68.flac  \n",
            "  inflating: /content/xhosa/aligned/MN180626O_a/segment24.flac  \n",
            "  inflating: /content/xhosa/aligned/MN180626O_a/segment48.flac  \n",
            "  inflating: /content/xhosa/aligned/MN180626O_a/segment30.flac  \n",
            "  inflating: /content/xhosa/aligned/MN180626O_a/segment25.flac  \n",
            "  inflating: /content/xhosa/aligned/MN180626O_a/manifest.json  \n",
            "  inflating: /content/xhosa/aligned/MN180626O_a/segment45.flac  \n",
            "  inflating: /content/xhosa/aligned/MN180626O_a/segment55.flac  \n",
            "  inflating: /content/xhosa/aligned/MN180626O_a/segment7.flac  \n",
            "  inflating: /content/xhosa/aligned/MN180626O_a/segment70.flac  \n",
            "  inflating: /content/xhosa/aligned/MN180626O_a/segment17.flac  \n",
            "  inflating: /content/xhosa/aligned/MN180626O_a/segment13.flac  \n",
            "  inflating: /content/xhosa/aligned/MN180626O_a/segment21.flac  \n",
            "  inflating: /content/xhosa/aligned/MN180626O_a/segment47.flac  \n",
            " extracting: /content/xhosa/aligned/MN180626O_a/segment59.flac  \n",
            "  inflating: /content/xhosa/aligned/MN180626O_a/segment42.flac  \n",
            "  inflating: /content/xhosa/aligned/MN180626O_a/segment49.flac  \n",
            "  inflating: /content/xhosa/aligned/MN180626O_a/segment9.flac  \n",
            "  inflating: /content/xhosa/aligned/MN180626O_a/segment43.flac  \n",
            "  inflating: /content/xhosa/aligned/MN180626O_a/segment46.flac  \n",
            "  inflating: /content/xhosa/aligned/MN180626O_a/segment32.flac  \n",
            "  inflating: /content/xhosa/aligned/MN180626O_a/segment76.flac  \n",
            "  inflating: /content/xhosa/aligned/MN180626O_a/segment67.flac  \n",
            " extracting: /content/xhosa/aligned/MN180626O_a/segment37.flac  \n",
            "  inflating: /content/xhosa/aligned/MN180626O_a/segment77.flac  \n",
            "  inflating: /content/xhosa/aligned/MN180626O_a/segment1.flac  \n",
            "  inflating: /content/xhosa/aligned/MN180626O_a/segment44.flac  \n",
            "  inflating: /content/xhosa/aligned/MN180626O_a/segment51.flac  \n",
            "  inflating: /content/xhosa/aligned/MN180626O_a/segment4.flac  \n",
            "  inflating: /content/xhosa/aligned/MN180626O_a/segment64.flac  \n",
            "  inflating: /content/xhosa/aligned/MN180626O_a/segment3.flac  \n",
            "  inflating: /content/xhosa/aligned/MN180626O_a/segment31.flac  \n",
            "  inflating: /content/xhosa/aligned/MN180626O_a/segment66.flac  \n",
            "  inflating: /content/xhosa/aligned/MN180626O_a/segment39.flac  \n",
            "  inflating: /content/xhosa/aligned/MN180626O_a/segment65.flac  \n",
            "  inflating: /content/xhosa/aligned/MN180626O_a/segment26.flac  \n",
            "  inflating: /content/xhosa/aligned/MN180626O_a/segment75.flac  \n",
            "  inflating: /content/xhosa/aligned/MN180626O_a/segment73.flac  \n",
            "  inflating: /content/xhosa/aligned/MN180626O_a/segment12.flac  \n",
            "  inflating: /content/xhosa/aligned/MN180626O_a/segment34.flac  \n",
            "  inflating: /content/xhosa/aligned/MN180626O_a/segment19.flac  \n",
            " extracting: /content/xhosa/aligned/MN180626O_a/segment35.flac  \n",
            "  inflating: /content/xhosa/aligned/MN180626O_a/segment50.flac  \n",
            "  inflating: /content/xhosa/aligned/MN180626O_a/segment20.flac  \n",
            " extracting: /content/xhosa/aligned/MN180626O_a/segment56.flac  \n",
            "  inflating: /content/xhosa/aligned/MN180626O_a/segment5.flac  \n",
            "  inflating: /content/xhosa/aligned/MN180626O_a/segment72.flac  \n",
            " extracting: /content/xhosa/aligned/MN180626O_a/segment58.flac  \n",
            "  inflating: /content/xhosa/aligned/MN180626O_a/segment61.flac  \n",
            "  inflating: /content/xhosa/aligned/MN180626O_a/segment11.flac  \n",
            " extracting: /content/xhosa/aligned/MN180626O_a/segment40.flac  \n",
            "  inflating: /content/xhosa/aligned/MN180626O_a/segment62.flac  \n",
            " extracting: /content/xhosa/aligned/MN180626O_a/segment52.flac  \n",
            "  inflating: /content/xhosa/aligned/MN180626O_a/segment23.flac  \n",
            "  inflating: /content/xhosa/aligned/MN180626O_a/segment41.flac  \n",
            "  inflating: /content/xhosa/aligned/MN180626O_a/segment60.flac  \n",
            " extracting: /content/xhosa/aligned/MN180626O_a/segment15.flac  \n",
            "  inflating: /content/xhosa/aligned/MN180626O_a/segment22.flac  \n",
            "  inflating: /content/xhosa/aligned/MN180626O_a/segment0.flac  \n",
            "  inflating: /content/xhosa/aligned/MN180626O_a/segment80.flac  \n",
            "  inflating: /content/xhosa/aligned/MN180626O_a/segment71.flac  \n",
            "  inflating: /content/xhosa/aligned/MN180626O_a/segment27.flac  \n",
            "  inflating: /content/xhosa/aligned/MN180626O_a/segment63.flac  \n",
            "   creating: /content/xhosa/aligned/BU160331M_b/\n",
            "  inflating: /content/xhosa/aligned/BU160331M_b/segment2.flac  \n",
            "  inflating: /content/xhosa/aligned/BU160331M_b/segment6.flac  \n",
            "  inflating: /content/xhosa/aligned/BU160331M_b/manifest.json  \n",
            "  inflating: /content/xhosa/aligned/BU160331M_b/segment1.flac  \n",
            "  inflating: /content/xhosa/aligned/BU160331M_b/segment4.flac  \n",
            "  inflating: /content/xhosa/aligned/BU160331M_b/segment3.flac  \n",
            "  inflating: /content/xhosa/aligned/BU160331M_b/segment5.flac  \n",
            "  inflating: /content/xhosa/aligned/BU160331M_b/segment0.flac  \n",
            "   creating: /content/xhosa/aligned/BU160331M_c/\n",
            "  inflating: /content/xhosa/aligned/BU160331M_c/segment2.flac  \n",
            "  inflating: /content/xhosa/aligned/BU160331M_c/segment6.flac  \n",
            "  inflating: /content/xhosa/aligned/BU160331M_c/manifest.json  \n",
            "  inflating: /content/xhosa/aligned/BU160331M_c/segment7.flac  \n",
            "  inflating: /content/xhosa/aligned/BU160331M_c/segment1.flac  \n",
            "  inflating: /content/xhosa/aligned/BU160331M_c/segment4.flac  \n",
            "  inflating: /content/xhosa/aligned/BU160331M_c/segment3.flac  \n",
            "  inflating: /content/xhosa/aligned/BU160331M_c/segment5.flac  \n",
            "  inflating: /content/xhosa/aligned/BU160331M_c/segment0.flac  \n",
            "   creating: /content/xhosa/aligned/PSJ150516D_c/\n",
            "  inflating: /content/xhosa/aligned/PSJ150516D_c/segment8.flac  \n",
            " extracting: /content/xhosa/aligned/PSJ150516D_c/segment2.flac  \n",
            " extracting: /content/xhosa/aligned/PSJ150516D_c/segment6.flac  \n",
            " extracting: /content/xhosa/aligned/PSJ150516D_c/segment18.flac  \n",
            "  inflating: /content/xhosa/aligned/PSJ150516D_c/segment10.flac  \n",
            "  inflating: /content/xhosa/aligned/PSJ150516D_c/segment14.flac  \n",
            " extracting: /content/xhosa/aligned/PSJ150516D_c/segment16.flac  \n",
            "  inflating: /content/xhosa/aligned/PSJ150516D_c/manifest.json  \n",
            " extracting: /content/xhosa/aligned/PSJ150516D_c/segment7.flac  \n",
            " extracting: /content/xhosa/aligned/PSJ150516D_c/segment17.flac  \n",
            " extracting: /content/xhosa/aligned/PSJ150516D_c/segment13.flac  \n",
            " extracting: /content/xhosa/aligned/PSJ150516D_c/segment21.flac  \n",
            "  inflating: /content/xhosa/aligned/PSJ150516D_c/segment9.flac  \n",
            " extracting: /content/xhosa/aligned/PSJ150516D_c/segment1.flac  \n",
            " extracting: /content/xhosa/aligned/PSJ150516D_c/segment4.flac  \n",
            "  inflating: /content/xhosa/aligned/PSJ150516D_c/segment3.flac  \n",
            "  inflating: /content/xhosa/aligned/PSJ150516D_c/segment12.flac  \n",
            "  inflating: /content/xhosa/aligned/PSJ150516D_c/segment19.flac  \n",
            " extracting: /content/xhosa/aligned/PSJ150516D_c/segment20.flac  \n",
            " extracting: /content/xhosa/aligned/PSJ150516D_c/segment5.flac  \n",
            "  inflating: /content/xhosa/aligned/PSJ150516D_c/segment11.flac  \n",
            " extracting: /content/xhosa/aligned/PSJ150516D_c/segment23.flac  \n",
            "  inflating: /content/xhosa/aligned/PSJ150516D_c/segment15.flac  \n",
            " extracting: /content/xhosa/aligned/PSJ150516D_c/segment22.flac  \n",
            "  inflating: /content/xhosa/aligned/PSJ150516D_c/segment0.flac  \n"
          ]
        }
      ]
    },
    {
      "cell_type": "markdown",
      "source": [
        "# Step 4: Prediction\n"
      ],
      "metadata": {
        "id": "lF8jMvgjkmoe"
      }
    },
    {
      "cell_type": "code",
      "execution_count": 5,
      "metadata": {
        "colab": {
          "base_uri": "https://localhost:8080/"
        },
        "id": "TW3GMygSGldi",
        "outputId": "9339ab19-867b-445e-8db8-e28db2b8517b"
      },
      "outputs": [
        {
          "output_type": "stream",
          "name": "stdout",
          "text": [
            "Transcription: dingunosabelo futhu\n",
            "Reference: ndingunosabelo futu\n",
            "\n",
            "Transcription: umnyeni wam ngubhakhoni futhu\n",
            "Reference: umyeni wam ngubhakhoni futu\n",
            "\n",
            "Transcription: uphangela erustenburg e-min yase impala e-14cf\n",
            "Reference: uphangela erustenburg emayini yaseimpala e14 charles\n",
            "\n",
            "Transcription: kukude kakhulu ukusuka apha exhorha\n",
            "Reference: kukude kakhulu ukusuka apha exhorha\n",
            "\n",
            "Transcription: ubuya kathathu ngonyaka\n",
            "Reference: ubuya kathathu ngonyaka\n",
            "\n",
            "Transcription: ubuya ngepasika abuye ngojuni aphinde abuye ngodisemba qha\n",
            "Reference: ubuya ngepasika abuye ngojuni aphinde abuye ngodisemba qha\n",
            "\n",
            "Transcription: kunqabile ukudibana naye\n",
            "Reference: kunqabile ukudibana naye\n",
            "\n",
            "Transcription: abeenaboti utii\n",
            "Reference: yhena bhuti uthini\n",
            "\n",
            "Transcription: dkukandona akakadolunza\n",
            "Reference: uthi kuqhubeka ntoni na kwadalumzi\n",
            "\n",
            "Transcription: d\n",
            "Reference: uthini\n",
            "\n",
            "Transcription: alokudalonzi nanononyana ukuqale emfaza nkwala\n",
            "Reference: kaloku udalumzi unonyana unonyana woqala emfazini wakhe\n",
            "\n",
            "Transcription: dl\n",
            "Reference: oh madoda\n",
            "\n",
            "Transcription: abebunyalalelonyala\n",
            "Reference: and ke ngoku ugqib a unyaka ke lo nyana\n",
            "\n",
            "Transcription: \n",
            "Reference: oh bethunana\n",
            "\n",
            "Transcription: aai abazizai ngwemhlabe ibalwakhona kananto abacite igaza\n",
            "Reference: siyamazisa ke ngoku emhlabeni uba ngoku ukhona kangangento bachithe igazi\n",
            "\n",
            "Transcription: auzoukhone ipuqukushayo esilantsekeni echeli we\n",
            "Reference: kukhon a iigusha ezinantsikeni exheliweyo phaya\n",
            "\n",
            "Transcription: khaloku incomasiyazifone nondonakalolusoz\n",
            "Reference: o e kaloku iincuma siyazifuna madoda noba lulusu izojo\n",
            "\n",
            "Transcription: ififukubazeza mato watunandikukusebu mkyakwatawole namafonezelam\n",
            "Reference: e izifuba zezamadoda kaloku usemtsha kodwa wena awufanelekanga ube usazijongile ezo nto\n",
            "\n",
            "Transcription: akenxlamuithino zenkona sezindalo\n",
            "Reference: hayi ke ndixhamile zizinto ezindala\n",
            "\n",
            "Transcription: dl\n",
            "Reference: ithini\n",
            "\n",
            "Transcription: ngokuke noko izoqalisapho ememfindi kwemnose\n",
            "Reference: eh ngoku ke noko izoqalisa aph a emveni kwemin i umsebenzi\n",
            "\n",
            "Transcription: aekalokumasiye ofundi\n",
            "Reference: ok hayi kaloku masiye pha mfondini\n",
            "\n",
            "Transcription: dinobanze natisipfumesimunda\n",
            "Reference: noba nje nathi siphume simunca\n",
            "\n",
            "Transcription: \n",
            "Reference: hmm\n",
            "\n",
            "Transcription: aihamaledzakabini kathatu\n",
            "Reference: sixhamle nje kabini kathathu\n",
            "\n",
            "Transcription: imnandi ngarwanlee\n",
            "Reference: hmm hayi imnandi ngalo ndlela e\n",
            "\n",
            "Transcription: hakesilaka silichunatekes\n",
            "Reference: hayi ke sizawukhe sithi chu nathi sijonge\n",
            "\n",
            "Transcription: elatilanga ngasotse calelo kai nesiqii\n",
            "Reference: ingath i ilanga selisecaleni ngoba sikhe siyoxhamla\n",
            "\n",
            "Transcription: dadellle\n",
            "Reference: kusemalanga kamnandi\n",
            "\n",
            "Transcription: azzazi unce ne ino nati\n",
            "Reference: sikhe simunc e iminwe nathi kusesikweni\n",
            "\n",
            "Transcription: enesibayeni somnyumti bengatusihlawu\n",
            "Reference: esibayeni somny e umnti bengatusihlawula\n",
            "\n",
            "Transcription: aabo abofunu ngeenesibalinisom nyumti\n",
            "Reference: habo abafun a ungena esibayeni somny e umnti\n",
            "\n",
            "Transcription: bavunyele bonondi atshaza bethu\n",
            "Reference: banga bavunyelwe bon a oondatshaza bethu\n",
            "\n",
            "Transcription: aaelazazakeaeke\n",
            "Reference: oonondatshaza aba\n",
            "\n",
            "Transcription: ikal\n",
            "Reference: siqale\n",
            "\n",
            "Transcription: anankapan nannan\n",
            "Reference: yima kancinci\n",
            "\n",
            "Transcription: ngoku\n",
            "Reference: ngoku\n",
            "\n",
            "Transcription: a  l  ln  n n al  lnl ln rar llanlanana\n",
            "Reference: aqale\n",
            "\n",
            "Transcription: apel\n",
            "Reference: ewe\n",
            "\n",
            "Transcription: axrulka\n",
            "Reference: uthi qala\n",
            "\n",
            "Transcription: keyayikosi yatyala isityalo ephezi komfula\n",
            "Reference: ke yayinkosi yatyala isityalo eh phezu komfula\n",
            "\n",
            "Transcription: esi sityalo sinomgadi waso\n",
            "Reference: esi sityalo sinomgadi waso\n",
            "\n",
            "Transcription: xa si nomgadi kukho uchweba\n",
            "Reference: xa sinomgadi kukho uchweba\n",
            "\n",
            "Transcription: kukho iinto mbi ezaziyo kugqipha kingoku\n",
            "Reference: kukho iintombi ezaziyoqubha ke ngoku\n",
            "\n",
            "Transcription: xazifika ezintomazana zagqoba\n",
            "Reference: xa zifika ezi ntombazana zaqubha\n",
            "\n",
            "Transcription: ukho into mazane ngugamali ngunomyenge letan\n",
            "Reference: kukho intombazana engugama lingunomyengeletane\n",
            "\n",
            "Transcription: yathi intombazana ndiyazimela mnangoku\n",
            "Reference: yathi intombazana ndiyazimela mna ngoku\n",
            "\n",
            "Transcription: diotya isityalo senkosi\n",
            "Reference: ndiyotya isityalo senkosi\n",
            "\n",
            "Transcription: yahamba intomazana yazimela kwezinye ntomazana\n",
            "Reference: yahamba intombazana yazimela kweziny e iintombazana\n",
            "\n",
            "Transcription: yazimela nomgati wesityalo\n",
            "Reference: yazimela nomgadi wesityalo\n",
            "\n",
            "Transcription: yahamba otyi yisityalo enkosi\n",
            "Reference: yahamba yoty a isityalo senkosi\n",
            "\n",
            "Transcription: nxa ifika yakhwela emti\n",
            "Reference: nxa ifika yakhwel a emthini\n",
            "\n",
            "Transcription: yasitya isityalo senkosi\n",
            "Reference: yasitya isityalo senkosi\n",
            "\n",
            "Transcription: exa ifika kengokumgathi watufika kwakhe wabonwa sityiki isityalo sinkusi\n",
            "Reference: e xa ifika ke ngoku umgadi wath i ufika kwakhe wabona ukuba sityiw e isityalo senkosi\n",
            "\n",
            "Transcription: wahamba otshenkosine\n",
            "Reference: wahamba wotsho enkosini\n",
            "\n",
            "Transcription: xa ifike unkosini waxelo basityiwe isityalo senkosi\n",
            "Reference: xa efika enkosini waxela ukuba sityiwe isityalo senkosi\n",
            "\n",
            "Transcription: inkosi yabizela bantu bonke\n",
            "Reference: inkosi yabizela abantu bonke\n",
            "\n",
            "Transcription: nxa befika abantu kwathi wake umntu otye isityalo senkosi uza ubonakala\n",
            "Reference: xa befika abantu kwathiwa ke umntu otye isityalo senkosi uzawubonakala\n",
            "\n",
            "Transcription: likhona igqirha lesityalo\n",
            "Reference: likhona igqirha lesityalo\n",
            "\n",
            "Transcription: kwaqokelelwanake kwayi wakhe esizibeni\n",
            "Reference: kwaqokelelwana ke kwayiwa ke esizibeni\n",
            "\n",
            "Transcription: nakufika esizibeni aqalisa amadoda ukutsiba kwisiziba\n",
            "Reference: xa kufikw a esizibeni aqalisa amadoda ukutsiba kwisiziba\n",
            "\n",
            "Transcription: xa eqalisa ukutsiba athi amadoda yeyeyeye yeyeyeye ngunobandlele\n",
            "Reference: xa eqalisa ukutsiba athi amadoda yeyeye yeyeye yeyeye unobandlela\n",
            "\n",
            "Transcription: yeye yeye yeye gunobondla\n",
            "Reference: yeyeye yeyeye ngunobandlela\n",
            "\n",
            "Transcription: sezu ehunomyengelelae\n",
            "Reference: senziwe ngunomyengeletane\n",
            "\n",
            "Transcription: knbona wuwubutyili ubuncwani benkosi yethu hunobondle\n",
            "Reference: ngunobandlela ubutyil e ubuncwane benkosi yethu unobandlela\n",
            "\n",
            "Transcription: hayike hatsiba madoda gqiqi kwezabafasi\n",
            "Reference: hayi ke atsiba amadoda agqiba kweza abafazi\n",
            "\n",
            "Transcription: wathi umfazi yeyeyeye yeye yeye ngunobondle\n",
            "Reference: wathi umfazi yeyeye ngunobandlela\n",
            "\n",
            "Transcription: yeye yeye yeye yeye gunabona\n",
            "Reference: yeyeye yeyeye yeyeye ngunobandlela\n",
            "\n",
            "Transcription: senziwe guno myegeletane guna\n",
            "Reference: senziwe ngunomyengeletane\n",
            "\n",
            "Transcription: ubutyili buncwane benkosi yethu unobondlela\n",
            "Reference: ubutyile ubuncwane benkosi yethu unobandlela\n",
            "\n",
            "Transcription: hayike atsiba abafasi bagqiba kweza amantomba amakhwenkwe\n",
            "Reference: hayi ke batsiba abafazi bagqiba kweza amakhwenkwe\n",
            "\n",
            "Transcription: xa esiza makhwenkwe athe amakwenkwe yeyeyeye yeyeyeye ngunobondla\n",
            "Reference: nxa esiza amakhwenkwe athi amakhwenkwe yeyeye yeyeye ngunobandlela\n",
            "\n",
            "Transcription: yeye yeye yeye yeyee gunawona\n",
            "Reference: yeyeye yeyeye ngunobandlela\n",
            "\n",
            "Transcription: senziwe nguna mnyengeletyane nguna wana\n",
            "Reference: senziwe ngunomyengeletane ngunobandlela\n",
            "\n",
            "Transcription: uwutyili bungoni benkosi yetu unobola\n",
            "Reference: ubutyile ubuncwane benkosi yethu unobandlela\n",
            "\n",
            "Transcription: athi bamakongwagqiba kwezama ntombazama\n",
            "Reference: atsiba amakhwenkwe agqiba kweza amantombazana\n",
            "\n",
            "Transcription: yathi ntombazana ye yeyeye yeyeyeye hunondle\n",
            "Reference: yathi intombazana yeyeye yeyeye ngunobandlela\n",
            "\n",
            "Transcription: yeyeyeyeyeyeyeye gunawana\n",
            "Reference: yeyeye yeyeye ngunobandlela\n",
            "\n",
            "Transcription: sensengunombyangeletane kunawana\n",
            "Reference: senziwe ngunomyengeletane ngunobandlela\n",
            "\n",
            "Transcription: ehetyelo ubungwani benkosi yeti nowondleka\n",
            "Reference: sityelwe ubuncwane benkosi yethu unobandlela\n",
            "\n",
            "Transcription: zoln ll ek za\n",
            "Reference: uzondihlekisa wena\n",
            "\n",
            "Transcription: ngoku atsho atsho ama nto masana\n",
            "Reference: ngoku atsho atsho amantombazana\n",
            "\n",
            "Transcription: yafiki gemu kunoniye ngele tay obutyile ubuncani benkosi\n",
            "Reference: yafika igem kunomyengeletane obutyileyo ubuncwane benkosi\n",
            "\n",
            "Transcription: watsi ye ye ye ye ye ye ye ye huno bondle\n",
            "Reference: wathi yeyeye yeyeye ngunobandlela\n",
            "\n",
            "Transcription: yeyeeyeyee yeyeyeye ngunavan\n",
            "Reference: yeyeye yeyeye ngunobandlela\n",
            "\n",
            "Transcription: senziwenguna myangelatane gunabona\n",
            "Reference: senziwe ngunomyengeletan a ngunobandlela\n",
            "\n",
            "Transcription: ubutyili ubungani benkosi yetu unobondle\n",
            "Reference: ubutyile ubuncwane benkosi yethu unobandlela\n",
            "\n",
            "Transcription: wajika akatsiba\n",
            "Reference: wajika akatsiba\n",
            "\n",
            "Transcription: waphinda yakali isabhoku\n",
            "Reference: waphinda sakhal a isabhokhwe\n",
            "\n",
            "Transcription: kwathwayiya kwaya\n",
            "Reference: kwathiwa yiya waya\n",
            "\n",
            "Transcription: wathi phezu kumlama wathi yeyeye yeye ye ye ye nobondlela\n",
            "Reference: wathi phezu lu komlambo wathi yeyeye yeyeye ngunobandlela\n",
            "\n",
            "Transcription: yeyeyeyeyeyeyeye guleman\n",
            "Reference: yeyeye yeyeye ngunobandlela\n",
            "\n",
            "Transcription: sensiwenguno myengeletyane enguno wabondla\n",
            "Reference: senziwe ngunomyengeletane ngunobandlela\n",
            "\n",
            "Transcription: ubutyili ubungcani benkosi yetu nobondle\n",
            "Reference: ubutyile ubuncwane benkosi yethu unobandlela\n",
            "\n",
            "Transcription: watsiba nqatshona phakathi watsho phansi emanzini\n",
            "Reference: watsiba watshona phakathi watsho phantsi emanzini\n",
            "\n",
            "Transcription: lamanzi aligqirha lesityalo\n",
            "Reference: la manzi aligqirha lesityalo\n",
            "\n",
            "Transcription: watho phansi wathi yayaaye ye ngunabane\n",
            "Reference: watsho phantsi wathi yeyeye yeyeye ngunobandlela\n",
            "\n",
            "Transcription: iye ngorawa\n",
            "Reference: yeyeye yeyeye ngunobandlela\n",
            "\n",
            "Transcription: apotyelo kongcani bakasi athoongonabandla\n",
            "Reference: ubutyile ubuncwane benkosi yethu unobandlela\n",
            "\n",
            "Transcription: watshona waphela\n",
            "Reference: watshona waphela\n",
            "\n",
            "Transcription: phela phela kantsom yambe ndi ibediwena lolo\n",
            "Reference: phela-phela ngantsomi yam bendiyiphethe\n",
            "\n",
            "Transcription: k igama lamdingu ntomfikile wakahlahla\n",
            "Reference: okheyi igama lam ndinguntombifikile wak w ahlala\n",
            "\n",
            "Transcription: ndikhulele kwachase exhorhamalth kwilali ekufushane nasenqilemi\n",
            "Reference: ndikhulele kwatshezi exhorha kwilali ekufushane nasenqileni\n",
            "\n",
            "Transcription: ekhaya singabantwana abayi-6 abafana bayi-4 amantombazana ayi-2\n",
            "Reference: ekhaya singabantwana abay i six abafana abay i four amantombazana ay i two\n",
            "\n",
            "Transcription: mnandi ngumntyana wesine ekhaya\n",
            "Reference: mna ndingumntana wesine ekhaya\n",
            "\n",
            "Transcription: ngokuyenda ndikhula ndisemncinci sasithanda weyokutheza ehlathini sigqubhe nabahlobo bam\n",
            "Reference: ngok u ya ndandikhula ndisemncinci sasithanda uyokutheza ehlathini siqubhe nabahlobo bam\n",
            "\n",
            "Transcription: dandi kwenqena ukupheka\n",
            "Reference: ndandikonqena ukupheka\n",
            "\n",
            "Transcription: e anti kwanqena ngokundandi ngomntwana ngoba ndanhlala nomama\n",
            "Reference: ndandikonqena ngoku ndandingumntwana ngoba ndandihlala nomama\n",
            "\n",
            "Transcription: umama wami wayendiphekela lonke ixesha\n",
            "Reference: umama wam wayendiphekela lonke ixesha\n",
            "\n",
            "Transcription: hasbo nisena ma\n",
            "Reference: khawusibonise ke mama\n",
            "\n",
            "Transcription: sesebele\n",
            "Reference: seyisebenza ngok u\n",
            "\n",
            "Transcription: lmbn\n",
            "Reference: ngale nto yalo mbona eh\n",
            "\n",
            "Transcription: \n",
            "Reference: ooh\n",
            "\n",
            "Transcription: nake kumbaa\n",
            "Reference: nanku ke umbona\n",
            "\n",
            "Transcription: iineneatesaseelaezae\n",
            "Reference: ingath i usasebenza nje\n",
            "\n",
            "Transcription: amia kwenzaua\n",
            "Reference: hayi myeke yenza wena\n",
            "\n",
            "Transcription: ayizibiseidlule ayiziudlula zamese ifikile pamwi singekozinkampe ziyabuye\n",
            "Reference: ayizube seyidlule ay i zudlula izobe seyifikile pha kuye zingekho nje iintambo eziya kuye\n",
            "\n",
            "Transcription: am rekordingysatio do yo want to put i in her pokket kary ilike hizeya  nansialeponhantaga\n",
            "Reference: nantsi ke le mpontshane ndithetha ngayo lo\n",
            "\n",
            "Transcription: impontsanle umbolo ngekavuthoe uqaleke udubule udubula kuphuma le ntshaka\n",
            "Reference: yimpontshane le ngumbon a ongekavuthwa l eheh uqale ke udubule udubula kuphuma le ntshaka\n",
            "\n",
            "Transcription: intshakal udubula kwa e xaso uvuthiwe ziyaminthela ngemifino njitisikha imifino\n",
            "Reference: yintshaka le ukudubula kwayo eh xa sowuvuthiwe njengokuba bendithetha ngemifino ndithi sikha imifino\n",
            "\n",
            "Transcription: siphekisigamba yio limii umfinolo lirhole ifin mhale misi njiinqunqa siinqunxe siinqune\n",
            "Reference: siphek e isigwampa ngayo l e imifino ngum fino lo sikha le mifino siyinqunqe siyinqunqe siyinqunqe\n",
            "\n",
            "Transcription: sipeke\n",
            "Reference: siyipheke\n",
            "\n",
            "Transcription: xa sowumili umbona sawuguba sithela lento sithelu ngubo sibonde kwityino\n",
            "Reference: xa sowomile umbona sawuguba sithela le nto sithele umgubo sibonde kutyiwe\n",
            "\n",
            "Transcription: elo kumbhona lo\n",
            "Reference: ewe lo ngumbona lo\n",
            "\n",
            "Transcription: o se uu\n",
            "Reference: sibonde\n",
            "\n",
            "Transcription: souvuthi welo\n",
            "Reference: sow u vuthiwe lo\n",
            "\n",
            "Transcription: gulobe nteda ngamtiisi yawikha sipheke ibhanqi\n",
            "Reference: ngulo bendithetha ngawo ndisithi siyawukha sipheke ibhanqa\n",
            "\n",
            "Transcription: yebwena\n",
            "Reference: uyabona\n",
            "\n",
            "Transcription: ngowepale ngokula\n",
            "Reference: lo ngowebhanqa ngoku lo\n",
            "\n",
            "Transcription: libhanqa ehle\n",
            "Reference: libhanqa eli\n",
            "\n",
            "Transcription: aukaxiiliso\n",
            "Reference: awukaqini\n",
            "\n",
            "Transcription: s useyeehn yanga\n",
            "Reference: use young\n",
            "\n",
            "Transcription: qubesu uule\n",
            "Reference: siwuxube siwuhlubule\n",
            "\n",
            "Transcription: siyokupheka kingulu\n",
            "Reference: siyowupheka ke ngoku\n",
            "\n",
            "Transcription: õ\n",
            "Reference: uhum oh\n",
            "\n",
            "Transcription: cap\n",
            "Reference: siyow u pheka\n",
            "\n",
            "Transcription: xavuthi wekea\n",
            "Reference: oh xa uvuthiwe ke ngoku\n",
            "\n",
            "Transcription: utamel\n",
            "Reference: ngoba sowuthambile\n",
            "\n",
            "Transcription: xaso uxinileke ngokho ungasathamba\n",
            "Reference: xa sewuqinile ke ngoku ungasathambanga uyabona\n",
            "\n",
            "Transcription: aca uthambile ufuwaku munwe utshona\n",
            "Reference: ke xa uthambile ufak a umnwe uyabona utshone\n",
            "\n",
            "Transcription: k'asok'iniile ungacso numune\n",
            "Reference: xa sowuqinile ungatshon i umnwe\n",
            "\n",
            "Transcription: siyamoja\n",
            "Reference: siyamoja\n",
            "\n",
            "Transcription: pallalleplelel\n",
            "Reference: okay\n",
            "\n",
            "Transcription: yasibasumlilo simotshe njengobubraya okanye si ukufaka kwibraya\n",
            "Reference: yha sibas a umlilo simoje njengokuba ubraaiya okanye siwufake kwi-braaiya\n",
            "\n",
            "Transcription: uwajeke suike\n",
            "Reference: wojeke siwutye\n",
            "\n",
            "Transcription: umlandi kakhulu uke ca sowojiwe\n",
            "Reference: umnandi kakhulu ke xa sowojiwe umbona\n",
            "\n",
            "Transcription: ee ndwendene febi\n",
            "Reference: ewe yintoni ntwenye ngoku gqibile\n",
            "\n",
            "Transcription: kulafuke ngokuve kuici xasowumile nongqoshi\n",
            "Reference: oh okey kulapho ke ngoku xa sowomile niwungqushe\n",
            "\n",
            "Transcription: isiqqusheke ngoxas okumindle e oalukhula asetindi laeyalhlakula\n",
            "Reference: siwungqushe ke ngoku xa sewomile eh olu khula sithi ndiyaluhla siyaluhlakula\n",
            "\n",
            "Transcription: le ulo olu zukwu ulo olo\n",
            "Reference: lul o olu lukhulu olu\n",
            "\n",
            "Transcription: alndennnnn kelle\n",
            "Reference: yiweed\n",
            "\n",
            "Transcription: o\n",
            "Reference: eh weed\n",
            "\n",
            "Transcription: hlakula abangekhubapho\n",
            "Reference: sihlakula apha ngekhuba phof u\n",
            "\n",
            "Transcription: sithi ngekhuba umbona kxa ose likhaba ungaka\n",
            "Reference: sithi ngekhuba umbona xa uselikhaba ungaka siwuhlakule siwuhlak\n",
            "\n",
            "Transcription: enpan pan  pn p e\n",
            "Reference: eh and then\n",
            "\n",
            "Transcription: xanda uphe nuthini kengokunje ma xasewume wonke aphekadii\n",
            "Reference: xa nizophek a um niwuthini njengo ku ba xa sewume wonke aph a egadini\n",
            "\n",
            "Transcription: xasa owomile ngoku wonke lombola phegathi siyawukha sigoduke nawo\n",
            "Reference: xa sowomile ngoku wonke lo mbona apha egadini siyawukha sigoduke nawo\n",
            "\n",
            "Transcription: sifigas u tuube\n",
            "Reference: sifike siwuchube\n",
            "\n",
            "Transcription: ibuthubakenako\n",
            "Reference: ukuchuba ke naku\n",
            "\n",
            "Transcription: ut umilemos\n",
            "Reference: ugcumile moss\n",
            "\n",
            "Transcription: uba sia uhuba sikkuba sauba bol\n",
            "Reference: siyawuchuba siyawuchuba siyawuchuba siyawuchuba womile siwufak e esingqushweni\n",
            "\n",
            "Transcription: okanye xa womile siyakuqhuba futhi\n",
            "Reference: singqushe singqushe singqushe okanye xa womile siyawuchuba futhi\n",
            "\n",
            "Transcription: suchube suchube sihambe sousila\n",
            "Reference: siwuchube siwuchube sihambe siyowusila\n",
            "\n",
            "Transcription: susile susile ubengumgubue\n",
            "Reference: siwusile siwusile ubengumgubo uben\n",
            "\n",
            "Transcription: d\n",
            "Reference: umilimeel\n",
            "\n",
            "Transcription: be ngumili mili\n",
            "Reference: ubengumilimeel ewe\n",
            "\n",
            "Transcription: sipeke ngawo kisigwamba sipheke nethanga\n",
            "Reference: sipheke ngawo k e isigwampa sipheke nethanga\n",
            "\n",
            "Transcription: sicube nolomilimilibe ngumxalonto\n",
            "Reference: sixube ne nalo milimeel ube ngumqa ke lowo\n",
            "\n",
            "Transcription: zenzaka ndlali pzipheki nkobe\n",
            "Reference: senza kanjalo\n",
            "\n",
            "Transcription: milekenku kenqir\n",
            "Reference: n i phinde nipheke inkobe\n",
            "\n",
            "Transcription: sipheki nkobe sitse\n",
            "Reference: siphek a iinkobe xa womile\n",
            "\n",
            "Transcription: idike intlo\n",
            "Reference: ithi ke intsomi\n",
            "\n",
            "Transcription: kaathi kakalo ngatso\n",
            "Reference: kwathi ke kaloku ngantsomi\n",
            "\n",
            "Transcription: abantwana babini umama wabekaabantwana abathi esidolini wabazale la isidoleyo\n",
            "Reference: abantwana ababini umama wa wabeka abantwana bakhe esidulwini wabazelela esidulwini\n",
            "\n",
            "Transcription: lala lala\n",
            "Reference: isiduli uyasazi\n",
            "\n",
            "Transcription: gana akanaango\n",
            "Reference: kanti akanandlu\n",
            "\n",
            "Transcription: umama wabelekela abandwana bakhi esidolini\n",
            "Reference: umama wabelekela abantwana bakhe esidulini\n",
            "\n",
            "Transcription: ngarhumbi sidulu abeka bantwa bababini\n",
            "Reference: wagrumba isiduli wagrumba isiduli wayobeka abantwana bababini\n",
            "\n",
            "Transcription: wabase\n",
            "Reference: wabashiya\n",
            "\n",
            "Transcription: wahaba afuna ukutya\n",
            "Reference: wahamba wa y ofuna ukutya\n",
            "\n",
            "Transcription: kwafunokutya kotyisa bantwa\n",
            "Reference: wofuna ukutya kotyisa abantwana\n",
            "\n",
            "Transcription: ngeminoqa wabuya keyesibini ubashila abanya nesidoleni\n",
            "Reference: ngemini yokuqala wabuya kweyesibini ubashiyile abantwana esidulini\n",
            "\n",
            "Transcription: uzaphinda buyazoba abuyena noobatyisa\n",
            "Reference: uzophinda a abuye ne nento wobatyisa\n",
            "\n",
            "Transcription: akabuya uhlangene nesigebena samgebenga\n",
            "Reference: akabuya abantwana bona balinde umama esidulini\n",
            "\n",
            "Transcription: abantwana abona bale ndumama esidoli umama ugetye ngiwe ngekazi ukuhsese kutye bantwane\n",
            "Reference: uhlangene nes i gebenga samgebenga umama ugetyengiwe e engeka engekazukuzisa ukutya ebantwaneni\n",
            "\n",
            "Transcription: basupa nenyimini balapa balapa balamba\n",
            "Reference: basuka ngeny e imini balamba balamba balamba\n",
            "\n",
            "Transcription: kakhula kodwa nasituntlea\n",
            "Reference: bakhula kodwa besitya umhlaba\n",
            "\n",
            "Transcription: eelle\n",
            "Reference: eeh\n",
            "\n",
            "Transcription: bamane besityake kulomhlaba wesiduhli\n",
            "Reference: bamane besitya kulo mhlaba wesiduli\n",
            "\n",
            "Transcription: bamale besitye baqhekezi sidule batye\n",
            "Reference: bamane besitya baqhekeze isiduli batye\n",
            "\n",
            "Transcription: kade babe bakhula bakhulela kulomhlaba weziduli\n",
            "Reference: bade babe bayakhula bekhulela kulo mhlaba wesiduli\n",
            "\n",
            "Transcription: badam bisitoni baasaze\n",
            "Reference: and iy azi noba isiduli bayasazi na\n",
            "\n",
            "Transcription: suka ngenye imini ngobadala bayakwazi ozihambela\n",
            "Reference: suka ngenye imini ngoku badala bayakwazi ukuzihambela\n",
            "\n",
            "Transcription: masambi kesihambi sikhange lo ma\n",
            "Reference: mas ih ambe si khe sihambe sikhangela umama\n",
            "\n",
            "Transcription: paa ma bangeyi nelal\n",
            "Reference: bahamba bangena ilali\n",
            "\n",
            "Transcription: bambi besima bacula batyimpongompungompu ngompungu sifunumamabu ngompungu\n",
            "Reference: bahambe besima bacula bathi mpongo mpongo mpongo mpongo sifuna umama mpongo mpongo\n",
            "\n",
            "Transcription: wasezala waseshiya mpongompongo\n",
            "Reference: wasizala wasishiya mpongo mpongo\n",
            "\n",
            "Transcription: sahla mhlatyana sakhula mpongompongo\n",
            "Reference: sadla mhlatyana sakhula mpongo mpongo\n",
            "\n",
            "Transcription: kadwa klomze mamikhantu mamela abantwa\n",
            "Reference: kwathwa kulo mzi ma khanimamele abantwana\n",
            "\n",
            "Transcription: kanumabele abadwa\n",
            "Reference: khanimamele abantwana\n",
            "\n",
            "Transcription: baphindi abantwa mpongompongompongompongo sifuno mamampongompongo\n",
            "Reference: baphinda abantwana mpongo mpongo mpongo mpongo sifuna umama mpongo mpongo\n",
            "\n",
            "Transcription: wasezala waseshi yaampongompongo\n",
            "Reference: wasizala wasishiya mpongo mpongo\n",
            "\n",
            "Transcription: sadlamhlatyana sakhula mpo ngompongo\n",
            "Reference: sadla mhlatyana sakhula mpongo mpongo\n",
            "\n",
            "Transcription: kanti umama walomntana ukuloms unetheko umama wabantwa\n",
            "Reference: ka nti umama walo mntana ukulo mzi unetheko umama wabantwana\n",
            "\n",
            "Transcription: tsi ingabantwana abamnja aba\n",
            "Reference: tshini ingabantwana bam nje aba\n",
            "\n",
            "Transcription: bente kuda katyasi sikebenke\n",
            "Reference: bendithe kodwa watyiwa sisigebenga\n",
            "\n",
            "Transcription: kekidoojososkele\n",
            "Reference: ewe ubuthe watyiwa sisigebenga\n",
            "\n",
            "Transcription: lealelel lnlllarl lanlnlnlele lal lelllen\n",
            "Reference: masiyilungise loo nto\n",
            "\n",
            "Transcription: biblatisika bi ngasondi lene\n",
            "Reference: sathi isigibenga sondela\n",
            "\n",
            "Transcription: basuku abantwana bambonwa umama wabo\n",
            "Reference: basuka abantwana bambona umama wabo\n",
            "\n",
            "Transcription: nali ulaline\n",
            "Reference: uyilahlile ngoku\n",
            "\n",
            "Transcription: delale e\n",
            "Reference: ndiyalahlile\n",
            "\n",
            "Transcription: on\n",
            "Reference: ewe\n",
            "\n",
            "Transcription: yayisidika loku intsomi yakhe\n",
            "Reference: yayisithi kaloku intsomi yakhe\n",
            "\n",
            "Transcription: usiirekhodisha kelondanzamkumbusi\n",
            "Reference: suyirekhodisha ke le ndawo ndizomkhumbuza\n",
            "\n",
            "Transcription: opngmpongompongo sifunumamaapo  ngompongo\n",
            "Reference: mpongo mpongo mpongo mpongo sifuna umama mpongo mpongo\n",
            "\n",
            "Transcription: wasizala wasishiyampo ngompongo\n",
            "Reference: wasizala wasishiya mpongo mpongo\n",
            "\n",
            "Transcription: sadlamhlatyana sakhula mpongompongo\n",
            "Reference: sadla mhlatyana sakhula mpongo mpongo\n",
            "\n",
            "Transcription: kutokegqithaani phambiliq\n",
            "Reference: kuth i we gqithelani ngaphambili\n",
            "\n",
            "Transcription: baphinde bafika komyuma\n",
            "Reference: baphinda bafika komny e umzi\n",
            "\n",
            "Transcription: mpongompongo ylizim elibabilivu batyiwa\n",
            "Reference: umpongo-mpongo yayi yayilizimi eli babhiliva uba latyi batyiwa\n",
            "\n",
            "Transcription: ukwaye kwafuma nise batyiwa lomama lelazila\n",
            "Reference: kwaye kwafumaniseka uba watyiwa lo mama lela zim\n",
            "\n",
            "Transcription: en kenkuthwa apha cithelani phambili\n",
            "Reference: then ke ngoku kuthwa apha gqithelani phambili\n",
            "\n",
            "Transcription: kederan pambi\n",
            "Reference: gqithelani phambili\n",
            "\n",
            "Transcription: baamba bacula lentoke\n",
            "Reference: bahamba becula le nto ke\n",
            "\n",
            "Transcription: amazwe kufika kengokwesigebe ngenesisithi izima\n",
            "Reference: bazofika esigebengeni esi sithi izimi\n",
            "\n",
            "Transcription: kwakukholeleka ngatika ngunto nkulu lentodwalizimu\n",
            "Reference: kwakukholeleka ke ingathi yinto enkulu le nto kuthwa lizim\n",
            "\n",
            "Transcription: ihlelapha ngasepa\n",
            "Reference: ihleli apha ngasebuhlanti\n",
            "\n",
            "Transcription: dikleinn\n",
            "Reference: ihleli apha ngasebuhlanti\n",
            "\n",
            "Transcription: \n",
            "Reference: mhmm\n",
            "\n",
            "Transcription: intle li papandlo\n",
            "Reference: ihleli apha phandle\n",
            "\n",
            "Transcription: litizim sontela ndiva\n",
            "Reference: lithi izim sondela andiva\n",
            "\n",
            "Transcription: na mbande awa abaaga na akinyarerisi\n",
            "Reference: umama wabantwana waginywa leli zim\n",
            "\n",
            "Transcription: aphinde acule umntala litizimu sondela ndiva\n",
            "Reference: aphinde acule umntana lithi izim sondela andiva\n",
            "\n",
            "Transcription: basondela abantwania\n",
            "Reference: asondele basondele abantwana bacule\n",
            "\n",
            "Transcription: nsondela ndiva ngumpongompongo kwelizimo\n",
            "Reference: sondela andiva ngumpongo-mpongo ke elizim\n",
            "\n",
            "Transcription: zondela ndiva\n",
            "Reference: sondela andiva uthe\n",
            "\n",
            "Transcription: isibaakusondela le abagqinya abantwaliziyo\n",
            "Reference: usuke bawusondela labaginya abantwana izim\n",
            "\n",
            "Transcription: xa befika pha ngaphakathi ngobafikumama ehlelapho esiswini sezimo\n",
            "Reference: xa befika pha ngaphakathi ngoku bafik a umama ehlel i apha esiswini sezim\n",
            "\n",
            "Transcription: akaakakalea\n",
            "Reference: aka akafanga\n",
            "\n",
            "Transcription: depelke\n",
            "Reference: yintsomi\n",
            "\n",
            "Transcription: kanumama waginywaleli zio\n",
            "Reference: kanti umama waginywa leli zim\n",
            "\n",
            "Transcription: fikehle lapho esisindi sezimu umama wabantwani\n",
            "Reference: ba fik a ehlel i apha esiswini sezim umama wabantwana\n",
            "\n",
            "Transcription: pofininzi nto elapho kesisini sezimo\n",
            "Reference: phofu ininzi into elapha ke esiswini sezim\n",
            "\n",
            "Transcription: intonkquu lwegcini ntweznens kukho nevo kwafo neyonqeko eeopuso\n",
            "Reference: yinto enkulu egcine int o ezininzi kukho neebhokhwe neegusha\n",
            "\n",
            "Transcription: basubi babantwana kani nje babehamba nje abantwana libaginya nje banec-twepkali isotofe iboso e-nif\n",
            "Reference: basuka abantwana kanti njeng oku ba behamba nje abantwana libaginya nje banento ebukhali sort of ibhozo a knife\n",
            "\n",
            "Transcription: abathu bafika phathi khini bantwana bam kanti nakhula batshuma\n",
            "Reference: bathi bowufika pha wathi tyhini bantwana bam nakhula watsh o umama\n",
            "\n",
            "Transcription: basuka basikapha kweingalentizenabandwani\n",
            "Reference: basuka basika apha kweli zim ngale nto ize nabantwana\n",
            "\n",
            "Transcription: waphuma umama nabantwana bakhe baphuma neekusha neebhoko ezaginyalizini\n",
            "Reference: waphuma umama nabantwana bakhe baphuma neegusha neebhokhwe ezaginywa lizim\n",
            "\n",
            "Transcription: basuka babake nguba ouna yonkelanti obapume nayezimi esiswini sezimo\n",
            "Reference: basuka baba ke ngoku baowuna yonke la nto baphume nayo ezimini esiswini sezim\n",
            "\n",
            "Transcription: kazisitsha kwiintsombi zakhe bathi fogetis erant mixik\n",
            "Reference: zazisitsho ke iintsomi zakhe but forgets here and there and mixing\n",
            "\n",
            "Transcription: irerdas le bekenenegbal affe sasent\n",
            "Reference: sendazilibala kuba kaloku asisazenzi\n",
            "\n",
            "Transcription: nakuzana\n",
            "Reference: ungabuza kaloku\n",
            "\n",
            "Transcription: uphezulo bekusizekane kwpa kwamashezi\n",
            "Reference: so phezolo u ee bekusenzeka ni o pha kwamashezi\n",
            "\n",
            "Transcription: dibeni kolke yu\n",
            "Reference: benikhona\n",
            "\n",
            "Transcription: endebeyipha\n",
            "Reference: yho yho into e be ipha\n",
            "\n",
            "Transcription: wengumnyadala\n",
            "Reference: ibengumyadala\n",
            "\n",
            "Transcription: kelell\n",
            "Reference: eeh\n",
            "\n",
            "Transcription: nekutsela\n",
            "Reference: ndiyakutshela\n",
            "\n",
            "Transcription: ngoba loku m besithengisiwe ukuthiwa kuzofikaa\n",
            "Reference: ngoba kaloku ee besithenjiswe kuthwa kuzofika\n",
            "\n",
            "Transcription: akshiwanguba kuzofika mlungu\n",
            "Reference: akutshiwongo ukuba kuzofika umlungu\n",
            "\n",
            "Transcription: kuthe kuza belumu abesuka ephitoli\n",
            "Reference: kuthwe kuza abelungu abesuka epitoli\n",
            "\n",
            "Transcription: \n",
            "Reference: ee\n",
            "\n",
            "Transcription: eendakhalaza kenwa\n",
            "Reference: ndakhalaza ke mna hii\n",
            "\n",
            "Transcription: kutho ayi bafuna ukubona indlele siqoka ngayo ndlelesenza ngayizinto ncakulo lwasuku njemabekulusuku lamakuu\n",
            "Reference: kuthwa hayi bafun a ukubona indlela esigqoka ngayo ee indlela esenza ngayo izinto nxa kulola suku njeng oku ba kulusuku lwamagugube\n",
            "\n",
            "Transcription: k bebenqibile njengoba bekuluso ula maqububli\n",
            "Reference: oh ok oh b bebenxibile njengo ku ba bekulusuku lwamagugube\n",
            "\n",
            "Transcription: zinzinebi lisintu sabo\n",
            "Reference: benxibile isintu sabo hayi ke\n",
            "\n",
            "Transcription: eabi benxibile qhayinti eyasiphazamisa kukuba siyesafike lapho kulijoyindi khona\n",
            "Reference: uhm ya bebenxibile qha into eye yasiphazamisa kukuba siye safikela apho koli joyinti khona\n",
            "\n",
            "Transcription: olll\n",
            "Reference: ooh\n",
            "\n",
            "Transcription: ngoku hayi bayahla\n",
            "Reference: ngoku h ayi bayadla\n",
            "\n",
            "Transcription: ngowokwazi kumbona kengumntu nxe inguye enomali obangoku ubusolo kwebonakaledlile\n",
            "Reference: ngoku awukwazi ukumbona ingumntu nxe i nguye enormal ngoba ngoku u usoloko ebonakala edlile\n",
            "\n",
            "Transcription: siyesahlangana gephayao\n",
            "Reference: ee si siye sahlangana ke phaya\n",
            "\n",
            "Transcription: bagiya ke shama\n",
            "Reference: bagiya ke shame\n",
            "\n",
            "Transcription: ngayi bayayenza konindo chayengatibangayenza benomala\n",
            "Reference: hayi bayayenza bon a into qha ingathi bangayenza benormal\n",
            "\n",
            "Transcription: nakonayi bezibuyan\n",
            "Reference: uhm konakona hayi bezibuya\n",
            "\n",
            "Transcription: sumtlambe umnomzana uboyi\n",
            "Reference: mhla wu mbi umnumzana ubooi\n",
            "\n",
            "Transcription: aya emariki ukuya kuthenga izixha\n",
            "Reference: waya emarikeni ukuya kuthenga iziqhamo\n",
            "\n",
            "Transcription: ungene emarikani nabona i-pinapole elalilihleli\n",
            "Reference: ungene emarikeni wabona ipineapple elalilihle\n",
            "\n",
            "Transcription: ukhe walibona walijonga wagqitha\n",
            "Reference: ukhe walibona walijonga waqgitha\n",
            "\n",
            "Transcription: bakhangela ibhala\n",
            "Reference: wakhangela iibanana\n",
            "\n",
            "Transcription: ubone ukuba makabuyele kwelapayina ebelibone kuxala ukungena kwakhe athengelona\n",
            "Reference: ubone ukuba makabuyele kwela pina ebelithe ebelibone kuqala ukungena kwakhe athenge lona\n",
            "\n",
            "Transcription: wayeka ibhanana wathenga ibani\n",
            "Reference: wayiyeka ibanana wathenga ipina\n",
            "\n",
            "Transcription: wagudukake ephethe ibyina elo\n",
            "Reference: wagoduka ke ephethe ipina elo\n",
            "\n",
            "Transcription: ezinye iimfuno esizidingayo nezi zezona zibalulekileyo kwilali yethu kukuba sibenendlela sibe neeblorho\n",
            "Reference: ezinye iimfuno esizidingayo nezi zezona zibalulekileyo kwilali yethu kukuba sibenendlela sibeneeblorho\n",
            "\n",
            "Transcription: ngoba kwilali yethu kwinamilambo emikhulu\n",
            "Reference: ngo ku ba kwilali yethu kunemilambo emikhulu\n",
            "\n",
            "Transcription: ekuthi xa kunethile kugcwale amanzi kube nzima ukuphumela ngaphesheya\n",
            "Reference: ekuthi xa kunethile kugcwale amanzi kubenzima ukuphumela ngaphesheya\n",
            "\n",
            "Transcription: ingakumbi kubantwana abafundayo nakubantu abaya kuzibhedlele nakwixiniki\n",
            "Reference: ingakumbi kubantwana abafundayo nakubantu abaya kwizibhedlele nakwi kliniki\n",
            "\n",
            "Transcription: ikliniki zethu zikude\n",
            "Reference: iikliniki zethu zikude\n",
            "\n",
            "Transcription: xa sisiya ekliniki singqumla umlambo omkhulu\n",
            "Reference: xa sisiya ekliniki sinqumla umlambo omkhulu\n",
            "\n",
            "Transcription: sisebenzisa isikhephe\n",
            "Reference: sisebenzisa isikhephe\n",
            "\n",
            "Transcription: so singavuya kakhulu xa shinofumana ibloch ukuze kuhambe imoto ngendlela ekhuselekileyo\n",
            "Reference: so singavuya kakhulu xa sinofumana iblorho ukuze kuhambe iimoto ngendlela ekhuselekileyo\n",
            "\n",
            "Transcription: igama lamdingontomfikile ntunja\n",
            "Reference: igama lam ndinguntombifikile ntunja\n",
            "\n",
            "Transcription: ndifunda entabozuko efithi college\n",
            "Reference: ndifunda entabozuko fet college\n",
            "\n",
            "Transcription: ndenza unyaka wam wesithathu kwizifundo education and development\n",
            "Reference: ndenza unyaka wam wes i thathu kwizifundo education and development\n",
            "\n",
            "Transcription: xa ndisiya esikolweni ndivuka endlini ngentsimbi yesihlanu ekuseni\n",
            "Reference: xa ndisiya es i kolweni ndivuka endlini ngentsimbi yesihlanu ekuseni\n",
            "\n",
            "Transcription: ndihamba umgama omde ngenyawo ndifike kumlambo ixhorha\n",
            "Reference: ndihamba umgama omde nge nyawo ndifike kumlambo ixhorha\n",
            "\n",
            "Transcription: apho ndiye ndikhwele isikhephe ndiphumele ngaso\n",
            "Reference: apho ndiye ndikhwele is i khephe ndiphumele ngaso\n",
            "\n",
            "Transcription: emveni koko ndiphinde futhi ndihambe omnye umgama omde ngenyawo ukuya kwindlela yenqwelo\n",
            "Reference: emveni koko ndiphinde futhi ndihambe omnye umgama omde ngenyawo ukuya kwinqwe ukuya kwindlela yenqwelo\n",
            "\n",
            "Transcription: xa ndifika apho ndiye ndihayikhe iteksi ndiye esikolweni\n",
            "Reference: xa ndifika apho ndiye ndihaykhe iteksi ndiye es i kolweni\n",
            "\n",
            "Transcription: esikolweni ndiya iintsuku ezintathu ngeveki kuyaxhomekeka kekwizifundo ezo endizenzayo\n",
            "Reference: esikolweni ndiya iintsuku ezintathu ngeveki kuyaxhomekeka kwizifundo ezo ndizenzayo\n",
            "\n",
            "Transcription: isikolo asingeni iveki yonkek\n",
            "Reference: isikolo asingeni iveki yonke then you also have to come back\n",
            "\n",
            "Transcription: \n",
            "Reference: and what time are you home\n",
            "\n",
            "Transcription: ca ndibuya esikolweni ndiphuma esikolweni ngentsimbi yesithathu\n",
            "Reference: xa ndibuya esikolweni ndiphuma esikolweni ngentsimbi yesithathu\n",
            "\n",
            "Transcription: ndiphinde ndihambi umgama umde okubuyela ekhayini\n",
            "Reference: ndiphinde ndihambe umgama omde ukubuyela ekhayeni\n",
            "\n",
            "Transcription: ekhayeni lam ndifika ngentsimbi yesihlanu emalanga ndidiniwe ndilambile\n",
            "Reference: ekhayeni lam ndifika ngentsimbi yesihlanu malanga ndidiniwe ndilambile\n",
            "\n",
            "Transcription: mebi ukantel mi first wathidat si tuday h2016kwnsa noni nk ngempelaveki ndizavuka ekuseni\n",
            "Reference: ngempelaveki ndizovuka ek u seni\n",
            "\n",
            "Transcription: ndihlabe\n",
            "Reference: ndihlambe\n",
            "\n",
            "Transcription: ndihlambe abantwana bam\n",
            "Reference: ndihlambe abantwana bam\n",
            "\n",
            "Transcription: sitye isihlo saseseni\n",
            "Reference: sitye isidlo sasek u seni\n",
            "\n",
            "Transcription: si hla le pha n zle\n",
            "Reference: sihlale phandle\n",
            "\n",
            "Transcription: emveni koko ndingene egadini ndihlakule\n",
            "Reference: emveni koko ndingene egadini ndihlakule\n",
            "\n",
            "Transcription: diphumediphumle endlin\n",
            "Reference: ndiphume ndiphumle endlini\n",
            "\n",
            "Transcription: kwenzeke ingozi kumgaqwana nje omncinani\n",
            "Reference: kwenzeke ingozi kumgaqwana nje omncinane\n",
            "\n",
            "Transcription: kuvele imoto ebomvu ebe isiza ngasentla kunye nemoto eluhlaza ebe isiza ngezantsi ziye zatshayisana ke\n",
            "Reference: kuvele imoto ebomvu ebe isiza ngasentla kunye nemoto eluhlaza ebe isiza ngezantsi zatshisana ke\n",
            "\n",
            "Transcription: a\n",
            "Reference: ziye\n",
            "\n",
            "Transcription: zatsha zavutha amadangatyi\n",
            "Reference: zatsha zavutha amadangatyi\n",
            "\n",
            "Transcription: kwenzaki ele abantu abahlanokulongosa\n",
            "Reference: kwenzakele abantu abahlanu kulo ngozi\n",
            "\n",
            "Transcription: siye sakhawuleza safowunela inqwelo yezigulane ibathathile ke yabaleqisa esibhedle\n",
            "Reference: siye sakhawuleza safowunela inqwelo yezigulani ibathathile ke yabaleqisa esibhedlele\n",
            "\n",
            "Transcription: kleke pulep\n",
            "Reference: girl ufunde phi\n",
            "\n",
            "Transcription: ijr yamndi yenze aphegcinisizwe iskolesitisha lomamawupo ekhaya medee1an\n",
            "Reference: eeh ijuniya yam ndiyenze eeh apha egcinisizwe eeh is is i kolo es i tisha lo mama wa la ph a ekhaya ma'am delebana\n",
            "\n",
            "Transcription: utithap loa\n",
            "Reference: oh utitsha phi lo mama\n",
            "\n",
            "Transcription: itishegcinsizwe eps\n",
            "Reference: utish a egcinisizwe sps\n",
            "\n",
            "Transcription: aaaane\n",
            "Reference: ufundiswe ngubani wena esikolweni\n",
            "\n",
            "Transcription: umtishile noma imntolo ibiprinsiphale yasecinisizwe nezinyumise ezininzile\n",
            "Reference: naye unditishile noma'am tolo ibiyiprincipal yasegcinisizwe nezinye iimisi ezininzi ke\n",
            "\n",
            "Transcription: knai kobatiubupanakukfunda kwano\n",
            "Reference: ok hayi qhuba ndifun a ukuva nje ngokufunda kwakho\n",
            "\n",
            "Transcription: ndaphuma eegcilisiza ndayemea\n",
            "Reference: eeh ndaphuma egcinisizwe ndaya embekwa\n",
            "\n",
            "Transcription: akhone sinye sikolo nde sikufutsane khona la e kwila lektor ampisi\n",
            "Reference: kukhona esinye isikolo nje si uhm sikufutshane khona la eeh kwilali ekuthiwa kwampisi\n",
            "\n",
            "Transcription: oke icinzisebenzi enziprimary eembeke ndenzi jnr yam\n",
            "Reference: eem ok egcinisizwe bendisenz a iprimary embekwa ndenz a ijuniya yam\n",
            "\n",
            "Transcription: ndaphuma ke embheka ndaye nomagqathekani sinye nzisikolo futhi naso sii-ara bhizana ndafundi junaum\n",
            "Reference: ndaphuma ke embekwa nday a enomagqwathikani e sinye nje isikolo futhi naso siarawundi bizana ndafund a ijuniya yam\n",
            "\n",
            "Transcription: dasuka futhi ndatyofunda eyunis aphonngagqibanga khonaa\n",
            "Reference: eehmm ndasuka futhi eh ndayofunda eunisa apho ndingagqibanga khona\n",
            "\n",
            "Transcription: nianabensenzisoshalweka ndaye kaphakathi\n",
            "Reference: bendisenz a isocialwork uhm ndayeka phakathi\n",
            "\n",
            "Transcription: bifundwa kuba inisoshalo ibifunda ndimo\n",
            "Reference: ibifundwa ngubani isocialwork ubufunda ntoni\n",
            "\n",
            "Transcription: ubufuna lwene bensensoshalwee\n",
            "Reference: ibifundwa ndim bendisenza isocialwork\n",
            "\n",
            "Transcription: \n",
            "Reference: ohh\n",
            "\n",
            "Transcription: lannan\n",
            "Reference: uhm u wenzani ngoku\n",
            "\n",
            "Transcription: internship ekarhunsebenza e-environmental sa\n",
            "Reference: ngoku ndenza intern internship kwa ekarhun sebenza eenvironmental sector\n",
            "\n",
            "Transcription: \n",
            "Reference: intoni\n",
            "\n",
            "Transcription: \n",
            "Reference: internship\n",
            "\n",
            "Transcription: ineni\n",
            "Reference: yenziwa ngubani iinternship\n",
            "\n",
            "Transcription: ninwandin\n",
            "Reference: yenziwa ndim\n",
            "\n",
            "Transcription: k\n",
            "Reference: ok\n",
            "\n",
            "Transcription: gabiyithiwe na-half yerz\n",
            "Reference: yah ibiyithu and a half years\n",
            "\n",
            "Transcription: iqale ngo-2013 izophela ngngo-okthobha ulonyaka\n",
            "Reference: iqale ngo2013 izophela ngooctober kulo nyaka\n",
            "\n",
            "Transcription: onyakuzayo plana a ukuye sikoloa\n",
            "Reference: uhm kulo nyaka uzayo ndiplana ukuy a esikolweni\n",
            "\n",
            "Transcription: isazojonga amayunivesithi awwenze azohambelana lendifuna e-agriculture\n",
            "Reference: ndisazojonga amayunivesithi awenza azohambelana nale ndiyifunayo iagriculture\n",
            "\n",
            "Transcription: bendifuna kukakho iamakholethi nacmiyunivesithi\n",
            "Reference: bendifuna ukuqala i amacollege namayunivesithi eeh\n",
            "\n",
            "Transcription: \n",
            "Reference: ohh oh\n",
            "\n"
          ]
        }
      ],
      "source": [
        "def load_and_process_audio(file_path):\n",
        "    waveform, sample_rate = torchaudio.load(file_path)\n",
        "    waveform = waveform.squeeze()  # Remove channel dimension if it's mono\n",
        "    if sample_rate != 16000:\n",
        "        waveform = torchaudio.transforms.Resample(orig_freq=sample_rate, new_freq=16000)(waveform)\n",
        "    return waveform\n",
        "\n",
        "# Step 4: Iterate through directories and process each manifest file\n",
        "base_path = \"/content/xhosa/aligned\"\n",
        "all_transcriptions = []\n",
        "all_references = []\n",
        "\n",
        "for root, dirs, files in os.walk(base_path):\n",
        "    for file in files:\n",
        "        if file == \"manifest.json\":\n",
        "            manifest_path = os.path.join(root, file)\n",
        "            with open(manifest_path, 'r') as f:\n",
        "                for line in f:\n",
        "                    entry = json.loads(line.strip())\n",
        "                    audio_path = entry[\"audio_filepath\"]\n",
        "                    reference_text = entry[\"normalized_text\"]\n",
        "                    if not reference_text.strip():\n",
        "                      continue\n",
        "                    # Load and process the audio file\n",
        "                    waveform = load_and_process_audio(audio_path)\n",
        "\n",
        "                    # Process the audio input\n",
        "                    inputs = processor(waveform, sampling_rate=16000, return_tensors=\"pt\", padding=True)\n",
        "\n",
        "                    # Ensure input is 2D [batch_size, sequence_length]\n",
        "                    if inputs.input_values.dim() == 3 and inputs.input_values.size(1) == 2:\n",
        "                        inputs.input_values = inputs.input_values.mean(dim=1)  # Convert stereo to mono\n",
        "\n",
        "                    # Perform inference\n",
        "                    with torch.no_grad():\n",
        "                        logits = model(inputs.input_values).logits\n",
        "\n",
        "                    # Decode the predicted IDs to text\n",
        "                    predicted_ids = torch.argmax(logits, dim=-1)\n",
        "                    transcription = processor.batch_decode(predicted_ids)[0]\n",
        "\n",
        "                    # Collect transcriptions and references\n",
        "                    all_transcriptions.append(transcription)\n",
        "                    all_references.append(reference_text)\n",
        "\n",
        "                    # Print the result for each segment\n",
        "                    print(f\"Reference: {reference_text}\")\n",
        "                    print(f\"Prediction: {transcription}\")\n",
        "\n",
        "                    print()"
      ]
    },
    {
      "cell_type": "markdown",
      "source": [
        "# Step 5: Evaluation\n",
        "\n",
        "*   WER\n",
        "*   CER\n",
        "\n"
      ],
      "metadata": {
        "id": "sTj0Qne4kiAH"
      }
    },
    {
      "cell_type": "code",
      "source": [
        "!pip install jiwer"
      ],
      "metadata": {
        "colab": {
          "base_uri": "https://localhost:8080/"
        },
        "id": "wsY-TlCF3RBM",
        "outputId": "e2f44336-2938-461a-b2b7-4f264f48ae41"
      },
      "execution_count": 6,
      "outputs": [
        {
          "output_type": "stream",
          "name": "stdout",
          "text": [
            "Requirement already satisfied: jiwer in /usr/local/lib/python3.10/dist-packages (3.0.4)\n",
            "Requirement already satisfied: click<9.0.0,>=8.1.3 in /usr/local/lib/python3.10/dist-packages (from jiwer) (8.1.7)\n",
            "Requirement already satisfied: rapidfuzz<4,>=3 in /usr/local/lib/python3.10/dist-packages (from jiwer) (3.9.1)\n"
          ]
        }
      ]
    },
    {
      "cell_type": "code",
      "source": [
        "import jiwer\n",
        "from jiwer import wer, cer\n",
        "wer = wer(all_references, all_transcriptions)\n",
        "cer = cer(all_references, all_transcriptions)\n",
        "print(\"Word Error Rate (WER):\", wer)\n",
        "print(f\"Character Error Rate (CER): {cer}\")"
      ],
      "metadata": {
        "id": "3LH8tJ5fPok9",
        "colab": {
          "base_uri": "https://localhost:8080/"
        },
        "outputId": "3248bfb0-4492-4a94-d6c4-858d2516c861"
      },
      "execution_count": 23,
      "outputs": [
        {
          "output_type": "stream",
          "name": "stdout",
          "text": [
            "Word Error Rate (WER): 0.8152631578947368\n",
            "Character Error Rate (CER): 0.3098368087035358\n"
          ]
        }
      ]
    },
    {
      "cell_type": "code",
      "source": [
        "import difflib\n",
        "from IPython.core.display import display, HTML\n",
        "\n",
        "def highlight_differences(correct: str, user: str) -> str:\n",
        "    differ = difflib.Differ()\n",
        "    diff = list(differ.compare(correct, user))\n",
        "\n",
        "    result = []\n",
        "    for part in diff:\n",
        "        if part.startswith('  '):\n",
        "            result.append(part[2:])  # No difference\n",
        "        elif part.startswith('- '):\n",
        "            result.append(f'<span style=\"color:red;\">{part[2:]}</span>')  # Incorrect character\n",
        "        elif part.startswith('+ '):\n",
        "            result.append(f'<span style=\"color:green;\">{part[2:]}</span>')  # Additional character\n",
        "        elif part.startswith('? '):\n",
        "            pass  # Ignore these lines\n",
        "\n",
        "    return ''.join(result)\n",
        "\n",
        "for i in range(len(all_references)):\n",
        "  correct_answer = all_references[i]\n",
        "  user_answer = all_transcriptions[i]\n",
        "  highlighted = highlight_differences(correct_answer, user_answer)\n",
        "  print(\"model:\")\n",
        "  print(all_transcriptions[i])\n",
        "  display(HTML(f\"<div style='font-family:monospace;'>{highlighted}</div>\"))\n",
        "  print(\"human:\")\n",
        "  print(all_references[i])\n",
        "  print()\n"
      ],
      "metadata": {
        "id": "IAo2tzVtnM20",
        "outputId": "f3946938-bd3d-47f7-ab94-5a80defc406c",
        "colab": {
          "base_uri": "https://localhost:8080/",
          "height": 1000
        }
      },
      "execution_count": 21,
      "outputs": [
        {
          "output_type": "stream",
          "name": "stdout",
          "text": [
            "model:\n",
            "dingunosabelo futhu\n"
          ]
        },
        {
          "output_type": "display_data",
          "data": {
            "text/plain": [
              "<IPython.core.display.HTML object>"
            ],
            "text/html": [
              "<div style='font-family:monospace;'><span style=\"color:red;\">n</span>dingunosabelo fut<span style=\"color:green;\">h</span>u</div>"
            ]
          },
          "metadata": {}
        },
        {
          "output_type": "stream",
          "name": "stdout",
          "text": [
            "human:\n",
            "ndingunosabelo futu\n",
            "\n",
            "model:\n",
            "umnyeni wam ngubhakhoni futhu\n"
          ]
        },
        {
          "output_type": "display_data",
          "data": {
            "text/plain": [
              "<IPython.core.display.HTML object>"
            ],
            "text/html": [
              "<div style='font-family:monospace;'>um<span style=\"color:green;\">n</span>yeni wam ngubhakhoni fut<span style=\"color:green;\">h</span>u</div>"
            ]
          },
          "metadata": {}
        },
        {
          "output_type": "stream",
          "name": "stdout",
          "text": [
            "human:\n",
            "umyeni wam ngubhakhoni futu\n",
            "\n",
            "model:\n",
            "uphangela erustenburg e-min yase impala e-14cf\n"
          ]
        },
        {
          "output_type": "display_data",
          "data": {
            "text/plain": [
              "<IPython.core.display.HTML object>"
            ],
            "text/html": [
              "<div style='font-family:monospace;'>uphangela erustenburg e<span style=\"color:green;\">-</span>m<span style=\"color:red;\">a</span><span style=\"color:red;\">y</span>in<span style=\"color:red;\">i</span> yase<span style=\"color:green;\"> </span>impala e<span style=\"color:green;\">-</span>14<span style=\"color:red;\"> </span>c<span style=\"color:green;\">f</span><span style=\"color:red;\">h</span><span style=\"color:red;\">a</span><span style=\"color:red;\">r</span><span style=\"color:red;\">l</span><span style=\"color:red;\">e</span><span style=\"color:red;\">s</span></div>"
            ]
          },
          "metadata": {}
        },
        {
          "output_type": "stream",
          "name": "stdout",
          "text": [
            "human:\n",
            "uphangela erustenburg emayini yaseimpala e14 charles\n",
            "\n",
            "model:\n",
            "kukude kakhulu ukusuka apha exhorha\n"
          ]
        },
        {
          "output_type": "display_data",
          "data": {
            "text/plain": [
              "<IPython.core.display.HTML object>"
            ],
            "text/html": [
              "<div style='font-family:monospace;'>kukude kakhulu ukusuka apha exhorha</div>"
            ]
          },
          "metadata": {}
        },
        {
          "output_type": "stream",
          "name": "stdout",
          "text": [
            "human:\n",
            "kukude kakhulu ukusuka apha exhorha\n",
            "\n",
            "model:\n",
            "ubuya kathathu ngonyaka\n"
          ]
        },
        {
          "output_type": "display_data",
          "data": {
            "text/plain": [
              "<IPython.core.display.HTML object>"
            ],
            "text/html": [
              "<div style='font-family:monospace;'>ubuya kathathu ngonyaka</div>"
            ]
          },
          "metadata": {}
        },
        {
          "output_type": "stream",
          "name": "stdout",
          "text": [
            "human:\n",
            "ubuya kathathu ngonyaka\n",
            "\n",
            "model:\n",
            "ubuya ngepasika abuye ngojuni aphinde abuye ngodisemba qha\n"
          ]
        },
        {
          "output_type": "display_data",
          "data": {
            "text/plain": [
              "<IPython.core.display.HTML object>"
            ],
            "text/html": [
              "<div style='font-family:monospace;'>ubuya ngepasika abuye ngojuni aphinde abuye ngodisemba qha</div>"
            ]
          },
          "metadata": {}
        },
        {
          "output_type": "stream",
          "name": "stdout",
          "text": [
            "human:\n",
            "ubuya ngepasika abuye ngojuni aphinde abuye ngodisemba qha\n",
            "\n",
            "model:\n",
            "kunqabile ukudibana naye\n"
          ]
        },
        {
          "output_type": "display_data",
          "data": {
            "text/plain": [
              "<IPython.core.display.HTML object>"
            ],
            "text/html": [
              "<div style='font-family:monospace;'>kunqabile ukudibana naye</div>"
            ]
          },
          "metadata": {}
        },
        {
          "output_type": "stream",
          "name": "stdout",
          "text": [
            "human:\n",
            "kunqabile ukudibana naye\n",
            "\n",
            "model:\n",
            "abeenaboti utii\n"
          ]
        },
        {
          "output_type": "display_data",
          "data": {
            "text/plain": [
              "<IPython.core.display.HTML object>"
            ],
            "text/html": [
              "<div style='font-family:monospace;'><span style=\"color:red;\">y</span><span style=\"color:red;\">h</span><span style=\"color:green;\">a</span><span style=\"color:green;\">b</span><span style=\"color:green;\">e</span>ena<span style=\"color:red;\"> </span>b<span style=\"color:green;\">o</span><span style=\"color:red;\">h</span><span style=\"color:red;\">u</span>ti ut<span style=\"color:red;\">h</span>i<span style=\"color:red;\">n</span>i</div>"
            ]
          },
          "metadata": {}
        },
        {
          "output_type": "stream",
          "name": "stdout",
          "text": [
            "human:\n",
            "yhena bhuti uthini\n",
            "\n",
            "model:\n",
            "dkukandona akakadolunza\n"
          ]
        },
        {
          "output_type": "display_data",
          "data": {
            "text/plain": [
              "<IPython.core.display.HTML object>"
            ],
            "text/html": [
              "<div style='font-family:monospace;'><span style=\"color:green;\">d</span><span style=\"color:red;\">u</span><span style=\"color:red;\">t</span><span style=\"color:red;\">h</span><span style=\"color:red;\">i</span><span style=\"color:red;\"> </span>ku<span style=\"color:red;\">q</span><span style=\"color:red;\">h</span><span style=\"color:red;\">u</span><span style=\"color:red;\">b</span><span style=\"color:red;\">e</span>ka<span style=\"color:red;\"> </span>n<span style=\"color:red;\">t</span><span style=\"color:green;\">d</span>o<span style=\"color:red;\">n</span><span style=\"color:red;\">i</span><span style=\"color:red;\"> </span>na <span style=\"color:green;\">a</span>k<span style=\"color:red;\">w</span><span style=\"color:green;\">a</span><span style=\"color:green;\">k</span>ad<span style=\"color:red;\">a</span><span style=\"color:green;\">o</span>lu<span style=\"color:red;\">m</span><span style=\"color:green;\">n</span>z<span style=\"color:red;\">i</span><span style=\"color:green;\">a</span></div>"
            ]
          },
          "metadata": {}
        },
        {
          "output_type": "stream",
          "name": "stdout",
          "text": [
            "human:\n",
            "uthi kuqhubeka ntoni na kwadalumzi\n",
            "\n",
            "model:\n",
            "d\n"
          ]
        },
        {
          "output_type": "display_data",
          "data": {
            "text/plain": [
              "<IPython.core.display.HTML object>"
            ],
            "text/html": [
              "<div style='font-family:monospace;'><span style=\"color:green;\">d</span><span style=\"color:red;\">u</span><span style=\"color:red;\">t</span><span style=\"color:red;\">h</span><span style=\"color:red;\">i</span><span style=\"color:red;\">n</span><span style=\"color:red;\">i</span></div>"
            ]
          },
          "metadata": {}
        },
        {
          "output_type": "stream",
          "name": "stdout",
          "text": [
            "human:\n",
            "uthini\n",
            "\n",
            "model:\n",
            "alokudalonzi nanononyana ukuqale emfaza nkwala\n"
          ]
        },
        {
          "output_type": "display_data",
          "data": {
            "text/plain": [
              "<IPython.core.display.HTML object>"
            ],
            "text/html": [
              "<div style='font-family:monospace;'><span style=\"color:red;\">k</span>aloku<span style=\"color:red;\"> </span><span style=\"color:red;\">u</span>dal<span style=\"color:red;\">u</span><span style=\"color:red;\">m</span><span style=\"color:green;\">o</span><span style=\"color:green;\">n</span>zi <span style=\"color:red;\">u</span><span style=\"color:green;\">n</span><span style=\"color:green;\">a</span><span style=\"color:green;\">n</span><span style=\"color:green;\">o</span>nonyana u<span style=\"color:green;\">k</span><span style=\"color:green;\">u</span><span style=\"color:red;\">n</span><span style=\"color:red;\">o</span><span style=\"color:red;\">n</span><span style=\"color:red;\">y</span><span style=\"color:red;\">a</span><span style=\"color:red;\">n</span><span style=\"color:red;\">a</span><span style=\"color:red;\"> </span><span style=\"color:red;\">w</span><span style=\"color:red;\">o</span>qal<span style=\"color:red;\">a</span><span style=\"color:green;\">e</span> emfaz<span style=\"color:red;\">i</span><span style=\"color:green;\">a</span><span style=\"color:green;\"> </span>n<span style=\"color:green;\">k</span><span style=\"color:red;\">i</span><span style=\"color:red;\"> </span>wa<span style=\"color:green;\">l</span><span style=\"color:green;\">a</span><span style=\"color:red;\">k</span><span style=\"color:red;\">h</span><span style=\"color:red;\">e</span></div>"
            ]
          },
          "metadata": {}
        },
        {
          "output_type": "stream",
          "name": "stdout",
          "text": [
            "human:\n",
            "kaloku udalumzi unonyana unonyana woqala emfazini wakhe\n",
            "\n",
            "model:\n",
            "dl\n"
          ]
        },
        {
          "output_type": "display_data",
          "data": {
            "text/plain": [
              "<IPython.core.display.HTML object>"
            ],
            "text/html": [
              "<div style='font-family:monospace;'><span style=\"color:red;\">o</span><span style=\"color:red;\">h</span><span style=\"color:red;\"> </span><span style=\"color:red;\">m</span><span style=\"color:red;\">a</span>d<span style=\"color:green;\">l</span><span style=\"color:red;\">o</span><span style=\"color:red;\">d</span><span style=\"color:red;\">a</span></div>"
            ]
          },
          "metadata": {}
        },
        {
          "output_type": "stream",
          "name": "stdout",
          "text": [
            "human:\n",
            "oh madoda\n",
            "\n",
            "model:\n",
            "abebunyalalelonyala\n"
          ]
        },
        {
          "output_type": "display_data",
          "data": {
            "text/plain": [
              "<IPython.core.display.HTML object>"
            ],
            "text/html": [
              "<div style='font-family:monospace;'>a<span style=\"color:green;\">b</span><span style=\"color:red;\">n</span><span style=\"color:red;\">d</span><span style=\"color:red;\"> </span><span style=\"color:red;\">k</span>e<span style=\"color:red;\"> </span><span style=\"color:red;\">n</span><span style=\"color:red;\">g</span><span style=\"color:red;\">o</span><span style=\"color:red;\">k</span><span style=\"color:red;\">u</span><span style=\"color:red;\"> </span><span style=\"color:red;\">u</span><span style=\"color:red;\">g</span><span style=\"color:red;\">q</span><span style=\"color:red;\">i</span>b<span style=\"color:red;\"> </span><span style=\"color:red;\">a</span><span style=\"color:red;\"> </span>unya<span style=\"color:red;\">k</span><span style=\"color:green;\">l</span>a<span style=\"color:green;\">l</span><span style=\"color:red;\"> </span><span style=\"color:red;\">k</span>e<span style=\"color:red;\"> </span>lo<span style=\"color:red;\"> </span>nya<span style=\"color:red;\">n</span><span style=\"color:green;\">l</span>a</div>"
            ]
          },
          "metadata": {}
        },
        {
          "output_type": "stream",
          "name": "stdout",
          "text": [
            "human:\n",
            "and ke ngoku ugqib a unyaka ke lo nyana\n",
            "\n",
            "model:\n",
            "\n"
          ]
        },
        {
          "output_type": "display_data",
          "data": {
            "text/plain": [
              "<IPython.core.display.HTML object>"
            ],
            "text/html": [
              "<div style='font-family:monospace;'><span style=\"color:red;\">o</span><span style=\"color:red;\">h</span><span style=\"color:red;\"> </span><span style=\"color:red;\">b</span><span style=\"color:red;\">e</span><span style=\"color:red;\">t</span><span style=\"color:red;\">h</span><span style=\"color:red;\">u</span><span style=\"color:red;\">n</span><span style=\"color:red;\">a</span><span style=\"color:red;\">n</span><span style=\"color:red;\">a</span></div>"
            ]
          },
          "metadata": {}
        },
        {
          "output_type": "stream",
          "name": "stdout",
          "text": [
            "human:\n",
            "oh bethunana\n",
            "\n",
            "model:\n",
            "aai abazizai ngwemhlabe ibalwakhona kananto abacite igaza\n"
          ]
        },
        {
          "output_type": "display_data",
          "data": {
            "text/plain": [
              "<IPython.core.display.HTML object>"
            ],
            "text/html": [
              "<div style='font-family:monospace;'><span style=\"color:red;\">s</span><span style=\"color:green;\">a</span><span style=\"color:green;\">a</span>i<span style=\"color:red;\">y</span><span style=\"color:green;\"> </span>a<span style=\"color:red;\">m</span><span style=\"color:green;\">b</span>azi<span style=\"color:red;\">s</span><span style=\"color:green;\">z</span>a<span style=\"color:green;\">i</span><span style=\"color:red;\"> </span><span style=\"color:red;\">k</span><span style=\"color:red;\">e</span> ng<span style=\"color:green;\">w</span><span style=\"color:red;\">o</span><span style=\"color:red;\">k</span><span style=\"color:red;\">u</span><span style=\"color:red;\"> </span>emhlabe<span style=\"color:red;\">n</span><span style=\"color:green;\"> </span>i<span style=\"color:red;\"> </span><span style=\"color:red;\">u</span>ba<span style=\"color:green;\">l</span><span style=\"color:green;\">w</span><span style=\"color:green;\">a</span><span style=\"color:red;\"> </span><span style=\"color:red;\">n</span><span style=\"color:red;\">g</span><span style=\"color:red;\">o</span><span style=\"color:red;\">k</span><span style=\"color:red;\">u</span><span style=\"color:red;\"> </span><span style=\"color:red;\">u</span>khona kan<span style=\"color:red;\">g</span>a<span style=\"color:red;\">n</span><span style=\"color:red;\">g</span><span style=\"color:red;\">e</span>nto <span style=\"color:green;\">a</span>bac<span style=\"color:red;\">h</span>it<span style=\"color:red;\">h</span>e igaz<span style=\"color:red;\">i</span><span style=\"color:green;\">a</span></div>"
            ]
          },
          "metadata": {}
        },
        {
          "output_type": "stream",
          "name": "stdout",
          "text": [
            "human:\n",
            "siyamazisa ke ngoku emhlabeni uba ngoku ukhona kangangento bachithe igazi\n",
            "\n",
            "model:\n",
            "auzoukhone ipuqukushayo esilantsekeni echeli we\n"
          ]
        },
        {
          "output_type": "display_data",
          "data": {
            "text/plain": [
              "<IPython.core.display.HTML object>"
            ],
            "text/html": [
              "<div style='font-family:monospace;'><span style=\"color:red;\">k</span><span style=\"color:green;\">a</span><span style=\"color:green;\">u</span><span style=\"color:green;\">z</span><span style=\"color:green;\">o</span>ukhon<span style=\"color:green;\">e</span><span style=\"color:red;\"> </span><span style=\"color:red;\">a</span> i<span style=\"color:red;\">i</span><span style=\"color:red;\">g</span><span style=\"color:green;\">p</span><span style=\"color:green;\">u</span><span style=\"color:green;\">q</span><span style=\"color:green;\">u</span><span style=\"color:green;\">k</span>usha<span style=\"color:green;\">y</span><span style=\"color:green;\">o</span> e<span style=\"color:red;\">z</span><span style=\"color:green;\">s</span>i<span style=\"color:red;\">n</span><span style=\"color:green;\">l</span>ants<span style=\"color:red;\">i</span><span style=\"color:green;\">e</span>keni e<span style=\"color:red;\">x</span><span style=\"color:green;\">c</span>heli<span style=\"color:green;\"> </span>we<span style=\"color:red;\">y</span><span style=\"color:red;\">o</span><span style=\"color:red;\"> </span><span style=\"color:red;\">p</span><span style=\"color:red;\">h</span><span style=\"color:red;\">a</span><span style=\"color:red;\">y</span><span style=\"color:red;\">a</span></div>"
            ]
          },
          "metadata": {}
        },
        {
          "output_type": "stream",
          "name": "stdout",
          "text": [
            "human:\n",
            "kukhon a iigusha ezinantsikeni exheliweyo phaya\n",
            "\n",
            "model:\n",
            "khaloku incomasiyazifone nondonakalolusoz\n"
          ]
        },
        {
          "output_type": "display_data",
          "data": {
            "text/plain": [
              "<IPython.core.display.HTML object>"
            ],
            "text/html": [
              "<div style='font-family:monospace;'><span style=\"color:red;\">o</span><span style=\"color:red;\"> </span><span style=\"color:red;\">e</span><span style=\"color:red;\"> </span>k<span style=\"color:green;\">h</span>aloku i<span style=\"color:red;\">i</span>nc<span style=\"color:red;\">u</span><span style=\"color:green;\">o</span>ma<span style=\"color:red;\"> </span>siyazif<span style=\"color:red;\">u</span><span style=\"color:green;\">o</span>n<span style=\"color:green;\">e</span><span style=\"color:red;\">a</span><span style=\"color:red;\"> </span><span style=\"color:red;\">m</span><span style=\"color:red;\">a</span><span style=\"color:red;\">d</span><span style=\"color:red;\">o</span><span style=\"color:red;\">d</span><span style=\"color:red;\">a</span> no<span style=\"color:red;\">b</span><span style=\"color:green;\">n</span><span style=\"color:green;\">d</span><span style=\"color:green;\">o</span><span style=\"color:green;\">n</span>a<span style=\"color:red;\"> </span><span style=\"color:green;\">k</span><span style=\"color:green;\">a</span>l<span style=\"color:red;\">u</span><span style=\"color:green;\">o</span>lus<span style=\"color:green;\">o</span><span style=\"color:red;\">u</span><span style=\"color:red;\"> </span><span style=\"color:red;\">i</span>z<span style=\"color:red;\">o</span><span style=\"color:red;\">j</span><span style=\"color:red;\">o</span></div>"
            ]
          },
          "metadata": {}
        },
        {
          "output_type": "stream",
          "name": "stdout",
          "text": [
            "human:\n",
            "o e kaloku iincuma siyazifuna madoda noba lulusu izojo\n",
            "\n",
            "model:\n",
            "ififukubazeza mato watunandikukusebu mkyakwatawole namafonezelam\n"
          ]
        },
        {
          "output_type": "display_data",
          "data": {
            "text/plain": [
              "<IPython.core.display.HTML object>"
            ],
            "text/html": [
              "<div style='font-family:monospace;'><span style=\"color:red;\">e</span><span style=\"color:red;\"> </span>i<span style=\"color:red;\">z</span><span style=\"color:green;\">f</span>ifu<span style=\"color:green;\">k</span><span style=\"color:green;\">u</span>ba<span style=\"color:red;\"> </span>zeza<span style=\"color:green;\"> </span>ma<span style=\"color:green;\">t</span><span style=\"color:green;\">o</span><span style=\"color:green;\"> </span><span style=\"color:green;\">w</span><span style=\"color:green;\">a</span><span style=\"color:green;\">t</span><span style=\"color:green;\">u</span><span style=\"color:green;\">n</span><span style=\"color:green;\">a</span><span style=\"color:green;\">n</span>d<span style=\"color:green;\">i</span><span style=\"color:red;\">o</span><span style=\"color:red;\">d</span><span style=\"color:red;\">a</span><span style=\"color:red;\"> </span><span style=\"color:red;\">k</span><span style=\"color:red;\">a</span><span style=\"color:red;\">l</span><span style=\"color:red;\">o</span>ku<span style=\"color:red;\"> </span><span style=\"color:green;\">k</span>use<span style=\"color:green;\">b</span><span style=\"color:green;\">u</span><span style=\"color:green;\"> </span>m<span style=\"color:green;\">k</span><span style=\"color:green;\">y</span><span style=\"color:red;\">t</span><span style=\"color:red;\">s</span><span style=\"color:red;\">h</span>a<span style=\"color:red;\"> </span>k<span style=\"color:red;\">o</span><span style=\"color:red;\">d</span>wa<span style=\"color:green;\">t</span><span style=\"color:red;\"> </span><span style=\"color:red;\">w</span><span style=\"color:red;\">e</span><span style=\"color:red;\">n</span><span style=\"color:red;\">a</span><span style=\"color:red;\"> </span>aw<span style=\"color:red;\">u</span><span style=\"color:red;\">f</span><span style=\"color:red;\">a</span><span style=\"color:red;\">n</span><span style=\"color:red;\">e</span><span style=\"color:red;\">l</span><span style=\"color:red;\">e</span><span style=\"color:red;\">k</span><span style=\"color:red;\">a</span><span style=\"color:red;\">n</span><span style=\"color:red;\">g</span><span style=\"color:red;\">a</span><span style=\"color:red;\"> </span><span style=\"color:red;\">u</span><span style=\"color:red;\">b</span><span style=\"color:red;\">e</span><span style=\"color:red;\"> </span><span style=\"color:red;\">u</span><span style=\"color:red;\">s</span><span style=\"color:red;\">a</span><span style=\"color:red;\">z</span><span style=\"color:red;\">i</span><span style=\"color:red;\">j</span>o<span style=\"color:red;\">n</span><span style=\"color:red;\">g</span><span style=\"color:red;\">i</span>le <span style=\"color:green;\">n</span><span style=\"color:green;\">a</span><span style=\"color:green;\">m</span><span style=\"color:green;\">a</span><span style=\"color:green;\">f</span><span style=\"color:green;\">o</span><span style=\"color:green;\">n</span>ez<span style=\"color:green;\">e</span><span style=\"color:green;\">l</span><span style=\"color:green;\">a</span><span style=\"color:green;\">m</span><span style=\"color:red;\">o</span><span style=\"color:red;\"> </span><span style=\"color:red;\">n</span><span style=\"color:red;\">t</span><span style=\"color:red;\">o</span></div>"
            ]
          },
          "metadata": {}
        },
        {
          "output_type": "stream",
          "name": "stdout",
          "text": [
            "human:\n",
            "e izifuba zezamadoda kaloku usemtsha kodwa wena awufanelekanga ube usazijongile ezo nto\n",
            "\n",
            "model:\n",
            "akenxlamuithino zenkona sezindalo\n"
          ]
        },
        {
          "output_type": "display_data",
          "data": {
            "text/plain": [
              "<IPython.core.display.HTML object>"
            ],
            "text/html": [
              "<div style='font-family:monospace;'><span style=\"color:red;\">h</span>a<span style=\"color:red;\">y</span><span style=\"color:red;\">i</span><span style=\"color:red;\"> </span>ke<span style=\"color:red;\"> </span>n<span style=\"color:red;\">d</span><span style=\"color:red;\">i</span>x<span style=\"color:red;\">h</span><span style=\"color:green;\">l</span>am<span style=\"color:green;\">u</span>i<span style=\"color:red;\">l</span><span style=\"color:red;\">e</span><span style=\"color:green;\">t</span><span style=\"color:green;\">h</span><span style=\"color:green;\">i</span><span style=\"color:green;\">n</span><span style=\"color:green;\">o</span> z<span style=\"color:green;\">e</span><span style=\"color:red;\">i</span><span style=\"color:red;\">z</span><span style=\"color:red;\">i</span>n<span style=\"color:red;\">t</span><span style=\"color:green;\">k</span>o<span style=\"color:green;\">n</span><span style=\"color:green;\">a</span> <span style=\"color:green;\">s</span>ezindal<span style=\"color:red;\">a</span><span style=\"color:green;\">o</span></div>"
            ]
          },
          "metadata": {}
        },
        {
          "output_type": "stream",
          "name": "stdout",
          "text": [
            "human:\n",
            "hayi ke ndixhamile zizinto ezindala\n",
            "\n",
            "model:\n",
            "dl\n"
          ]
        },
        {
          "output_type": "display_data",
          "data": {
            "text/plain": [
              "<IPython.core.display.HTML object>"
            ],
            "text/html": [
              "<div style='font-family:monospace;'><span style=\"color:green;\">d</span><span style=\"color:green;\">l</span><span style=\"color:red;\">i</span><span style=\"color:red;\">t</span><span style=\"color:red;\">h</span><span style=\"color:red;\">i</span><span style=\"color:red;\">n</span><span style=\"color:red;\">i</span></div>"
            ]
          },
          "metadata": {}
        },
        {
          "output_type": "stream",
          "name": "stdout",
          "text": [
            "human:\n",
            "ithini\n",
            "\n",
            "model:\n",
            "ngokuke noko izoqalisapho ememfindi kwemnose\n"
          ]
        },
        {
          "output_type": "display_data",
          "data": {
            "text/plain": [
              "<IPython.core.display.HTML object>"
            ],
            "text/html": [
              "<div style='font-family:monospace;'><span style=\"color:red;\">e</span><span style=\"color:red;\">h</span><span style=\"color:red;\"> </span>ngoku<span style=\"color:red;\"> </span>ke noko izoqalisa<span style=\"color:red;\"> </span><span style=\"color:red;\">a</span>ph<span style=\"color:green;\">o</span><span style=\"color:red;\"> </span><span style=\"color:red;\">a</span> em<span style=\"color:red;\">v</span>e<span style=\"color:green;\">m</span><span style=\"color:green;\">f</span><span style=\"color:green;\">i</span>n<span style=\"color:green;\">d</span>i kwem<span style=\"color:red;\">i</span>n<span style=\"color:green;\">o</span><span style=\"color:red;\"> </span><span style=\"color:red;\">i</span><span style=\"color:red;\"> </span><span style=\"color:red;\">u</span><span style=\"color:red;\">m</span>se<span style=\"color:red;\">b</span><span style=\"color:red;\">e</span><span style=\"color:red;\">n</span><span style=\"color:red;\">z</span><span style=\"color:red;\">i</span></div>"
            ]
          },
          "metadata": {}
        },
        {
          "output_type": "stream",
          "name": "stdout",
          "text": [
            "human:\n",
            "eh ngoku ke noko izoqalisa aph a emveni kwemin i umsebenzi\n",
            "\n",
            "model:\n",
            "aekalokumasiye ofundi\n"
          ]
        },
        {
          "output_type": "display_data",
          "data": {
            "text/plain": [
              "<IPython.core.display.HTML object>"
            ],
            "text/html": [
              "<div style='font-family:monospace;'><span style=\"color:red;\">o</span><span style=\"color:red;\">k</span><span style=\"color:red;\"> </span><span style=\"color:red;\">h</span>a<span style=\"color:green;\">e</span><span style=\"color:red;\">y</span><span style=\"color:red;\">i</span><span style=\"color:red;\"> </span>kaloku<span style=\"color:red;\"> </span>masiye <span style=\"color:green;\">o</span><span style=\"color:red;\">p</span><span style=\"color:red;\">h</span><span style=\"color:red;\">a</span><span style=\"color:red;\"> </span><span style=\"color:red;\">m</span>f<span style=\"color:red;\">o</span><span style=\"color:green;\">u</span>ndi<span style=\"color:red;\">n</span><span style=\"color:red;\">i</span></div>"
            ]
          },
          "metadata": {}
        },
        {
          "output_type": "stream",
          "name": "stdout",
          "text": [
            "human:\n",
            "ok hayi kaloku masiye pha mfondini\n",
            "\n",
            "model:\n",
            "dinobanze natisipfumesimunda\n"
          ]
        },
        {
          "output_type": "display_data",
          "data": {
            "text/plain": [
              "<IPython.core.display.HTML object>"
            ],
            "text/html": [
              "<div style='font-family:monospace;'><span style=\"color:green;\">d</span><span style=\"color:green;\">i</span>noba<span style=\"color:red;\"> </span>n<span style=\"color:red;\">j</span><span style=\"color:green;\">z</span>e nat<span style=\"color:red;\">h</span>i<span style=\"color:red;\"> </span>sip<span style=\"color:red;\">h</span><span style=\"color:green;\">f</span>ume<span style=\"color:red;\"> </span>simun<span style=\"color:red;\">c</span><span style=\"color:green;\">d</span>a</div>"
            ]
          },
          "metadata": {}
        },
        {
          "output_type": "stream",
          "name": "stdout",
          "text": [
            "human:\n",
            "noba nje nathi siphume simunca\n",
            "\n",
            "model:\n",
            "\n"
          ]
        },
        {
          "output_type": "display_data",
          "data": {
            "text/plain": [
              "<IPython.core.display.HTML object>"
            ],
            "text/html": [
              "<div style='font-family:monospace;'><span style=\"color:red;\">h</span><span style=\"color:red;\">m</span><span style=\"color:red;\">m</span></div>"
            ]
          },
          "metadata": {}
        },
        {
          "output_type": "stream",
          "name": "stdout",
          "text": [
            "human:\n",
            "hmm\n",
            "\n",
            "model:\n",
            "aihamaledzakabini kathatu\n"
          ]
        },
        {
          "output_type": "display_data",
          "data": {
            "text/plain": [
              "<IPython.core.display.HTML object>"
            ],
            "text/html": [
              "<div style='font-family:monospace;'><span style=\"color:red;\">s</span><span style=\"color:green;\">a</span>i<span style=\"color:red;\">x</span>ham<span style=\"color:green;\">a</span>le<span style=\"color:green;\">d</span><span style=\"color:green;\">z</span><span style=\"color:green;\">a</span><span style=\"color:red;\"> </span><span style=\"color:red;\">n</span><span style=\"color:red;\">j</span><span style=\"color:red;\">e</span><span style=\"color:red;\"> </span>kabini kathat<span style=\"color:red;\">h</span>u</div>"
            ]
          },
          "metadata": {}
        },
        {
          "output_type": "stream",
          "name": "stdout",
          "text": [
            "human:\n",
            "sixhamle nje kabini kathathu\n",
            "\n",
            "model:\n",
            "imnandi ngarwanlee\n"
          ]
        },
        {
          "output_type": "display_data",
          "data": {
            "text/plain": [
              "<IPython.core.display.HTML object>"
            ],
            "text/html": [
              "<div style='font-family:monospace;'><span style=\"color:red;\">h</span><span style=\"color:red;\">m</span><span style=\"color:red;\">m</span><span style=\"color:red;\"> </span><span style=\"color:red;\">h</span><span style=\"color:red;\">a</span><span style=\"color:red;\">y</span><span style=\"color:red;\">i</span><span style=\"color:red;\"> </span>imnandi nga<span style=\"color:red;\">l</span><span style=\"color:red;\">o</span><span style=\"color:red;\"> </span><span style=\"color:green;\">r</span><span style=\"color:green;\">w</span><span style=\"color:green;\">a</span>n<span style=\"color:red;\">d</span>le<span style=\"color:red;\">l</span><span style=\"color:red;\">a</span><span style=\"color:red;\"> </span>e</div>"
            ]
          },
          "metadata": {}
        },
        {
          "output_type": "stream",
          "name": "stdout",
          "text": [
            "human:\n",
            "hmm hayi imnandi ngalo ndlela e\n",
            "\n",
            "model:\n",
            "hakesilaka silichunatekes\n"
          ]
        },
        {
          "output_type": "display_data",
          "data": {
            "text/plain": [
              "<IPython.core.display.HTML object>"
            ],
            "text/html": [
              "<div style='font-family:monospace;'>ha<span style=\"color:red;\">y</span><span style=\"color:red;\">i</span><span style=\"color:red;\"> </span>ke<span style=\"color:green;\">s</span><span style=\"color:green;\">i</span><span style=\"color:green;\">l</span><span style=\"color:green;\">a</span><span style=\"color:green;\">k</span><span style=\"color:green;\">a</span> si<span style=\"color:green;\">l</span><span style=\"color:red;\">z</span><span style=\"color:red;\">a</span><span style=\"color:red;\">w</span><span style=\"color:red;\">u</span><span style=\"color:red;\">k</span><span style=\"color:red;\">h</span><span style=\"color:red;\">e</span><span style=\"color:red;\"> </span><span style=\"color:red;\">s</span>i<span style=\"color:red;\">t</span><span style=\"color:red;\">h</span><span style=\"color:red;\">i</span><span style=\"color:red;\"> </span>chu<span style=\"color:red;\"> </span>nat<span style=\"color:red;\">h</span><span style=\"color:red;\">i</span><span style=\"color:red;\"> </span><span style=\"color:green;\">e</span><span style=\"color:green;\">k</span><span style=\"color:green;\">e</span>s<span style=\"color:red;\">i</span><span style=\"color:red;\">j</span><span style=\"color:red;\">o</span><span style=\"color:red;\">n</span><span style=\"color:red;\">g</span><span style=\"color:red;\">e</span></div>"
            ]
          },
          "metadata": {}
        },
        {
          "output_type": "stream",
          "name": "stdout",
          "text": [
            "human:\n",
            "hayi ke sizawukhe sithi chu nathi sijonge\n",
            "\n",
            "model:\n",
            "elatilanga ngasotse calelo kai nesiqii\n"
          ]
        },
        {
          "output_type": "display_data",
          "data": {
            "text/plain": [
              "<IPython.core.display.HTML object>"
            ],
            "text/html": [
              "<div style='font-family:monospace;'><span style=\"color:green;\">e</span><span style=\"color:green;\">l</span><span style=\"color:red;\">i</span><span style=\"color:red;\">n</span><span style=\"color:red;\">g</span>at<span style=\"color:red;\">h</span><span style=\"color:red;\"> </span><span style=\"color:red;\">i</span><span style=\"color:red;\"> </span>ilanga <span style=\"color:green;\">n</span><span style=\"color:green;\">g</span><span style=\"color:green;\">a</span><span style=\"color:green;\">s</span><span style=\"color:green;\">o</span><span style=\"color:green;\">t</span>se<span style=\"color:green;\"> </span><span style=\"color:red;\">l</span><span style=\"color:red;\">i</span><span style=\"color:red;\">s</span><span style=\"color:red;\">e</span>cale<span style=\"color:red;\">n</span><span style=\"color:green;\">l</span><span style=\"color:green;\">o</span><span style=\"color:green;\"> </span><span style=\"color:green;\">k</span><span style=\"color:green;\">a</span>i n<span style=\"color:green;\">e</span><span style=\"color:red;\">g</span><span style=\"color:red;\">o</span><span style=\"color:red;\">b</span><span style=\"color:red;\">a</span><span style=\"color:red;\"> </span>si<span style=\"color:green;\">q</span><span style=\"color:red;\">k</span><span style=\"color:red;\">h</span><span style=\"color:red;\">e</span><span style=\"color:red;\"> </span><span style=\"color:red;\">s</span>i<span style=\"color:green;\">i</span><span style=\"color:red;\">y</span><span style=\"color:red;\">o</span><span style=\"color:red;\">x</span><span style=\"color:red;\">h</span><span style=\"color:red;\">a</span><span style=\"color:red;\">m</span><span style=\"color:red;\">l</span><span style=\"color:red;\">a</span></div>"
            ]
          },
          "metadata": {}
        },
        {
          "output_type": "stream",
          "name": "stdout",
          "text": [
            "human:\n",
            "ingath i ilanga selisecaleni ngoba sikhe siyoxhamla\n",
            "\n",
            "model:\n",
            "dadellle\n"
          ]
        },
        {
          "output_type": "display_data",
          "data": {
            "text/plain": [
              "<IPython.core.display.HTML object>"
            ],
            "text/html": [
              "<div style='font-family:monospace;'><span style=\"color:red;\">k</span><span style=\"color:red;\">u</span><span style=\"color:red;\">s</span><span style=\"color:green;\">d</span><span style=\"color:green;\">a</span><span style=\"color:green;\">d</span>e<span style=\"color:red;\">m</span><span style=\"color:red;\">a</span>l<span style=\"color:green;\">l</span><span style=\"color:green;\">l</span><span style=\"color:green;\">e</span><span style=\"color:red;\">a</span><span style=\"color:red;\">n</span><span style=\"color:red;\">g</span><span style=\"color:red;\">a</span><span style=\"color:red;\"> </span><span style=\"color:red;\">k</span><span style=\"color:red;\">a</span><span style=\"color:red;\">m</span><span style=\"color:red;\">n</span><span style=\"color:red;\">a</span><span style=\"color:red;\">n</span><span style=\"color:red;\">d</span><span style=\"color:red;\">i</span></div>"
            ]
          },
          "metadata": {}
        },
        {
          "output_type": "stream",
          "name": "stdout",
          "text": [
            "human:\n",
            "kusemalanga kamnandi\n",
            "\n",
            "model:\n",
            "azzazi unce ne ino nati\n"
          ]
        },
        {
          "output_type": "display_data",
          "data": {
            "text/plain": [
              "<IPython.core.display.HTML object>"
            ],
            "text/html": [
              "<div style='font-family:monospace;'><span style=\"color:red;\">s</span><span style=\"color:green;\">a</span><span style=\"color:green;\">z</span><span style=\"color:green;\">z</span><span style=\"color:green;\">a</span><span style=\"color:green;\">z</span>i<span style=\"color:red;\">k</span><span style=\"color:red;\">h</span><span style=\"color:red;\">e</span> <span style=\"color:red;\">s</span><span style=\"color:red;\">i</span><span style=\"color:red;\">m</span>unc<span style=\"color:green;\">e</span> <span style=\"color:green;\">n</span>e i<span style=\"color:red;\">m</span><span style=\"color:red;\">i</span>n<span style=\"color:green;\">o</span><span style=\"color:red;\">w</span><span style=\"color:red;\">e</span> nat<span style=\"color:red;\">h</span>i<span style=\"color:red;\"> </span><span style=\"color:red;\">k</span><span style=\"color:red;\">u</span><span style=\"color:red;\">s</span><span style=\"color:red;\">e</span><span style=\"color:red;\">s</span><span style=\"color:red;\">i</span><span style=\"color:red;\">k</span><span style=\"color:red;\">w</span><span style=\"color:red;\">e</span><span style=\"color:red;\">n</span><span style=\"color:red;\">i</span></div>"
            ]
          },
          "metadata": {}
        },
        {
          "output_type": "stream",
          "name": "stdout",
          "text": [
            "human:\n",
            "sikhe simunc e iminwe nathi kusesikweni\n",
            "\n",
            "model:\n",
            "enesibayeni somnyumti bengatusihlawu\n"
          ]
        },
        {
          "output_type": "display_data",
          "data": {
            "text/plain": [
              "<IPython.core.display.HTML object>"
            ],
            "text/html": [
              "<div style='font-family:monospace;'><span style=\"color:green;\">e</span><span style=\"color:green;\">n</span>esibayeni somny<span style=\"color:red;\"> </span><span style=\"color:red;\">e</span><span style=\"color:red;\"> </span>um<span style=\"color:red;\">n</span>ti bengatusihlawu<span style=\"color:red;\">l</span><span style=\"color:red;\">a</span></div>"
            ]
          },
          "metadata": {}
        },
        {
          "output_type": "stream",
          "name": "stdout",
          "text": [
            "human:\n",
            "esibayeni somny e umnti bengatusihlawula\n",
            "\n",
            "model:\n",
            "aabo abofunu ngeenesibalinisom nyumti\n"
          ]
        },
        {
          "output_type": "display_data",
          "data": {
            "text/plain": [
              "<IPython.core.display.HTML object>"
            ],
            "text/html": [
              "<div style='font-family:monospace;'><span style=\"color:red;\">h</span><span style=\"color:green;\">a</span>abo ab<span style=\"color:red;\">a</span><span style=\"color:green;\">o</span>fun<span style=\"color:green;\">u</span> <span style=\"color:red;\">a</span><span style=\"color:red;\"> </span><span style=\"color:red;\">u</span>nge<span style=\"color:green;\">e</span>n<span style=\"color:red;\">a</span><span style=\"color:red;\"> </span>esiba<span style=\"color:red;\">y</span><span style=\"color:red;\">e</span><span style=\"color:green;\">l</span><span style=\"color:green;\">i</span>ni<span style=\"color:red;\"> </span>som<span style=\"color:green;\"> </span>ny<span style=\"color:red;\"> </span><span style=\"color:red;\">e</span><span style=\"color:red;\"> </span>um<span style=\"color:red;\">n</span>ti</div>"
            ]
          },
          "metadata": {}
        },
        {
          "output_type": "stream",
          "name": "stdout",
          "text": [
            "human:\n",
            "habo abafun a ungena esibayeni somny e umnti\n",
            "\n",
            "model:\n",
            "bavunyele bonondi atshaza bethu\n"
          ]
        },
        {
          "output_type": "display_data",
          "data": {
            "text/plain": [
              "<IPython.core.display.HTML object>"
            ],
            "text/html": [
              "<div style='font-family:monospace;'><span style=\"color:red;\">b</span><span style=\"color:red;\">a</span><span style=\"color:red;\">n</span><span style=\"color:red;\">g</span><span style=\"color:red;\">a</span><span style=\"color:red;\"> </span>bavunyel<span style=\"color:red;\">w</span>e bon<span style=\"color:red;\"> </span><span style=\"color:red;\">a</span><span style=\"color:red;\"> </span><span style=\"color:red;\">o</span>ond<span style=\"color:green;\">i</span><span style=\"color:green;\"> </span>atshaza bethu</div>"
            ]
          },
          "metadata": {}
        },
        {
          "output_type": "stream",
          "name": "stdout",
          "text": [
            "human:\n",
            "banga bavunyelwe bon a oondatshaza bethu\n",
            "\n",
            "model:\n",
            "aaelazazakeaeke\n"
          ]
        },
        {
          "output_type": "display_data",
          "data": {
            "text/plain": [
              "<IPython.core.display.HTML object>"
            ],
            "text/html": [
              "<div style='font-family:monospace;'><span style=\"color:red;\">o</span><span style=\"color:red;\">o</span><span style=\"color:red;\">n</span><span style=\"color:red;\">o</span><span style=\"color:red;\">n</span><span style=\"color:red;\">d</span>a<span style=\"color:red;\">t</span><span style=\"color:red;\">s</span><span style=\"color:red;\">h</span><span style=\"color:green;\">a</span><span style=\"color:green;\">e</span><span style=\"color:green;\">l</span>aza<span style=\"color:red;\"> </span><span style=\"color:green;\">z</span>a<span style=\"color:red;\">b</span><span style=\"color:green;\">k</span><span style=\"color:green;\">e</span>a<span style=\"color:green;\">e</span><span style=\"color:green;\">k</span><span style=\"color:green;\">e</span></div>"
            ]
          },
          "metadata": {}
        },
        {
          "output_type": "stream",
          "name": "stdout",
          "text": [
            "human:\n",
            "oonondatshaza aba\n",
            "\n",
            "model:\n",
            "ikal\n"
          ]
        },
        {
          "output_type": "display_data",
          "data": {
            "text/plain": [
              "<IPython.core.display.HTML object>"
            ],
            "text/html": [
              "<div style='font-family:monospace;'><span style=\"color:red;\">s</span>i<span style=\"color:red;\">q</span><span style=\"color:green;\">k</span>al<span style=\"color:red;\">e</span></div>"
            ]
          },
          "metadata": {}
        },
        {
          "output_type": "stream",
          "name": "stdout",
          "text": [
            "human:\n",
            "siqale\n",
            "\n",
            "model:\n",
            "anankapan nannan\n"
          ]
        },
        {
          "output_type": "display_data",
          "data": {
            "text/plain": [
              "<IPython.core.display.HTML object>"
            ],
            "text/html": [
              "<div style='font-family:monospace;'><span style=\"color:red;\">y</span><span style=\"color:red;\">i</span><span style=\"color:red;\">m</span>a<span style=\"color:red;\"> </span><span style=\"color:green;\">n</span><span style=\"color:green;\">a</span><span style=\"color:green;\">n</span>ka<span style=\"color:green;\">p</span><span style=\"color:green;\">a</span>n<span style=\"color:green;\"> </span><span style=\"color:red;\">c</span><span style=\"color:red;\">i</span>n<span style=\"color:red;\">c</span><span style=\"color:red;\">i</span><span style=\"color:green;\">a</span><span style=\"color:green;\">n</span><span style=\"color:green;\">n</span><span style=\"color:green;\">a</span><span style=\"color:green;\">n</span></div>"
            ]
          },
          "metadata": {}
        },
        {
          "output_type": "stream",
          "name": "stdout",
          "text": [
            "human:\n",
            "yima kancinci\n",
            "\n",
            "model:\n",
            "ngoku\n"
          ]
        },
        {
          "output_type": "display_data",
          "data": {
            "text/plain": [
              "<IPython.core.display.HTML object>"
            ],
            "text/html": [
              "<div style='font-family:monospace;'>ngoku</div>"
            ]
          },
          "metadata": {}
        },
        {
          "output_type": "stream",
          "name": "stdout",
          "text": [
            "human:\n",
            "ngoku\n",
            "\n",
            "model:\n",
            "a  l  ln  n n al  lnl ln rar llanlanana\n"
          ]
        },
        {
          "output_type": "display_data",
          "data": {
            "text/plain": [
              "<IPython.core.display.HTML object>"
            ],
            "text/html": [
              "<div style='font-family:monospace;'>a<span style=\"color:red;\">q</span><span style=\"color:green;\"> </span><span style=\"color:green;\"> </span><span style=\"color:green;\">l</span><span style=\"color:green;\"> </span><span style=\"color:green;\"> </span><span style=\"color:green;\">l</span><span style=\"color:green;\">n</span><span style=\"color:green;\"> </span><span style=\"color:green;\"> </span><span style=\"color:green;\">n</span><span style=\"color:green;\"> </span><span style=\"color:green;\">n</span><span style=\"color:green;\"> </span>al<span style=\"color:red;\">e</span><span style=\"color:green;\"> </span><span style=\"color:green;\"> </span><span style=\"color:green;\">l</span><span style=\"color:green;\">n</span><span style=\"color:green;\">l</span><span style=\"color:green;\"> </span><span style=\"color:green;\">l</span><span style=\"color:green;\">n</span><span style=\"color:green;\"> </span><span style=\"color:green;\">r</span><span style=\"color:green;\">a</span><span style=\"color:green;\">r</span><span style=\"color:green;\"> </span><span style=\"color:green;\">l</span><span style=\"color:green;\">l</span><span style=\"color:green;\">a</span><span style=\"color:green;\">n</span><span style=\"color:green;\">l</span><span style=\"color:green;\">a</span><span style=\"color:green;\">n</span><span style=\"color:green;\">a</span><span style=\"color:green;\">n</span><span style=\"color:green;\">a</span></div>"
            ]
          },
          "metadata": {}
        },
        {
          "output_type": "stream",
          "name": "stdout",
          "text": [
            "human:\n",
            "aqale\n",
            "\n",
            "model:\n",
            "apel\n"
          ]
        },
        {
          "output_type": "display_data",
          "data": {
            "text/plain": [
              "<IPython.core.display.HTML object>"
            ],
            "text/html": [
              "<div style='font-family:monospace;'><span style=\"color:green;\">a</span><span style=\"color:green;\">p</span>e<span style=\"color:green;\">l</span><span style=\"color:red;\">w</span><span style=\"color:red;\">e</span></div>"
            ]
          },
          "metadata": {}
        },
        {
          "output_type": "stream",
          "name": "stdout",
          "text": [
            "human:\n",
            "ewe\n",
            "\n",
            "model:\n",
            "axrulka\n"
          ]
        },
        {
          "output_type": "display_data",
          "data": {
            "text/plain": [
              "<IPython.core.display.HTML object>"
            ],
            "text/html": [
              "<div style='font-family:monospace;'><span style=\"color:green;\">a</span><span style=\"color:green;\">x</span><span style=\"color:green;\">r</span>u<span style=\"color:green;\">l</span><span style=\"color:green;\">k</span><span style=\"color:red;\">t</span><span style=\"color:red;\">h</span><span style=\"color:red;\">i</span><span style=\"color:red;\"> </span><span style=\"color:red;\">q</span>a<span style=\"color:red;\">l</span><span style=\"color:red;\">a</span></div>"
            ]
          },
          "metadata": {}
        },
        {
          "output_type": "stream",
          "name": "stdout",
          "text": [
            "human:\n",
            "uthi qala\n",
            "\n",
            "model:\n",
            "keyayikosi yatyala isityalo ephezi komfula\n"
          ]
        },
        {
          "output_type": "display_data",
          "data": {
            "text/plain": [
              "<IPython.core.display.HTML object>"
            ],
            "text/html": [
              "<div style='font-family:monospace;'>ke<span style=\"color:red;\"> </span>yayi<span style=\"color:red;\">n</span>kosi yatyala isityalo e<span style=\"color:red;\">h</span><span style=\"color:red;\"> </span>phez<span style=\"color:red;\">u</span><span style=\"color:green;\">i</span> komfula</div>"
            ]
          },
          "metadata": {}
        },
        {
          "output_type": "stream",
          "name": "stdout",
          "text": [
            "human:\n",
            "ke yayinkosi yatyala isityalo eh phezu komfula\n",
            "\n",
            "model:\n",
            "esi sityalo sinomgadi waso\n"
          ]
        },
        {
          "output_type": "display_data",
          "data": {
            "text/plain": [
              "<IPython.core.display.HTML object>"
            ],
            "text/html": [
              "<div style='font-family:monospace;'>esi sityalo sinomgadi waso</div>"
            ]
          },
          "metadata": {}
        },
        {
          "output_type": "stream",
          "name": "stdout",
          "text": [
            "human:\n",
            "esi sityalo sinomgadi waso\n",
            "\n",
            "model:\n",
            "xa si nomgadi kukho uchweba\n"
          ]
        },
        {
          "output_type": "display_data",
          "data": {
            "text/plain": [
              "<IPython.core.display.HTML object>"
            ],
            "text/html": [
              "<div style='font-family:monospace;'>xa si<span style=\"color:green;\"> </span>nomgadi kukho uchweba</div>"
            ]
          },
          "metadata": {}
        },
        {
          "output_type": "stream",
          "name": "stdout",
          "text": [
            "human:\n",
            "xa sinomgadi kukho uchweba\n",
            "\n",
            "model:\n",
            "kukho iinto mbi ezaziyo kugqipha kingoku\n"
          ]
        },
        {
          "output_type": "display_data",
          "data": {
            "text/plain": [
              "<IPython.core.display.HTML object>"
            ],
            "text/html": [
              "<div style='font-family:monospace;'>kukho iinto<span style=\"color:green;\"> </span>mbi ezaziyo<span style=\"color:green;\"> </span><span style=\"color:green;\">k</span><span style=\"color:green;\">u</span><span style=\"color:green;\">g</span>q<span style=\"color:red;\">u</span><span style=\"color:red;\">b</span><span style=\"color:green;\">i</span><span style=\"color:green;\">p</span>ha k<span style=\"color:green;\">i</span><span style=\"color:red;\">e</span><span style=\"color:red;\"> </span>ngoku</div>"
            ]
          },
          "metadata": {}
        },
        {
          "output_type": "stream",
          "name": "stdout",
          "text": [
            "human:\n",
            "kukho iintombi ezaziyoqubha ke ngoku\n",
            "\n",
            "model:\n",
            "xazifika ezintomazana zagqoba\n"
          ]
        },
        {
          "output_type": "display_data",
          "data": {
            "text/plain": [
              "<IPython.core.display.HTML object>"
            ],
            "text/html": [
              "<div style='font-family:monospace;'>xa<span style=\"color:red;\"> </span>zifika ezi<span style=\"color:red;\"> </span>ntom<span style=\"color:red;\">b</span>azana za<span style=\"color:green;\">g</span>q<span style=\"color:red;\">u</span><span style=\"color:green;\">o</span>b<span style=\"color:red;\">h</span>a</div>"
            ]
          },
          "metadata": {}
        },
        {
          "output_type": "stream",
          "name": "stdout",
          "text": [
            "human:\n",
            "xa zifika ezi ntombazana zaqubha\n",
            "\n",
            "model:\n",
            "ukho into mazane ngugamali ngunomyenge letan\n"
          ]
        },
        {
          "output_type": "display_data",
          "data": {
            "text/plain": [
              "<IPython.core.display.HTML object>"
            ],
            "text/html": [
              "<div style='font-family:monospace;'><span style=\"color:red;\">k</span>ukho into<span style=\"color:green;\"> </span>m<span style=\"color:red;\">b</span>azan<span style=\"color:red;\">a</span><span style=\"color:green;\">e</span> <span style=\"color:red;\">e</span>ngugama<span style=\"color:red;\"> </span>li<span style=\"color:green;\"> </span>ngunomyenge<span style=\"color:green;\"> </span>letan<span style=\"color:red;\">e</span></div>"
            ]
          },
          "metadata": {}
        },
        {
          "output_type": "stream",
          "name": "stdout",
          "text": [
            "human:\n",
            "kukho intombazana engugama lingunomyengeletane\n",
            "\n",
            "model:\n",
            "yathi intombazana ndiyazimela mnangoku\n"
          ]
        },
        {
          "output_type": "display_data",
          "data": {
            "text/plain": [
              "<IPython.core.display.HTML object>"
            ],
            "text/html": [
              "<div style='font-family:monospace;'>yathi intombazana ndiyazimela mna<span style=\"color:red;\"> </span>ngoku</div>"
            ]
          },
          "metadata": {}
        },
        {
          "output_type": "stream",
          "name": "stdout",
          "text": [
            "human:\n",
            "yathi intombazana ndiyazimela mna ngoku\n",
            "\n",
            "model:\n",
            "diotya isityalo senkosi\n"
          ]
        },
        {
          "output_type": "display_data",
          "data": {
            "text/plain": [
              "<IPython.core.display.HTML object>"
            ],
            "text/html": [
              "<div style='font-family:monospace;'><span style=\"color:red;\">n</span>di<span style=\"color:red;\">y</span>otya isityalo senkosi</div>"
            ]
          },
          "metadata": {}
        },
        {
          "output_type": "stream",
          "name": "stdout",
          "text": [
            "human:\n",
            "ndiyotya isityalo senkosi\n",
            "\n",
            "model:\n",
            "yahamba intomazana yazimela kwezinye ntomazana\n"
          ]
        },
        {
          "output_type": "display_data",
          "data": {
            "text/plain": [
              "<IPython.core.display.HTML object>"
            ],
            "text/html": [
              "<div style='font-family:monospace;'>yahamba intom<span style=\"color:red;\">b</span>azana yazimela kweziny<span style=\"color:red;\"> </span>e <span style=\"color:red;\">i</span><span style=\"color:red;\">i</span>ntom<span style=\"color:red;\">b</span>azana</div>"
            ]
          },
          "metadata": {}
        },
        {
          "output_type": "stream",
          "name": "stdout",
          "text": [
            "human:\n",
            "yahamba intombazana yazimela kweziny e iintombazana\n",
            "\n",
            "model:\n",
            "yazimela nomgati wesityalo\n"
          ]
        },
        {
          "output_type": "display_data",
          "data": {
            "text/plain": [
              "<IPython.core.display.HTML object>"
            ],
            "text/html": [
              "<div style='font-family:monospace;'>yazimela nomga<span style=\"color:red;\">d</span><span style=\"color:green;\">t</span>i wesityalo</div>"
            ]
          },
          "metadata": {}
        },
        {
          "output_type": "stream",
          "name": "stdout",
          "text": [
            "human:\n",
            "yazimela nomgadi wesityalo\n",
            "\n",
            "model:\n",
            "yahamba otyi yisityalo enkosi\n"
          ]
        },
        {
          "output_type": "display_data",
          "data": {
            "text/plain": [
              "<IPython.core.display.HTML object>"
            ],
            "text/html": [
              "<div style='font-family:monospace;'>yahamba <span style=\"color:red;\">y</span>oty<span style=\"color:green;\">i</span> <span style=\"color:green;\">y</span><span style=\"color:red;\">a</span><span style=\"color:red;\"> </span>isityalo <span style=\"color:red;\">s</span>enkosi</div>"
            ]
          },
          "metadata": {}
        },
        {
          "output_type": "stream",
          "name": "stdout",
          "text": [
            "human:\n",
            "yahamba yoty a isityalo senkosi\n",
            "\n",
            "model:\n",
            "nxa ifika yakhwela emti\n"
          ]
        },
        {
          "output_type": "display_data",
          "data": {
            "text/plain": [
              "<IPython.core.display.HTML object>"
            ],
            "text/html": [
              "<div style='font-family:monospace;'>nxa ifika yakhwel<span style=\"color:red;\"> </span>a emt<span style=\"color:red;\">h</span>i<span style=\"color:red;\">n</span><span style=\"color:red;\">i</span></div>"
            ]
          },
          "metadata": {}
        },
        {
          "output_type": "stream",
          "name": "stdout",
          "text": [
            "human:\n",
            "nxa ifika yakhwel a emthini\n",
            "\n",
            "model:\n",
            "yasitya isityalo senkosi\n"
          ]
        },
        {
          "output_type": "display_data",
          "data": {
            "text/plain": [
              "<IPython.core.display.HTML object>"
            ],
            "text/html": [
              "<div style='font-family:monospace;'>yasitya isityalo senkosi</div>"
            ]
          },
          "metadata": {}
        },
        {
          "output_type": "stream",
          "name": "stdout",
          "text": [
            "human:\n",
            "yasitya isityalo senkosi\n",
            "\n",
            "model:\n",
            "exa ifika kengokumgathi watufika kwakhe wabonwa sityiki isityalo sinkusi\n"
          ]
        },
        {
          "output_type": "display_data",
          "data": {
            "text/plain": [
              "<IPython.core.display.HTML object>"
            ],
            "text/html": [
              "<div style='font-family:monospace;'>e<span style=\"color:red;\"> </span>xa ifika ke<span style=\"color:red;\"> </span>ngoku<span style=\"color:red;\"> </span><span style=\"color:red;\">u</span>mga<span style=\"color:red;\">d</span><span style=\"color:green;\">t</span><span style=\"color:green;\">h</span>i wat<span style=\"color:red;\">h</span><span style=\"color:red;\"> </span><span style=\"color:red;\">i</span><span style=\"color:red;\"> </span>ufika kwakhe wabon<span style=\"color:green;\">w</span><span style=\"color:red;\">a</span><span style=\"color:red;\"> </span><span style=\"color:red;\">u</span><span style=\"color:red;\">k</span><span style=\"color:red;\">u</span><span style=\"color:red;\">b</span>a sityi<span style=\"color:green;\">k</span><span style=\"color:green;\">i</span><span style=\"color:red;\">w</span><span style=\"color:red;\"> </span><span style=\"color:red;\">e</span> isityalo s<span style=\"color:red;\">e</span><span style=\"color:green;\">i</span>nk<span style=\"color:red;\">o</span><span style=\"color:green;\">u</span>si</div>"
            ]
          },
          "metadata": {}
        },
        {
          "output_type": "stream",
          "name": "stdout",
          "text": [
            "human:\n",
            "e xa ifika ke ngoku umgadi wath i ufika kwakhe wabona ukuba sityiw e isityalo senkosi\n",
            "\n",
            "model:\n",
            "wahamba otshenkosine\n"
          ]
        },
        {
          "output_type": "display_data",
          "data": {
            "text/plain": [
              "<IPython.core.display.HTML object>"
            ],
            "text/html": [
              "<div style='font-family:monospace;'>wahamba <span style=\"color:red;\">w</span>otsh<span style=\"color:red;\">o</span><span style=\"color:red;\"> </span>enkosin<span style=\"color:red;\">i</span><span style=\"color:green;\">e</span></div>"
            ]
          },
          "metadata": {}
        },
        {
          "output_type": "stream",
          "name": "stdout",
          "text": [
            "human:\n",
            "wahamba wotsho enkosini\n",
            "\n",
            "model:\n",
            "xa ifike unkosini waxelo basityiwe isityalo senkosi\n"
          ]
        },
        {
          "output_type": "display_data",
          "data": {
            "text/plain": [
              "<IPython.core.display.HTML object>"
            ],
            "text/html": [
              "<div style='font-family:monospace;'>xa <span style=\"color:red;\">e</span><span style=\"color:green;\">i</span>fik<span style=\"color:red;\">a</span><span style=\"color:green;\">e</span> <span style=\"color:red;\">e</span><span style=\"color:green;\">u</span>nkosini waxel<span style=\"color:red;\">a</span><span style=\"color:green;\">o</span> <span style=\"color:red;\">u</span><span style=\"color:red;\">k</span><span style=\"color:red;\">u</span>ba<span style=\"color:red;\"> </span>sityiwe isityalo senkosi</div>"
            ]
          },
          "metadata": {}
        },
        {
          "output_type": "stream",
          "name": "stdout",
          "text": [
            "human:\n",
            "xa efika enkosini waxela ukuba sityiwe isityalo senkosi\n",
            "\n",
            "model:\n",
            "inkosi yabizela bantu bonke\n"
          ]
        },
        {
          "output_type": "display_data",
          "data": {
            "text/plain": [
              "<IPython.core.display.HTML object>"
            ],
            "text/html": [
              "<div style='font-family:monospace;'>inkosi yabizela <span style=\"color:red;\">a</span>bantu bonke</div>"
            ]
          },
          "metadata": {}
        },
        {
          "output_type": "stream",
          "name": "stdout",
          "text": [
            "human:\n",
            "inkosi yabizela abantu bonke\n",
            "\n",
            "model:\n",
            "nxa befika abantu kwathi wake umntu otye isityalo senkosi uza ubonakala\n"
          ]
        },
        {
          "output_type": "display_data",
          "data": {
            "text/plain": [
              "<IPython.core.display.HTML object>"
            ],
            "text/html": [
              "<div style='font-family:monospace;'><span style=\"color:green;\">n</span>xa befika abantu kwathi<span style=\"color:green;\"> </span>wa<span style=\"color:red;\"> </span>ke umntu otye isityalo senkosi uza<span style=\"color:red;\">w</span><span style=\"color:green;\"> </span>ubonakala</div>"
            ]
          },
          "metadata": {}
        },
        {
          "output_type": "stream",
          "name": "stdout",
          "text": [
            "human:\n",
            "xa befika abantu kwathiwa ke umntu otye isityalo senkosi uzawubonakala\n",
            "\n",
            "model:\n",
            "likhona igqirha lesityalo\n"
          ]
        },
        {
          "output_type": "display_data",
          "data": {
            "text/plain": [
              "<IPython.core.display.HTML object>"
            ],
            "text/html": [
              "<div style='font-family:monospace;'>likhona igqirha lesityalo</div>"
            ]
          },
          "metadata": {}
        },
        {
          "output_type": "stream",
          "name": "stdout",
          "text": [
            "human:\n",
            "likhona igqirha lesityalo\n",
            "\n",
            "model:\n",
            "kwaqokelelwanake kwayi wakhe esizibeni\n"
          ]
        },
        {
          "output_type": "display_data",
          "data": {
            "text/plain": [
              "<IPython.core.display.HTML object>"
            ],
            "text/html": [
              "<div style='font-family:monospace;'>kwaqokelelwana<span style=\"color:red;\"> </span>ke kwayi<span style=\"color:green;\"> </span>wa<span style=\"color:red;\"> </span>k<span style=\"color:green;\">h</span>e esizibeni</div>"
            ]
          },
          "metadata": {}
        },
        {
          "output_type": "stream",
          "name": "stdout",
          "text": [
            "human:\n",
            "kwaqokelelwana ke kwayiwa ke esizibeni\n",
            "\n",
            "model:\n",
            "nakufika esizibeni aqalisa amadoda ukutsiba kwisiziba\n"
          ]
        },
        {
          "output_type": "display_data",
          "data": {
            "text/plain": [
              "<IPython.core.display.HTML object>"
            ],
            "text/html": [
              "<div style='font-family:monospace;'><span style=\"color:red;\">x</span><span style=\"color:green;\">n</span>a<span style=\"color:red;\"> </span>kufik<span style=\"color:red;\">w</span><span style=\"color:red;\"> </span>a esizibeni aqalisa amadoda ukutsiba kwisiziba</div>"
            ]
          },
          "metadata": {}
        },
        {
          "output_type": "stream",
          "name": "stdout",
          "text": [
            "human:\n",
            "xa kufikw a esizibeni aqalisa amadoda ukutsiba kwisiziba\n",
            "\n",
            "model:\n",
            "xa eqalisa ukutsiba athi amadoda yeyeyeye yeyeyeye ngunobandlele\n"
          ]
        },
        {
          "output_type": "display_data",
          "data": {
            "text/plain": [
              "<IPython.core.display.HTML object>"
            ],
            "text/html": [
              "<div style='font-family:monospace;'>xa eqalisa ukutsiba athi amadoda yeyeye<span style=\"color:red;\"> </span><span style=\"color:red;\">y</span><span style=\"color:red;\">e</span><span style=\"color:red;\">y</span><span style=\"color:red;\">e</span>ye yeyeye<span style=\"color:green;\">y</span><span style=\"color:green;\">e</span> <span style=\"color:green;\">n</span><span style=\"color:green;\">g</span>unobandlel<span style=\"color:red;\">a</span><span style=\"color:green;\">e</span></div>"
            ]
          },
          "metadata": {}
        },
        {
          "output_type": "stream",
          "name": "stdout",
          "text": [
            "human:\n",
            "xa eqalisa ukutsiba athi amadoda yeyeye yeyeye yeyeye unobandlela\n",
            "\n",
            "model:\n",
            "yeye yeye yeye gunobondla\n"
          ]
        },
        {
          "output_type": "display_data",
          "data": {
            "text/plain": [
              "<IPython.core.display.HTML object>"
            ],
            "text/html": [
              "<div style='font-family:monospace;'><span style=\"color:red;\">y</span><span style=\"color:red;\">e</span>yeye yeye<span style=\"color:green;\"> </span><span style=\"color:green;\">y</span><span style=\"color:green;\">e</span>ye <span style=\"color:red;\">n</span>gunob<span style=\"color:red;\">a</span><span style=\"color:green;\">o</span>ndl<span style=\"color:red;\">e</span><span style=\"color:red;\">l</span>a</div>"
            ]
          },
          "metadata": {}
        },
        {
          "output_type": "stream",
          "name": "stdout",
          "text": [
            "human:\n",
            "yeyeye yeyeye ngunobandlela\n",
            "\n",
            "model:\n",
            "sezu ehunomyengelelae\n"
          ]
        },
        {
          "output_type": "display_data",
          "data": {
            "text/plain": [
              "<IPython.core.display.HTML object>"
            ],
            "text/html": [
              "<div style='font-family:monospace;'>se<span style=\"color:red;\">n</span>z<span style=\"color:red;\">i</span><span style=\"color:red;\">w</span><span style=\"color:green;\">u</span><span style=\"color:green;\"> </span>e<span style=\"color:green;\">h</span><span style=\"color:red;\"> </span><span style=\"color:red;\">n</span><span style=\"color:red;\">g</span>unomyengele<span style=\"color:red;\">t</span><span style=\"color:green;\">l</span>a<span style=\"color:red;\">n</span>e</div>"
            ]
          },
          "metadata": {}
        },
        {
          "output_type": "stream",
          "name": "stdout",
          "text": [
            "human:\n",
            "senziwe ngunomyengeletane\n",
            "\n",
            "model:\n",
            "knbona wuwubutyili ubuncwani benkosi yethu hunobondle\n"
          ]
        },
        {
          "output_type": "display_data",
          "data": {
            "text/plain": [
              "<IPython.core.display.HTML object>"
            ],
            "text/html": [
              "<div style='font-family:monospace;'><span style=\"color:green;\">k</span>n<span style=\"color:red;\">g</span><span style=\"color:red;\">u</span><span style=\"color:green;\">b</span><span style=\"color:green;\">o</span>n<span style=\"color:red;\">o</span><span style=\"color:red;\">b</span><span style=\"color:red;\">a</span><span style=\"color:red;\">n</span><span style=\"color:red;\">d</span><span style=\"color:red;\">l</span><span style=\"color:red;\">e</span><span style=\"color:red;\">l</span>a <span style=\"color:green;\">w</span><span style=\"color:green;\">u</span><span style=\"color:green;\">w</span>ubutyil<span style=\"color:green;\">i</span><span style=\"color:red;\"> </span><span style=\"color:red;\">e</span> ubuncwan<span style=\"color:red;\">e</span><span style=\"color:green;\">i</span> benkosi yethu <span style=\"color:green;\">h</span>unob<span style=\"color:red;\">a</span><span style=\"color:green;\">o</span>ndle<span style=\"color:red;\">l</span><span style=\"color:red;\">a</span></div>"
            ]
          },
          "metadata": {}
        },
        {
          "output_type": "stream",
          "name": "stdout",
          "text": [
            "human:\n",
            "ngunobandlela ubutyil e ubuncwane benkosi yethu unobandlela\n",
            "\n",
            "model:\n",
            "hayike hatsiba madoda gqiqi kwezabafasi\n"
          ]
        },
        {
          "output_type": "display_data",
          "data": {
            "text/plain": [
              "<IPython.core.display.HTML object>"
            ],
            "text/html": [
              "<div style='font-family:monospace;'>hayi<span style=\"color:red;\"> </span>ke <span style=\"color:green;\">h</span>atsiba <span style=\"color:red;\">a</span>madoda <span style=\"color:red;\">a</span>gqi<span style=\"color:red;\">b</span><span style=\"color:red;\">a</span><span style=\"color:green;\">q</span><span style=\"color:green;\">i</span> kweza<span style=\"color:red;\"> </span><span style=\"color:red;\">a</span>bafa<span style=\"color:red;\">z</span><span style=\"color:green;\">s</span>i</div>"
            ]
          },
          "metadata": {}
        },
        {
          "output_type": "stream",
          "name": "stdout",
          "text": [
            "human:\n",
            "hayi ke atsiba amadoda agqiba kweza abafazi\n",
            "\n",
            "model:\n",
            "wathi umfazi yeyeyeye yeye yeye ngunobondle\n"
          ]
        },
        {
          "output_type": "display_data",
          "data": {
            "text/plain": [
              "<IPython.core.display.HTML object>"
            ],
            "text/html": [
              "<div style='font-family:monospace;'>wathi umfazi yeyeye<span style=\"color:green;\">y</span><span style=\"color:green;\">e</span><span style=\"color:green;\"> </span><span style=\"color:green;\">y</span><span style=\"color:green;\">e</span><span style=\"color:green;\">y</span><span style=\"color:green;\">e</span><span style=\"color:green;\"> </span><span style=\"color:green;\">y</span><span style=\"color:green;\">e</span><span style=\"color:green;\">y</span><span style=\"color:green;\">e</span> ngunob<span style=\"color:red;\">a</span><span style=\"color:green;\">o</span>ndle<span style=\"color:red;\">l</span><span style=\"color:red;\">a</span></div>"
            ]
          },
          "metadata": {}
        },
        {
          "output_type": "stream",
          "name": "stdout",
          "text": [
            "human:\n",
            "wathi umfazi yeyeye ngunobandlela\n",
            "\n",
            "model:\n",
            "yeye yeye yeye yeye gunabona\n"
          ]
        },
        {
          "output_type": "display_data",
          "data": {
            "text/plain": [
              "<IPython.core.display.HTML object>"
            ],
            "text/html": [
              "<div style='font-family:monospace;'><span style=\"color:red;\">y</span><span style=\"color:red;\">e</span>yeye yeye<span style=\"color:green;\"> </span><span style=\"color:green;\">y</span><span style=\"color:green;\">e</span>ye yeye<span style=\"color:red;\">y</span><span style=\"color:red;\">e</span> <span style=\"color:red;\">n</span>gun<span style=\"color:green;\">a</span><span style=\"color:green;\">b</span>o<span style=\"color:red;\">b</span><span style=\"color:green;\">n</span>a<span style=\"color:red;\">n</span><span style=\"color:red;\">d</span><span style=\"color:red;\">l</span><span style=\"color:red;\">e</span><span style=\"color:red;\">l</span><span style=\"color:red;\">a</span></div>"
            ]
          },
          "metadata": {}
        },
        {
          "output_type": "stream",
          "name": "stdout",
          "text": [
            "human:\n",
            "yeyeye yeyeye yeyeye ngunobandlela\n",
            "\n",
            "model:\n",
            "senziwe guno myegeletane guna\n"
          ]
        },
        {
          "output_type": "display_data",
          "data": {
            "text/plain": [
              "<IPython.core.display.HTML object>"
            ],
            "text/html": [
              "<div style='font-family:monospace;'>senziwe <span style=\"color:red;\">n</span>guno<span style=\"color:green;\"> </span>mye<span style=\"color:red;\">n</span>geletane<span style=\"color:green;\"> </span><span style=\"color:green;\">g</span><span style=\"color:green;\">u</span><span style=\"color:green;\">n</span><span style=\"color:green;\">a</span></div>"
            ]
          },
          "metadata": {}
        },
        {
          "output_type": "stream",
          "name": "stdout",
          "text": [
            "human:\n",
            "senziwe ngunomyengeletane\n",
            "\n",
            "model:\n",
            "ubutyili buncwane benkosi yethu unobondlela\n"
          ]
        },
        {
          "output_type": "display_data",
          "data": {
            "text/plain": [
              "<IPython.core.display.HTML object>"
            ],
            "text/html": [
              "<div style='font-family:monospace;'>ubutyil<span style=\"color:red;\">e</span><span style=\"color:green;\">i</span> <span style=\"color:red;\">u</span>buncwane benkosi yethu unob<span style=\"color:red;\">a</span><span style=\"color:green;\">o</span>ndlela</div>"
            ]
          },
          "metadata": {}
        },
        {
          "output_type": "stream",
          "name": "stdout",
          "text": [
            "human:\n",
            "ubutyile ubuncwane benkosi yethu unobandlela\n",
            "\n",
            "model:\n",
            "hayike atsiba abafasi bagqiba kweza amantomba amakhwenkwe\n"
          ]
        },
        {
          "output_type": "display_data",
          "data": {
            "text/plain": [
              "<IPython.core.display.HTML object>"
            ],
            "text/html": [
              "<div style='font-family:monospace;'>hayi<span style=\"color:red;\"> </span>ke <span style=\"color:red;\">b</span>atsiba abafa<span style=\"color:red;\">z</span><span style=\"color:green;\">s</span>i bagqiba kweza ama<span style=\"color:green;\">n</span><span style=\"color:green;\">t</span><span style=\"color:green;\">o</span><span style=\"color:green;\">m</span><span style=\"color:green;\">b</span><span style=\"color:green;\">a</span><span style=\"color:green;\"> </span><span style=\"color:green;\">a</span><span style=\"color:green;\">m</span><span style=\"color:green;\">a</span>khwenkwe</div>"
            ]
          },
          "metadata": {}
        },
        {
          "output_type": "stream",
          "name": "stdout",
          "text": [
            "human:\n",
            "hayi ke batsiba abafazi bagqiba kweza amakhwenkwe\n",
            "\n",
            "model:\n",
            "xa esiza makhwenkwe athe amakwenkwe yeyeyeye yeyeyeye ngunobondla\n"
          ]
        },
        {
          "output_type": "display_data",
          "data": {
            "text/plain": [
              "<IPython.core.display.HTML object>"
            ],
            "text/html": [
              "<div style='font-family:monospace;'><span style=\"color:red;\">n</span>xa esiza <span style=\"color:red;\">a</span>makhwenkwe ath<span style=\"color:red;\">i</span><span style=\"color:green;\">e</span> amak<span style=\"color:red;\">h</span>wenkwe yeyeye<span style=\"color:green;\">y</span><span style=\"color:green;\">e</span> <span style=\"color:green;\">y</span><span style=\"color:green;\">e</span>yeyeye ngunob<span style=\"color:red;\">a</span><span style=\"color:green;\">o</span>ndl<span style=\"color:red;\">e</span><span style=\"color:red;\">l</span>a</div>"
            ]
          },
          "metadata": {}
        },
        {
          "output_type": "stream",
          "name": "stdout",
          "text": [
            "human:\n",
            "nxa esiza amakhwenkwe athi amakhwenkwe yeyeye yeyeye ngunobandlela\n",
            "\n",
            "model:\n",
            "yeye yeye yeye yeyee gunawona\n"
          ]
        },
        {
          "output_type": "display_data",
          "data": {
            "text/plain": [
              "<IPython.core.display.HTML object>"
            ],
            "text/html": [
              "<div style='font-family:monospace;'><span style=\"color:red;\">y</span><span style=\"color:red;\">e</span>yeye yeye<span style=\"color:green;\"> </span><span style=\"color:green;\">y</span><span style=\"color:green;\">e</span>ye <span style=\"color:red;\">n</span><span style=\"color:green;\">y</span><span style=\"color:green;\">e</span><span style=\"color:green;\">y</span><span style=\"color:green;\">e</span><span style=\"color:green;\">e</span><span style=\"color:green;\"> </span>gun<span style=\"color:green;\">a</span><span style=\"color:green;\">w</span>o<span style=\"color:red;\">b</span><span style=\"color:green;\">n</span>a<span style=\"color:red;\">n</span><span style=\"color:red;\">d</span><span style=\"color:red;\">l</span><span style=\"color:red;\">e</span><span style=\"color:red;\">l</span><span style=\"color:red;\">a</span></div>"
            ]
          },
          "metadata": {}
        },
        {
          "output_type": "stream",
          "name": "stdout",
          "text": [
            "human:\n",
            "yeyeye yeyeye ngunobandlela\n",
            "\n",
            "model:\n",
            "senziwe nguna mnyengeletyane nguna wana\n"
          ]
        },
        {
          "output_type": "display_data",
          "data": {
            "text/plain": [
              "<IPython.core.display.HTML object>"
            ],
            "text/html": [
              "<div style='font-family:monospace;'>senziwe ngun<span style=\"color:red;\">o</span><span style=\"color:green;\">a</span><span style=\"color:green;\"> </span>m<span style=\"color:green;\">n</span>yengelet<span style=\"color:green;\">y</span>ane ngun<span style=\"color:red;\">o</span><span style=\"color:red;\">b</span><span style=\"color:green;\">a</span><span style=\"color:green;\"> </span><span style=\"color:green;\">w</span>an<span style=\"color:red;\">d</span><span style=\"color:red;\">l</span><span style=\"color:red;\">e</span><span style=\"color:red;\">l</span>a</div>"
            ]
          },
          "metadata": {}
        },
        {
          "output_type": "stream",
          "name": "stdout",
          "text": [
            "human:\n",
            "senziwe ngunomyengeletane ngunobandlela\n",
            "\n",
            "model:\n",
            "uwutyili bungoni benkosi yetu unobola\n"
          ]
        },
        {
          "output_type": "display_data",
          "data": {
            "text/plain": [
              "<IPython.core.display.HTML object>"
            ],
            "text/html": [
              "<div style='font-family:monospace;'>u<span style=\"color:red;\">b</span><span style=\"color:green;\">w</span>utyil<span style=\"color:red;\">e</span><span style=\"color:green;\">i</span> <span style=\"color:red;\">u</span>bun<span style=\"color:green;\">g</span><span style=\"color:green;\">o</span><span style=\"color:red;\">c</span><span style=\"color:red;\">w</span><span style=\"color:red;\">a</span>n<span style=\"color:red;\">e</span><span style=\"color:green;\">i</span> benkosi yet<span style=\"color:red;\">h</span>u unob<span style=\"color:green;\">o</span><span style=\"color:red;\">a</span><span style=\"color:red;\">n</span><span style=\"color:red;\">d</span><span style=\"color:red;\">l</span><span style=\"color:red;\">e</span>la</div>"
            ]
          },
          "metadata": {}
        },
        {
          "output_type": "stream",
          "name": "stdout",
          "text": [
            "human:\n",
            "ubutyile ubuncwane benkosi yethu unobandlela\n",
            "\n",
            "model:\n",
            "athi bamakongwagqiba kwezama ntombazama\n"
          ]
        },
        {
          "output_type": "display_data",
          "data": {
            "text/plain": [
              "<IPython.core.display.HTML object>"
            ],
            "text/html": [
              "<div style='font-family:monospace;'>at<span style=\"color:red;\">s</span><span style=\"color:green;\">h</span>i<span style=\"color:green;\"> </span>b<span style=\"color:red;\">a</span><span style=\"color:red;\"> </span>amak<span style=\"color:red;\">h</span><span style=\"color:green;\">o</span><span style=\"color:green;\">n</span><span style=\"color:green;\">g</span>w<span style=\"color:red;\">e</span><span style=\"color:red;\">n</span><span style=\"color:red;\">k</span><span style=\"color:red;\">w</span><span style=\"color:red;\">e</span><span style=\"color:red;\"> </span>agqiba kweza<span style=\"color:red;\"> </span><span style=\"color:red;\">a</span>ma<span style=\"color:green;\"> </span>ntombaza<span style=\"color:red;\">n</span><span style=\"color:green;\">m</span>a</div>"
            ]
          },
          "metadata": {}
        },
        {
          "output_type": "stream",
          "name": "stdout",
          "text": [
            "human:\n",
            "atsiba amakhwenkwe agqiba kweza amantombazana\n",
            "\n",
            "model:\n",
            "yathi ntombazana ye yeyeye yeyeyeye hunondle\n"
          ]
        },
        {
          "output_type": "display_data",
          "data": {
            "text/plain": [
              "<IPython.core.display.HTML object>"
            ],
            "text/html": [
              "<div style='font-family:monospace;'>yathi <span style=\"color:red;\">i</span>ntombazana<span style=\"color:green;\"> </span><span style=\"color:green;\">y</span><span style=\"color:green;\">e</span> yeyeye yeyeye<span style=\"color:green;\">y</span><span style=\"color:green;\">e</span> <span style=\"color:green;\">h</span><span style=\"color:red;\">n</span><span style=\"color:red;\">g</span>uno<span style=\"color:red;\">b</span><span style=\"color:red;\">a</span>ndle<span style=\"color:red;\">l</span><span style=\"color:red;\">a</span></div>"
            ]
          },
          "metadata": {}
        },
        {
          "output_type": "stream",
          "name": "stdout",
          "text": [
            "human:\n",
            "yathi intombazana yeyeye yeyeye ngunobandlela\n",
            "\n",
            "model:\n",
            "yeyeyeyeyeyeyeye gunawana\n"
          ]
        },
        {
          "output_type": "display_data",
          "data": {
            "text/plain": [
              "<IPython.core.display.HTML object>"
            ],
            "text/html": [
              "<div style='font-family:monospace;'><span style=\"color:green;\">y</span><span style=\"color:green;\">e</span><span style=\"color:green;\">y</span><span style=\"color:green;\">e</span><span style=\"color:green;\">y</span><span style=\"color:green;\">e</span><span style=\"color:green;\">y</span><span style=\"color:green;\">e</span><span style=\"color:green;\">y</span><span style=\"color:green;\">e</span>yeyeye <span style=\"color:red;\">y</span><span style=\"color:red;\">e</span><span style=\"color:red;\">y</span><span style=\"color:red;\">e</span><span style=\"color:red;\">y</span><span style=\"color:red;\">e</span><span style=\"color:red;\"> </span><span style=\"color:red;\">n</span>gun<span style=\"color:red;\">o</span><span style=\"color:red;\">b</span><span style=\"color:green;\">a</span><span style=\"color:green;\">w</span>an<span style=\"color:red;\">d</span><span style=\"color:red;\">l</span><span style=\"color:red;\">e</span><span style=\"color:red;\">l</span>a</div>"
            ]
          },
          "metadata": {}
        },
        {
          "output_type": "stream",
          "name": "stdout",
          "text": [
            "human:\n",
            "yeyeye yeyeye ngunobandlela\n",
            "\n",
            "model:\n",
            "sensengunombyangeletane kunawana\n"
          ]
        },
        {
          "output_type": "display_data",
          "data": {
            "text/plain": [
              "<IPython.core.display.HTML object>"
            ],
            "text/html": [
              "<div style='font-family:monospace;'>sen<span style=\"color:green;\">s</span><span style=\"color:red;\">z</span><span style=\"color:red;\">i</span><span style=\"color:red;\">w</span>e<span style=\"color:red;\"> </span>ngunom<span style=\"color:green;\">b</span>y<span style=\"color:red;\">e</span><span style=\"color:green;\">a</span>ngeletane <span style=\"color:green;\">k</span><span style=\"color:red;\">n</span><span style=\"color:red;\">g</span>un<span style=\"color:red;\">o</span><span style=\"color:red;\">b</span><span style=\"color:green;\">a</span><span style=\"color:green;\">w</span>an<span style=\"color:red;\">d</span><span style=\"color:red;\">l</span><span style=\"color:red;\">e</span><span style=\"color:red;\">l</span>a</div>"
            ]
          },
          "metadata": {}
        },
        {
          "output_type": "stream",
          "name": "stdout",
          "text": [
            "human:\n",
            "senziwe ngunomyengeletane ngunobandlela\n",
            "\n",
            "model:\n",
            "ehetyelo ubungwani benkosi yeti nowondleka\n"
          ]
        },
        {
          "output_type": "display_data",
          "data": {
            "text/plain": [
              "<IPython.core.display.HTML object>"
            ],
            "text/html": [
              "<div style='font-family:monospace;'><span style=\"color:red;\">s</span><span style=\"color:red;\">i</span><span style=\"color:green;\">e</span><span style=\"color:green;\">h</span><span style=\"color:green;\">e</span>tyel<span style=\"color:green;\">o</span><span style=\"color:red;\">w</span><span style=\"color:red;\">e</span> ubun<span style=\"color:red;\">c</span><span style=\"color:green;\">g</span>wan<span style=\"color:red;\">e</span><span style=\"color:green;\">i</span> benkosi yet<span style=\"color:green;\">i</span><span style=\"color:red;\">h</span><span style=\"color:red;\">u</span> <span style=\"color:red;\">u</span>no<span style=\"color:red;\">b</span><span style=\"color:red;\">a</span><span style=\"color:green;\">w</span><span style=\"color:green;\">o</span>ndle<span style=\"color:red;\">l</span><span style=\"color:green;\">k</span>a</div>"
            ]
          },
          "metadata": {}
        },
        {
          "output_type": "stream",
          "name": "stdout",
          "text": [
            "human:\n",
            "sityelwe ubuncwane benkosi yethu unobandlela\n",
            "\n",
            "model:\n",
            "zoln ll ek za\n"
          ]
        },
        {
          "output_type": "display_data",
          "data": {
            "text/plain": [
              "<IPython.core.display.HTML object>"
            ],
            "text/html": [
              "<div style='font-family:monospace;'><span style=\"color:red;\">u</span>zo<span style=\"color:green;\">l</span>n<span style=\"color:green;\"> </span><span style=\"color:red;\">d</span><span style=\"color:red;\">i</span><span style=\"color:red;\">h</span>l<span style=\"color:green;\">l</span><span style=\"color:green;\"> </span>ek<span style=\"color:red;\">i</span><span style=\"color:red;\">s</span><span style=\"color:green;\"> </span><span style=\"color:green;\">z</span>a<span style=\"color:red;\"> </span><span style=\"color:red;\">w</span><span style=\"color:red;\">e</span><span style=\"color:red;\">n</span><span style=\"color:red;\">a</span></div>"
            ]
          },
          "metadata": {}
        },
        {
          "output_type": "stream",
          "name": "stdout",
          "text": [
            "human:\n",
            "uzondihlekisa wena\n",
            "\n",
            "model:\n",
            "ngoku atsho atsho ama nto masana\n"
          ]
        },
        {
          "output_type": "display_data",
          "data": {
            "text/plain": [
              "<IPython.core.display.HTML object>"
            ],
            "text/html": [
              "<div style='font-family:monospace;'>ngoku atsho atsho ama<span style=\"color:green;\"> </span>nto<span style=\"color:green;\"> </span>m<span style=\"color:red;\">b</span>a<span style=\"color:red;\">z</span><span style=\"color:green;\">s</span>ana</div>"
            ]
          },
          "metadata": {}
        },
        {
          "output_type": "stream",
          "name": "stdout",
          "text": [
            "human:\n",
            "ngoku atsho atsho amantombazana\n",
            "\n",
            "model:\n",
            "yafiki gemu kunoniye ngele tay obutyile ubuncani benkosi\n"
          ]
        },
        {
          "output_type": "display_data",
          "data": {
            "text/plain": [
              "<IPython.core.display.HTML object>"
            ],
            "text/html": [
              "<div style='font-family:monospace;'>yafik<span style=\"color:red;\">a</span><span style=\"color:green;\">i</span> <span style=\"color:red;\">i</span>gem<span style=\"color:green;\">u</span> kuno<span style=\"color:red;\">m</span><span style=\"color:green;\">n</span><span style=\"color:green;\">i</span>ye<span style=\"color:green;\"> </span>ngele<span style=\"color:green;\"> </span>ta<span style=\"color:green;\">y</span><span style=\"color:red;\">n</span><span style=\"color:red;\">e</span> obutyile<span style=\"color:red;\">y</span><span style=\"color:red;\">o</span> ubunc<span style=\"color:red;\">w</span>an<span style=\"color:red;\">e</span><span style=\"color:green;\">i</span> benkosi</div>"
            ]
          },
          "metadata": {}
        },
        {
          "output_type": "stream",
          "name": "stdout",
          "text": [
            "human:\n",
            "yafika igem kunomyengeletane obutyileyo ubuncwane benkosi\n",
            "\n",
            "model:\n",
            "watsi ye ye ye ye ye ye ye ye huno bondle\n"
          ]
        },
        {
          "output_type": "display_data",
          "data": {
            "text/plain": [
              "<IPython.core.display.HTML object>"
            ],
            "text/html": [
              "<div style='font-family:monospace;'>wat<span style=\"color:red;\">h</span><span style=\"color:green;\">s</span>i <span style=\"color:red;\">y</span><span style=\"color:red;\">e</span><span style=\"color:red;\">y</span><span style=\"color:red;\">e</span>ye ye<span style=\"color:green;\"> </span><span style=\"color:red;\">y</span><span style=\"color:red;\">e</span>ye <span style=\"color:red;\">n</span><span style=\"color:red;\">g</span><span style=\"color:green;\">y</span><span style=\"color:green;\">e</span><span style=\"color:green;\"> </span><span style=\"color:green;\">y</span><span style=\"color:green;\">e</span><span style=\"color:green;\"> </span><span style=\"color:green;\">y</span><span style=\"color:green;\">e</span><span style=\"color:green;\"> </span><span style=\"color:green;\">y</span><span style=\"color:green;\">e</span><span style=\"color:green;\"> </span><span style=\"color:green;\">y</span><span style=\"color:green;\">e</span><span style=\"color:green;\"> </span><span style=\"color:green;\">h</span>uno<span style=\"color:green;\"> </span>b<span style=\"color:red;\">a</span><span style=\"color:green;\">o</span>ndle<span style=\"color:red;\">l</span><span style=\"color:red;\">a</span></div>"
            ]
          },
          "metadata": {}
        },
        {
          "output_type": "stream",
          "name": "stdout",
          "text": [
            "human:\n",
            "wathi yeyeye yeyeye ngunobandlela\n",
            "\n",
            "model:\n",
            "yeyeeyeyee yeyeyeye ngunavan\n"
          ]
        },
        {
          "output_type": "display_data",
          "data": {
            "text/plain": [
              "<IPython.core.display.HTML object>"
            ],
            "text/html": [
              "<div style='font-family:monospace;'>y<span style=\"color:green;\">e</span><span style=\"color:green;\">y</span><span style=\"color:green;\">e</span>eyeye<span style=\"color:green;\">e</span> <span style=\"color:green;\">y</span><span style=\"color:green;\">e</span>yeyeye ngun<span style=\"color:red;\">o</span><span style=\"color:red;\">b</span><span style=\"color:green;\">a</span><span style=\"color:green;\">v</span>an<span style=\"color:red;\">d</span><span style=\"color:red;\">l</span><span style=\"color:red;\">e</span><span style=\"color:red;\">l</span><span style=\"color:red;\">a</span></div>"
            ]
          },
          "metadata": {}
        },
        {
          "output_type": "stream",
          "name": "stdout",
          "text": [
            "human:\n",
            "yeyeye yeyeye ngunobandlela\n",
            "\n",
            "model:\n",
            "senziwenguna myangelatane gunabona\n"
          ]
        },
        {
          "output_type": "display_data",
          "data": {
            "text/plain": [
              "<IPython.core.display.HTML object>"
            ],
            "text/html": [
              "<div style='font-family:monospace;'>senziwe<span style=\"color:red;\"> </span>ngun<span style=\"color:red;\">o</span><span style=\"color:green;\">a</span><span style=\"color:green;\"> </span>my<span style=\"color:red;\">e</span><span style=\"color:green;\">a</span>ngel<span style=\"color:red;\">e</span><span style=\"color:green;\">a</span>tan<span style=\"color:green;\">e</span> <span style=\"color:red;\">a</span><span style=\"color:red;\"> </span><span style=\"color:red;\">n</span>gun<span style=\"color:green;\">a</span><span style=\"color:green;\">b</span>o<span style=\"color:red;\">b</span><span style=\"color:green;\">n</span>a<span style=\"color:red;\">n</span><span style=\"color:red;\">d</span><span style=\"color:red;\">l</span><span style=\"color:red;\">e</span><span style=\"color:red;\">l</span><span style=\"color:red;\">a</span></div>"
            ]
          },
          "metadata": {}
        },
        {
          "output_type": "stream",
          "name": "stdout",
          "text": [
            "human:\n",
            "senziwe ngunomyengeletan a ngunobandlela\n",
            "\n",
            "model:\n",
            "ubutyili ubungani benkosi yetu unobondle\n"
          ]
        },
        {
          "output_type": "display_data",
          "data": {
            "text/plain": [
              "<IPython.core.display.HTML object>"
            ],
            "text/html": [
              "<div style='font-family:monospace;'>ubutyil<span style=\"color:red;\">e</span><span style=\"color:green;\">i</span> ubun<span style=\"color:green;\">g</span><span style=\"color:red;\">c</span><span style=\"color:red;\">w</span>an<span style=\"color:red;\">e</span><span style=\"color:green;\">i</span> benkosi yet<span style=\"color:red;\">h</span>u unob<span style=\"color:red;\">a</span><span style=\"color:green;\">o</span>ndle<span style=\"color:red;\">l</span><span style=\"color:red;\">a</span></div>"
            ]
          },
          "metadata": {}
        },
        {
          "output_type": "stream",
          "name": "stdout",
          "text": [
            "human:\n",
            "ubutyile ubuncwane benkosi yethu unobandlela\n",
            "\n",
            "model:\n",
            "wajika akatsiba\n"
          ]
        },
        {
          "output_type": "display_data",
          "data": {
            "text/plain": [
              "<IPython.core.display.HTML object>"
            ],
            "text/html": [
              "<div style='font-family:monospace;'>wajika akatsiba</div>"
            ]
          },
          "metadata": {}
        },
        {
          "output_type": "stream",
          "name": "stdout",
          "text": [
            "human:\n",
            "wajika akatsiba\n",
            "\n",
            "model:\n",
            "waphinda yakali isabhoku\n"
          ]
        },
        {
          "output_type": "display_data",
          "data": {
            "text/plain": [
              "<IPython.core.display.HTML object>"
            ],
            "text/html": [
              "<div style='font-family:monospace;'>waphinda <span style=\"color:red;\">s</span><span style=\"color:green;\">y</span>ak<span style=\"color:red;\">h</span>al<span style=\"color:green;\">i</span><span style=\"color:red;\"> </span><span style=\"color:red;\">a</span> isabhok<span style=\"color:green;\">u</span><span style=\"color:red;\">h</span><span style=\"color:red;\">w</span><span style=\"color:red;\">e</span></div>"
            ]
          },
          "metadata": {}
        },
        {
          "output_type": "stream",
          "name": "stdout",
          "text": [
            "human:\n",
            "waphinda sakhal a isabhokhwe\n",
            "\n",
            "model:\n",
            "kwathwayiya kwaya\n"
          ]
        },
        {
          "output_type": "display_data",
          "data": {
            "text/plain": [
              "<IPython.core.display.HTML object>"
            ],
            "text/html": [
              "<div style='font-family:monospace;'>kwath<span style=\"color:red;\">i</span>wa<span style=\"color:red;\"> </span>yiya <span style=\"color:green;\">k</span>waya</div>"
            ]
          },
          "metadata": {}
        },
        {
          "output_type": "stream",
          "name": "stdout",
          "text": [
            "human:\n",
            "kwathiwa yiya waya\n",
            "\n",
            "model:\n",
            "wathi phezu kumlama wathi yeyeye yeye ye ye ye nobondlela\n"
          ]
        },
        {
          "output_type": "display_data",
          "data": {
            "text/plain": [
              "<IPython.core.display.HTML object>"
            ],
            "text/html": [
              "<div style='font-family:monospace;'>wathi phezu <span style=\"color:red;\">l</span><span style=\"color:green;\">k</span>u<span style=\"color:red;\"> </span><span style=\"color:red;\">k</span><span style=\"color:red;\">o</span>mlam<span style=\"color:green;\">a</span><span style=\"color:red;\">b</span><span style=\"color:red;\">o</span> wathi yeyeye yeye<span style=\"color:green;\"> </span><span style=\"color:green;\">y</span><span style=\"color:green;\">e</span><span style=\"color:green;\"> </span><span style=\"color:green;\">y</span><span style=\"color:green;\">e</span><span style=\"color:green;\"> </span>ye n<span style=\"color:red;\">g</span><span style=\"color:red;\">u</span><span style=\"color:red;\">n</span>ob<span style=\"color:red;\">a</span><span style=\"color:green;\">o</span>ndlela</div>"
            ]
          },
          "metadata": {}
        },
        {
          "output_type": "stream",
          "name": "stdout",
          "text": [
            "human:\n",
            "wathi phezu lu komlambo wathi yeyeye yeyeye ngunobandlela\n",
            "\n",
            "model:\n",
            "yeyeyeyeyeyeyeye guleman\n"
          ]
        },
        {
          "output_type": "display_data",
          "data": {
            "text/plain": [
              "<IPython.core.display.HTML object>"
            ],
            "text/html": [
              "<div style='font-family:monospace;'><span style=\"color:green;\">y</span><span style=\"color:green;\">e</span><span style=\"color:green;\">y</span><span style=\"color:green;\">e</span><span style=\"color:green;\">y</span><span style=\"color:green;\">e</span><span style=\"color:green;\">y</span><span style=\"color:green;\">e</span><span style=\"color:green;\">y</span><span style=\"color:green;\">e</span>yeyeye <span style=\"color:red;\">y</span><span style=\"color:red;\">e</span><span style=\"color:red;\">y</span><span style=\"color:red;\">e</span><span style=\"color:red;\">y</span><span style=\"color:red;\">e</span><span style=\"color:red;\"> </span><span style=\"color:red;\">n</span>gu<span style=\"color:red;\">n</span><span style=\"color:red;\">o</span><span style=\"color:red;\">b</span><span style=\"color:green;\">l</span><span style=\"color:green;\">e</span><span style=\"color:green;\">m</span>an<span style=\"color:red;\">d</span><span style=\"color:red;\">l</span><span style=\"color:red;\">e</span><span style=\"color:red;\">l</span><span style=\"color:red;\">a</span></div>"
            ]
          },
          "metadata": {}
        },
        {
          "output_type": "stream",
          "name": "stdout",
          "text": [
            "human:\n",
            "yeyeye yeyeye ngunobandlela\n",
            "\n",
            "model:\n",
            "sensiwenguno myengeletyane enguno wabondla\n"
          ]
        },
        {
          "output_type": "display_data",
          "data": {
            "text/plain": [
              "<IPython.core.display.HTML object>"
            ],
            "text/html": [
              "<div style='font-family:monospace;'>sen<span style=\"color:red;\">z</span><span style=\"color:green;\">s</span>iwe<span style=\"color:red;\"> </span>nguno<span style=\"color:green;\"> </span>myengelet<span style=\"color:green;\">y</span>ane <span style=\"color:green;\">e</span>nguno<span style=\"color:green;\"> </span><span style=\"color:green;\">w</span><span style=\"color:green;\">a</span>b<span style=\"color:red;\">a</span><span style=\"color:green;\">o</span>ndl<span style=\"color:red;\">e</span><span style=\"color:red;\">l</span>a</div>"
            ]
          },
          "metadata": {}
        },
        {
          "output_type": "stream",
          "name": "stdout",
          "text": [
            "human:\n",
            "senziwe ngunomyengeletane ngunobandlela\n",
            "\n",
            "model:\n",
            "ubutyili ubungcani benkosi yetu nobondle\n"
          ]
        },
        {
          "output_type": "display_data",
          "data": {
            "text/plain": [
              "<IPython.core.display.HTML object>"
            ],
            "text/html": [
              "<div style='font-family:monospace;'>ubutyil<span style=\"color:red;\">e</span><span style=\"color:green;\">i</span> ubun<span style=\"color:green;\">g</span>c<span style=\"color:red;\">w</span>an<span style=\"color:red;\">e</span><span style=\"color:green;\">i</span> benkosi yet<span style=\"color:red;\">h</span>u <span style=\"color:red;\">u</span>nob<span style=\"color:red;\">a</span><span style=\"color:green;\">o</span>ndle<span style=\"color:red;\">l</span><span style=\"color:red;\">a</span></div>"
            ]
          },
          "metadata": {}
        },
        {
          "output_type": "stream",
          "name": "stdout",
          "text": [
            "human:\n",
            "ubutyile ubuncwane benkosi yethu unobandlela\n",
            "\n",
            "model:\n",
            "watsiba nqatshona phakathi watsho phansi emanzini\n"
          ]
        },
        {
          "output_type": "display_data",
          "data": {
            "text/plain": [
              "<IPython.core.display.HTML object>"
            ],
            "text/html": [
              "<div style='font-family:monospace;'>watsiba <span style=\"color:red;\">w</span><span style=\"color:green;\">n</span><span style=\"color:green;\">q</span>atshona phakathi watsho phan<span style=\"color:red;\">t</span>si emanzini</div>"
            ]
          },
          "metadata": {}
        },
        {
          "output_type": "stream",
          "name": "stdout",
          "text": [
            "human:\n",
            "watsiba watshona phakathi watsho phantsi emanzini\n",
            "\n",
            "model:\n",
            "lamanzi aligqirha lesityalo\n"
          ]
        },
        {
          "output_type": "display_data",
          "data": {
            "text/plain": [
              "<IPython.core.display.HTML object>"
            ],
            "text/html": [
              "<div style='font-family:monospace;'>la<span style=\"color:red;\"> </span>manzi aligqirha lesityalo</div>"
            ]
          },
          "metadata": {}
        },
        {
          "output_type": "stream",
          "name": "stdout",
          "text": [
            "human:\n",
            "la manzi aligqirha lesityalo\n",
            "\n",
            "model:\n",
            "watho phansi wathi yayaaye ye ngunabane\n"
          ]
        },
        {
          "output_type": "display_data",
          "data": {
            "text/plain": [
              "<IPython.core.display.HTML object>"
            ],
            "text/html": [
              "<div style='font-family:monospace;'>wat<span style=\"color:red;\">s</span>ho phan<span style=\"color:red;\">t</span>si wathi y<span style=\"color:red;\">e</span><span style=\"color:green;\">a</span>y<span style=\"color:red;\">e</span><span style=\"color:green;\">a</span><span style=\"color:green;\">a</span>ye <span style=\"color:red;\">y</span><span style=\"color:red;\">e</span><span style=\"color:red;\">y</span><span style=\"color:red;\">e</span>ye ngun<span style=\"color:red;\">o</span><span style=\"color:green;\">a</span>ban<span style=\"color:red;\">d</span><span style=\"color:red;\">l</span>e<span style=\"color:red;\">l</span><span style=\"color:red;\">a</span></div>"
            ]
          },
          "metadata": {}
        },
        {
          "output_type": "stream",
          "name": "stdout",
          "text": [
            "human:\n",
            "watsho phantsi wathi yeyeye yeyeye ngunobandlela\n",
            "\n",
            "model:\n",
            "iye ngorawa\n"
          ]
        },
        {
          "output_type": "display_data",
          "data": {
            "text/plain": [
              "<IPython.core.display.HTML object>"
            ],
            "text/html": [
              "<div style='font-family:monospace;'><span style=\"color:green;\">i</span><span style=\"color:red;\">y</span><span style=\"color:red;\">e</span><span style=\"color:red;\">y</span><span style=\"color:red;\">e</span><span style=\"color:red;\">y</span><span style=\"color:red;\">e</span><span style=\"color:red;\"> </span><span style=\"color:red;\">y</span><span style=\"color:red;\">e</span><span style=\"color:red;\">y</span><span style=\"color:red;\">e</span>ye ng<span style=\"color:red;\">u</span><span style=\"color:red;\">n</span>o<span style=\"color:red;\">b</span><span style=\"color:green;\">r</span>a<span style=\"color:green;\">w</span><span style=\"color:red;\">n</span><span style=\"color:red;\">d</span><span style=\"color:red;\">l</span><span style=\"color:red;\">e</span><span style=\"color:red;\">l</span>a</div>"
            ]
          },
          "metadata": {}
        },
        {
          "output_type": "stream",
          "name": "stdout",
          "text": [
            "human:\n",
            "yeyeye yeyeye ngunobandlela\n",
            "\n",
            "model:\n",
            "apotyelo kongcani bakasi athoongonabandla\n"
          ]
        },
        {
          "output_type": "display_data",
          "data": {
            "text/plain": [
              "<IPython.core.display.HTML object>"
            ],
            "text/html": [
              "<div style='font-family:monospace;'><span style=\"color:red;\">u</span><span style=\"color:red;\">b</span><span style=\"color:red;\">u</span><span style=\"color:green;\">a</span><span style=\"color:green;\">p</span><span style=\"color:green;\">o</span>ty<span style=\"color:red;\">i</span><span style=\"color:green;\">e</span>l<span style=\"color:red;\">e</span><span style=\"color:green;\">o</span> <span style=\"color:green;\">k</span><span style=\"color:green;\">o</span><span style=\"color:red;\">u</span><span style=\"color:red;\">b</span><span style=\"color:red;\">u</span>n<span style=\"color:green;\">g</span>c<span style=\"color:red;\">w</span>an<span style=\"color:red;\">e</span><span style=\"color:green;\">i</span> b<span style=\"color:green;\">a</span><span style=\"color:red;\">e</span><span style=\"color:red;\">n</span>k<span style=\"color:red;\">o</span><span style=\"color:green;\">a</span>si <span style=\"color:green;\">a</span><span style=\"color:red;\">y</span><span style=\"color:red;\">e</span>th<span style=\"color:green;\">o</span><span style=\"color:green;\">o</span><span style=\"color:red;\">u</span><span style=\"color:red;\"> </span><span style=\"color:red;\">u</span>n<span style=\"color:green;\">g</span>o<span style=\"color:green;\">n</span><span style=\"color:green;\">a</span>bandl<span style=\"color:red;\">e</span><span style=\"color:red;\">l</span>a</div>"
            ]
          },
          "metadata": {}
        },
        {
          "output_type": "stream",
          "name": "stdout",
          "text": [
            "human:\n",
            "ubutyile ubuncwane benkosi yethu unobandlela\n",
            "\n",
            "model:\n",
            "watshona waphela\n"
          ]
        },
        {
          "output_type": "display_data",
          "data": {
            "text/plain": [
              "<IPython.core.display.HTML object>"
            ],
            "text/html": [
              "<div style='font-family:monospace;'>watshona waphela</div>"
            ]
          },
          "metadata": {}
        },
        {
          "output_type": "stream",
          "name": "stdout",
          "text": [
            "human:\n",
            "watshona waphela\n",
            "\n",
            "model:\n",
            "phela phela kantsom yambe ndi ibediwena lolo\n"
          ]
        },
        {
          "output_type": "display_data",
          "data": {
            "text/plain": [
              "<IPython.core.display.HTML object>"
            ],
            "text/html": [
              "<div style='font-family:monospace;'><span style=\"color:red;\">p</span><span style=\"color:red;\">h</span><span style=\"color:red;\">e</span><span style=\"color:red;\">l</span><span style=\"color:red;\">a</span><span style=\"color:red;\">-</span>phela <span style=\"color:red;\">n</span><span style=\"color:red;\">g</span><span style=\"color:green;\">p</span><span style=\"color:green;\">h</span><span style=\"color:green;\">e</span><span style=\"color:green;\">l</span><span style=\"color:green;\">a</span><span style=\"color:green;\"> </span><span style=\"color:green;\">k</span>antsom<span style=\"color:red;\">i</span> yam<span style=\"color:red;\"> </span>be<span style=\"color:green;\"> </span>ndi<span style=\"color:red;\">y</span><span style=\"color:green;\"> </span>i<span style=\"color:green;\">b</span><span style=\"color:red;\">p</span><span style=\"color:red;\">h</span>e<span style=\"color:red;\">t</span><span style=\"color:red;\">h</span><span style=\"color:green;\">d</span><span style=\"color:green;\">i</span><span style=\"color:green;\">w</span>e<span style=\"color:green;\">n</span><span style=\"color:green;\">a</span><span style=\"color:green;\"> </span><span style=\"color:green;\">l</span><span style=\"color:green;\">o</span><span style=\"color:green;\">l</span><span style=\"color:green;\">o</span></div>"
            ]
          },
          "metadata": {}
        },
        {
          "output_type": "stream",
          "name": "stdout",
          "text": [
            "human:\n",
            "phela-phela ngantsomi yam bendiyiphethe\n",
            "\n",
            "model:\n",
            "k igama lamdingu ntomfikile wakahlahla\n"
          ]
        },
        {
          "output_type": "display_data",
          "data": {
            "text/plain": [
              "<IPython.core.display.HTML object>"
            ],
            "text/html": [
              "<div style='font-family:monospace;'><span style=\"color:red;\">o</span>k<span style=\"color:red;\">h</span><span style=\"color:red;\">e</span><span style=\"color:red;\">y</span><span style=\"color:red;\">i</span> igama lam<span style=\"color:red;\"> </span><span style=\"color:red;\">n</span>dingu<span style=\"color:green;\"> </span>ntom<span style=\"color:red;\">b</span><span style=\"color:red;\">i</span>fikile wak<span style=\"color:red;\"> </span><span style=\"color:red;\">w</span><span style=\"color:red;\"> </span>ahla<span style=\"color:green;\">h</span>la</div>"
            ]
          },
          "metadata": {}
        },
        {
          "output_type": "stream",
          "name": "stdout",
          "text": [
            "human:\n",
            "okheyi igama lam ndinguntombifikile wak w ahlala\n",
            "\n",
            "model:\n",
            "ndikhulele kwachase exhorhamalth kwilali ekufushane nasenqilemi\n"
          ]
        },
        {
          "output_type": "display_data",
          "data": {
            "text/plain": [
              "<IPython.core.display.HTML object>"
            ],
            "text/html": [
              "<div style='font-family:monospace;'>ndikhulele kwa<span style=\"color:red;\">t</span><span style=\"color:green;\">c</span><span style=\"color:green;\">h</span><span style=\"color:green;\">a</span>s<span style=\"color:red;\">h</span>e<span style=\"color:red;\">z</span><span style=\"color:red;\">i</span> exhorha<span style=\"color:green;\">m</span><span style=\"color:green;\">a</span><span style=\"color:green;\">l</span><span style=\"color:green;\">t</span><span style=\"color:green;\">h</span> kwilali ekufushane nasenqile<span style=\"color:red;\">n</span><span style=\"color:green;\">m</span>i</div>"
            ]
          },
          "metadata": {}
        },
        {
          "output_type": "stream",
          "name": "stdout",
          "text": [
            "human:\n",
            "ndikhulele kwatshezi exhorha kwilali ekufushane nasenqileni\n",
            "\n",
            "model:\n",
            "ekhaya singabantwana abayi-6 abafana bayi-4 amantombazana ayi-2\n"
          ]
        },
        {
          "output_type": "display_data",
          "data": {
            "text/plain": [
              "<IPython.core.display.HTML object>"
            ],
            "text/html": [
              "<div style='font-family:monospace;'>ekhaya singabantwana abay<span style=\"color:red;\"> </span>i<span style=\"color:green;\">-</span><span style=\"color:green;\">6</span><span style=\"color:red;\"> </span><span style=\"color:red;\">s</span><span style=\"color:red;\">i</span><span style=\"color:red;\">x</span> abafana <span style=\"color:red;\">a</span>bay<span style=\"color:red;\"> </span>i<span style=\"color:green;\">-</span><span style=\"color:green;\">4</span><span style=\"color:red;\"> </span><span style=\"color:red;\">f</span><span style=\"color:red;\">o</span><span style=\"color:red;\">u</span><span style=\"color:red;\">r</span> amantombazana ay<span style=\"color:red;\"> </span>i<span style=\"color:green;\">-</span><span style=\"color:green;\">2</span><span style=\"color:red;\"> </span><span style=\"color:red;\">t</span><span style=\"color:red;\">w</span><span style=\"color:red;\">o</span></div>"
            ]
          },
          "metadata": {}
        },
        {
          "output_type": "stream",
          "name": "stdout",
          "text": [
            "human:\n",
            "ekhaya singabantwana abay i six abafana abay i four amantombazana ay i two\n",
            "\n",
            "model:\n",
            "mnandi ngumntyana wesine ekhaya\n"
          ]
        },
        {
          "output_type": "display_data",
          "data": {
            "text/plain": [
              "<IPython.core.display.HTML object>"
            ],
            "text/html": [
              "<div style='font-family:monospace;'>mna<span style=\"color:red;\"> </span>ndi<span style=\"color:green;\"> </span>ngumnt<span style=\"color:green;\">y</span>ana wesine ekhaya</div>"
            ]
          },
          "metadata": {}
        },
        {
          "output_type": "stream",
          "name": "stdout",
          "text": [
            "human:\n",
            "mna ndingumntana wesine ekhaya\n",
            "\n",
            "model:\n",
            "ngokuyenda ndikhula ndisemncinci sasithanda weyokutheza ehlathini sigqubhe nabahlobo bam\n"
          ]
        },
        {
          "output_type": "display_data",
          "data": {
            "text/plain": [
              "<IPython.core.display.HTML object>"
            ],
            "text/html": [
              "<div style='font-family:monospace;'>ngok<span style=\"color:red;\"> </span>u<span style=\"color:red;\"> </span>y<span style=\"color:green;\">e</span><span style=\"color:red;\">a</span><span style=\"color:red;\"> </span>nda<span style=\"color:green;\"> </span>ndikhula ndisemncinci sasithanda <span style=\"color:red;\">u</span><span style=\"color:green;\">w</span><span style=\"color:green;\">e</span>yokutheza ehlathini si<span style=\"color:green;\">g</span>qubhe nabahlobo bam</div>"
            ]
          },
          "metadata": {}
        },
        {
          "output_type": "stream",
          "name": "stdout",
          "text": [
            "human:\n",
            "ngok u ya ndandikhula ndisemncinci sasithanda uyokutheza ehlathini siqubhe nabahlobo bam\n",
            "\n",
            "model:\n",
            "dandi kwenqena ukupheka\n"
          ]
        },
        {
          "output_type": "display_data",
          "data": {
            "text/plain": [
              "<IPython.core.display.HTML object>"
            ],
            "text/html": [
              "<div style='font-family:monospace;'><span style=\"color:red;\">n</span>dandi<span style=\"color:green;\"> </span>k<span style=\"color:red;\">o</span><span style=\"color:green;\">w</span><span style=\"color:green;\">e</span>nqena ukupheka</div>"
            ]
          },
          "metadata": {}
        },
        {
          "output_type": "stream",
          "name": "stdout",
          "text": [
            "human:\n",
            "ndandikonqena ukupheka\n",
            "\n",
            "model:\n",
            "e anti kwanqena ngokundandi ngomntwana ngoba ndanhlala nomama\n"
          ]
        },
        {
          "output_type": "display_data",
          "data": {
            "text/plain": [
              "<IPython.core.display.HTML object>"
            ],
            "text/html": [
              "<div style='font-family:monospace;'><span style=\"color:red;\">n</span><span style=\"color:red;\">d</span><span style=\"color:green;\">e</span><span style=\"color:green;\"> </span>an<span style=\"color:red;\">d</span><span style=\"color:green;\">t</span>i<span style=\"color:green;\"> </span>k<span style=\"color:red;\">o</span><span style=\"color:green;\">w</span><span style=\"color:green;\">a</span>nqena ngoku<span style=\"color:red;\"> </span>ndandi<span style=\"color:green;\"> </span>ng<span style=\"color:red;\">u</span><span style=\"color:green;\">o</span>mntwana ngoba ndan<span style=\"color:red;\">d</span><span style=\"color:red;\">i</span>hlala nomama</div>"
            ]
          },
          "metadata": {}
        },
        {
          "output_type": "stream",
          "name": "stdout",
          "text": [
            "human:\n",
            "ndandikonqena ngoku ndandingumntwana ngoba ndandihlala nomama\n",
            "\n",
            "model:\n",
            "umama wami wayendiphekela lonke ixesha\n"
          ]
        },
        {
          "output_type": "display_data",
          "data": {
            "text/plain": [
              "<IPython.core.display.HTML object>"
            ],
            "text/html": [
              "<div style='font-family:monospace;'>umama wam<span style=\"color:green;\">i</span> wayendiphekela lonke ixesha</div>"
            ]
          },
          "metadata": {}
        },
        {
          "output_type": "stream",
          "name": "stdout",
          "text": [
            "human:\n",
            "umama wam wayendiphekela lonke ixesha\n",
            "\n",
            "model:\n",
            "hasbo nisena ma\n"
          ]
        },
        {
          "output_type": "display_data",
          "data": {
            "text/plain": [
              "<IPython.core.display.HTML object>"
            ],
            "text/html": [
              "<div style='font-family:monospace;'><span style=\"color:red;\">k</span>ha<span style=\"color:red;\">w</span><span style=\"color:red;\">u</span>s<span style=\"color:red;\">i</span>bo<span style=\"color:green;\"> </span>nise<span style=\"color:green;\">n</span><span style=\"color:green;\">a</span><span style=\"color:red;\"> </span><span style=\"color:red;\">k</span><span style=\"color:red;\">e</span> ma<span style=\"color:red;\">m</span><span style=\"color:red;\">a</span></div>"
            ]
          },
          "metadata": {}
        },
        {
          "output_type": "stream",
          "name": "stdout",
          "text": [
            "human:\n",
            "khawusibonise ke mama\n",
            "\n",
            "model:\n",
            "sesebele\n"
          ]
        },
        {
          "output_type": "display_data",
          "data": {
            "text/plain": [
              "<IPython.core.display.HTML object>"
            ],
            "text/html": [
              "<div style='font-family:monospace;'>se<span style=\"color:red;\">y</span><span style=\"color:red;\">i</span>sebe<span style=\"color:green;\">l</span><span style=\"color:green;\">e</span><span style=\"color:red;\">n</span><span style=\"color:red;\">z</span><span style=\"color:red;\">a</span><span style=\"color:red;\"> </span><span style=\"color:red;\">n</span><span style=\"color:red;\">g</span><span style=\"color:red;\">o</span><span style=\"color:red;\">k</span><span style=\"color:red;\"> </span><span style=\"color:red;\">u</span></div>"
            ]
          },
          "metadata": {}
        },
        {
          "output_type": "stream",
          "name": "stdout",
          "text": [
            "human:\n",
            "seyisebenza ngok u\n",
            "\n",
            "model:\n",
            "lmbn\n"
          ]
        },
        {
          "output_type": "display_data",
          "data": {
            "text/plain": [
              "<IPython.core.display.HTML object>"
            ],
            "text/html": [
              "<div style='font-family:monospace;'><span style=\"color:red;\">n</span><span style=\"color:red;\">g</span><span style=\"color:red;\">a</span>l<span style=\"color:red;\">e</span><span style=\"color:red;\"> </span><span style=\"color:red;\">n</span><span style=\"color:red;\">t</span><span style=\"color:red;\">o</span><span style=\"color:red;\"> </span><span style=\"color:red;\">y</span><span style=\"color:red;\">a</span><span style=\"color:red;\">l</span><span style=\"color:red;\">o</span><span style=\"color:red;\"> </span>mb<span style=\"color:red;\">o</span>n<span style=\"color:red;\">a</span><span style=\"color:red;\"> </span><span style=\"color:red;\">e</span><span style=\"color:red;\">h</span></div>"
            ]
          },
          "metadata": {}
        },
        {
          "output_type": "stream",
          "name": "stdout",
          "text": [
            "human:\n",
            "ngale nto yalo mbona eh\n",
            "\n",
            "model:\n",
            "\n"
          ]
        },
        {
          "output_type": "display_data",
          "data": {
            "text/plain": [
              "<IPython.core.display.HTML object>"
            ],
            "text/html": [
              "<div style='font-family:monospace;'><span style=\"color:red;\">o</span><span style=\"color:red;\">o</span><span style=\"color:red;\">h</span></div>"
            ]
          },
          "metadata": {}
        },
        {
          "output_type": "stream",
          "name": "stdout",
          "text": [
            "human:\n",
            "ooh\n",
            "\n",
            "model:\n",
            "nake kumbaa\n"
          ]
        },
        {
          "output_type": "display_data",
          "data": {
            "text/plain": [
              "<IPython.core.display.HTML object>"
            ],
            "text/html": [
              "<div style='font-family:monospace;'>na<span style=\"color:red;\">n</span><span style=\"color:red;\">k</span><span style=\"color:red;\">u</span><span style=\"color:red;\"> </span>ke <span style=\"color:green;\">k</span>umb<span style=\"color:red;\">o</span><span style=\"color:red;\">n</span>a<span style=\"color:green;\">a</span></div>"
            ]
          },
          "metadata": {}
        },
        {
          "output_type": "stream",
          "name": "stdout",
          "text": [
            "human:\n",
            "nanku ke umbona\n",
            "\n",
            "model:\n",
            "iineneatesaseelaezae\n"
          ]
        },
        {
          "output_type": "display_data",
          "data": {
            "text/plain": [
              "<IPython.core.display.HTML object>"
            ],
            "text/html": [
              "<div style='font-family:monospace;'><span style=\"color:green;\">i</span>in<span style=\"color:red;\">g</span><span style=\"color:green;\">e</span><span style=\"color:green;\">n</span><span style=\"color:green;\">e</span>at<span style=\"color:green;\">e</span><span style=\"color:red;\">h</span><span style=\"color:red;\"> </span><span style=\"color:red;\">i</span><span style=\"color:red;\"> </span><span style=\"color:red;\">u</span>sase<span style=\"color:red;\">b</span>e<span style=\"color:red;\">n</span><span style=\"color:green;\">l</span><span style=\"color:green;\">a</span><span style=\"color:green;\">e</span>za<span style=\"color:red;\"> </span><span style=\"color:red;\">n</span><span style=\"color:red;\">j</span>e</div>"
            ]
          },
          "metadata": {}
        },
        {
          "output_type": "stream",
          "name": "stdout",
          "text": [
            "human:\n",
            "ingath i usasebenza nje\n",
            "\n",
            "model:\n",
            "amia kwenzaua\n"
          ]
        },
        {
          "output_type": "display_data",
          "data": {
            "text/plain": [
              "<IPython.core.display.HTML object>"
            ],
            "text/html": [
              "<div style='font-family:monospace;'><span style=\"color:red;\">h</span>a<span style=\"color:red;\">y</span><span style=\"color:green;\">m</span>i<span style=\"color:green;\">a</span> <span style=\"color:red;\">m</span><span style=\"color:red;\">y</span><span style=\"color:red;\">e</span>k<span style=\"color:green;\">w</span><span style=\"color:red;\">e</span><span style=\"color:red;\"> </span><span style=\"color:red;\">y</span>enza<span style=\"color:green;\">u</span><span style=\"color:red;\"> </span><span style=\"color:red;\">w</span><span style=\"color:red;\">e</span><span style=\"color:red;\">n</span>a</div>"
            ]
          },
          "metadata": {}
        },
        {
          "output_type": "stream",
          "name": "stdout",
          "text": [
            "human:\n",
            "hayi myeke yenza wena\n",
            "\n",
            "model:\n",
            "ayizibiseidlule ayiziudlula zamese ifikile pamwi singekozinkampe ziyabuye\n"
          ]
        },
        {
          "output_type": "display_data",
          "data": {
            "text/plain": [
              "<IPython.core.display.HTML object>"
            ],
            "text/html": [
              "<div style='font-family:monospace;'>ayiz<span style=\"color:red;\">u</span><span style=\"color:green;\">i</span>b<span style=\"color:green;\">i</span><span style=\"color:red;\">e</span><span style=\"color:red;\"> </span>se<span style=\"color:red;\">y</span>idlule ay<span style=\"color:red;\"> </span>i<span style=\"color:red;\"> </span>z<span style=\"color:green;\">i</span>udlula <span style=\"color:red;\">i</span>z<span style=\"color:red;\">o</span><span style=\"color:red;\">b</span><span style=\"color:green;\">a</span><span style=\"color:green;\">m</span><span style=\"color:green;\">e</span><span style=\"color:green;\">s</span>e <span style=\"color:red;\">s</span><span style=\"color:red;\">e</span><span style=\"color:red;\">y</span>ifikile p<span style=\"color:red;\">h</span>a<span style=\"color:green;\">m</span><span style=\"color:green;\">w</span><span style=\"color:green;\">i</span> <span style=\"color:green;\">s</span><span style=\"color:red;\">k</span><span style=\"color:red;\">u</span><span style=\"color:red;\">y</span><span style=\"color:red;\">e</span><span style=\"color:red;\"> </span><span style=\"color:red;\">z</span>ingek<span style=\"color:red;\">h</span>o<span style=\"color:red;\"> </span><span style=\"color:green;\">z</span><span style=\"color:green;\">i</span>n<span style=\"color:red;\">j</span><span style=\"color:green;\">k</span><span style=\"color:green;\">a</span><span style=\"color:green;\">m</span><span style=\"color:green;\">p</span>e <span style=\"color:red;\">i</span><span style=\"color:red;\">i</span><span style=\"color:red;\">n</span><span style=\"color:red;\">t</span><span style=\"color:red;\">a</span><span style=\"color:red;\">m</span><span style=\"color:red;\">b</span><span style=\"color:red;\">o</span><span style=\"color:red;\"> </span><span style=\"color:red;\">e</span>ziya<span style=\"color:green;\">b</span><span style=\"color:red;\"> </span><span style=\"color:red;\">k</span>uye</div>"
            ]
          },
          "metadata": {}
        },
        {
          "output_type": "stream",
          "name": "stdout",
          "text": [
            "human:\n",
            "ayizube seyidlule ay i zudlula izobe seyifikile pha kuye zingekho nje iintambo eziya kuye\n",
            "\n",
            "model:\n",
            "am rekordingysatio do yo want to put i in her pokket kary ilike hizeya  nansialeponhantaga\n"
          ]
        },
        {
          "output_type": "display_data",
          "data": {
            "text/plain": [
              "<IPython.core.display.HTML object>"
            ],
            "text/html": [
              "<div style='font-family:monospace;'><span style=\"color:green;\">a</span><span style=\"color:green;\">m</span><span style=\"color:green;\"> </span><span style=\"color:green;\">r</span><span style=\"color:green;\">e</span><span style=\"color:green;\">k</span><span style=\"color:green;\">o</span><span style=\"color:green;\">r</span><span style=\"color:green;\">d</span><span style=\"color:green;\">i</span><span style=\"color:green;\">n</span><span style=\"color:green;\">g</span><span style=\"color:green;\">y</span><span style=\"color:green;\">s</span><span style=\"color:green;\">a</span><span style=\"color:green;\">t</span><span style=\"color:green;\">i</span><span style=\"color:green;\">o</span><span style=\"color:green;\"> </span><span style=\"color:green;\">d</span><span style=\"color:green;\">o</span><span style=\"color:green;\"> </span><span style=\"color:green;\">y</span><span style=\"color:green;\">o</span><span style=\"color:green;\"> </span><span style=\"color:green;\">w</span><span style=\"color:green;\">a</span><span style=\"color:green;\">n</span><span style=\"color:green;\">t</span><span style=\"color:green;\"> </span><span style=\"color:green;\">t</span><span style=\"color:green;\">o</span><span style=\"color:green;\"> </span><span style=\"color:green;\">p</span><span style=\"color:green;\">u</span><span style=\"color:green;\">t</span><span style=\"color:green;\"> </span><span style=\"color:green;\">i</span><span style=\"color:green;\"> </span><span style=\"color:green;\">i</span><span style=\"color:green;\">n</span><span style=\"color:green;\"> </span><span style=\"color:green;\">h</span><span style=\"color:green;\">e</span><span style=\"color:green;\">r</span><span style=\"color:green;\"> </span><span style=\"color:green;\">p</span><span style=\"color:green;\">o</span><span style=\"color:green;\">k</span><span style=\"color:green;\">k</span><span style=\"color:green;\">e</span><span style=\"color:green;\">t</span><span style=\"color:green;\"> </span><span style=\"color:green;\">k</span><span style=\"color:green;\">a</span><span style=\"color:green;\">r</span><span style=\"color:green;\">y</span><span style=\"color:green;\"> </span><span style=\"color:green;\">i</span><span style=\"color:green;\">l</span><span style=\"color:green;\">i</span><span style=\"color:green;\">k</span><span style=\"color:green;\">e</span><span style=\"color:green;\"> </span><span style=\"color:green;\">h</span><span style=\"color:green;\">i</span><span style=\"color:green;\">z</span><span style=\"color:green;\">e</span><span style=\"color:green;\">y</span><span style=\"color:green;\">a</span><span style=\"color:green;\"> </span><span style=\"color:green;\"> </span>nan<span style=\"color:red;\">t</span>si<span style=\"color:green;\">a</span><span style=\"color:red;\"> </span><span style=\"color:red;\">k</span><span style=\"color:red;\">e</span><span style=\"color:red;\"> </span>le<span style=\"color:red;\"> </span><span style=\"color:red;\">m</span>pon<span style=\"color:red;\">t</span><span style=\"color:red;\">s</span>han<span style=\"color:red;\">e</span><span style=\"color:red;\"> </span><span style=\"color:red;\">n</span><span style=\"color:red;\">d</span><span style=\"color:red;\">i</span>t<span style=\"color:red;\">h</span><span style=\"color:red;\">e</span><span style=\"color:red;\">t</span><span style=\"color:red;\">h</span>a<span style=\"color:red;\"> </span><span style=\"color:red;\">n</span>ga<span style=\"color:red;\">y</span><span style=\"color:red;\">o</span><span style=\"color:red;\"> </span><span style=\"color:red;\">l</span><span style=\"color:red;\">o</span></div>"
            ]
          },
          "metadata": {}
        },
        {
          "output_type": "stream",
          "name": "stdout",
          "text": [
            "human:\n",
            "nantsi ke le mpontshane ndithetha ngayo lo\n",
            "\n",
            "model:\n",
            "impontsanle umbolo ngekavuthoe uqaleke udubule udubula kuphuma le ntshaka\n"
          ]
        },
        {
          "output_type": "display_data",
          "data": {
            "text/plain": [
              "<IPython.core.display.HTML object>"
            ],
            "text/html": [
              "<div style='font-family:monospace;'><span style=\"color:red;\">y</span>imponts<span style=\"color:red;\">h</span>an<span style=\"color:red;\">e</span><span style=\"color:red;\"> </span>le <span style=\"color:red;\">n</span><span style=\"color:red;\">g</span>umbo<span style=\"color:red;\">n</span><span style=\"color:green;\">l</span><span style=\"color:green;\">o</span> <span style=\"color:red;\">a</span><span style=\"color:red;\"> </span><span style=\"color:red;\">o</span>ngekavuth<span style=\"color:green;\">o</span><span style=\"color:red;\">w</span><span style=\"color:red;\">a</span><span style=\"color:red;\"> </span><span style=\"color:red;\">l</span><span style=\"color:red;\"> </span>e<span style=\"color:red;\">h</span><span style=\"color:red;\">e</span><span style=\"color:red;\">h</span> uqale<span style=\"color:red;\"> </span>ke udubule udubula kuphuma le ntshaka</div>"
            ]
          },
          "metadata": {}
        },
        {
          "output_type": "stream",
          "name": "stdout",
          "text": [
            "human:\n",
            "yimpontshane le ngumbon a ongekavuthwa l eheh uqale ke udubule udubula kuphuma le ntshaka\n",
            "\n",
            "model:\n",
            "intshakal udubula kwa e xaso uvuthiwe ziyaminthela ngemifino njitisikha imifino\n"
          ]
        },
        {
          "output_type": "display_data",
          "data": {
            "text/plain": [
              "<IPython.core.display.HTML object>"
            ],
            "text/html": [
              "<div style='font-family:monospace;'><span style=\"color:red;\">y</span>intshaka<span style=\"color:green;\">l</span> <span style=\"color:red;\">l</span><span style=\"color:red;\">e</span><span style=\"color:red;\"> </span><span style=\"color:red;\">u</span><span style=\"color:red;\">k</span>udubula kwa<span style=\"color:red;\">y</span><span style=\"color:red;\">o</span> e<span style=\"color:red;\">h</span> xa<span style=\"color:red;\"> </span>so<span style=\"color:red;\">w</span><span style=\"color:green;\"> </span>uvuthiwe <span style=\"color:green;\">z</span><span style=\"color:green;\">i</span><span style=\"color:green;\">y</span><span style=\"color:green;\">a</span><span style=\"color:green;\">m</span><span style=\"color:green;\">i</span>n<span style=\"color:red;\">j</span><span style=\"color:red;\">e</span><span style=\"color:red;\">n</span><span style=\"color:red;\">g</span><span style=\"color:red;\">o</span><span style=\"color:red;\">k</span><span style=\"color:red;\">u</span><span style=\"color:red;\">b</span><span style=\"color:red;\">a</span><span style=\"color:red;\"> </span><span style=\"color:red;\">b</span><span style=\"color:red;\">e</span><span style=\"color:red;\">n</span><span style=\"color:red;\">d</span><span style=\"color:red;\">i</span>the<span style=\"color:green;\">l</span><span style=\"color:red;\">t</span><span style=\"color:red;\">h</span>a ngemifino n<span style=\"color:red;\">d</span><span style=\"color:green;\">j</span>it<span style=\"color:red;\">h</span>i<span style=\"color:red;\"> </span>sikha imifino</div>"
            ]
          },
          "metadata": {}
        },
        {
          "output_type": "stream",
          "name": "stdout",
          "text": [
            "human:\n",
            "yintshaka le ukudubula kwayo eh xa sowuvuthiwe njengokuba bendithetha ngemifino ndithi sikha imifino\n",
            "\n",
            "model:\n",
            "siphekisigamba yio limii umfinolo lirhole ifin mhale misi njiinqunqa siinqunxe siinqune\n"
          ]
        },
        {
          "output_type": "display_data",
          "data": {
            "text/plain": [
              "<IPython.core.display.HTML object>"
            ],
            "text/html": [
              "<div style='font-family:monospace;'>siphek<span style=\"color:red;\"> </span><span style=\"color:red;\">e</span><span style=\"color:red;\"> </span>isig<span style=\"color:red;\">w</span>am<span style=\"color:red;\">p</span><span style=\"color:green;\">b</span>a <span style=\"color:red;\">n</span><span style=\"color:red;\">g</span><span style=\"color:red;\">a</span>y<span style=\"color:green;\">i</span>o l<span style=\"color:green;\">i</span><span style=\"color:green;\">m</span><span style=\"color:green;\">i</span><span style=\"color:green;\">i</span> <span style=\"color:green;\">u</span><span style=\"color:green;\">m</span><span style=\"color:green;\">f</span><span style=\"color:green;\">i</span><span style=\"color:green;\">n</span><span style=\"color:green;\">o</span><span style=\"color:green;\">l</span><span style=\"color:green;\">o</span><span style=\"color:green;\"> </span><span style=\"color:green;\">l</span><span style=\"color:green;\">i</span><span style=\"color:green;\">r</span><span style=\"color:green;\">h</span><span style=\"color:green;\">o</span><span style=\"color:green;\">l</span>e <span style=\"color:red;\">i</span><span style=\"color:red;\">m</span>ifin<span style=\"color:red;\">o</span> <span style=\"color:red;\">n</span><span style=\"color:red;\">g</span><span style=\"color:red;\">u</span>m<span style=\"color:red;\"> </span><span style=\"color:red;\">f</span><span style=\"color:red;\">i</span><span style=\"color:red;\">n</span><span style=\"color:red;\">o</span><span style=\"color:red;\"> </span><span style=\"color:red;\">l</span><span style=\"color:red;\">o</span><span style=\"color:red;\"> </span><span style=\"color:red;\">s</span><span style=\"color:red;\">i</span><span style=\"color:red;\">k</span>ha<span style=\"color:red;\"> </span>le mi<span style=\"color:red;\">f</span><span style=\"color:red;\">i</span><span style=\"color:red;\">n</span><span style=\"color:red;\">o</span><span style=\"color:red;\"> </span>si<span style=\"color:red;\">y</span><span style=\"color:green;\"> </span><span style=\"color:green;\">n</span><span style=\"color:green;\">j</span><span style=\"color:green;\">i</span>inqunq<span style=\"color:red;\">e</span><span style=\"color:green;\">a</span> si<span style=\"color:red;\">y</span>inqun<span style=\"color:red;\">q</span><span style=\"color:green;\">x</span>e si<span style=\"color:red;\">y</span>inqun<span style=\"color:red;\">q</span>e</div>"
            ]
          },
          "metadata": {}
        },
        {
          "output_type": "stream",
          "name": "stdout",
          "text": [
            "human:\n",
            "siphek e isigwampa ngayo l e imifino ngum fino lo sikha le mifino siyinqunqe siyinqunqe siyinqunqe\n",
            "\n",
            "model:\n",
            "sipeke\n"
          ]
        },
        {
          "output_type": "display_data",
          "data": {
            "text/plain": [
              "<IPython.core.display.HTML object>"
            ],
            "text/html": [
              "<div style='font-family:monospace;'>si<span style=\"color:red;\">y</span><span style=\"color:red;\">i</span>p<span style=\"color:red;\">h</span>eke</div>"
            ]
          },
          "metadata": {}
        },
        {
          "output_type": "stream",
          "name": "stdout",
          "text": [
            "human:\n",
            "siyipheke\n",
            "\n",
            "model:\n",
            "xa sowumili umbona sawuguba sithela lento sithelu ngubo sibonde kwityino\n"
          ]
        },
        {
          "output_type": "display_data",
          "data": {
            "text/plain": [
              "<IPython.core.display.HTML object>"
            ],
            "text/html": [
              "<div style='font-family:monospace;'>xa sow<span style=\"color:red;\">o</span><span style=\"color:green;\">u</span>mil<span style=\"color:red;\">e</span><span style=\"color:green;\">i</span> umbona sawuguba sithela le<span style=\"color:red;\"> </span>nto sithel<span style=\"color:red;\">e</span><span style=\"color:green;\">u</span> <span style=\"color:green;\">n</span><span style=\"color:red;\">u</span><span style=\"color:red;\">m</span>gubo sibonde k<span style=\"color:red;\">u</span><span style=\"color:green;\">w</span><span style=\"color:green;\">i</span>tyi<span style=\"color:red;\">w</span><span style=\"color:red;\">e</span><span style=\"color:green;\">n</span><span style=\"color:green;\">o</span></div>"
            ]
          },
          "metadata": {}
        },
        {
          "output_type": "stream",
          "name": "stdout",
          "text": [
            "human:\n",
            "xa sowomile umbona sawuguba sithela le nto sithele umgubo sibonde kutyiwe\n",
            "\n",
            "model:\n",
            "elo kumbhona lo\n"
          ]
        },
        {
          "output_type": "display_data",
          "data": {
            "text/plain": [
              "<IPython.core.display.HTML object>"
            ],
            "text/html": [
              "<div style='font-family:monospace;'>e<span style=\"color:red;\">w</span><span style=\"color:red;\">e</span><span style=\"color:red;\"> </span>lo <span style=\"color:green;\">k</span><span style=\"color:red;\">n</span><span style=\"color:red;\">g</span>umb<span style=\"color:green;\">h</span>ona lo</div>"
            ]
          },
          "metadata": {}
        },
        {
          "output_type": "stream",
          "name": "stdout",
          "text": [
            "human:\n",
            "ewe lo ngumbona lo\n",
            "\n",
            "model:\n",
            "o se uu\n"
          ]
        },
        {
          "output_type": "display_data",
          "data": {
            "text/plain": [
              "<IPython.core.display.HTML object>"
            ],
            "text/html": [
              "<div style='font-family:monospace;'><span style=\"color:green;\">o</span><span style=\"color:green;\"> </span>s<span style=\"color:red;\">i</span><span style=\"color:red;\">b</span><span style=\"color:red;\">o</span><span style=\"color:red;\">n</span><span style=\"color:red;\">d</span>e<span style=\"color:green;\"> </span><span style=\"color:green;\">u</span><span style=\"color:green;\">u</span></div>"
            ]
          },
          "metadata": {}
        },
        {
          "output_type": "stream",
          "name": "stdout",
          "text": [
            "human:\n",
            "sibonde\n",
            "\n",
            "model:\n",
            "souvuthi welo\n"
          ]
        },
        {
          "output_type": "display_data",
          "data": {
            "text/plain": [
              "<IPython.core.display.HTML object>"
            ],
            "text/html": [
              "<div style='font-family:monospace;'>so<span style=\"color:red;\">w</span><span style=\"color:red;\"> </span>u<span style=\"color:red;\"> </span>vuthi<span style=\"color:green;\"> </span>we<span style=\"color:red;\"> </span>lo</div>"
            ]
          },
          "metadata": {}
        },
        {
          "output_type": "stream",
          "name": "stdout",
          "text": [
            "human:\n",
            "sow u vuthiwe lo\n",
            "\n",
            "model:\n",
            "gulobe nteda ngamtiisi yawikha sipheke ibhanqi\n"
          ]
        },
        {
          "output_type": "display_data",
          "data": {
            "text/plain": [
              "<IPython.core.display.HTML object>"
            ],
            "text/html": [
              "<div style='font-family:monospace;'><span style=\"color:red;\">n</span>gulo<span style=\"color:red;\"> </span>be<span style=\"color:green;\"> </span>n<span style=\"color:green;\">t</span><span style=\"color:green;\">e</span>d<span style=\"color:red;\">i</span><span style=\"color:red;\">t</span><span style=\"color:red;\">h</span><span style=\"color:red;\">e</span><span style=\"color:red;\">t</span><span style=\"color:red;\">h</span>a nga<span style=\"color:green;\">m</span><span style=\"color:green;\">t</span><span style=\"color:green;\">i</span><span style=\"color:red;\">w</span><span style=\"color:red;\">o</span><span style=\"color:red;\"> </span><span style=\"color:red;\">n</span><span style=\"color:red;\">d</span>isi<span style=\"color:red;\">t</span><span style=\"color:red;\">h</span><span style=\"color:red;\">i</span> <span style=\"color:red;\">s</span><span style=\"color:red;\">i</span>yaw<span style=\"color:red;\">u</span><span style=\"color:green;\">i</span>kha sipheke ibhanq<span style=\"color:red;\">a</span><span style=\"color:green;\">i</span></div>"
            ]
          },
          "metadata": {}
        },
        {
          "output_type": "stream",
          "name": "stdout",
          "text": [
            "human:\n",
            "ngulo bendithetha ngawo ndisithi siyawukha sipheke ibhanqa\n",
            "\n",
            "model:\n",
            "yebwena\n"
          ]
        },
        {
          "output_type": "display_data",
          "data": {
            "text/plain": [
              "<IPython.core.display.HTML object>"
            ],
            "text/html": [
              "<div style='font-family:monospace;'><span style=\"color:red;\">u</span>y<span style=\"color:red;\">a</span><span style=\"color:green;\">e</span>b<span style=\"color:red;\">o</span><span style=\"color:green;\">w</span><span style=\"color:green;\">e</span>na</div>"
            ]
          },
          "metadata": {}
        },
        {
          "output_type": "stream",
          "name": "stdout",
          "text": [
            "human:\n",
            "uyabona\n",
            "\n",
            "model:\n",
            "ngowepale ngokula\n"
          ]
        },
        {
          "output_type": "display_data",
          "data": {
            "text/plain": [
              "<IPython.core.display.HTML object>"
            ],
            "text/html": [
              "<div style='font-family:monospace;'><span style=\"color:red;\">l</span><span style=\"color:red;\">o</span><span style=\"color:red;\"> </span>ngowe<span style=\"color:green;\">p</span><span style=\"color:red;\">b</span><span style=\"color:red;\">h</span>a<span style=\"color:green;\">l</span><span style=\"color:green;\">e</span><span style=\"color:red;\">n</span><span style=\"color:red;\">q</span><span style=\"color:red;\">a</span> ngoku<span style=\"color:red;\"> </span>l<span style=\"color:red;\">o</span><span style=\"color:green;\">a</span></div>"
            ]
          },
          "metadata": {}
        },
        {
          "output_type": "stream",
          "name": "stdout",
          "text": [
            "human:\n",
            "lo ngowebhanqa ngoku lo\n",
            "\n",
            "model:\n",
            "libhanqa ehle\n"
          ]
        },
        {
          "output_type": "display_data",
          "data": {
            "text/plain": [
              "<IPython.core.display.HTML object>"
            ],
            "text/html": [
              "<div style='font-family:monospace;'>libhanqa e<span style=\"color:green;\">h</span>l<span style=\"color:red;\">i</span><span style=\"color:green;\">e</span></div>"
            ]
          },
          "metadata": {}
        },
        {
          "output_type": "stream",
          "name": "stdout",
          "text": [
            "human:\n",
            "libhanqa eli\n",
            "\n",
            "model:\n",
            "aukaxiiliso\n"
          ]
        },
        {
          "output_type": "display_data",
          "data": {
            "text/plain": [
              "<IPython.core.display.HTML object>"
            ],
            "text/html": [
              "<div style='font-family:monospace;'>a<span style=\"color:red;\">w</span>uka<span style=\"color:red;\">q</span><span style=\"color:green;\">x</span>i<span style=\"color:red;\">n</span>i<span style=\"color:green;\">l</span><span style=\"color:green;\">i</span><span style=\"color:green;\">s</span><span style=\"color:green;\">o</span></div>"
            ]
          },
          "metadata": {}
        },
        {
          "output_type": "stream",
          "name": "stdout",
          "text": [
            "human:\n",
            "awukaqini\n",
            "\n",
            "model:\n",
            "s useyeehn yanga\n"
          ]
        },
        {
          "output_type": "display_data",
          "data": {
            "text/plain": [
              "<IPython.core.display.HTML object>"
            ],
            "text/html": [
              "<div style='font-family:monospace;'><span style=\"color:green;\">s</span><span style=\"color:green;\"> </span>use<span style=\"color:green;\">y</span><span style=\"color:green;\">e</span><span style=\"color:green;\">e</span><span style=\"color:green;\">h</span><span style=\"color:green;\">n</span> y<span style=\"color:green;\">a</span><span style=\"color:red;\">o</span><span style=\"color:red;\">u</span>ng<span style=\"color:green;\">a</span></div>"
            ]
          },
          "metadata": {}
        },
        {
          "output_type": "stream",
          "name": "stdout",
          "text": [
            "human:\n",
            "use young\n",
            "\n",
            "model:\n",
            "qubesu uule\n"
          ]
        },
        {
          "output_type": "display_data",
          "data": {
            "text/plain": [
              "<IPython.core.display.HTML object>"
            ],
            "text/html": [
              "<div style='font-family:monospace;'><span style=\"color:green;\">q</span><span style=\"color:red;\">s</span><span style=\"color:red;\">i</span><span style=\"color:red;\">w</span><span style=\"color:red;\">u</span><span style=\"color:red;\">x</span>ube<span style=\"color:green;\">s</span><span style=\"color:green;\">u</span> <span style=\"color:red;\">s</span><span style=\"color:red;\">i</span><span style=\"color:red;\">w</span>u<span style=\"color:red;\">h</span><span style=\"color:red;\">l</span><span style=\"color:red;\">u</span><span style=\"color:red;\">b</span>ule</div>"
            ]
          },
          "metadata": {}
        },
        {
          "output_type": "stream",
          "name": "stdout",
          "text": [
            "human:\n",
            "siwuxube siwuhlubule\n",
            "\n",
            "model:\n",
            "siyokupheka kingulu\n"
          ]
        },
        {
          "output_type": "display_data",
          "data": {
            "text/plain": [
              "<IPython.core.display.HTML object>"
            ],
            "text/html": [
              "<div style='font-family:monospace;'>siyo<span style=\"color:red;\">w</span><span style=\"color:green;\">k</span>upheka k<span style=\"color:green;\">i</span><span style=\"color:red;\">e</span><span style=\"color:red;\"> </span>ng<span style=\"color:red;\">o</span><span style=\"color:red;\">k</span>u<span style=\"color:green;\">l</span><span style=\"color:green;\">u</span></div>"
            ]
          },
          "metadata": {}
        },
        {
          "output_type": "stream",
          "name": "stdout",
          "text": [
            "human:\n",
            "siyowupheka ke ngoku\n",
            "\n",
            "model:\n",
            "õ\n"
          ]
        },
        {
          "output_type": "display_data",
          "data": {
            "text/plain": [
              "<IPython.core.display.HTML object>"
            ],
            "text/html": [
              "<div style='font-family:monospace;'><span style=\"color:green;\">õ</span><span style=\"color:red;\">u</span><span style=\"color:red;\">h</span><span style=\"color:red;\">u</span><span style=\"color:red;\">m</span><span style=\"color:red;\"> </span><span style=\"color:red;\">o</span><span style=\"color:red;\">h</span></div>"
            ]
          },
          "metadata": {}
        },
        {
          "output_type": "stream",
          "name": "stdout",
          "text": [
            "human:\n",
            "uhum oh\n",
            "\n",
            "model:\n",
            "cap\n"
          ]
        },
        {
          "output_type": "display_data",
          "data": {
            "text/plain": [
              "<IPython.core.display.HTML object>"
            ],
            "text/html": [
              "<div style='font-family:monospace;'><span style=\"color:green;\">c</span><span style=\"color:green;\">a</span><span style=\"color:red;\">s</span><span style=\"color:red;\">i</span><span style=\"color:red;\">y</span><span style=\"color:red;\">o</span><span style=\"color:red;\">w</span><span style=\"color:red;\"> </span><span style=\"color:red;\">u</span><span style=\"color:red;\"> </span>p<span style=\"color:red;\">h</span><span style=\"color:red;\">e</span><span style=\"color:red;\">k</span><span style=\"color:red;\">a</span></div>"
            ]
          },
          "metadata": {}
        },
        {
          "output_type": "stream",
          "name": "stdout",
          "text": [
            "human:\n",
            "siyow u pheka\n",
            "\n",
            "model:\n",
            "xavuthi wekea\n"
          ]
        },
        {
          "output_type": "display_data",
          "data": {
            "text/plain": [
              "<IPython.core.display.HTML object>"
            ],
            "text/html": [
              "<div style='font-family:monospace;'><span style=\"color:red;\">o</span><span style=\"color:red;\">h</span><span style=\"color:red;\"> </span>xa<span style=\"color:red;\"> </span><span style=\"color:red;\">u</span>vuthi<span style=\"color:green;\"> </span>we<span style=\"color:red;\"> </span>ke<span style=\"color:green;\">a</span><span style=\"color:red;\"> </span><span style=\"color:red;\">n</span><span style=\"color:red;\">g</span><span style=\"color:red;\">o</span><span style=\"color:red;\">k</span><span style=\"color:red;\">u</span></div>"
            ]
          },
          "metadata": {}
        },
        {
          "output_type": "stream",
          "name": "stdout",
          "text": [
            "human:\n",
            "oh xa uvuthiwe ke ngoku\n",
            "\n",
            "model:\n",
            "utamel\n"
          ]
        },
        {
          "output_type": "display_data",
          "data": {
            "text/plain": [
              "<IPython.core.display.HTML object>"
            ],
            "text/html": [
              "<div style='font-family:monospace;'><span style=\"color:red;\">n</span><span style=\"color:red;\">g</span><span style=\"color:red;\">o</span><span style=\"color:red;\">b</span><span style=\"color:red;\">a</span><span style=\"color:red;\"> </span><span style=\"color:red;\">s</span><span style=\"color:red;\">o</span><span style=\"color:red;\">w</span>ut<span style=\"color:red;\">h</span>am<span style=\"color:green;\">e</span><span style=\"color:red;\">b</span><span style=\"color:red;\">i</span>l<span style=\"color:red;\">e</span></div>"
            ]
          },
          "metadata": {}
        },
        {
          "output_type": "stream",
          "name": "stdout",
          "text": [
            "human:\n",
            "ngoba sowuthambile\n",
            "\n",
            "model:\n",
            "xaso uxinileke ngokho ungasathamba\n"
          ]
        },
        {
          "output_type": "display_data",
          "data": {
            "text/plain": [
              "<IPython.core.display.HTML object>"
            ],
            "text/html": [
              "<div style='font-family:monospace;'>xa<span style=\"color:green;\">s</span><span style=\"color:green;\">o</span> <span style=\"color:red;\">s</span><span style=\"color:red;\">e</span><span style=\"color:red;\">w</span>u<span style=\"color:red;\">q</span><span style=\"color:green;\">x</span>inile<span style=\"color:red;\"> </span>ke ngok<span style=\"color:red;\">u</span><span style=\"color:green;\">h</span><span style=\"color:green;\">o</span> ungasathamba<span style=\"color:red;\">n</span><span style=\"color:red;\">g</span><span style=\"color:red;\">a</span><span style=\"color:red;\"> </span><span style=\"color:red;\">u</span><span style=\"color:red;\">y</span><span style=\"color:red;\">a</span><span style=\"color:red;\">b</span><span style=\"color:red;\">o</span><span style=\"color:red;\">n</span><span style=\"color:red;\">a</span></div>"
            ]
          },
          "metadata": {}
        },
        {
          "output_type": "stream",
          "name": "stdout",
          "text": [
            "human:\n",
            "xa sewuqinile ke ngoku ungasathambanga uyabona\n",
            "\n",
            "model:\n",
            "aca uthambile ufuwaku munwe utshona\n"
          ]
        },
        {
          "output_type": "display_data",
          "data": {
            "text/plain": [
              "<IPython.core.display.HTML object>"
            ],
            "text/html": [
              "<div style='font-family:monospace;'><span style=\"color:green;\">a</span><span style=\"color:green;\">c</span><span style=\"color:red;\">k</span><span style=\"color:red;\">e</span><span style=\"color:red;\"> </span><span style=\"color:red;\">x</span>a uthambile uf<span style=\"color:green;\">u</span><span style=\"color:green;\">w</span>ak<span style=\"color:green;\">u</span> <span style=\"color:green;\">m</span><span style=\"color:red;\">a</span><span style=\"color:red;\"> </span>u<span style=\"color:red;\">m</span>nwe<span style=\"color:red;\"> </span><span style=\"color:red;\">u</span><span style=\"color:red;\">y</span><span style=\"color:red;\">a</span><span style=\"color:red;\">b</span><span style=\"color:red;\">o</span><span style=\"color:red;\">n</span><span style=\"color:red;\">a</span> utshon<span style=\"color:red;\">e</span><span style=\"color:green;\">a</span></div>"
            ]
          },
          "metadata": {}
        },
        {
          "output_type": "stream",
          "name": "stdout",
          "text": [
            "human:\n",
            "ke xa uthambile ufak a umnwe uyabona utshone\n",
            "\n",
            "model:\n",
            "k'asok'iniile ungacso numune\n"
          ]
        },
        {
          "output_type": "display_data",
          "data": {
            "text/plain": [
              "<IPython.core.display.HTML object>"
            ],
            "text/html": [
              "<div style='font-family:monospace;'><span style=\"color:red;\">x</span><span style=\"color:green;\">k</span><span style=\"color:green;\">'</span>a<span style=\"color:red;\"> </span>so<span style=\"color:green;\">k</span><span style=\"color:green;\">'</span><span style=\"color:red;\">w</span><span style=\"color:red;\">u</span><span style=\"color:red;\">q</span>in<span style=\"color:green;\">i</span>ile unga<span style=\"color:red;\">t</span><span style=\"color:green;\">c</span>s<span style=\"color:red;\">h</span>o<span style=\"color:green;\"> </span>n<span style=\"color:red;\"> </span><span style=\"color:red;\">i</span><span style=\"color:red;\"> </span>um<span style=\"color:green;\">u</span>n<span style=\"color:red;\">w</span>e</div>"
            ]
          },
          "metadata": {}
        },
        {
          "output_type": "stream",
          "name": "stdout",
          "text": [
            "human:\n",
            "xa sowuqinile ungatshon i umnwe\n",
            "\n",
            "model:\n",
            "siyamoja\n"
          ]
        },
        {
          "output_type": "display_data",
          "data": {
            "text/plain": [
              "<IPython.core.display.HTML object>"
            ],
            "text/html": [
              "<div style='font-family:monospace;'>siyamoja</div>"
            ]
          },
          "metadata": {}
        },
        {
          "output_type": "stream",
          "name": "stdout",
          "text": [
            "human:\n",
            "siyamoja\n",
            "\n",
            "model:\n",
            "pallalleplelel\n"
          ]
        },
        {
          "output_type": "display_data",
          "data": {
            "text/plain": [
              "<IPython.core.display.HTML object>"
            ],
            "text/html": [
              "<div style='font-family:monospace;'><span style=\"color:green;\">p</span><span style=\"color:red;\">o</span><span style=\"color:red;\">k</span>a<span style=\"color:red;\">y</span><span style=\"color:green;\">l</span><span style=\"color:green;\">l</span><span style=\"color:green;\">a</span><span style=\"color:green;\">l</span><span style=\"color:green;\">l</span><span style=\"color:green;\">e</span><span style=\"color:green;\">p</span><span style=\"color:green;\">l</span><span style=\"color:green;\">e</span><span style=\"color:green;\">l</span><span style=\"color:green;\">e</span><span style=\"color:green;\">l</span></div>"
            ]
          },
          "metadata": {}
        },
        {
          "output_type": "stream",
          "name": "stdout",
          "text": [
            "human:\n",
            "okay\n",
            "\n",
            "model:\n",
            "yasibasumlilo simotshe njengobubraya okanye si ukufaka kwibraya\n"
          ]
        },
        {
          "output_type": "display_data",
          "data": {
            "text/plain": [
              "<IPython.core.display.HTML object>"
            ],
            "text/html": [
              "<div style='font-family:monospace;'>y<span style=\"color:red;\">h</span>a<span style=\"color:red;\"> </span>sibas<span style=\"color:red;\"> </span><span style=\"color:red;\">a</span><span style=\"color:red;\"> </span>umlilo simo<span style=\"color:red;\">j</span><span style=\"color:green;\">t</span><span style=\"color:green;\">s</span><span style=\"color:green;\">h</span>e njengo<span style=\"color:red;\">k</span><span style=\"color:red;\">u</span>b<span style=\"color:red;\">a</span><span style=\"color:red;\"> </span>ubra<span style=\"color:red;\">a</span><span style=\"color:red;\">i</span>ya okanye si<span style=\"color:red;\">w</span><span style=\"color:green;\"> </span><span style=\"color:green;\">u</span><span style=\"color:green;\">k</span>ufak<span style=\"color:red;\">e</span><span style=\"color:green;\">a</span> kwi<span style=\"color:red;\">-</span>bra<span style=\"color:red;\">a</span><span style=\"color:red;\">i</span>ya</div>"
            ]
          },
          "metadata": {}
        },
        {
          "output_type": "stream",
          "name": "stdout",
          "text": [
            "human:\n",
            "yha sibas a umlilo simoje njengokuba ubraaiya okanye siwufake kwi-braaiya\n",
            "\n",
            "model:\n",
            "uwajeke suike\n"
          ]
        },
        {
          "output_type": "display_data",
          "data": {
            "text/plain": [
              "<IPython.core.display.HTML object>"
            ],
            "text/html": [
              "<div style='font-family:monospace;'><span style=\"color:green;\">u</span>w<span style=\"color:red;\">o</span><span style=\"color:green;\">a</span>jeke s<span style=\"color:green;\">u</span>i<span style=\"color:green;\">k</span><span style=\"color:red;\">w</span><span style=\"color:red;\">u</span><span style=\"color:red;\">t</span><span style=\"color:red;\">y</span>e</div>"
            ]
          },
          "metadata": {}
        },
        {
          "output_type": "stream",
          "name": "stdout",
          "text": [
            "human:\n",
            "wojeke siwutye\n",
            "\n",
            "model:\n",
            "umlandi kakhulu uke ca sowojiwe\n"
          ]
        },
        {
          "output_type": "display_data",
          "data": {
            "text/plain": [
              "<IPython.core.display.HTML object>"
            ],
            "text/html": [
              "<div style='font-family:monospace;'>um<span style=\"color:red;\">n</span><span style=\"color:green;\">l</span>andi kakhulu <span style=\"color:green;\">u</span>ke <span style=\"color:red;\">x</span><span style=\"color:green;\">c</span>a sowojiwe<span style=\"color:red;\"> </span><span style=\"color:red;\">u</span><span style=\"color:red;\">m</span><span style=\"color:red;\">b</span><span style=\"color:red;\">o</span><span style=\"color:red;\">n</span><span style=\"color:red;\">a</span></div>"
            ]
          },
          "metadata": {}
        },
        {
          "output_type": "stream",
          "name": "stdout",
          "text": [
            "human:\n",
            "umnandi kakhulu ke xa sowojiwe umbona\n",
            "\n",
            "model:\n",
            "ee ndwendene febi\n"
          ]
        },
        {
          "output_type": "display_data",
          "data": {
            "text/plain": [
              "<IPython.core.display.HTML object>"
            ],
            "text/html": [
              "<div style='font-family:monospace;'>e<span style=\"color:red;\">w</span>e <span style=\"color:red;\">y</span><span style=\"color:red;\">i</span>n<span style=\"color:green;\">d</span><span style=\"color:red;\">t</span><span style=\"color:red;\">o</span><span style=\"color:red;\">n</span><span style=\"color:red;\">i</span><span style=\"color:red;\"> </span><span style=\"color:red;\">n</span><span style=\"color:red;\">t</span>wen<span style=\"color:red;\">y</span><span style=\"color:green;\">d</span><span style=\"color:green;\">e</span><span style=\"color:green;\">n</span>e <span style=\"color:green;\">f</span><span style=\"color:green;\">e</span><span style=\"color:red;\">n</span><span style=\"color:red;\">g</span><span style=\"color:red;\">o</span><span style=\"color:red;\">k</span><span style=\"color:red;\">u</span><span style=\"color:red;\"> </span><span style=\"color:red;\">g</span><span style=\"color:red;\">q</span><span style=\"color:red;\">i</span>bi<span style=\"color:red;\">l</span><span style=\"color:red;\">e</span></div>"
            ]
          },
          "metadata": {}
        },
        {
          "output_type": "stream",
          "name": "stdout",
          "text": [
            "human:\n",
            "ewe yintoni ntwenye ngoku gqibile\n",
            "\n",
            "model:\n",
            "kulafuke ngokuve kuici xasowumile nongqoshi\n"
          ]
        },
        {
          "output_type": "display_data",
          "data": {
            "text/plain": [
              "<IPython.core.display.HTML object>"
            ],
            "text/html": [
              "<div style='font-family:monospace;'><span style=\"color:red;\">o</span><span style=\"color:red;\">h</span><span style=\"color:red;\"> </span><span style=\"color:red;\">o</span><span style=\"color:red;\">k</span><span style=\"color:red;\">e</span><span style=\"color:red;\">y</span><span style=\"color:red;\"> </span>kula<span style=\"color:green;\">f</span><span style=\"color:green;\">u</span><span style=\"color:red;\">p</span><span style=\"color:red;\">h</span><span style=\"color:red;\">o</span><span style=\"color:red;\"> </span>ke ngoku<span style=\"color:green;\">v</span><span style=\"color:green;\">e</span><span style=\"color:green;\"> </span><span style=\"color:green;\">k</span><span style=\"color:green;\">u</span><span style=\"color:green;\">i</span><span style=\"color:green;\">c</span><span style=\"color:green;\">i</span> xa<span style=\"color:red;\"> </span>sow<span style=\"color:red;\">o</span><span style=\"color:green;\">u</span>mile n<span style=\"color:green;\">o</span><span style=\"color:red;\">i</span><span style=\"color:red;\">w</span><span style=\"color:red;\">u</span>ngq<span style=\"color:red;\">u</span><span style=\"color:green;\">o</span>sh<span style=\"color:red;\">e</span><span style=\"color:green;\">i</span></div>"
            ]
          },
          "metadata": {}
        },
        {
          "output_type": "stream",
          "name": "stdout",
          "text": [
            "human:\n",
            "oh okey kulapho ke ngoku xa sowomile niwungqushe\n",
            "\n",
            "model:\n",
            "isiqqusheke ngoxas okumindle e oalukhula asetindi laeyalhlakula\n"
          ]
        },
        {
          "output_type": "display_data",
          "data": {
            "text/plain": [
              "<IPython.core.display.HTML object>"
            ],
            "text/html": [
              "<div style='font-family:monospace;'><span style=\"color:green;\">i</span>si<span style=\"color:green;\">q</span><span style=\"color:red;\">w</span><span style=\"color:red;\">u</span><span style=\"color:red;\">n</span><span style=\"color:red;\">g</span>qushe<span style=\"color:red;\"> </span>ke ngo<span style=\"color:green;\">x</span><span style=\"color:green;\">a</span><span style=\"color:green;\">s</span><span style=\"color:green;\"> </span><span style=\"color:green;\">o</span>ku<span style=\"color:red;\"> </span><span style=\"color:red;\">x</span><span style=\"color:red;\">a</span><span style=\"color:red;\"> </span><span style=\"color:red;\">s</span><span style=\"color:red;\">e</span><span style=\"color:red;\">w</span><span style=\"color:red;\">o</span>mi<span style=\"color:green;\">n</span><span style=\"color:green;\">d</span>le e<span style=\"color:red;\">h</span> o<span style=\"color:green;\">a</span>lu<span style=\"color:red;\"> </span>khula <span style=\"color:green;\">a</span>s<span style=\"color:green;\">e</span><span style=\"color:green;\">t</span>i<span style=\"color:red;\">t</span><span style=\"color:red;\">h</span><span style=\"color:red;\">i</span><span style=\"color:red;\"> </span>ndi<span style=\"color:green;\"> </span><span style=\"color:green;\">l</span><span style=\"color:green;\">a</span><span style=\"color:green;\">e</span>yal<span style=\"color:red;\">u</span><span style=\"color:red;\">h</span><span style=\"color:red;\">l</span><span style=\"color:red;\">a</span><span style=\"color:red;\"> </span><span style=\"color:red;\">s</span><span style=\"color:red;\">i</span><span style=\"color:red;\">y</span><span style=\"color:red;\">a</span><span style=\"color:red;\">l</span><span style=\"color:red;\">u</span>hlakula</div>"
            ]
          },
          "metadata": {}
        },
        {
          "output_type": "stream",
          "name": "stdout",
          "text": [
            "human:\n",
            "siwungqushe ke ngoku xa sewomile eh olu khula sithi ndiyaluhla siyaluhlakula\n",
            "\n",
            "model:\n",
            "le ulo olu zukwu ulo olo\n"
          ]
        },
        {
          "output_type": "display_data",
          "data": {
            "text/plain": [
              "<IPython.core.display.HTML object>"
            ],
            "text/html": [
              "<div style='font-family:monospace;'>l<span style=\"color:green;\">e</span><span style=\"color:green;\"> </span>ul<span style=\"color:red;\"> </span>o olu <span style=\"color:red;\">l</span><span style=\"color:green;\">z</span>uk<span style=\"color:red;\">h</span><span style=\"color:green;\">w</span><span style=\"color:green;\">u</span><span style=\"color:green;\"> </span>ul<span style=\"color:red;\">u</span><span style=\"color:green;\">o</span> ol<span style=\"color:red;\">u</span><span style=\"color:green;\">o</span></div>"
            ]
          },
          "metadata": {}
        },
        {
          "output_type": "stream",
          "name": "stdout",
          "text": [
            "human:\n",
            "lul o olu lukhulu olu\n",
            "\n",
            "model:\n",
            "alndennnnn kelle\n"
          ]
        },
        {
          "output_type": "display_data",
          "data": {
            "text/plain": [
              "<IPython.core.display.HTML object>"
            ],
            "text/html": [
              "<div style='font-family:monospace;'><span style=\"color:red;\">y</span><span style=\"color:red;\">i</span><span style=\"color:red;\">w</span><span style=\"color:green;\">a</span><span style=\"color:green;\">l</span><span style=\"color:green;\">n</span><span style=\"color:green;\">d</span>e<span style=\"color:green;\">n</span><span style=\"color:green;\">n</span><span style=\"color:green;\">n</span><span style=\"color:green;\">n</span><span style=\"color:green;\">n</span><span style=\"color:green;\"> </span><span style=\"color:green;\">k</span>e<span style=\"color:red;\">d</span><span style=\"color:green;\">l</span><span style=\"color:green;\">l</span><span style=\"color:green;\">e</span></div>"
            ]
          },
          "metadata": {}
        },
        {
          "output_type": "stream",
          "name": "stdout",
          "text": [
            "human:\n",
            "yiweed\n",
            "\n",
            "model:\n",
            "o\n"
          ]
        },
        {
          "output_type": "display_data",
          "data": {
            "text/plain": [
              "<IPython.core.display.HTML object>"
            ],
            "text/html": [
              "<div style='font-family:monospace;'><span style=\"color:green;\">o</span><span style=\"color:red;\">e</span><span style=\"color:red;\">h</span><span style=\"color:red;\"> </span><span style=\"color:red;\">w</span><span style=\"color:red;\">e</span><span style=\"color:red;\">e</span><span style=\"color:red;\">d</span></div>"
            ]
          },
          "metadata": {}
        },
        {
          "output_type": "stream",
          "name": "stdout",
          "text": [
            "human:\n",
            "eh weed\n",
            "\n",
            "model:\n",
            "hlakula abangekhubapho\n"
          ]
        },
        {
          "output_type": "display_data",
          "data": {
            "text/plain": [
              "<IPython.core.display.HTML object>"
            ],
            "text/html": [
              "<div style='font-family:monospace;'><span style=\"color:red;\">s</span><span style=\"color:red;\">i</span>hlakula a<span style=\"color:green;\">b</span><span style=\"color:red;\">p</span><span style=\"color:red;\">h</span>a<span style=\"color:red;\"> </span>ngekhuba<span style=\"color:red;\"> </span>pho<span style=\"color:red;\">f</span><span style=\"color:red;\"> </span><span style=\"color:red;\">u</span></div>"
            ]
          },
          "metadata": {}
        },
        {
          "output_type": "stream",
          "name": "stdout",
          "text": [
            "human:\n",
            "sihlakula apha ngekhuba phof u\n",
            "\n",
            "model:\n",
            "sithi ngekhuba umbona kxa ose likhaba ungaka\n"
          ]
        },
        {
          "output_type": "display_data",
          "data": {
            "text/plain": [
              "<IPython.core.display.HTML object>"
            ],
            "text/html": [
              "<div style='font-family:monospace;'>sithi ngekhuba umbona <span style=\"color:green;\">k</span>xa <span style=\"color:red;\">u</span><span style=\"color:green;\">o</span>se<span style=\"color:green;\"> </span>likhaba ungaka<span style=\"color:red;\"> </span><span style=\"color:red;\">s</span><span style=\"color:red;\">i</span><span style=\"color:red;\">w</span><span style=\"color:red;\">u</span><span style=\"color:red;\">h</span><span style=\"color:red;\">l</span><span style=\"color:red;\">a</span><span style=\"color:red;\">k</span><span style=\"color:red;\">u</span><span style=\"color:red;\">l</span><span style=\"color:red;\">e</span><span style=\"color:red;\"> </span><span style=\"color:red;\">s</span><span style=\"color:red;\">i</span><span style=\"color:red;\">w</span><span style=\"color:red;\">u</span><span style=\"color:red;\">h</span><span style=\"color:red;\">l</span><span style=\"color:red;\">a</span><span style=\"color:red;\">k</span></div>"
            ]
          },
          "metadata": {}
        },
        {
          "output_type": "stream",
          "name": "stdout",
          "text": [
            "human:\n",
            "sithi ngekhuba umbona xa uselikhaba ungaka siwuhlakule siwuhlak\n",
            "\n",
            "model:\n",
            "enpan pan  pn p e\n"
          ]
        },
        {
          "output_type": "display_data",
          "data": {
            "text/plain": [
              "<IPython.core.display.HTML object>"
            ],
            "text/html": [
              "<div style='font-family:monospace;'>e<span style=\"color:red;\">h</span><span style=\"color:red;\"> </span><span style=\"color:green;\">n</span><span style=\"color:green;\">p</span>an<span style=\"color:red;\">d</span> <span style=\"color:red;\">t</span><span style=\"color:red;\">h</span><span style=\"color:green;\">p</span><span style=\"color:green;\">a</span><span style=\"color:green;\">n</span><span style=\"color:green;\"> </span><span style=\"color:green;\"> </span><span style=\"color:green;\">p</span><span style=\"color:green;\">n</span><span style=\"color:green;\"> </span><span style=\"color:green;\">p</span><span style=\"color:green;\"> </span>e<span style=\"color:red;\">n</span></div>"
            ]
          },
          "metadata": {}
        },
        {
          "output_type": "stream",
          "name": "stdout",
          "text": [
            "human:\n",
            "eh and then\n",
            "\n",
            "model:\n",
            "xanda uphe nuthini kengokunje ma xasewume wonke aphekadii\n"
          ]
        },
        {
          "output_type": "display_data",
          "data": {
            "text/plain": [
              "<IPython.core.display.HTML object>"
            ],
            "text/html": [
              "<div style='font-family:monospace;'>xa<span style=\"color:green;\">n</span><span style=\"color:green;\">d</span><span style=\"color:green;\">a</span> <span style=\"color:green;\">u</span><span style=\"color:red;\">n</span><span style=\"color:red;\">i</span><span style=\"color:red;\">z</span><span style=\"color:red;\">o</span>phe<span style=\"color:red;\">k</span><span style=\"color:red;\"> </span><span style=\"color:red;\">a</span><span style=\"color:red;\"> </span><span style=\"color:red;\">u</span><span style=\"color:red;\">m</span> n<span style=\"color:red;\">i</span><span style=\"color:red;\">w</span>uthini <span style=\"color:green;\">k</span><span style=\"color:red;\">n</span><span style=\"color:red;\">j</span>engo<span style=\"color:red;\"> </span>ku<span style=\"color:green;\">n</span><span style=\"color:green;\">j</span><span style=\"color:green;\">e</span> <span style=\"color:red;\">b</span><span style=\"color:green;\">m</span>a xa<span style=\"color:red;\"> </span>sewume wonke aph<span style=\"color:red;\"> </span><span style=\"color:red;\">a</span><span style=\"color:red;\"> </span>e<span style=\"color:red;\">g</span><span style=\"color:green;\">k</span>adi<span style=\"color:red;\">n</span>i</div>"
            ]
          },
          "metadata": {}
        },
        {
          "output_type": "stream",
          "name": "stdout",
          "text": [
            "human:\n",
            "xa nizophek a um niwuthini njengo ku ba xa sewume wonke aph a egadini\n",
            "\n",
            "model:\n",
            "xasa owomile ngoku wonke lombola phegathi siyawukha sigoduke nawo\n"
          ]
        },
        {
          "output_type": "display_data",
          "data": {
            "text/plain": [
              "<IPython.core.display.HTML object>"
            ],
            "text/html": [
              "<div style='font-family:monospace;'>xa<span style=\"color:green;\">s</span><span style=\"color:green;\">a</span> <span style=\"color:red;\">s</span>owomile ngoku wonke lo<span style=\"color:red;\"> </span>mbo<span style=\"color:red;\">n</span><span style=\"color:green;\">l</span>a <span style=\"color:red;\">a</span>ph<span style=\"color:red;\">a</span><span style=\"color:red;\"> </span>ega<span style=\"color:green;\">t</span><span style=\"color:green;\">h</span><span style=\"color:red;\">d</span><span style=\"color:red;\">i</span><span style=\"color:red;\">n</span>i siyawukha sigoduke nawo</div>"
            ]
          },
          "metadata": {}
        },
        {
          "output_type": "stream",
          "name": "stdout",
          "text": [
            "human:\n",
            "xa sowomile ngoku wonke lo mbona apha egadini siyawukha sigoduke nawo\n",
            "\n",
            "model:\n",
            "sifigas u tuube\n"
          ]
        },
        {
          "output_type": "display_data",
          "data": {
            "text/plain": [
              "<IPython.core.display.HTML object>"
            ],
            "text/html": [
              "<div style='font-family:monospace;'>sifi<span style=\"color:red;\">k</span><span style=\"color:red;\">e</span><span style=\"color:green;\">g</span><span style=\"color:green;\">a</span><span style=\"color:green;\">s</span> <span style=\"color:red;\">s</span><span style=\"color:red;\">i</span><span style=\"color:red;\">w</span>u<span style=\"color:red;\">c</span><span style=\"color:red;\">h</span><span style=\"color:green;\"> </span><span style=\"color:green;\">t</span><span style=\"color:green;\">u</span>ube</div>"
            ]
          },
          "metadata": {}
        },
        {
          "output_type": "stream",
          "name": "stdout",
          "text": [
            "human:\n",
            "sifike siwuchube\n",
            "\n",
            "model:\n",
            "ibuthubakenako\n"
          ]
        },
        {
          "output_type": "display_data",
          "data": {
            "text/plain": [
              "<IPython.core.display.HTML object>"
            ],
            "text/html": [
              "<div style='font-family:monospace;'><span style=\"color:green;\">i</span><span style=\"color:green;\">b</span>u<span style=\"color:green;\">t</span><span style=\"color:red;\">k</span><span style=\"color:red;\">u</span><span style=\"color:red;\">c</span>huba<span style=\"color:red;\"> </span>ke<span style=\"color:red;\"> </span>nak<span style=\"color:red;\">u</span><span style=\"color:green;\">o</span></div>"
            ]
          },
          "metadata": {}
        },
        {
          "output_type": "stream",
          "name": "stdout",
          "text": [
            "human:\n",
            "ukuchuba ke naku\n",
            "\n",
            "model:\n",
            "ut umilemos\n"
          ]
        },
        {
          "output_type": "display_data",
          "data": {
            "text/plain": [
              "<IPython.core.display.HTML object>"
            ],
            "text/html": [
              "<div style='font-family:monospace;'>u<span style=\"color:red;\">g</span><span style=\"color:red;\">c</span><span style=\"color:green;\">t</span><span style=\"color:green;\"> </span>umile<span style=\"color:red;\"> </span>mos<span style=\"color:red;\">s</span></div>"
            ]
          },
          "metadata": {}
        },
        {
          "output_type": "stream",
          "name": "stdout",
          "text": [
            "human:\n",
            "ugcumile moss\n",
            "\n",
            "model:\n",
            "uba sia uhuba sikkuba sauba bol\n"
          ]
        },
        {
          "output_type": "display_data",
          "data": {
            "text/plain": [
              "<IPython.core.display.HTML object>"
            ],
            "text/html": [
              "<div style='font-family:monospace;'><span style=\"color:green;\">u</span><span style=\"color:green;\">b</span><span style=\"color:green;\">a</span><span style=\"color:green;\"> </span>si<span style=\"color:red;\">y</span>a<span style=\"color:red;\">w</span><span style=\"color:green;\"> </span>u<span style=\"color:red;\">c</span>huba si<span style=\"color:green;\">k</span><span style=\"color:green;\">k</span><span style=\"color:red;\">y</span><span style=\"color:red;\">a</span><span style=\"color:red;\">w</span><span style=\"color:red;\">u</span><span style=\"color:red;\">c</span><span style=\"color:red;\">h</span>uba s<span style=\"color:red;\">i</span><span style=\"color:red;\">y</span>a<span style=\"color:red;\">w</span><span style=\"color:red;\">u</span><span style=\"color:red;\">c</span><span style=\"color:red;\">h</span>uba <span style=\"color:red;\">s</span><span style=\"color:red;\">i</span><span style=\"color:red;\">y</span><span style=\"color:red;\">a</span><span style=\"color:red;\">w</span><span style=\"color:red;\">u</span><span style=\"color:red;\">c</span><span style=\"color:red;\">h</span><span style=\"color:red;\">u</span>b<span style=\"color:red;\">a</span><span style=\"color:red;\"> </span><span style=\"color:red;\">w</span>o<span style=\"color:red;\">m</span><span style=\"color:red;\">i</span>l<span style=\"color:red;\">e</span><span style=\"color:red;\"> </span><span style=\"color:red;\">s</span><span style=\"color:red;\">i</span><span style=\"color:red;\">w</span><span style=\"color:red;\">u</span><span style=\"color:red;\">f</span><span style=\"color:red;\">a</span><span style=\"color:red;\">k</span><span style=\"color:red;\"> </span><span style=\"color:red;\">e</span><span style=\"color:red;\"> </span><span style=\"color:red;\">e</span><span style=\"color:red;\">s</span><span style=\"color:red;\">i</span><span style=\"color:red;\">n</span><span style=\"color:red;\">g</span><span style=\"color:red;\">q</span><span style=\"color:red;\">u</span><span style=\"color:red;\">s</span><span style=\"color:red;\">h</span><span style=\"color:red;\">w</span><span style=\"color:red;\">e</span><span style=\"color:red;\">n</span><span style=\"color:red;\">i</span></div>"
            ]
          },
          "metadata": {}
        },
        {
          "output_type": "stream",
          "name": "stdout",
          "text": [
            "human:\n",
            "siyawuchuba siyawuchuba siyawuchuba siyawuchuba womile siwufak e esingqushweni\n",
            "\n",
            "model:\n",
            "okanye xa womile siyakuqhuba futhi\n"
          ]
        },
        {
          "output_type": "display_data",
          "data": {
            "text/plain": [
              "<IPython.core.display.HTML object>"
            ],
            "text/html": [
              "<div style='font-family:monospace;'><span style=\"color:red;\">s</span><span style=\"color:red;\">i</span><span style=\"color:red;\">n</span><span style=\"color:red;\">g</span><span style=\"color:red;\">q</span><span style=\"color:red;\">u</span><span style=\"color:red;\">s</span><span style=\"color:red;\">h</span><span style=\"color:red;\">e</span><span style=\"color:red;\"> </span><span style=\"color:red;\">s</span><span style=\"color:red;\">i</span><span style=\"color:red;\">n</span><span style=\"color:red;\">g</span><span style=\"color:red;\">q</span><span style=\"color:red;\">u</span><span style=\"color:red;\">s</span><span style=\"color:red;\">h</span><span style=\"color:red;\">e</span><span style=\"color:red;\"> </span><span style=\"color:red;\">s</span><span style=\"color:red;\">i</span><span style=\"color:red;\">n</span><span style=\"color:red;\">g</span><span style=\"color:red;\">q</span><span style=\"color:red;\">u</span><span style=\"color:red;\">s</span><span style=\"color:red;\">h</span><span style=\"color:red;\">e</span><span style=\"color:red;\"> </span>okanye xa womile siya<span style=\"color:red;\">w</span><span style=\"color:green;\">k</span>u<span style=\"color:red;\">c</span><span style=\"color:green;\">q</span>huba futhi</div>"
            ]
          },
          "metadata": {}
        },
        {
          "output_type": "stream",
          "name": "stdout",
          "text": [
            "human:\n",
            "singqushe singqushe singqushe okanye xa womile siyawuchuba futhi\n",
            "\n",
            "model:\n",
            "suchube suchube sihambe sousila\n"
          ]
        },
        {
          "output_type": "display_data",
          "data": {
            "text/plain": [
              "<IPython.core.display.HTML object>"
            ],
            "text/html": [
              "<div style='font-family:monospace;'>s<span style=\"color:red;\">i</span><span style=\"color:red;\">w</span>uchube s<span style=\"color:red;\">i</span><span style=\"color:red;\">w</span>uchube sihambe s<span style=\"color:red;\">i</span><span style=\"color:red;\">y</span>o<span style=\"color:red;\">w</span>usila</div>"
            ]
          },
          "metadata": {}
        },
        {
          "output_type": "stream",
          "name": "stdout",
          "text": [
            "human:\n",
            "siwuchube siwuchube sihambe siyowusila\n",
            "\n",
            "model:\n",
            "susile susile ubengumgubue\n"
          ]
        },
        {
          "output_type": "display_data",
          "data": {
            "text/plain": [
              "<IPython.core.display.HTML object>"
            ],
            "text/html": [
              "<div style='font-family:monospace;'>s<span style=\"color:red;\">i</span><span style=\"color:red;\">w</span>usile s<span style=\"color:red;\">i</span><span style=\"color:red;\">w</span>usile ubengumgub<span style=\"color:red;\">o</span><span style=\"color:red;\"> </span>u<span style=\"color:red;\">b</span>e<span style=\"color:red;\">n</span></div>"
            ]
          },
          "metadata": {}
        },
        {
          "output_type": "stream",
          "name": "stdout",
          "text": [
            "human:\n",
            "siwusile siwusile ubengumgubo uben\n",
            "\n",
            "model:\n",
            "d\n"
          ]
        },
        {
          "output_type": "display_data",
          "data": {
            "text/plain": [
              "<IPython.core.display.HTML object>"
            ],
            "text/html": [
              "<div style='font-family:monospace;'><span style=\"color:green;\">d</span><span style=\"color:red;\">u</span><span style=\"color:red;\">m</span><span style=\"color:red;\">i</span><span style=\"color:red;\">l</span><span style=\"color:red;\">i</span><span style=\"color:red;\">m</span><span style=\"color:red;\">e</span><span style=\"color:red;\">e</span><span style=\"color:red;\">l</span></div>"
            ]
          },
          "metadata": {}
        },
        {
          "output_type": "stream",
          "name": "stdout",
          "text": [
            "human:\n",
            "umilimeel\n",
            "\n",
            "model:\n",
            "be ngumili mili\n"
          ]
        },
        {
          "output_type": "display_data",
          "data": {
            "text/plain": [
              "<IPython.core.display.HTML object>"
            ],
            "text/html": [
              "<div style='font-family:monospace;'><span style=\"color:red;\">u</span>be<span style=\"color:green;\"> </span>ngumili<span style=\"color:green;\"> </span>m<span style=\"color:green;\">i</span><span style=\"color:red;\">e</span><span style=\"color:red;\">e</span>l<span style=\"color:green;\">i</span><span style=\"color:red;\"> </span><span style=\"color:red;\">e</span><span style=\"color:red;\">w</span><span style=\"color:red;\">e</span></div>"
            ]
          },
          "metadata": {}
        },
        {
          "output_type": "stream",
          "name": "stdout",
          "text": [
            "human:\n",
            "ubengumilimeel ewe\n",
            "\n",
            "model:\n",
            "sipeke ngawo kisigwamba sipheke nethanga\n"
          ]
        },
        {
          "output_type": "display_data",
          "data": {
            "text/plain": [
              "<IPython.core.display.HTML object>"
            ],
            "text/html": [
              "<div style='font-family:monospace;'>sip<span style=\"color:red;\">h</span>eke ngawo k<span style=\"color:red;\"> </span><span style=\"color:red;\">e</span><span style=\"color:red;\"> </span>isigwam<span style=\"color:red;\">p</span><span style=\"color:green;\">b</span>a sipheke nethanga</div>"
            ]
          },
          "metadata": {}
        },
        {
          "output_type": "stream",
          "name": "stdout",
          "text": [
            "human:\n",
            "sipheke ngawo k e isigwampa sipheke nethanga\n",
            "\n",
            "model:\n",
            "sicube nolomilimilibe ngumxalonto\n"
          ]
        },
        {
          "output_type": "display_data",
          "data": {
            "text/plain": [
              "<IPython.core.display.HTML object>"
            ],
            "text/html": [
              "<div style='font-family:monospace;'>si<span style=\"color:red;\">x</span><span style=\"color:green;\">c</span>ube n<span style=\"color:green;\">o</span><span style=\"color:red;\">e</span><span style=\"color:red;\"> </span><span style=\"color:red;\">n</span><span style=\"color:red;\">a</span>lo<span style=\"color:red;\"> </span>milim<span style=\"color:green;\">i</span><span style=\"color:red;\">e</span><span style=\"color:red;\">e</span>l<span style=\"color:green;\">i</span><span style=\"color:red;\"> </span><span style=\"color:red;\">u</span>be ngum<span style=\"color:red;\">q</span><span style=\"color:green;\">x</span>a<span style=\"color:red;\"> </span><span style=\"color:red;\">k</span><span style=\"color:red;\">e</span><span style=\"color:red;\"> </span>lo<span style=\"color:red;\">w</span><span style=\"color:green;\">n</span><span style=\"color:green;\">t</span>o</div>"
            ]
          },
          "metadata": {}
        },
        {
          "output_type": "stream",
          "name": "stdout",
          "text": [
            "human:\n",
            "sixube ne nalo milimeel ube ngumqa ke lowo\n",
            "\n",
            "model:\n",
            "zenzaka ndlali pzipheki nkobe\n"
          ]
        },
        {
          "output_type": "display_data",
          "data": {
            "text/plain": [
              "<IPython.core.display.HTML object>"
            ],
            "text/html": [
              "<div style='font-family:monospace;'><span style=\"color:red;\">s</span><span style=\"color:green;\">z</span>enza<span style=\"color:red;\"> </span>ka<span style=\"color:green;\"> </span>n<span style=\"color:red;\">j</span><span style=\"color:green;\">d</span><span style=\"color:green;\">l</span>al<span style=\"color:green;\">i</span><span style=\"color:green;\"> </span><span style=\"color:green;\">p</span><span style=\"color:green;\">z</span><span style=\"color:green;\">i</span><span style=\"color:green;\">p</span><span style=\"color:green;\">h</span><span style=\"color:green;\">e</span><span style=\"color:green;\">k</span><span style=\"color:green;\">i</span><span style=\"color:green;\"> </span><span style=\"color:green;\">n</span><span style=\"color:green;\">k</span>o<span style=\"color:green;\">b</span><span style=\"color:green;\">e</span></div>"
            ]
          },
          "metadata": {}
        },
        {
          "output_type": "stream",
          "name": "stdout",
          "text": [
            "human:\n",
            "senza kanjalo\n",
            "\n",
            "model:\n",
            "milekenku kenqir\n"
          ]
        },
        {
          "output_type": "display_data",
          "data": {
            "text/plain": [
              "<IPython.core.display.HTML object>"
            ],
            "text/html": [
              "<div style='font-family:monospace;'><span style=\"color:green;\">m</span><span style=\"color:red;\">n</span><span style=\"color:red;\"> </span>i<span style=\"color:green;\">l</span><span style=\"color:red;\"> </span><span style=\"color:red;\">p</span><span style=\"color:red;\">h</span><span style=\"color:red;\">i</span><span style=\"color:red;\">n</span><span style=\"color:red;\">d</span><span style=\"color:red;\">e</span><span style=\"color:red;\"> </span><span style=\"color:red;\">n</span><span style=\"color:red;\">i</span><span style=\"color:red;\">p</span><span style=\"color:red;\">h</span>eke<span style=\"color:red;\"> </span><span style=\"color:red;\">i</span>nk<span style=\"color:red;\">o</span><span style=\"color:red;\">b</span><span style=\"color:green;\">u</span><span style=\"color:green;\"> </span><span style=\"color:green;\">k</span>e<span style=\"color:green;\">n</span><span style=\"color:green;\">q</span><span style=\"color:green;\">i</span><span style=\"color:green;\">r</span></div>"
            ]
          },
          "metadata": {}
        },
        {
          "output_type": "stream",
          "name": "stdout",
          "text": [
            "human:\n",
            "n i phinde nipheke inkobe\n",
            "\n",
            "model:\n",
            "sipheki nkobe sitse\n"
          ]
        },
        {
          "output_type": "display_data",
          "data": {
            "text/plain": [
              "<IPython.core.display.HTML object>"
            ],
            "text/html": [
              "<div style='font-family:monospace;'>siphek<span style=\"color:green;\">i</span> <span style=\"color:red;\">a</span><span style=\"color:red;\"> </span><span style=\"color:red;\">i</span><span style=\"color:red;\">i</span>nkobe <span style=\"color:green;\">s</span><span style=\"color:red;\">x</span><span style=\"color:red;\">a</span><span style=\"color:red;\"> </span><span style=\"color:red;\">w</span><span style=\"color:red;\">o</span><span style=\"color:red;\">m</span>i<span style=\"color:red;\">l</span><span style=\"color:green;\">t</span><span style=\"color:green;\">s</span>e</div>"
            ]
          },
          "metadata": {}
        },
        {
          "output_type": "stream",
          "name": "stdout",
          "text": [
            "human:\n",
            "siphek a iinkobe xa womile\n",
            "\n",
            "model:\n",
            "idike intlo\n"
          ]
        },
        {
          "output_type": "display_data",
          "data": {
            "text/plain": [
              "<IPython.core.display.HTML object>"
            ],
            "text/html": [
              "<div style='font-family:monospace;'>i<span style=\"color:green;\">d</span><span style=\"color:red;\">t</span><span style=\"color:red;\">h</span>i<span style=\"color:red;\"> </span>ke int<span style=\"color:red;\">s</span><span style=\"color:green;\">l</span>o<span style=\"color:red;\">m</span><span style=\"color:red;\">i</span></div>"
            ]
          },
          "metadata": {}
        },
        {
          "output_type": "stream",
          "name": "stdout",
          "text": [
            "human:\n",
            "ithi ke intsomi\n",
            "\n",
            "model:\n",
            "kaathi kakalo ngatso\n"
          ]
        },
        {
          "output_type": "display_data",
          "data": {
            "text/plain": [
              "<IPython.core.display.HTML object>"
            ],
            "text/html": [
              "<div style='font-family:monospace;'>k<span style=\"color:red;\">w</span><span style=\"color:green;\">a</span>athi k<span style=\"color:green;\">a</span><span style=\"color:red;\">e</span><span style=\"color:red;\"> </span>kalo<span style=\"color:red;\">k</span><span style=\"color:red;\">u</span> nga<span style=\"color:red;\">n</span>tso<span style=\"color:red;\">m</span><span style=\"color:red;\">i</span></div>"
            ]
          },
          "metadata": {}
        },
        {
          "output_type": "stream",
          "name": "stdout",
          "text": [
            "human:\n",
            "kwathi ke kaloku ngantsomi\n",
            "\n",
            "model:\n",
            "abantwana babini umama wabekaabantwana abathi esidolini wabazale la isidoleyo\n"
          ]
        },
        {
          "output_type": "display_data",
          "data": {
            "text/plain": [
              "<IPython.core.display.HTML object>"
            ],
            "text/html": [
              "<div style='font-family:monospace;'>abantwana <span style=\"color:red;\">a</span>babini umama wa<span style=\"color:red;\"> </span><span style=\"color:red;\">w</span><span style=\"color:red;\">a</span>beka<span style=\"color:red;\"> </span>abantwana <span style=\"color:green;\">a</span>ba<span style=\"color:red;\">k</span><span style=\"color:green;\">t</span>h<span style=\"color:red;\">e</span><span style=\"color:green;\">i</span> esid<span style=\"color:red;\">u</span><span style=\"color:green;\">o</span>l<span style=\"color:red;\">w</span>ini wabaz<span style=\"color:red;\">e</span><span style=\"color:green;\">a</span>le<span style=\"color:green;\"> </span>la <span style=\"color:red;\">e</span><span style=\"color:green;\">i</span>sid<span style=\"color:red;\">u</span><span style=\"color:green;\">o</span>l<span style=\"color:green;\">e</span><span style=\"color:green;\">y</span><span style=\"color:green;\">o</span><span style=\"color:red;\">w</span><span style=\"color:red;\">i</span><span style=\"color:red;\">n</span><span style=\"color:red;\">i</span></div>"
            ]
          },
          "metadata": {}
        },
        {
          "output_type": "stream",
          "name": "stdout",
          "text": [
            "human:\n",
            "abantwana ababini umama wa wabeka abantwana bakhe esidulwini wabazelela esidulwini\n",
            "\n",
            "model:\n",
            "lala lala\n"
          ]
        },
        {
          "output_type": "display_data",
          "data": {
            "text/plain": [
              "<IPython.core.display.HTML object>"
            ],
            "text/html": [
              "<div style='font-family:monospace;'><span style=\"color:red;\">i</span><span style=\"color:red;\">s</span><span style=\"color:red;\">i</span><span style=\"color:red;\">d</span><span style=\"color:red;\">u</span>l<span style=\"color:red;\">i</span><span style=\"color:green;\">a</span><span style=\"color:green;\">l</span><span style=\"color:green;\">a</span> <span style=\"color:green;\">l</span><span style=\"color:red;\">u</span><span style=\"color:red;\">y</span>a<span style=\"color:red;\">s</span><span style=\"color:green;\">l</span>a<span style=\"color:red;\">z</span><span style=\"color:red;\">i</span></div>"
            ]
          },
          "metadata": {}
        },
        {
          "output_type": "stream",
          "name": "stdout",
          "text": [
            "human:\n",
            "isiduli uyasazi\n",
            "\n",
            "model:\n",
            "gana akanaango\n"
          ]
        },
        {
          "output_type": "display_data",
          "data": {
            "text/plain": [
              "<IPython.core.display.HTML object>"
            ],
            "text/html": [
              "<div style='font-family:monospace;'><span style=\"color:red;\">k</span><span style=\"color:green;\">g</span>an<span style=\"color:green;\">a</span><span style=\"color:red;\">t</span><span style=\"color:red;\">i</span> akana<span style=\"color:green;\">a</span>n<span style=\"color:green;\">g</span><span style=\"color:green;\">o</span><span style=\"color:red;\">d</span><span style=\"color:red;\">l</span><span style=\"color:red;\">u</span></div>"
            ]
          },
          "metadata": {}
        },
        {
          "output_type": "stream",
          "name": "stdout",
          "text": [
            "human:\n",
            "kanti akanandlu\n",
            "\n",
            "model:\n",
            "umama wabelekela abandwana bakhi esidolini\n"
          ]
        },
        {
          "output_type": "display_data",
          "data": {
            "text/plain": [
              "<IPython.core.display.HTML object>"
            ],
            "text/html": [
              "<div style='font-family:monospace;'>umama wabelekela aban<span style=\"color:red;\">t</span><span style=\"color:green;\">d</span>wana bakh<span style=\"color:red;\">e</span><span style=\"color:green;\">i</span> esid<span style=\"color:red;\">u</span><span style=\"color:green;\">o</span>lini</div>"
            ]
          },
          "metadata": {}
        },
        {
          "output_type": "stream",
          "name": "stdout",
          "text": [
            "human:\n",
            "umama wabelekela abantwana bakhe esidulini\n",
            "\n",
            "model:\n",
            "ngarhumbi sidulu abeka bantwa bababini\n"
          ]
        },
        {
          "output_type": "display_data",
          "data": {
            "text/plain": [
              "<IPython.core.display.HTML object>"
            ],
            "text/html": [
              "<div style='font-family:monospace;'><span style=\"color:red;\">w</span><span style=\"color:green;\">n</span><span style=\"color:green;\">g</span>a<span style=\"color:red;\">g</span>r<span style=\"color:green;\">h</span>umb<span style=\"color:red;\">a</span><span style=\"color:green;\">i</span> <span style=\"color:red;\">i</span>sidul<span style=\"color:red;\">i</span><span style=\"color:green;\">u</span> <span style=\"color:red;\">w</span>a<span style=\"color:red;\">g</span><span style=\"color:red;\">r</span><span style=\"color:red;\">u</span><span style=\"color:red;\">m</span><span style=\"color:red;\">b</span><span style=\"color:red;\">a</span><span style=\"color:red;\"> </span><span style=\"color:red;\">i</span><span style=\"color:red;\">s</span><span style=\"color:red;\">i</span><span style=\"color:red;\">d</span><span style=\"color:red;\">u</span><span style=\"color:red;\">l</span><span style=\"color:red;\">i</span><span style=\"color:red;\"> </span><span style=\"color:red;\">w</span><span style=\"color:red;\">a</span><span style=\"color:red;\">y</span><span style=\"color:red;\">o</span>beka <span style=\"color:red;\">a</span>bantw<span style=\"color:red;\">a</span><span style=\"color:red;\">n</span>a bababini</div>"
            ]
          },
          "metadata": {}
        },
        {
          "output_type": "stream",
          "name": "stdout",
          "text": [
            "human:\n",
            "wagrumba isiduli wagrumba isiduli wayobeka abantwana bababini\n",
            "\n",
            "model:\n",
            "wabase\n"
          ]
        },
        {
          "output_type": "display_data",
          "data": {
            "text/plain": [
              "<IPython.core.display.HTML object>"
            ],
            "text/html": [
              "<div style='font-family:monospace;'>wabas<span style=\"color:green;\">e</span><span style=\"color:red;\">h</span><span style=\"color:red;\">i</span><span style=\"color:red;\">y</span><span style=\"color:red;\">a</span></div>"
            ]
          },
          "metadata": {}
        },
        {
          "output_type": "stream",
          "name": "stdout",
          "text": [
            "human:\n",
            "wabashiya\n",
            "\n",
            "model:\n",
            "wahaba afuna ukutya\n"
          ]
        },
        {
          "output_type": "display_data",
          "data": {
            "text/plain": [
              "<IPython.core.display.HTML object>"
            ],
            "text/html": [
              "<div style='font-family:monospace;'>waha<span style=\"color:red;\">m</span>ba <span style=\"color:red;\">w</span>a<span style=\"color:red;\"> </span><span style=\"color:red;\">y</span><span style=\"color:red;\"> </span><span style=\"color:red;\">o</span>funa ukutya</div>"
            ]
          },
          "metadata": {}
        },
        {
          "output_type": "stream",
          "name": "stdout",
          "text": [
            "human:\n",
            "wahamba wa y ofuna ukutya\n",
            "\n",
            "model:\n",
            "kwafunokutya kotyisa bantwa\n"
          ]
        },
        {
          "output_type": "display_data",
          "data": {
            "text/plain": [
              "<IPython.core.display.HTML object>"
            ],
            "text/html": [
              "<div style='font-family:monospace;'><span style=\"color:green;\">k</span>w<span style=\"color:red;\">o</span><span style=\"color:green;\">a</span>fun<span style=\"color:green;\">o</span><span style=\"color:red;\">a</span><span style=\"color:red;\"> </span><span style=\"color:red;\">u</span>kutya kotyisa <span style=\"color:red;\">a</span>bantwa<span style=\"color:red;\">n</span><span style=\"color:red;\">a</span></div>"
            ]
          },
          "metadata": {}
        },
        {
          "output_type": "stream",
          "name": "stdout",
          "text": [
            "human:\n",
            "wofuna ukutya kotyisa abantwana\n",
            "\n",
            "model:\n",
            "ngeminoqa wabuya keyesibini ubashila abanya nesidoleni\n"
          ]
        },
        {
          "output_type": "display_data",
          "data": {
            "text/plain": [
              "<IPython.core.display.HTML object>"
            ],
            "text/html": [
              "<div style='font-family:monospace;'>ngemin<span style=\"color:red;\">i</span><span style=\"color:red;\"> </span><span style=\"color:red;\">y</span>o<span style=\"color:red;\">k</span><span style=\"color:red;\">u</span>q<span style=\"color:red;\">a</span><span style=\"color:red;\">l</span>a wabuya k<span style=\"color:red;\">w</span>eyesibini ubashi<span style=\"color:red;\">y</span><span style=\"color:red;\">i</span>l<span style=\"color:red;\">e</span><span style=\"color:green;\">a</span> aban<span style=\"color:green;\">y</span><span style=\"color:red;\">t</span><span style=\"color:red;\">w</span><span style=\"color:red;\">a</span><span style=\"color:red;\">n</span>a <span style=\"color:green;\">n</span>esid<span style=\"color:red;\">u</span><span style=\"color:green;\">o</span>l<span style=\"color:red;\">i</span><span style=\"color:green;\">e</span>ni</div>"
            ]
          },
          "metadata": {}
        },
        {
          "output_type": "stream",
          "name": "stdout",
          "text": [
            "human:\n",
            "ngemini yokuqala wabuya kweyesibini ubashiyile abantwana esidulini\n",
            "\n",
            "model:\n",
            "uzaphinda buyazoba abuyena noobatyisa\n"
          ]
        },
        {
          "output_type": "display_data",
          "data": {
            "text/plain": [
              "<IPython.core.display.HTML object>"
            ],
            "text/html": [
              "<div style='font-family:monospace;'>uz<span style=\"color:red;\">o</span><span style=\"color:green;\">a</span>phinda <span style=\"color:green;\">b</span><span style=\"color:green;\">u</span><span style=\"color:green;\">y</span><span style=\"color:green;\">a</span><span style=\"color:green;\">z</span><span style=\"color:green;\">o</span><span style=\"color:green;\">b</span>a abuye<span style=\"color:green;\">n</span><span style=\"color:green;\">a</span> n<span style=\"color:red;\">e</span><span style=\"color:red;\"> </span><span style=\"color:red;\">n</span><span style=\"color:red;\">e</span><span style=\"color:red;\">n</span><span style=\"color:red;\">t</span>o<span style=\"color:red;\"> </span><span style=\"color:red;\">w</span>obatyisa</div>"
            ]
          },
          "metadata": {}
        },
        {
          "output_type": "stream",
          "name": "stdout",
          "text": [
            "human:\n",
            "uzophinda a abuye ne nento wobatyisa\n",
            "\n",
            "model:\n",
            "akabuya uhlangene nesigebena samgebenga\n"
          ]
        },
        {
          "output_type": "display_data",
          "data": {
            "text/plain": [
              "<IPython.core.display.HTML object>"
            ],
            "text/html": [
              "<div style='font-family:monospace;'>akabuya <span style=\"color:red;\">a</span><span style=\"color:red;\">b</span><span style=\"color:green;\">u</span><span style=\"color:green;\">h</span><span style=\"color:green;\">l</span>an<span style=\"color:red;\">t</span><span style=\"color:red;\">w</span><span style=\"color:red;\">a</span><span style=\"color:green;\">g</span><span style=\"color:green;\">e</span><span style=\"color:green;\">n</span><span style=\"color:green;\">e</span><span style=\"color:green;\"> </span><span style=\"color:green;\">n</span><span style=\"color:green;\">e</span><span style=\"color:green;\">s</span><span style=\"color:green;\">i</span><span style=\"color:green;\">g</span><span style=\"color:green;\">e</span><span style=\"color:green;\">b</span><span style=\"color:green;\">e</span>na <span style=\"color:green;\">s</span><span style=\"color:red;\">b</span><span style=\"color:red;\">o</span><span style=\"color:red;\">n</span><span style=\"color:red;\">a</span><span style=\"color:red;\"> </span><span style=\"color:red;\">b</span><span style=\"color:red;\">a</span><span style=\"color:red;\">l</span><span style=\"color:red;\">i</span><span style=\"color:red;\">n</span><span style=\"color:red;\">d</span><span style=\"color:red;\">e</span><span style=\"color:red;\"> </span><span style=\"color:red;\">u</span><span style=\"color:red;\">m</span>am<span style=\"color:green;\">g</span><span style=\"color:green;\">e</span><span style=\"color:green;\">b</span><span style=\"color:green;\">e</span><span style=\"color:green;\">n</span><span style=\"color:green;\">g</span>a<span style=\"color:red;\"> </span><span style=\"color:red;\">e</span><span style=\"color:red;\">s</span><span style=\"color:red;\">i</span><span style=\"color:red;\">d</span><span style=\"color:red;\">u</span><span style=\"color:red;\">l</span><span style=\"color:red;\">i</span><span style=\"color:red;\">n</span><span style=\"color:red;\">i</span></div>"
            ]
          },
          "metadata": {}
        },
        {
          "output_type": "stream",
          "name": "stdout",
          "text": [
            "human:\n",
            "akabuya abantwana bona balinde umama esidulini\n",
            "\n",
            "model:\n",
            "abantwana abona bale ndumama esidoli umama ugetye ngiwe ngekazi ukuhsese kutye bantwane\n"
          ]
        },
        {
          "output_type": "display_data",
          "data": {
            "text/plain": [
              "<IPython.core.display.HTML object>"
            ],
            "text/html": [
              "<div style='font-family:monospace;'><span style=\"color:green;\">a</span><span style=\"color:green;\">b</span><span style=\"color:red;\">u</span><span style=\"color:red;\">h</span><span style=\"color:red;\">l</span>an<span style=\"color:red;\">g</span><span style=\"color:red;\">e</span><span style=\"color:green;\">t</span><span style=\"color:green;\">w</span><span style=\"color:green;\">a</span>n<span style=\"color:green;\">a</span><span style=\"color:green;\"> </span><span style=\"color:green;\">a</span><span style=\"color:green;\">b</span><span style=\"color:green;\">o</span><span style=\"color:green;\">n</span><span style=\"color:green;\">a</span><span style=\"color:green;\"> </span><span style=\"color:green;\">b</span><span style=\"color:green;\">a</span><span style=\"color:green;\">l</span>e n<span style=\"color:green;\">d</span><span style=\"color:green;\">u</span><span style=\"color:green;\">m</span><span style=\"color:green;\">a</span><span style=\"color:green;\">m</span><span style=\"color:green;\">a</span><span style=\"color:green;\"> </span>es<span style=\"color:red;\"> </span>i<span style=\"color:green;\">d</span><span style=\"color:green;\">o</span><span style=\"color:green;\">l</span><span style=\"color:green;\">i</span><span style=\"color:red;\"> </span><span style=\"color:red;\">g</span><span style=\"color:red;\">e</span><span style=\"color:red;\">b</span><span style=\"color:red;\">e</span><span style=\"color:red;\">n</span><span style=\"color:red;\">g</span><span style=\"color:red;\">a</span><span style=\"color:red;\"> </span><span style=\"color:red;\">s</span><span style=\"color:red;\">a</span><span style=\"color:red;\">m</span><span style=\"color:red;\">g</span><span style=\"color:red;\">e</span><span style=\"color:red;\">b</span><span style=\"color:red;\">e</span><span style=\"color:red;\">n</span><span style=\"color:red;\">g</span><span style=\"color:red;\">a</span> umama ugetye<span style=\"color:green;\"> </span>ngiwe <span style=\"color:red;\">e</span><span style=\"color:red;\"> </span><span style=\"color:red;\">e</span><span style=\"color:red;\">n</span><span style=\"color:red;\">g</span><span style=\"color:red;\">e</span><span style=\"color:red;\">k</span><span style=\"color:red;\">a</span><span style=\"color:red;\"> </span><span style=\"color:red;\">e</span>ngekaz<span style=\"color:red;\">u</span><span style=\"color:red;\">k</span><span style=\"color:red;\">u</span><span style=\"color:red;\">z</span>i<span style=\"color:red;\">s</span><span style=\"color:red;\">a</span> uku<span style=\"color:green;\">h</span><span style=\"color:green;\">s</span><span style=\"color:green;\">e</span><span style=\"color:green;\">s</span><span style=\"color:green;\">e</span><span style=\"color:green;\"> </span><span style=\"color:green;\">k</span><span style=\"color:green;\">u</span>ty<span style=\"color:red;\">a</span><span style=\"color:green;\">e</span> <span style=\"color:red;\">e</span>bantwane<span style=\"color:red;\">n</span><span style=\"color:red;\">i</span></div>"
            ]
          },
          "metadata": {}
        },
        {
          "output_type": "stream",
          "name": "stdout",
          "text": [
            "human:\n",
            "uhlangene nes i gebenga samgebenga umama ugetyengiwe e engeka engekazukuzisa ukutya ebantwaneni\n",
            "\n",
            "model:\n",
            "basupa nenyimini balapa balapa balamba\n"
          ]
        },
        {
          "output_type": "display_data",
          "data": {
            "text/plain": [
              "<IPython.core.display.HTML object>"
            ],
            "text/html": [
              "<div style='font-family:monospace;'>basu<span style=\"color:red;\">k</span><span style=\"color:green;\">p</span>a n<span style=\"color:red;\">g</span>eny<span style=\"color:red;\"> </span><span style=\"color:red;\">e</span><span style=\"color:red;\"> </span>imini bala<span style=\"color:red;\">m</span><span style=\"color:green;\">p</span><span style=\"color:green;\">a</span><span style=\"color:green;\"> </span>b<span style=\"color:green;\">a</span><span style=\"color:green;\">l</span><span style=\"color:green;\">a</span><span style=\"color:green;\">p</span>a balamba<span style=\"color:red;\"> </span><span style=\"color:red;\">b</span><span style=\"color:red;\">a</span><span style=\"color:red;\">l</span><span style=\"color:red;\">a</span><span style=\"color:red;\">m</span><span style=\"color:red;\">b</span><span style=\"color:red;\">a</span></div>"
            ]
          },
          "metadata": {}
        },
        {
          "output_type": "stream",
          "name": "stdout",
          "text": [
            "human:\n",
            "basuka ngeny e imini balamba balamba balamba\n",
            "\n",
            "model:\n",
            "kakhula kodwa nasituntlea\n"
          ]
        },
        {
          "output_type": "display_data",
          "data": {
            "text/plain": [
              "<IPython.core.display.HTML object>"
            ],
            "text/html": [
              "<div style='font-family:monospace;'><span style=\"color:red;\">b</span><span style=\"color:green;\">k</span>akhula kodwa <span style=\"color:red;\">b</span><span style=\"color:red;\">e</span><span style=\"color:green;\">n</span><span style=\"color:green;\">a</span>sit<span style=\"color:red;\">y</span><span style=\"color:green;\">u</span><span style=\"color:green;\">n</span><span style=\"color:green;\">t</span><span style=\"color:green;\">l</span><span style=\"color:green;\">e</span>a<span style=\"color:red;\"> </span><span style=\"color:red;\">u</span><span style=\"color:red;\">m</span><span style=\"color:red;\">h</span><span style=\"color:red;\">l</span><span style=\"color:red;\">a</span><span style=\"color:red;\">b</span><span style=\"color:red;\">a</span></div>"
            ]
          },
          "metadata": {}
        },
        {
          "output_type": "stream",
          "name": "stdout",
          "text": [
            "human:\n",
            "bakhula kodwa besitya umhlaba\n",
            "\n",
            "model:\n",
            "eelle\n"
          ]
        },
        {
          "output_type": "display_data",
          "data": {
            "text/plain": [
              "<IPython.core.display.HTML object>"
            ],
            "text/html": [
              "<div style='font-family:monospace;'>ee<span style=\"color:red;\">h</span><span style=\"color:green;\">l</span><span style=\"color:green;\">l</span><span style=\"color:green;\">e</span></div>"
            ]
          },
          "metadata": {}
        },
        {
          "output_type": "stream",
          "name": "stdout",
          "text": [
            "human:\n",
            "eeh\n",
            "\n",
            "model:\n",
            "bamane besityake kulomhlaba wesiduhli\n"
          ]
        },
        {
          "output_type": "display_data",
          "data": {
            "text/plain": [
              "<IPython.core.display.HTML object>"
            ],
            "text/html": [
              "<div style='font-family:monospace;'>bamane besitya<span style=\"color:green;\">k</span><span style=\"color:green;\">e</span> kulo<span style=\"color:red;\"> </span>mhlaba wesidu<span style=\"color:green;\">h</span>li</div>"
            ]
          },
          "metadata": {}
        },
        {
          "output_type": "stream",
          "name": "stdout",
          "text": [
            "human:\n",
            "bamane besitya kulo mhlaba wesiduli\n",
            "\n",
            "model:\n",
            "bamale besitye baqhekezi sidule batye\n"
          ]
        },
        {
          "output_type": "display_data",
          "data": {
            "text/plain": [
              "<IPython.core.display.HTML object>"
            ],
            "text/html": [
              "<div style='font-family:monospace;'>bama<span style=\"color:red;\">n</span><span style=\"color:green;\">l</span>e besity<span style=\"color:red;\">a</span><span style=\"color:green;\">e</span> baqhekez<span style=\"color:red;\">e</span><span style=\"color:green;\">i</span> <span style=\"color:red;\">i</span>sidul<span style=\"color:red;\">i</span><span style=\"color:green;\">e</span> batye</div>"
            ]
          },
          "metadata": {}
        },
        {
          "output_type": "stream",
          "name": "stdout",
          "text": [
            "human:\n",
            "bamane besitya baqhekeze isiduli batye\n",
            "\n",
            "model:\n",
            "kade babe bakhula bakhulela kulomhlaba weziduli\n"
          ]
        },
        {
          "output_type": "display_data",
          "data": {
            "text/plain": [
              "<IPython.core.display.HTML object>"
            ],
            "text/html": [
              "<div style='font-family:monospace;'><span style=\"color:red;\">b</span><span style=\"color:green;\">k</span>ade babe ba<span style=\"color:red;\">y</span><span style=\"color:red;\">a</span>khula b<span style=\"color:red;\">e</span><span style=\"color:green;\">a</span>khulela kulo<span style=\"color:red;\"> </span>mhlaba we<span style=\"color:red;\">s</span><span style=\"color:green;\">z</span>iduli</div>"
            ]
          },
          "metadata": {}
        },
        {
          "output_type": "stream",
          "name": "stdout",
          "text": [
            "human:\n",
            "bade babe bayakhula bekhulela kulo mhlaba wesiduli\n",
            "\n",
            "model:\n",
            "badam bisitoni baasaze\n"
          ]
        },
        {
          "output_type": "display_data",
          "data": {
            "text/plain": [
              "<IPython.core.display.HTML object>"
            ],
            "text/html": [
              "<div style='font-family:monospace;'><span style=\"color:red;\">a</span><span style=\"color:red;\">n</span><span style=\"color:red;\">d</span><span style=\"color:red;\"> </span><span style=\"color:red;\">i</span><span style=\"color:red;\">y</span><span style=\"color:red;\"> </span><span style=\"color:red;\">a</span><span style=\"color:red;\">z</span><span style=\"color:red;\">i</span><span style=\"color:red;\"> </span><span style=\"color:red;\">n</span><span style=\"color:red;\">o</span>ba<span style=\"color:green;\">d</span><span style=\"color:green;\">a</span><span style=\"color:green;\">m</span> <span style=\"color:green;\">b</span>isi<span style=\"color:red;\">d</span><span style=\"color:red;\">u</span><span style=\"color:red;\">l</span><span style=\"color:green;\">t</span><span style=\"color:green;\">o</span><span style=\"color:green;\">n</span>i ba<span style=\"color:red;\">y</span>asaz<span style=\"color:green;\">e</span><span style=\"color:red;\">i</span><span style=\"color:red;\"> </span><span style=\"color:red;\">n</span><span style=\"color:red;\">a</span></div>"
            ]
          },
          "metadata": {}
        },
        {
          "output_type": "stream",
          "name": "stdout",
          "text": [
            "human:\n",
            "and iy azi noba isiduli bayasazi na\n",
            "\n",
            "model:\n",
            "suka ngenye imini ngobadala bayakwazi ozihambela\n"
          ]
        },
        {
          "output_type": "display_data",
          "data": {
            "text/plain": [
              "<IPython.core.display.HTML object>"
            ],
            "text/html": [
              "<div style='font-family:monospace;'>suka ngenye imini ngo<span style=\"color:red;\">k</span><span style=\"color:red;\">u</span><span style=\"color:red;\"> </span>badala bayakwazi <span style=\"color:green;\">o</span><span style=\"color:red;\">u</span><span style=\"color:red;\">k</span><span style=\"color:red;\">u</span>zihambela</div>"
            ]
          },
          "metadata": {}
        },
        {
          "output_type": "stream",
          "name": "stdout",
          "text": [
            "human:\n",
            "suka ngenye imini ngoku badala bayakwazi ukuzihambela\n",
            "\n",
            "model:\n",
            "masambi kesihambi sikhange lo ma\n"
          ]
        },
        {
          "output_type": "display_data",
          "data": {
            "text/plain": [
              "<IPython.core.display.HTML object>"
            ],
            "text/html": [
              "<div style='font-family:monospace;'>mas<span style=\"color:red;\"> </span><span style=\"color:red;\">i</span><span style=\"color:red;\">h</span><span style=\"color:red;\"> </span>amb<span style=\"color:red;\">e</span><span style=\"color:red;\"> </span><span style=\"color:red;\">s</span>i k<span style=\"color:red;\">h</span>e<span style=\"color:red;\"> </span>sihamb<span style=\"color:red;\">e</span><span style=\"color:green;\">i</span> sikhange<span style=\"color:green;\"> </span>l<span style=\"color:red;\">a</span><span style=\"color:green;\">o</span> <span style=\"color:red;\">u</span>ma<span style=\"color:red;\">m</span><span style=\"color:red;\">a</span></div>"
            ]
          },
          "metadata": {}
        },
        {
          "output_type": "stream",
          "name": "stdout",
          "text": [
            "human:\n",
            "mas ih ambe si khe sihambe sikhangela umama\n",
            "\n",
            "model:\n",
            "paa ma bangeyi nelal\n"
          ]
        },
        {
          "output_type": "display_data",
          "data": {
            "text/plain": [
              "<IPython.core.display.HTML object>"
            ],
            "text/html": [
              "<div style='font-family:monospace;'><span style=\"color:red;\">b</span><span style=\"color:green;\">p</span>a<span style=\"color:red;\">h</span>a<span style=\"color:green;\"> </span>m<span style=\"color:red;\">b</span>a bange<span style=\"color:green;\">y</span><span style=\"color:green;\">i</span><span style=\"color:green;\"> </span>n<span style=\"color:green;\">e</span><span style=\"color:red;\">a</span><span style=\"color:red;\"> </span><span style=\"color:red;\">i</span>lal<span style=\"color:red;\">i</span></div>"
            ]
          },
          "metadata": {}
        },
        {
          "output_type": "stream",
          "name": "stdout",
          "text": [
            "human:\n",
            "bahamba bangena ilali\n",
            "\n",
            "model:\n",
            "bambi besima bacula batyimpongompungompu ngompungu sifunumamabu ngompungu\n"
          ]
        },
        {
          "output_type": "display_data",
          "data": {
            "text/plain": [
              "<IPython.core.display.HTML object>"
            ],
            "text/html": [
              "<div style='font-family:monospace;'>b<span style=\"color:red;\">a</span><span style=\"color:red;\">h</span>amb<span style=\"color:red;\">e</span><span style=\"color:green;\">i</span> besima bacula bat<span style=\"color:red;\">h</span><span style=\"color:green;\">y</span>i<span style=\"color:red;\"> </span>mpongo<span style=\"color:red;\"> </span>mp<span style=\"color:red;\">o</span><span style=\"color:green;\">u</span>ngo<span style=\"color:red;\"> </span>mp<span style=\"color:red;\">o</span><span style=\"color:green;\">u</span><span style=\"color:green;\"> </span>ngo<span style=\"color:red;\"> </span>mp<span style=\"color:red;\">o</span><span style=\"color:green;\">u</span>ng<span style=\"color:red;\">o</span><span style=\"color:green;\">u</span> sifun<span style=\"color:red;\">a</span><span style=\"color:red;\"> </span>umama<span style=\"color:green;\">b</span><span style=\"color:green;\">u</span> <span style=\"color:red;\">m</span><span style=\"color:red;\">p</span><span style=\"color:red;\">o</span>ngo<span style=\"color:red;\"> </span>mp<span style=\"color:red;\">o</span><span style=\"color:green;\">u</span>ng<span style=\"color:red;\">o</span><span style=\"color:green;\">u</span></div>"
            ]
          },
          "metadata": {}
        },
        {
          "output_type": "stream",
          "name": "stdout",
          "text": [
            "human:\n",
            "bahambe besima bacula bathi mpongo mpongo mpongo mpongo sifuna umama mpongo mpongo\n",
            "\n",
            "model:\n",
            "wasezala waseshiya mpongompongo\n"
          ]
        },
        {
          "output_type": "display_data",
          "data": {
            "text/plain": [
              "<IPython.core.display.HTML object>"
            ],
            "text/html": [
              "<div style='font-family:monospace;'>was<span style=\"color:red;\">i</span><span style=\"color:green;\">e</span>zala was<span style=\"color:red;\">i</span><span style=\"color:green;\">e</span>shiya mpongo<span style=\"color:red;\"> </span>mpongo</div>"
            ]
          },
          "metadata": {}
        },
        {
          "output_type": "stream",
          "name": "stdout",
          "text": [
            "human:\n",
            "wasizala wasishiya mpongo mpongo\n",
            "\n",
            "model:\n",
            "sahla mhlatyana sakhula mpongompongo\n"
          ]
        },
        {
          "output_type": "display_data",
          "data": {
            "text/plain": [
              "<IPython.core.display.HTML object>"
            ],
            "text/html": [
              "<div style='font-family:monospace;'>sa<span style=\"color:red;\">d</span><span style=\"color:green;\">h</span>la mhlatyana sakhula mpongo<span style=\"color:red;\"> </span>mpongo</div>"
            ]
          },
          "metadata": {}
        },
        {
          "output_type": "stream",
          "name": "stdout",
          "text": [
            "human:\n",
            "sadla mhlatyana sakhula mpongo mpongo\n",
            "\n",
            "model:\n",
            "kadwa klomze mamikhantu mamela abantwa\n"
          ]
        },
        {
          "output_type": "display_data",
          "data": {
            "text/plain": [
              "<IPython.core.display.HTML object>"
            ],
            "text/html": [
              "<div style='font-family:monospace;'>k<span style=\"color:red;\">w</span>a<span style=\"color:green;\">d</span><span style=\"color:red;\">t</span><span style=\"color:red;\">h</span>wa k<span style=\"color:red;\">u</span>lo<span style=\"color:red;\"> </span>mz<span style=\"color:red;\">i</span><span style=\"color:green;\">e</span> ma<span style=\"color:red;\"> </span><span style=\"color:green;\">m</span><span style=\"color:green;\">i</span>khan<span style=\"color:red;\">i</span><span style=\"color:green;\">t</span><span style=\"color:green;\">u</span><span style=\"color:green;\"> </span>mamel<span style=\"color:red;\">e</span><span style=\"color:green;\">a</span> abantwa<span style=\"color:red;\">n</span><span style=\"color:red;\">a</span></div>"
            ]
          },
          "metadata": {}
        },
        {
          "output_type": "stream",
          "name": "stdout",
          "text": [
            "human:\n",
            "kwathwa kulo mzi ma khanimamele abantwana\n",
            "\n",
            "model:\n",
            "kanumabele abadwa\n"
          ]
        },
        {
          "output_type": "display_data",
          "data": {
            "text/plain": [
              "<IPython.core.display.HTML object>"
            ],
            "text/html": [
              "<div style='font-family:monospace;'>k<span style=\"color:red;\">h</span>an<span style=\"color:red;\">i</span><span style=\"color:green;\">u</span>ma<span style=\"color:red;\">m</span><span style=\"color:green;\">b</span>ele aba<span style=\"color:green;\">d</span><span style=\"color:red;\">n</span><span style=\"color:red;\">t</span>wa<span style=\"color:red;\">n</span><span style=\"color:red;\">a</span></div>"
            ]
          },
          "metadata": {}
        },
        {
          "output_type": "stream",
          "name": "stdout",
          "text": [
            "human:\n",
            "khanimamele abantwana\n",
            "\n",
            "model:\n",
            "baphindi abantwa mpongompongompongompongo sifuno mamampongompongo\n"
          ]
        },
        {
          "output_type": "display_data",
          "data": {
            "text/plain": [
              "<IPython.core.display.HTML object>"
            ],
            "text/html": [
              "<div style='font-family:monospace;'>baphind<span style=\"color:red;\">a</span><span style=\"color:green;\">i</span> abantwa<span style=\"color:red;\">n</span><span style=\"color:red;\">a</span> mpongo<span style=\"color:red;\"> </span>mpongo<span style=\"color:red;\"> </span>mpongo<span style=\"color:red;\"> </span>mpongo sifun<span style=\"color:red;\">a</span><span style=\"color:green;\">o</span> <span style=\"color:red;\">u</span>mama<span style=\"color:red;\"> </span>mpongo<span style=\"color:red;\"> </span>mpongo</div>"
            ]
          },
          "metadata": {}
        },
        {
          "output_type": "stream",
          "name": "stdout",
          "text": [
            "human:\n",
            "baphinda abantwana mpongo mpongo mpongo mpongo sifuna umama mpongo mpongo\n",
            "\n",
            "model:\n",
            "wasezala waseshi yaampongompongo\n"
          ]
        },
        {
          "output_type": "display_data",
          "data": {
            "text/plain": [
              "<IPython.core.display.HTML object>"
            ],
            "text/html": [
              "<div style='font-family:monospace;'>was<span style=\"color:red;\">i</span><span style=\"color:green;\">e</span>zala was<span style=\"color:red;\">i</span><span style=\"color:green;\">e</span>shi<span style=\"color:green;\"> </span>ya<span style=\"color:red;\"> </span><span style=\"color:green;\">a</span>mpongo<span style=\"color:red;\"> </span>mpongo</div>"
            ]
          },
          "metadata": {}
        },
        {
          "output_type": "stream",
          "name": "stdout",
          "text": [
            "human:\n",
            "wasizala wasishiya mpongo mpongo\n",
            "\n",
            "model:\n",
            "sadlamhlatyana sakhula mpo ngompongo\n"
          ]
        },
        {
          "output_type": "display_data",
          "data": {
            "text/plain": [
              "<IPython.core.display.HTML object>"
            ],
            "text/html": [
              "<div style='font-family:monospace;'>sadla<span style=\"color:red;\"> </span>mhlatyana sakhula mpo<span style=\"color:green;\"> </span>ngo<span style=\"color:red;\"> </span>mpongo</div>"
            ]
          },
          "metadata": {}
        },
        {
          "output_type": "stream",
          "name": "stdout",
          "text": [
            "human:\n",
            "sadla mhlatyana sakhula mpongo mpongo\n",
            "\n",
            "model:\n",
            "kanti umama walomntana ukuloms unetheko umama wabantwa\n"
          ]
        },
        {
          "output_type": "display_data",
          "data": {
            "text/plain": [
              "<IPython.core.display.HTML object>"
            ],
            "text/html": [
              "<div style='font-family:monospace;'>ka<span style=\"color:red;\"> </span>nti umama walo<span style=\"color:red;\"> </span>mntana ukulo<span style=\"color:red;\"> </span>m<span style=\"color:green;\">s</span><span style=\"color:red;\">z</span><span style=\"color:red;\">i</span> unetheko umama wabantwa<span style=\"color:red;\">n</span><span style=\"color:red;\">a</span></div>"
            ]
          },
          "metadata": {}
        },
        {
          "output_type": "stream",
          "name": "stdout",
          "text": [
            "human:\n",
            "ka nti umama walo mntana ukulo mzi unetheko umama wabantwana\n",
            "\n",
            "model:\n",
            "tsi ingabantwana abamnja aba\n"
          ]
        },
        {
          "output_type": "display_data",
          "data": {
            "text/plain": [
              "<IPython.core.display.HTML object>"
            ],
            "text/html": [
              "<div style='font-family:monospace;'>ts<span style=\"color:red;\">h</span><span style=\"color:red;\">i</span><span style=\"color:red;\">n</span>i ingabantwana <span style=\"color:green;\">a</span>bam<span style=\"color:red;\"> </span>nj<span style=\"color:red;\">e</span><span style=\"color:green;\">a</span> aba</div>"
            ]
          },
          "metadata": {}
        },
        {
          "output_type": "stream",
          "name": "stdout",
          "text": [
            "human:\n",
            "tshini ingabantwana bam nje aba\n",
            "\n",
            "model:\n",
            "bente kuda katyasi sikebenke\n"
          ]
        },
        {
          "output_type": "display_data",
          "data": {
            "text/plain": [
              "<IPython.core.display.HTML object>"
            ],
            "text/html": [
              "<div style='font-family:monospace;'>ben<span style=\"color:red;\">d</span><span style=\"color:red;\">i</span>t<span style=\"color:red;\">h</span>e k<span style=\"color:red;\">o</span><span style=\"color:green;\">u</span>d<span style=\"color:red;\">w</span>a <span style=\"color:red;\">w</span><span style=\"color:green;\">k</span>aty<span style=\"color:green;\">a</span><span style=\"color:green;\">s</span>i<span style=\"color:red;\">w</span><span style=\"color:red;\">a</span> si<span style=\"color:green;\">k</span><span style=\"color:red;\">s</span><span style=\"color:red;\">i</span><span style=\"color:red;\">g</span>eben<span style=\"color:red;\">g</span><span style=\"color:red;\">a</span><span style=\"color:green;\">k</span><span style=\"color:green;\">e</span></div>"
            ]
          },
          "metadata": {}
        },
        {
          "output_type": "stream",
          "name": "stdout",
          "text": [
            "human:\n",
            "bendithe kodwa watyiwa sisigebenga\n",
            "\n",
            "model:\n",
            "kekidoojososkele\n"
          ]
        },
        {
          "output_type": "display_data",
          "data": {
            "text/plain": [
              "<IPython.core.display.HTML object>"
            ],
            "text/html": [
              "<div style='font-family:monospace;'><span style=\"color:green;\">k</span>e<span style=\"color:red;\">w</span><span style=\"color:green;\">k</span><span style=\"color:green;\">i</span><span style=\"color:green;\">d</span><span style=\"color:green;\">o</span><span style=\"color:green;\">o</span><span style=\"color:green;\">j</span><span style=\"color:green;\">o</span><span style=\"color:green;\">s</span><span style=\"color:green;\">o</span><span style=\"color:green;\">s</span><span style=\"color:green;\">k</span>e<span style=\"color:green;\">l</span><span style=\"color:red;\"> </span><span style=\"color:red;\">u</span><span style=\"color:red;\">b</span><span style=\"color:red;\">u</span><span style=\"color:red;\">t</span><span style=\"color:red;\">h</span>e<span style=\"color:red;\"> </span><span style=\"color:red;\">w</span><span style=\"color:red;\">a</span><span style=\"color:red;\">t</span><span style=\"color:red;\">y</span><span style=\"color:red;\">i</span><span style=\"color:red;\">w</span><span style=\"color:red;\">a</span><span style=\"color:red;\"> </span><span style=\"color:red;\">s</span><span style=\"color:red;\">i</span><span style=\"color:red;\">s</span><span style=\"color:red;\">i</span><span style=\"color:red;\">g</span><span style=\"color:red;\">e</span><span style=\"color:red;\">b</span><span style=\"color:red;\">e</span><span style=\"color:red;\">n</span><span style=\"color:red;\">g</span><span style=\"color:red;\">a</span></div>"
            ]
          },
          "metadata": {}
        },
        {
          "output_type": "stream",
          "name": "stdout",
          "text": [
            "human:\n",
            "ewe ubuthe watyiwa sisigebenga\n",
            "\n",
            "model:\n",
            "lealelel lnlllarl lanlnlnlele lal lelllen\n"
          ]
        },
        {
          "output_type": "display_data",
          "data": {
            "text/plain": [
              "<IPython.core.display.HTML object>"
            ],
            "text/html": [
              "<div style='font-family:monospace;'><span style=\"color:red;\">m</span><span style=\"color:green;\">l</span><span style=\"color:green;\">e</span>a<span style=\"color:red;\">s</span><span style=\"color:red;\">i</span><span style=\"color:red;\">y</span><span style=\"color:red;\">i</span>l<span style=\"color:red;\">u</span><span style=\"color:green;\">e</span><span style=\"color:green;\">l</span><span style=\"color:green;\">e</span><span style=\"color:green;\">l</span><span style=\"color:green;\"> </span><span style=\"color:green;\">l</span>n<span style=\"color:red;\">g</span><span style=\"color:red;\">i</span><span style=\"color:red;\">s</span><span style=\"color:green;\">l</span><span style=\"color:green;\">l</span><span style=\"color:green;\">l</span><span style=\"color:green;\">a</span><span style=\"color:green;\">r</span><span style=\"color:green;\">l</span><span style=\"color:green;\"> </span><span style=\"color:green;\">l</span><span style=\"color:green;\">a</span><span style=\"color:green;\">n</span><span style=\"color:green;\">l</span><span style=\"color:green;\">n</span><span style=\"color:green;\">l</span><span style=\"color:green;\">n</span><span style=\"color:green;\">l</span><span style=\"color:green;\">e</span><span style=\"color:green;\">l</span>e l<span style=\"color:red;\">o</span><span style=\"color:red;\">o</span><span style=\"color:green;\">a</span><span style=\"color:green;\">l</span> <span style=\"color:green;\">l</span><span style=\"color:green;\">e</span><span style=\"color:green;\">l</span><span style=\"color:green;\">l</span><span style=\"color:green;\">l</span><span style=\"color:green;\">e</span>n<span style=\"color:red;\">t</span><span style=\"color:red;\">o</span></div>"
            ]
          },
          "metadata": {}
        },
        {
          "output_type": "stream",
          "name": "stdout",
          "text": [
            "human:\n",
            "masiyilungise loo nto\n",
            "\n",
            "model:\n",
            "biblatisika bi ngasondi lene\n"
          ]
        },
        {
          "output_type": "display_data",
          "data": {
            "text/plain": [
              "<IPython.core.display.HTML object>"
            ],
            "text/html": [
              "<div style='font-family:monospace;'><span style=\"color:red;\">s</span><span style=\"color:green;\">b</span><span style=\"color:green;\">i</span><span style=\"color:green;\">b</span><span style=\"color:green;\">l</span>at<span style=\"color:red;\">h</span><span style=\"color:red;\">i</span><span style=\"color:red;\"> </span>isi<span style=\"color:red;\">g</span><span style=\"color:green;\">k</span><span style=\"color:green;\">a</span><span style=\"color:green;\"> </span><span style=\"color:green;\">b</span>i<span style=\"color:green;\"> </span><span style=\"color:red;\">b</span><span style=\"color:red;\">e</span>nga<span style=\"color:red;\"> </span>sond<span style=\"color:green;\">i</span><span style=\"color:green;\"> </span><span style=\"color:green;\">l</span>e<span style=\"color:red;\">l</span><span style=\"color:red;\">a</span><span style=\"color:green;\">n</span><span style=\"color:green;\">e</span></div>"
            ]
          },
          "metadata": {}
        },
        {
          "output_type": "stream",
          "name": "stdout",
          "text": [
            "human:\n",
            "sathi isigibenga sondela\n",
            "\n",
            "model:\n",
            "basuku abantwana bambonwa umama wabo\n"
          ]
        },
        {
          "output_type": "display_data",
          "data": {
            "text/plain": [
              "<IPython.core.display.HTML object>"
            ],
            "text/html": [
              "<div style='font-family:monospace;'>basuk<span style=\"color:red;\">a</span><span style=\"color:green;\">u</span> abantwana bambon<span style=\"color:green;\">w</span>a umama wabo</div>"
            ]
          },
          "metadata": {}
        },
        {
          "output_type": "stream",
          "name": "stdout",
          "text": [
            "human:\n",
            "basuka abantwana bambona umama wabo\n",
            "\n",
            "model:\n",
            "nali ulaline\n"
          ]
        },
        {
          "output_type": "display_data",
          "data": {
            "text/plain": [
              "<IPython.core.display.HTML object>"
            ],
            "text/html": [
              "<div style='font-family:monospace;'><span style=\"color:green;\">n</span><span style=\"color:green;\">a</span><span style=\"color:green;\">l</span><span style=\"color:green;\">i</span><span style=\"color:green;\"> </span>u<span style=\"color:red;\">y</span><span style=\"color:red;\">i</span>la<span style=\"color:red;\">h</span>li<span style=\"color:red;\">l</span><span style=\"color:green;\">n</span>e<span style=\"color:red;\"> </span><span style=\"color:red;\">n</span><span style=\"color:red;\">g</span><span style=\"color:red;\">o</span><span style=\"color:red;\">k</span><span style=\"color:red;\">u</span></div>"
            ]
          },
          "metadata": {}
        },
        {
          "output_type": "stream",
          "name": "stdout",
          "text": [
            "human:\n",
            "uyilahlile ngoku\n",
            "\n",
            "model:\n",
            "delale e\n"
          ]
        },
        {
          "output_type": "display_data",
          "data": {
            "text/plain": [
              "<IPython.core.display.HTML object>"
            ],
            "text/html": [
              "<div style='font-family:monospace;'><span style=\"color:red;\">n</span>d<span style=\"color:red;\">i</span><span style=\"color:red;\">y</span><span style=\"color:green;\">e</span><span style=\"color:green;\">l</span>al<span style=\"color:red;\">a</span><span style=\"color:red;\">h</span><span style=\"color:red;\">l</span><span style=\"color:red;\">i</span><span style=\"color:red;\">l</span>e<span style=\"color:green;\"> </span><span style=\"color:green;\">e</span></div>"
            ]
          },
          "metadata": {}
        },
        {
          "output_type": "stream",
          "name": "stdout",
          "text": [
            "human:\n",
            "ndiyalahlile\n",
            "\n",
            "model:\n",
            "on\n"
          ]
        },
        {
          "output_type": "display_data",
          "data": {
            "text/plain": [
              "<IPython.core.display.HTML object>"
            ],
            "text/html": [
              "<div style='font-family:monospace;'><span style=\"color:green;\">o</span><span style=\"color:green;\">n</span><span style=\"color:red;\">e</span><span style=\"color:red;\">w</span><span style=\"color:red;\">e</span></div>"
            ]
          },
          "metadata": {}
        },
        {
          "output_type": "stream",
          "name": "stdout",
          "text": [
            "human:\n",
            "ewe\n",
            "\n",
            "model:\n",
            "yayisidika loku intsomi yakhe\n"
          ]
        },
        {
          "output_type": "display_data",
          "data": {
            "text/plain": [
              "<IPython.core.display.HTML object>"
            ],
            "text/html": [
              "<div style='font-family:monospace;'>yayisi<span style=\"color:green;\">d</span><span style=\"color:red;\">t</span><span style=\"color:red;\">h</span>i<span style=\"color:red;\"> </span>ka<span style=\"color:green;\"> </span>loku intsomi yakhe</div>"
            ]
          },
          "metadata": {}
        },
        {
          "output_type": "stream",
          "name": "stdout",
          "text": [
            "human:\n",
            "yayisithi kaloku intsomi yakhe\n",
            "\n",
            "model:\n",
            "usiirekhodisha kelondanzamkumbusi\n"
          ]
        },
        {
          "output_type": "display_data",
          "data": {
            "text/plain": [
              "<IPython.core.display.HTML object>"
            ],
            "text/html": [
              "<div style='font-family:monospace;'><span style=\"color:green;\">u</span>s<span style=\"color:green;\">i</span><span style=\"color:red;\">u</span><span style=\"color:red;\">y</span>irekhodisha ke<span style=\"color:red;\"> </span>l<span style=\"color:green;\">o</span><span style=\"color:red;\">e</span><span style=\"color:red;\"> </span>nda<span style=\"color:red;\">w</span><span style=\"color:red;\">o</span><span style=\"color:red;\"> </span>n<span style=\"color:red;\">d</span><span style=\"color:red;\">i</span>z<span style=\"color:red;\">o</span><span style=\"color:green;\">a</span>mk<span style=\"color:red;\">h</span>umbu<span style=\"color:red;\">z</span><span style=\"color:red;\">a</span><span style=\"color:green;\">s</span><span style=\"color:green;\">i</span></div>"
            ]
          },
          "metadata": {}
        },
        {
          "output_type": "stream",
          "name": "stdout",
          "text": [
            "human:\n",
            "suyirekhodisha ke le ndawo ndizomkhumbuza\n",
            "\n",
            "model:\n",
            "opngmpongompongo sifunumamaapo  ngompongo\n"
          ]
        },
        {
          "output_type": "display_data",
          "data": {
            "text/plain": [
              "<IPython.core.display.HTML object>"
            ],
            "text/html": [
              "<div style='font-family:monospace;'><span style=\"color:green;\">o</span><span style=\"color:green;\">p</span><span style=\"color:green;\">n</span><span style=\"color:green;\">g</span>mpongo<span style=\"color:red;\"> </span><span style=\"color:red;\">m</span><span style=\"color:red;\">p</span><span style=\"color:red;\">o</span><span style=\"color:red;\">n</span><span style=\"color:red;\">g</span><span style=\"color:red;\">o</span><span style=\"color:red;\"> </span><span style=\"color:red;\">m</span><span style=\"color:red;\">p</span><span style=\"color:red;\">o</span><span style=\"color:red;\">n</span><span style=\"color:red;\">g</span><span style=\"color:red;\">o</span><span style=\"color:red;\"> </span>mpongo sifun<span style=\"color:red;\">a</span><span style=\"color:red;\"> </span>umama<span style=\"color:green;\">a</span><span style=\"color:green;\">p</span><span style=\"color:green;\">o</span> <span style=\"color:green;\"> </span><span style=\"color:green;\">n</span><span style=\"color:green;\">g</span><span style=\"color:green;\">o</span>mpongo<span style=\"color:red;\"> </span><span style=\"color:red;\">m</span><span style=\"color:red;\">p</span><span style=\"color:red;\">o</span><span style=\"color:red;\">n</span><span style=\"color:red;\">g</span><span style=\"color:red;\">o</span></div>"
            ]
          },
          "metadata": {}
        },
        {
          "output_type": "stream",
          "name": "stdout",
          "text": [
            "human:\n",
            "mpongo mpongo mpongo mpongo sifuna umama mpongo mpongo\n",
            "\n",
            "model:\n",
            "wasizala wasishiyampo ngompongo\n"
          ]
        },
        {
          "output_type": "display_data",
          "data": {
            "text/plain": [
              "<IPython.core.display.HTML object>"
            ],
            "text/html": [
              "<div style='font-family:monospace;'>wasizala wasishiya<span style=\"color:green;\">m</span><span style=\"color:green;\">p</span><span style=\"color:green;\">o</span> <span style=\"color:green;\">n</span><span style=\"color:green;\">g</span><span style=\"color:green;\">o</span>mpongo<span style=\"color:red;\"> </span><span style=\"color:red;\">m</span><span style=\"color:red;\">p</span><span style=\"color:red;\">o</span><span style=\"color:red;\">n</span><span style=\"color:red;\">g</span><span style=\"color:red;\">o</span></div>"
            ]
          },
          "metadata": {}
        },
        {
          "output_type": "stream",
          "name": "stdout",
          "text": [
            "human:\n",
            "wasizala wasishiya mpongo mpongo\n",
            "\n",
            "model:\n",
            "sadlamhlatyana sakhula mpongompongo\n"
          ]
        },
        {
          "output_type": "display_data",
          "data": {
            "text/plain": [
              "<IPython.core.display.HTML object>"
            ],
            "text/html": [
              "<div style='font-family:monospace;'>sadla<span style=\"color:red;\"> </span>mhlatyana sakhula mpongo<span style=\"color:red;\"> </span>mpongo</div>"
            ]
          },
          "metadata": {}
        },
        {
          "output_type": "stream",
          "name": "stdout",
          "text": [
            "human:\n",
            "sadla mhlatyana sakhula mpongo mpongo\n",
            "\n",
            "model:\n",
            "kutokegqithaani phambiliq\n"
          ]
        },
        {
          "output_type": "display_data",
          "data": {
            "text/plain": [
              "<IPython.core.display.HTML object>"
            ],
            "text/html": [
              "<div style='font-family:monospace;'>kut<span style=\"color:green;\">o</span><span style=\"color:green;\">k</span><span style=\"color:red;\">h</span><span style=\"color:red;\"> </span><span style=\"color:red;\">i</span><span style=\"color:red;\"> </span><span style=\"color:red;\">w</span>e<span style=\"color:red;\"> </span>gqith<span style=\"color:green;\">a</span><span style=\"color:red;\">e</span><span style=\"color:red;\">l</span>ani <span style=\"color:red;\">n</span><span style=\"color:red;\">g</span><span style=\"color:red;\">a</span>phambili<span style=\"color:green;\">q</span></div>"
            ]
          },
          "metadata": {}
        },
        {
          "output_type": "stream",
          "name": "stdout",
          "text": [
            "human:\n",
            "kuth i we gqithelani ngaphambili\n",
            "\n",
            "model:\n",
            "baphinde bafika komyuma\n"
          ]
        },
        {
          "output_type": "display_data",
          "data": {
            "text/plain": [
              "<IPython.core.display.HTML object>"
            ],
            "text/html": [
              "<div style='font-family:monospace;'>baphind<span style=\"color:red;\">a</span><span style=\"color:green;\">e</span> bafika kom<span style=\"color:red;\">n</span>y<span style=\"color:red;\"> </span><span style=\"color:red;\">e</span><span style=\"color:red;\"> </span>um<span style=\"color:green;\">a</span><span style=\"color:red;\">z</span><span style=\"color:red;\">i</span></div>"
            ]
          },
          "metadata": {}
        },
        {
          "output_type": "stream",
          "name": "stdout",
          "text": [
            "human:\n",
            "baphinda bafika komny e umzi\n",
            "\n",
            "model:\n",
            "mpongompongo ylizim elibabilivu batyiwa\n"
          ]
        },
        {
          "output_type": "display_data",
          "data": {
            "text/plain": [
              "<IPython.core.display.HTML object>"
            ],
            "text/html": [
              "<div style='font-family:monospace;'><span style=\"color:red;\">u</span>mpongo<span style=\"color:red;\">-</span>mpongo y<span style=\"color:red;\">a</span><span style=\"color:red;\">y</span><span style=\"color:red;\">i</span><span style=\"color:red;\"> </span><span style=\"color:red;\">y</span><span style=\"color:red;\">a</span><span style=\"color:red;\">y</span><span style=\"color:red;\">i</span>lizim<span style=\"color:red;\">i</span> eli<span style=\"color:red;\"> </span>bab<span style=\"color:red;\">h</span>iliv<span style=\"color:red;\">a</span><span style=\"color:red;\"> </span>u<span style=\"color:red;\">b</span><span style=\"color:red;\">a</span><span style=\"color:red;\"> </span><span style=\"color:red;\">l</span><span style=\"color:red;\">a</span><span style=\"color:red;\">t</span><span style=\"color:red;\">y</span><span style=\"color:red;\">i</span> batyiwa</div>"
            ]
          },
          "metadata": {}
        },
        {
          "output_type": "stream",
          "name": "stdout",
          "text": [
            "human:\n",
            "umpongo-mpongo yayi yayilizimi eli babhiliva uba latyi batyiwa\n",
            "\n",
            "model:\n",
            "ukwaye kwafuma nise batyiwa lomama lelazila\n"
          ]
        },
        {
          "output_type": "display_data",
          "data": {
            "text/plain": [
              "<IPython.core.display.HTML object>"
            ],
            "text/html": [
              "<div style='font-family:monospace;'><span style=\"color:green;\">u</span>kwaye kwafuma<span style=\"color:green;\"> </span>nise<span style=\"color:red;\">k</span><span style=\"color:red;\">a</span> <span style=\"color:red;\">u</span>b<span style=\"color:red;\">a</span><span style=\"color:red;\"> </span><span style=\"color:red;\">w</span>atyiwa lo<span style=\"color:red;\"> </span>mama lela<span style=\"color:red;\"> </span>zi<span style=\"color:red;\">m</span><span style=\"color:green;\">l</span><span style=\"color:green;\">a</span></div>"
            ]
          },
          "metadata": {}
        },
        {
          "output_type": "stream",
          "name": "stdout",
          "text": [
            "human:\n",
            "kwaye kwafumaniseka uba watyiwa lo mama lela zim\n",
            "\n",
            "model:\n",
            "en kenkuthwa apha cithelani phambili\n"
          ]
        },
        {
          "output_type": "display_data",
          "data": {
            "text/plain": [
              "<IPython.core.display.HTML object>"
            ],
            "text/html": [
              "<div style='font-family:monospace;'><span style=\"color:red;\">t</span><span style=\"color:red;\">h</span>en ke<span style=\"color:red;\"> </span>n<span style=\"color:red;\">g</span><span style=\"color:red;\">o</span><span style=\"color:red;\">k</span><span style=\"color:red;\">u</span><span style=\"color:red;\"> </span>kuthwa apha <span style=\"color:green;\">c</span><span style=\"color:red;\">g</span><span style=\"color:red;\">q</span>ithelani phambili</div>"
            ]
          },
          "metadata": {}
        },
        {
          "output_type": "stream",
          "name": "stdout",
          "text": [
            "human:\n",
            "then ke ngoku kuthwa apha gqithelani phambili\n",
            "\n",
            "model:\n",
            "kederan pambi\n"
          ]
        },
        {
          "output_type": "display_data",
          "data": {
            "text/plain": [
              "<IPython.core.display.HTML object>"
            ],
            "text/html": [
              "<div style='font-family:monospace;'><span style=\"color:green;\">k</span><span style=\"color:red;\">g</span><span style=\"color:red;\">q</span><span style=\"color:red;\">i</span><span style=\"color:red;\">t</span><span style=\"color:red;\">h</span>e<span style=\"color:red;\">l</span><span style=\"color:green;\">d</span><span style=\"color:green;\">e</span><span style=\"color:green;\">r</span>an<span style=\"color:red;\">i</span> p<span style=\"color:red;\">h</span>ambi<span style=\"color:red;\">l</span><span style=\"color:red;\">i</span></div>"
            ]
          },
          "metadata": {}
        },
        {
          "output_type": "stream",
          "name": "stdout",
          "text": [
            "human:\n",
            "gqithelani phambili\n",
            "\n",
            "model:\n",
            "baamba bacula lentoke\n"
          ]
        },
        {
          "output_type": "display_data",
          "data": {
            "text/plain": [
              "<IPython.core.display.HTML object>"
            ],
            "text/html": [
              "<div style='font-family:monospace;'>ba<span style=\"color:red;\">h</span>amba b<span style=\"color:red;\">e</span><span style=\"color:green;\">a</span>cula le<span style=\"color:red;\"> </span>nto<span style=\"color:red;\"> </span>ke</div>"
            ]
          },
          "metadata": {}
        },
        {
          "output_type": "stream",
          "name": "stdout",
          "text": [
            "human:\n",
            "bahamba becula le nto ke\n",
            "\n",
            "model:\n",
            "amazwe kufika kengokwesigebe ngenesisithi izima\n"
          ]
        },
        {
          "output_type": "display_data",
          "data": {
            "text/plain": [
              "<IPython.core.display.HTML object>"
            ],
            "text/html": [
              "<div style='font-family:monospace;'><span style=\"color:red;\">b</span><span style=\"color:green;\">a</span><span style=\"color:green;\">m</span>az<span style=\"color:red;\">o</span><span style=\"color:green;\">w</span><span style=\"color:green;\">e</span><span style=\"color:green;\"> </span><span style=\"color:green;\">k</span><span style=\"color:green;\">u</span>fika <span style=\"color:green;\">k</span><span style=\"color:green;\">e</span><span style=\"color:green;\">n</span><span style=\"color:green;\">g</span><span style=\"color:green;\">o</span><span style=\"color:green;\">k</span><span style=\"color:green;\">w</span>esigebe<span style=\"color:green;\"> </span>ngen<span style=\"color:red;\">i</span><span style=\"color:red;\"> </span>esi<span style=\"color:red;\"> </span>sithi izim<span style=\"color:red;\">i</span><span style=\"color:green;\">a</span></div>"
            ]
          },
          "metadata": {}
        },
        {
          "output_type": "stream",
          "name": "stdout",
          "text": [
            "human:\n",
            "bazofika esigebengeni esi sithi izimi\n",
            "\n",
            "model:\n",
            "kwakukholeleka ngatika ngunto nkulu lentodwalizimu\n"
          ]
        },
        {
          "output_type": "display_data",
          "data": {
            "text/plain": [
              "<IPython.core.display.HTML object>"
            ],
            "text/html": [
              "<div style='font-family:monospace;'>kwakukholeleka <span style=\"color:red;\">k</span><span style=\"color:red;\">e</span><span style=\"color:red;\"> </span><span style=\"color:red;\">i</span>ngat<span style=\"color:red;\">h</span>i<span style=\"color:green;\">k</span><span style=\"color:green;\">a</span> <span style=\"color:red;\">y</span><span style=\"color:red;\">i</span><span style=\"color:green;\">n</span><span style=\"color:green;\">g</span><span style=\"color:green;\">u</span>nto <span style=\"color:red;\">e</span>nkulu le<span style=\"color:red;\"> </span>nto<span style=\"color:green;\">d</span><span style=\"color:red;\"> </span><span style=\"color:red;\">k</span><span style=\"color:red;\">u</span><span style=\"color:red;\">t</span><span style=\"color:red;\">h</span>wa<span style=\"color:red;\"> </span>lizim<span style=\"color:green;\">u</span></div>"
            ]
          },
          "metadata": {}
        },
        {
          "output_type": "stream",
          "name": "stdout",
          "text": [
            "human:\n",
            "kwakukholeleka ke ingathi yinto enkulu le nto kuthwa lizim\n",
            "\n",
            "model:\n",
            "ihlelapha ngasepa\n"
          ]
        },
        {
          "output_type": "display_data",
          "data": {
            "text/plain": [
              "<IPython.core.display.HTML object>"
            ],
            "text/html": [
              "<div style='font-family:monospace;'>ihlel<span style=\"color:red;\">i</span><span style=\"color:red;\"> </span>apha ngase<span style=\"color:green;\">p</span><span style=\"color:red;\">b</span><span style=\"color:red;\">u</span><span style=\"color:red;\">h</span><span style=\"color:red;\">l</span>a<span style=\"color:red;\">n</span><span style=\"color:red;\">t</span><span style=\"color:red;\">i</span></div>"
            ]
          },
          "metadata": {}
        },
        {
          "output_type": "stream",
          "name": "stdout",
          "text": [
            "human:\n",
            "ihleli apha ngasebuhlanti\n",
            "\n",
            "model:\n",
            "dikleinn\n"
          ]
        },
        {
          "output_type": "display_data",
          "data": {
            "text/plain": [
              "<IPython.core.display.HTML object>"
            ],
            "text/html": [
              "<div style='font-family:monospace;'><span style=\"color:green;\">d</span>i<span style=\"color:red;\">h</span><span style=\"color:green;\">k</span>le<span style=\"color:red;\">l</span>i<span style=\"color:red;\"> </span><span style=\"color:red;\">a</span><span style=\"color:red;\">p</span><span style=\"color:red;\">h</span><span style=\"color:red;\">a</span><span style=\"color:red;\"> </span>n<span style=\"color:red;\">g</span><span style=\"color:red;\">a</span><span style=\"color:red;\">s</span><span style=\"color:red;\">e</span><span style=\"color:red;\">b</span><span style=\"color:red;\">u</span><span style=\"color:red;\">h</span><span style=\"color:red;\">l</span><span style=\"color:red;\">a</span>n<span style=\"color:red;\">t</span><span style=\"color:red;\">i</span></div>"
            ]
          },
          "metadata": {}
        },
        {
          "output_type": "stream",
          "name": "stdout",
          "text": [
            "human:\n",
            "ihleli apha ngasebuhlanti\n",
            "\n",
            "model:\n",
            "\n"
          ]
        },
        {
          "output_type": "display_data",
          "data": {
            "text/plain": [
              "<IPython.core.display.HTML object>"
            ],
            "text/html": [
              "<div style='font-family:monospace;'><span style=\"color:red;\">m</span><span style=\"color:red;\">h</span><span style=\"color:red;\">m</span><span style=\"color:red;\">m</span></div>"
            ]
          },
          "metadata": {}
        },
        {
          "output_type": "stream",
          "name": "stdout",
          "text": [
            "human:\n",
            "mhmm\n",
            "\n",
            "model:\n",
            "intle li papandlo\n"
          ]
        },
        {
          "output_type": "display_data",
          "data": {
            "text/plain": [
              "<IPython.core.display.HTML object>"
            ],
            "text/html": [
              "<div style='font-family:monospace;'>i<span style=\"color:red;\">h</span><span style=\"color:green;\">n</span><span style=\"color:green;\">t</span>le<span style=\"color:green;\"> </span>li <span style=\"color:green;\">p</span>ap<span style=\"color:red;\">h</span><span style=\"color:red;\">a</span><span style=\"color:red;\"> </span><span style=\"color:red;\">p</span><span style=\"color:red;\">h</span>andl<span style=\"color:red;\">e</span><span style=\"color:green;\">o</span></div>"
            ]
          },
          "metadata": {}
        },
        {
          "output_type": "stream",
          "name": "stdout",
          "text": [
            "human:\n",
            "ihleli apha phandle\n",
            "\n",
            "model:\n",
            "litizim sontela ndiva\n"
          ]
        },
        {
          "output_type": "display_data",
          "data": {
            "text/plain": [
              "<IPython.core.display.HTML object>"
            ],
            "text/html": [
              "<div style='font-family:monospace;'>lit<span style=\"color:red;\">h</span><span style=\"color:red;\">i</span><span style=\"color:red;\"> </span>izim son<span style=\"color:red;\">d</span><span style=\"color:green;\">t</span>ela <span style=\"color:red;\">a</span>ndiva</div>"
            ]
          },
          "metadata": {}
        },
        {
          "output_type": "stream",
          "name": "stdout",
          "text": [
            "human:\n",
            "lithi izim sondela andiva\n",
            "\n",
            "model:\n",
            "na mbande awa abaaga na akinyarerisi\n"
          ]
        },
        {
          "output_type": "display_data",
          "data": {
            "text/plain": [
              "<IPython.core.display.HTML object>"
            ],
            "text/html": [
              "<div style='font-family:monospace;'><span style=\"color:green;\">n</span><span style=\"color:red;\">u</span><span style=\"color:red;\">m</span><span style=\"color:red;\">a</span><span style=\"color:red;\">m</span>a <span style=\"color:green;\">m</span><span style=\"color:green;\">b</span><span style=\"color:green;\">a</span><span style=\"color:green;\">n</span><span style=\"color:green;\">d</span><span style=\"color:green;\">e</span><span style=\"color:green;\"> </span><span style=\"color:green;\">a</span>w<span style=\"color:green;\">a</span><span style=\"color:green;\"> </span>aba<span style=\"color:red;\">n</span><span style=\"color:red;\">t</span><span style=\"color:red;\">w</span>a<span style=\"color:green;\">g</span><span style=\"color:green;\">a</span><span style=\"color:green;\"> </span>na <span style=\"color:red;\">w</span>a<span style=\"color:red;\">g</span><span style=\"color:green;\">k</span>iny<span style=\"color:red;\">w</span>a<span style=\"color:green;\">r</span><span style=\"color:red;\"> </span><span style=\"color:red;\">l</span>e<span style=\"color:red;\">l</span><span style=\"color:green;\">r</span>i<span style=\"color:green;\">s</span><span style=\"color:red;\"> </span><span style=\"color:red;\">z</span>i<span style=\"color:red;\">m</span></div>"
            ]
          },
          "metadata": {}
        },
        {
          "output_type": "stream",
          "name": "stdout",
          "text": [
            "human:\n",
            "umama wabantwana waginywa leli zim\n",
            "\n",
            "model:\n",
            "aphinde acule umntala litizimu sondela ndiva\n"
          ]
        },
        {
          "output_type": "display_data",
          "data": {
            "text/plain": [
              "<IPython.core.display.HTML object>"
            ],
            "text/html": [
              "<div style='font-family:monospace;'>aphinde acule umnta<span style=\"color:red;\">n</span><span style=\"color:green;\">l</span>a lit<span style=\"color:red;\">h</span><span style=\"color:red;\">i</span><span style=\"color:red;\"> </span>izim<span style=\"color:green;\">u</span> sondela <span style=\"color:red;\">a</span>ndiva</div>"
            ]
          },
          "metadata": {}
        },
        {
          "output_type": "stream",
          "name": "stdout",
          "text": [
            "human:\n",
            "aphinde acule umntana lithi izim sondela andiva\n",
            "\n",
            "model:\n",
            "basondela abantwania\n"
          ]
        },
        {
          "output_type": "display_data",
          "data": {
            "text/plain": [
              "<IPython.core.display.HTML object>"
            ],
            "text/html": [
              "<div style='font-family:monospace;'><span style=\"color:red;\">a</span><span style=\"color:red;\">s</span><span style=\"color:red;\">o</span><span style=\"color:red;\">n</span><span style=\"color:red;\">d</span><span style=\"color:red;\">e</span><span style=\"color:red;\">l</span><span style=\"color:red;\">e</span><span style=\"color:red;\"> </span>basondel<span style=\"color:red;\">e</span><span style=\"color:green;\">a</span> abantwan<span style=\"color:green;\">i</span>a<span style=\"color:red;\"> </span><span style=\"color:red;\">b</span><span style=\"color:red;\">a</span><span style=\"color:red;\">c</span><span style=\"color:red;\">u</span><span style=\"color:red;\">l</span><span style=\"color:red;\">e</span></div>"
            ]
          },
          "metadata": {}
        },
        {
          "output_type": "stream",
          "name": "stdout",
          "text": [
            "human:\n",
            "asondele basondele abantwana bacule\n",
            "\n",
            "model:\n",
            "nsondela ndiva ngumpongompongo kwelizimo\n"
          ]
        },
        {
          "output_type": "display_data",
          "data": {
            "text/plain": [
              "<IPython.core.display.HTML object>"
            ],
            "text/html": [
              "<div style='font-family:monospace;'><span style=\"color:green;\">n</span>sondela <span style=\"color:red;\">a</span>ndiva ngumpongo<span style=\"color:red;\">-</span>mpongo k<span style=\"color:green;\">w</span><span style=\"color:red;\">e</span><span style=\"color:red;\"> </span>elizim<span style=\"color:green;\">o</span></div>"
            ]
          },
          "metadata": {}
        },
        {
          "output_type": "stream",
          "name": "stdout",
          "text": [
            "human:\n",
            "sondela andiva ngumpongo-mpongo ke elizim\n",
            "\n",
            "model:\n",
            "zondela ndiva\n"
          ]
        },
        {
          "output_type": "display_data",
          "data": {
            "text/plain": [
              "<IPython.core.display.HTML object>"
            ],
            "text/html": [
              "<div style='font-family:monospace;'><span style=\"color:red;\">s</span><span style=\"color:green;\">z</span>ondela <span style=\"color:red;\">a</span>ndiva<span style=\"color:red;\"> </span><span style=\"color:red;\">u</span><span style=\"color:red;\">t</span><span style=\"color:red;\">h</span><span style=\"color:red;\">e</span></div>"
            ]
          },
          "metadata": {}
        },
        {
          "output_type": "stream",
          "name": "stdout",
          "text": [
            "human:\n",
            "sondela andiva uthe\n",
            "\n",
            "model:\n",
            "isibaakusondela le abagqinya abantwaliziyo\n"
          ]
        },
        {
          "output_type": "display_data",
          "data": {
            "text/plain": [
              "<IPython.core.display.HTML object>"
            ],
            "text/html": [
              "<div style='font-family:monospace;'><span style=\"color:red;\">u</span><span style=\"color:green;\">i</span>s<span style=\"color:green;\">i</span><span style=\"color:red;\">u</span><span style=\"color:red;\">k</span><span style=\"color:red;\">e</span><span style=\"color:red;\"> </span>ba<span style=\"color:red;\">w</span><span style=\"color:green;\">a</span><span style=\"color:green;\">k</span>usondela l<span style=\"color:green;\">e</span><span style=\"color:green;\"> </span>abag<span style=\"color:green;\">q</span>inya abantwa<span style=\"color:green;\">l</span><span style=\"color:red;\">n</span><span style=\"color:red;\">a</span><span style=\"color:red;\"> </span>izi<span style=\"color:red;\">m</span><span style=\"color:green;\">y</span><span style=\"color:green;\">o</span></div>"
            ]
          },
          "metadata": {}
        },
        {
          "output_type": "stream",
          "name": "stdout",
          "text": [
            "human:\n",
            "usuke bawusondela labaginya abantwana izim\n",
            "\n",
            "model:\n",
            "xa befika pha ngaphakathi ngobafikumama ehlelapho esiswini sezimo\n"
          ]
        },
        {
          "output_type": "display_data",
          "data": {
            "text/plain": [
              "<IPython.core.display.HTML object>"
            ],
            "text/html": [
              "<div style='font-family:monospace;'>xa befika pha ngaphakathi ngo<span style=\"color:red;\">k</span><span style=\"color:red;\">u</span><span style=\"color:red;\"> </span>bafik<span style=\"color:red;\"> </span><span style=\"color:red;\">a</span><span style=\"color:red;\"> </span>umama ehlel<span style=\"color:red;\"> </span><span style=\"color:red;\">i</span><span style=\"color:red;\"> </span>aph<span style=\"color:red;\">a</span><span style=\"color:green;\">o</span> esiswini sezim<span style=\"color:green;\">o</span></div>"
            ]
          },
          "metadata": {}
        },
        {
          "output_type": "stream",
          "name": "stdout",
          "text": [
            "human:\n",
            "xa befika pha ngaphakathi ngoku bafik a umama ehlel i apha esiswini sezim\n",
            "\n",
            "model:\n",
            "akaakakalea\n"
          ]
        },
        {
          "output_type": "display_data",
          "data": {
            "text/plain": [
              "<IPython.core.display.HTML object>"
            ],
            "text/html": [
              "<div style='font-family:monospace;'>aka<span style=\"color:red;\"> </span>aka<span style=\"color:red;\">f</span><span style=\"color:green;\">k</span>a<span style=\"color:red;\">n</span><span style=\"color:red;\">g</span><span style=\"color:green;\">l</span><span style=\"color:green;\">e</span>a</div>"
            ]
          },
          "metadata": {}
        },
        {
          "output_type": "stream",
          "name": "stdout",
          "text": [
            "human:\n",
            "aka akafanga\n",
            "\n",
            "model:\n",
            "depelke\n"
          ]
        },
        {
          "output_type": "display_data",
          "data": {
            "text/plain": [
              "<IPython.core.display.HTML object>"
            ],
            "text/html": [
              "<div style='font-family:monospace;'><span style=\"color:green;\">d</span><span style=\"color:green;\">e</span><span style=\"color:green;\">p</span><span style=\"color:green;\">e</span><span style=\"color:green;\">l</span><span style=\"color:green;\">k</span><span style=\"color:green;\">e</span><span style=\"color:red;\">y</span><span style=\"color:red;\">i</span><span style=\"color:red;\">n</span><span style=\"color:red;\">t</span><span style=\"color:red;\">s</span><span style=\"color:red;\">o</span><span style=\"color:red;\">m</span><span style=\"color:red;\">i</span></div>"
            ]
          },
          "metadata": {}
        },
        {
          "output_type": "stream",
          "name": "stdout",
          "text": [
            "human:\n",
            "yintsomi\n",
            "\n",
            "model:\n",
            "kanumama waginywaleli zio\n"
          ]
        },
        {
          "output_type": "display_data",
          "data": {
            "text/plain": [
              "<IPython.core.display.HTML object>"
            ],
            "text/html": [
              "<div style='font-family:monospace;'>kan<span style=\"color:red;\">t</span><span style=\"color:red;\">i</span><span style=\"color:red;\"> </span>umama waginywa<span style=\"color:red;\"> </span>leli zi<span style=\"color:red;\">m</span><span style=\"color:green;\">o</span></div>"
            ]
          },
          "metadata": {}
        },
        {
          "output_type": "stream",
          "name": "stdout",
          "text": [
            "human:\n",
            "kanti umama waginywa leli zim\n",
            "\n",
            "model:\n",
            "fikehle lapho esisindi sezimu umama wabantwani\n"
          ]
        },
        {
          "output_type": "display_data",
          "data": {
            "text/plain": [
              "<IPython.core.display.HTML object>"
            ],
            "text/html": [
              "<div style='font-family:monospace;'><span style=\"color:red;\">b</span><span style=\"color:red;\">a</span><span style=\"color:red;\"> </span>fik<span style=\"color:red;\"> </span><span style=\"color:red;\">a</span><span style=\"color:red;\"> </span>ehle<span style=\"color:green;\"> </span>l<span style=\"color:red;\"> </span><span style=\"color:red;\">i</span><span style=\"color:red;\"> </span>aph<span style=\"color:red;\">a</span><span style=\"color:green;\">o</span> esis<span style=\"color:red;\">w</span>in<span style=\"color:green;\">d</span>i sezim<span style=\"color:green;\">u</span> umama wabantwan<span style=\"color:red;\">a</span><span style=\"color:green;\">i</span></div>"
            ]
          },
          "metadata": {}
        },
        {
          "output_type": "stream",
          "name": "stdout",
          "text": [
            "human:\n",
            "ba fik a ehlel i apha esiswini sezim umama wabantwana\n",
            "\n",
            "model:\n",
            "pofininzi nto elapho kesisini sezimo\n"
          ]
        },
        {
          "output_type": "display_data",
          "data": {
            "text/plain": [
              "<IPython.core.display.HTML object>"
            ],
            "text/html": [
              "<div style='font-family:monospace;'>p<span style=\"color:red;\">h</span>of<span style=\"color:red;\">u</span><span style=\"color:red;\"> </span>ininzi <span style=\"color:red;\">i</span>nto elaph<span style=\"color:red;\">a</span><span style=\"color:green;\">o</span> k<span style=\"color:red;\">e</span><span style=\"color:red;\"> </span>esis<span style=\"color:red;\">w</span>ini sezim<span style=\"color:green;\">o</span></div>"
            ]
          },
          "metadata": {}
        },
        {
          "output_type": "stream",
          "name": "stdout",
          "text": [
            "human:\n",
            "phofu ininzi into elapha ke esiswini sezim\n",
            "\n",
            "model:\n",
            "intonkquu lwegcini ntweznens kukho nevo kwafo neyonqeko eeopuso\n"
          ]
        },
        {
          "output_type": "display_data",
          "data": {
            "text/plain": [
              "<IPython.core.display.HTML object>"
            ],
            "text/html": [
              "<div style='font-family:monospace;'><span style=\"color:red;\">y</span>into<span style=\"color:red;\"> </span><span style=\"color:red;\">e</span>nk<span style=\"color:green;\">q</span>u<span style=\"color:red;\">l</span>u <span style=\"color:green;\">l</span><span style=\"color:green;\">w</span>egcin<span style=\"color:red;\">e</span><span style=\"color:green;\">i</span> <span style=\"color:red;\">i</span>nt<span style=\"color:green;\">w</span><span style=\"color:red;\"> </span><span style=\"color:red;\">o</span><span style=\"color:red;\"> </span>ez<span style=\"color:red;\">i</span>n<span style=\"color:red;\">i</span><span style=\"color:green;\">e</span>n<span style=\"color:green;\">s</span><span style=\"color:red;\">z</span><span style=\"color:red;\">i</span> kukho ne<span style=\"color:green;\">v</span><span style=\"color:red;\">e</span><span style=\"color:red;\">b</span><span style=\"color:red;\">h</span>o<span style=\"color:green;\"> </span>k<span style=\"color:red;\">h</span>w<span style=\"color:red;\">e</span><span style=\"color:green;\">a</span><span style=\"color:green;\">f</span><span style=\"color:green;\">o</span> ne<span style=\"color:green;\">y</span><span style=\"color:green;\">o</span><span style=\"color:green;\">n</span><span style=\"color:green;\">q</span>e<span style=\"color:red;\">g</span><span style=\"color:green;\">k</span><span style=\"color:green;\">o</span><span style=\"color:green;\"> </span><span style=\"color:green;\">e</span><span style=\"color:green;\">e</span><span style=\"color:green;\">o</span><span style=\"color:green;\">p</span>us<span style=\"color:green;\">o</span><span style=\"color:red;\">h</span><span style=\"color:red;\">a</span></div>"
            ]
          },
          "metadata": {}
        },
        {
          "output_type": "stream",
          "name": "stdout",
          "text": [
            "human:\n",
            "yinto enkulu egcine int o ezininzi kukho neebhokhwe neegusha\n",
            "\n",
            "model:\n",
            "basubi babantwana kani nje babehamba nje abantwana libaginya nje banec-twepkali isotofe iboso e-nif\n"
          ]
        },
        {
          "output_type": "display_data",
          "data": {
            "text/plain": [
              "<IPython.core.display.HTML object>"
            ],
            "text/html": [
              "<div style='font-family:monospace;'>basu<span style=\"color:red;\">k</span><span style=\"color:red;\">a</span><span style=\"color:green;\">b</span><span style=\"color:green;\">i</span> <span style=\"color:green;\">b</span>abantwana kan<span style=\"color:red;\">t</span>i nje<span style=\"color:red;\">n</span><span style=\"color:red;\">g</span><span style=\"color:red;\"> </span><span style=\"color:red;\">o</span><span style=\"color:red;\">k</span><span style=\"color:red;\">u</span> ba<span style=\"color:red;\"> </span>behamba nje abantwana libaginya nje bane<span style=\"color:red;\">n</span><span style=\"color:green;\">c</span><span style=\"color:green;\">-</span>t<span style=\"color:green;\">w</span><span style=\"color:red;\">o</span><span style=\"color:red;\"> </span>e<span style=\"color:green;\">p</span><span style=\"color:red;\">b</span><span style=\"color:red;\">u</span>k<span style=\"color:red;\">h</span>ali <span style=\"color:green;\">i</span>so<span style=\"color:red;\">r</span>t<span style=\"color:red;\"> </span>of<span style=\"color:green;\">e</span> ib<span style=\"color:red;\">h</span>o<span style=\"color:red;\">z</span><span style=\"color:green;\">s</span>o <span style=\"color:green;\">e</span><span style=\"color:green;\">-</span><span style=\"color:red;\">a</span><span style=\"color:red;\"> </span><span style=\"color:red;\">k</span>nif<span style=\"color:red;\">e</span></div>"
            ]
          },
          "metadata": {}
        },
        {
          "output_type": "stream",
          "name": "stdout",
          "text": [
            "human:\n",
            "basuka abantwana kanti njeng oku ba behamba nje abantwana libaginya nje banento ebukhali sort of ibhozo a knife\n",
            "\n",
            "model:\n",
            "abathu bafika phathi khini bantwana bam kanti nakhula batshuma\n"
          ]
        },
        {
          "output_type": "display_data",
          "data": {
            "text/plain": [
              "<IPython.core.display.HTML object>"
            ],
            "text/html": [
              "<div style='font-family:monospace;'><span style=\"color:green;\">a</span>bath<span style=\"color:red;\">i</span><span style=\"color:green;\">u</span> b<span style=\"color:green;\">a</span><span style=\"color:red;\">o</span><span style=\"color:red;\">w</span><span style=\"color:red;\">u</span>fika pha<span style=\"color:red;\"> </span><span style=\"color:red;\">w</span><span style=\"color:red;\">a</span>thi <span style=\"color:green;\">k</span><span style=\"color:red;\">t</span><span style=\"color:red;\">y</span>hini bantwana bam <span style=\"color:green;\">k</span><span style=\"color:green;\">a</span><span style=\"color:green;\">n</span><span style=\"color:green;\">t</span><span style=\"color:green;\">i</span><span style=\"color:green;\"> </span>nakhula <span style=\"color:red;\">w</span><span style=\"color:green;\">b</span>atsh<span style=\"color:red;\"> </span><span style=\"color:red;\">o</span><span style=\"color:red;\"> </span>uma<span style=\"color:red;\">m</span><span style=\"color:red;\">a</span></div>"
            ]
          },
          "metadata": {}
        },
        {
          "output_type": "stream",
          "name": "stdout",
          "text": [
            "human:\n",
            "bathi bowufika pha wathi tyhini bantwana bam nakhula watsh o umama\n",
            "\n",
            "model:\n",
            "basuka basikapha kweingalentizenabandwani\n"
          ]
        },
        {
          "output_type": "display_data",
          "data": {
            "text/plain": [
              "<IPython.core.display.HTML object>"
            ],
            "text/html": [
              "<div style='font-family:monospace;'>basuka basika<span style=\"color:red;\"> </span><span style=\"color:red;\">a</span>pha kwe<span style=\"color:red;\">l</span>i<span style=\"color:red;\"> </span><span style=\"color:red;\">z</span><span style=\"color:red;\">i</span><span style=\"color:red;\">m</span><span style=\"color:red;\"> </span>ngale<span style=\"color:red;\"> </span>nt<span style=\"color:red;\">o</span><span style=\"color:red;\"> </span>ize<span style=\"color:red;\"> </span>naban<span style=\"color:red;\">t</span><span style=\"color:green;\">d</span>wan<span style=\"color:red;\">a</span><span style=\"color:green;\">i</span></div>"
            ]
          },
          "metadata": {}
        },
        {
          "output_type": "stream",
          "name": "stdout",
          "text": [
            "human:\n",
            "basuka basika apha kweli zim ngale nto ize nabantwana\n",
            "\n",
            "model:\n",
            "waphuma umama nabantwana bakhe baphuma neekusha neebhoko ezaginyalizini\n"
          ]
        },
        {
          "output_type": "display_data",
          "data": {
            "text/plain": [
              "<IPython.core.display.HTML object>"
            ],
            "text/html": [
              "<div style='font-family:monospace;'>waphuma umama nabantwana bakhe baphuma nee<span style=\"color:red;\">g</span><span style=\"color:green;\">k</span>usha neebhok<span style=\"color:green;\">o</span><span style=\"color:red;\">h</span><span style=\"color:red;\">w</span><span style=\"color:red;\">e</span> ezaginy<span style=\"color:red;\">w</span>a<span style=\"color:red;\"> </span>lizi<span style=\"color:red;\">m</span><span style=\"color:green;\">n</span><span style=\"color:green;\">i</span></div>"
            ]
          },
          "metadata": {}
        },
        {
          "output_type": "stream",
          "name": "stdout",
          "text": [
            "human:\n",
            "waphuma umama nabantwana bakhe baphuma neegusha neebhokhwe ezaginywa lizim\n",
            "\n",
            "model:\n",
            "basuka babake nguba ouna yonkelanti obapume nayezimi esiswini sezimo\n"
          ]
        },
        {
          "output_type": "display_data",
          "data": {
            "text/plain": [
              "<IPython.core.display.HTML object>"
            ],
            "text/html": [
              "<div style='font-family:monospace;'>basuka baba<span style=\"color:red;\"> </span>ke ng<span style=\"color:red;\">o</span><span style=\"color:red;\">k</span>u<span style=\"color:red;\"> </span>ba<span style=\"color:green;\"> </span>o<span style=\"color:red;\">w</span>una yonke<span style=\"color:red;\"> </span>la<span style=\"color:red;\"> </span>nt<span style=\"color:green;\">i</span><span style=\"color:green;\"> </span>o<span style=\"color:red;\"> </span>bap<span style=\"color:red;\">h</span>ume nay<span style=\"color:red;\">o</span><span style=\"color:red;\"> </span>ezim<span style=\"color:red;\">i</span><span style=\"color:red;\">n</span>i esiswini sezim<span style=\"color:green;\">o</span></div>"
            ]
          },
          "metadata": {}
        },
        {
          "output_type": "stream",
          "name": "stdout",
          "text": [
            "human:\n",
            "basuka baba ke ngoku baowuna yonke la nto baphume nayo ezimini esiswini sezim\n",
            "\n",
            "model:\n",
            "kazisitsha kwiintsombi zakhe bathi fogetis erant mixik\n"
          ]
        },
        {
          "output_type": "display_data",
          "data": {
            "text/plain": [
              "<IPython.core.display.HTML object>"
            ],
            "text/html": [
              "<div style='font-family:monospace;'><span style=\"color:red;\">z</span><span style=\"color:green;\">k</span>azisitsh<span style=\"color:red;\">o</span><span style=\"color:green;\">a</span> k<span style=\"color:green;\">w</span><span style=\"color:red;\">e</span><span style=\"color:red;\"> </span>iintsom<span style=\"color:green;\">b</span>i zakhe b<span style=\"color:red;\">u</span><span style=\"color:green;\">a</span>t<span style=\"color:green;\">h</span><span style=\"color:green;\">i</span> fo<span style=\"color:red;\">r</span>get<span style=\"color:green;\">i</span>s <span style=\"color:red;\">h</span>er<span style=\"color:red;\">e</span><span style=\"color:red;\"> </span>an<span style=\"color:red;\">d</span><span style=\"color:red;\"> </span>t<span style=\"color:red;\">h</span><span style=\"color:red;\">e</span><span style=\"color:red;\">r</span><span style=\"color:red;\">e</span><span style=\"color:red;\"> </span><span style=\"color:red;\">a</span><span style=\"color:red;\">n</span><span style=\"color:red;\">d</span> mixi<span style=\"color:green;\">k</span><span style=\"color:red;\">n</span><span style=\"color:red;\">g</span></div>"
            ]
          },
          "metadata": {}
        },
        {
          "output_type": "stream",
          "name": "stdout",
          "text": [
            "human:\n",
            "zazisitsho ke iintsomi zakhe but forgets here and there and mixing\n",
            "\n",
            "model:\n",
            "irerdas le bekenenegbal affe sasent\n"
          ]
        },
        {
          "output_type": "display_data",
          "data": {
            "text/plain": [
              "<IPython.core.display.HTML object>"
            ],
            "text/html": [
              "<div style='font-family:monospace;'><span style=\"color:green;\">i</span><span style=\"color:green;\">r</span><span style=\"color:green;\">e</span><span style=\"color:green;\">r</span><span style=\"color:green;\">d</span><span style=\"color:green;\">a</span><span style=\"color:green;\">s</span><span style=\"color:green;\"> </span><span style=\"color:green;\">l</span><span style=\"color:green;\">e</span><span style=\"color:green;\"> </span><span style=\"color:green;\">b</span><span style=\"color:green;\">e</span><span style=\"color:green;\">k</span><span style=\"color:green;\">e</span><span style=\"color:green;\">n</span><span style=\"color:green;\">e</span><span style=\"color:green;\">n</span><span style=\"color:green;\">e</span><span style=\"color:green;\">g</span><span style=\"color:green;\">b</span><span style=\"color:green;\">a</span><span style=\"color:green;\">l</span><span style=\"color:green;\"> </span><span style=\"color:green;\">a</span><span style=\"color:green;\">f</span><span style=\"color:green;\">f</span><span style=\"color:green;\">e</span><span style=\"color:green;\"> </span><span style=\"color:green;\">s</span><span style=\"color:green;\">a</span>sen<span style=\"color:green;\">t</span><span style=\"color:red;\">d</span><span style=\"color:red;\">a</span><span style=\"color:red;\">z</span><span style=\"color:red;\">i</span><span style=\"color:red;\">l</span><span style=\"color:red;\">i</span><span style=\"color:red;\">b</span><span style=\"color:red;\">a</span><span style=\"color:red;\">l</span><span style=\"color:red;\">a</span><span style=\"color:red;\"> </span><span style=\"color:red;\">k</span><span style=\"color:red;\">u</span><span style=\"color:red;\">b</span><span style=\"color:red;\">a</span><span style=\"color:red;\"> </span><span style=\"color:red;\">k</span><span style=\"color:red;\">a</span><span style=\"color:red;\">l</span><span style=\"color:red;\">o</span><span style=\"color:red;\">k</span><span style=\"color:red;\">u</span><span style=\"color:red;\"> </span><span style=\"color:red;\">a</span><span style=\"color:red;\">s</span><span style=\"color:red;\">i</span><span style=\"color:red;\">s</span><span style=\"color:red;\">a</span><span style=\"color:red;\">z</span><span style=\"color:red;\">e</span><span style=\"color:red;\">n</span><span style=\"color:red;\">z</span><span style=\"color:red;\">i</span></div>"
            ]
          },
          "metadata": {}
        },
        {
          "output_type": "stream",
          "name": "stdout",
          "text": [
            "human:\n",
            "sendazilibala kuba kaloku asisazenzi\n",
            "\n",
            "model:\n",
            "nakuzana\n"
          ]
        },
        {
          "output_type": "display_data",
          "data": {
            "text/plain": [
              "<IPython.core.display.HTML object>"
            ],
            "text/html": [
              "<div style='font-family:monospace;'><span style=\"color:red;\">u</span>n<span style=\"color:red;\">g</span>a<span style=\"color:red;\">b</span><span style=\"color:green;\">k</span>uza<span style=\"color:green;\">n</span><span style=\"color:red;\"> </span><span style=\"color:red;\">k</span>a<span style=\"color:red;\">l</span><span style=\"color:red;\">o</span><span style=\"color:red;\">k</span><span style=\"color:red;\">u</span></div>"
            ]
          },
          "metadata": {}
        },
        {
          "output_type": "stream",
          "name": "stdout",
          "text": [
            "human:\n",
            "ungabuza kaloku\n",
            "\n",
            "model:\n",
            "uphezulo bekusizekane kwpa kwamashezi\n"
          ]
        },
        {
          "output_type": "display_data",
          "data": {
            "text/plain": [
              "<IPython.core.display.HTML object>"
            ],
            "text/html": [
              "<div style='font-family:monospace;'><span style=\"color:green;\">u</span><span style=\"color:red;\">s</span><span style=\"color:red;\">o</span><span style=\"color:red;\"> </span>phez<span style=\"color:red;\">o</span><span style=\"color:green;\">u</span>lo<span style=\"color:red;\"> </span><span style=\"color:red;\">u</span><span style=\"color:red;\"> </span><span style=\"color:red;\">e</span><span style=\"color:red;\">e</span> bekus<span style=\"color:green;\">i</span><span style=\"color:red;\">e</span><span style=\"color:red;\">n</span>zeka<span style=\"color:green;\">n</span><span style=\"color:green;\">e</span> <span style=\"color:green;\">k</span><span style=\"color:green;\">w</span><span style=\"color:red;\">n</span><span style=\"color:red;\">i</span><span style=\"color:red;\"> </span><span style=\"color:red;\">o</span><span style=\"color:red;\"> </span>p<span style=\"color:red;\">h</span>a kwamashezi</div>"
            ]
          },
          "metadata": {}
        },
        {
          "output_type": "stream",
          "name": "stdout",
          "text": [
            "human:\n",
            "so phezolo u ee bekusenzeka ni o pha kwamashezi\n",
            "\n",
            "model:\n",
            "dibeni kolke yu\n"
          ]
        },
        {
          "output_type": "display_data",
          "data": {
            "text/plain": [
              "<IPython.core.display.HTML object>"
            ],
            "text/html": [
              "<div style='font-family:monospace;'><span style=\"color:green;\">d</span><span style=\"color:green;\">i</span>beni<span style=\"color:green;\"> </span>k<span style=\"color:red;\">h</span>o<span style=\"color:red;\">n</span><span style=\"color:red;\">a</span><span style=\"color:green;\">l</span><span style=\"color:green;\">k</span><span style=\"color:green;\">e</span><span style=\"color:green;\"> </span><span style=\"color:green;\">y</span><span style=\"color:green;\">u</span></div>"
            ]
          },
          "metadata": {}
        },
        {
          "output_type": "stream",
          "name": "stdout",
          "text": [
            "human:\n",
            "benikhona\n",
            "\n",
            "model:\n",
            "endebeyipha\n"
          ]
        },
        {
          "output_type": "display_data",
          "data": {
            "text/plain": [
              "<IPython.core.display.HTML object>"
            ],
            "text/html": [
              "<div style='font-family:monospace;'><span style=\"color:green;\">e</span><span style=\"color:red;\">y</span><span style=\"color:red;\">h</span><span style=\"color:red;\">o</span><span style=\"color:red;\"> </span><span style=\"color:red;\">y</span><span style=\"color:red;\">h</span><span style=\"color:red;\">o</span><span style=\"color:red;\"> </span><span style=\"color:red;\">i</span>n<span style=\"color:green;\">d</span><span style=\"color:red;\">t</span><span style=\"color:red;\">o</span><span style=\"color:red;\"> </span>e<span style=\"color:red;\"> </span>be<span style=\"color:red;\"> </span><span style=\"color:green;\">y</span>ipha</div>"
            ]
          },
          "metadata": {}
        },
        {
          "output_type": "stream",
          "name": "stdout",
          "text": [
            "human:\n",
            "yho yho into e be ipha\n",
            "\n",
            "model:\n",
            "wengumnyadala\n"
          ]
        },
        {
          "output_type": "display_data",
          "data": {
            "text/plain": [
              "<IPython.core.display.HTML object>"
            ],
            "text/html": [
              "<div style='font-family:monospace;'><span style=\"color:green;\">w</span><span style=\"color:red;\">i</span><span style=\"color:red;\">b</span>engum<span style=\"color:green;\">n</span>yadala</div>"
            ]
          },
          "metadata": {}
        },
        {
          "output_type": "stream",
          "name": "stdout",
          "text": [
            "human:\n",
            "ibengumyadala\n",
            "\n",
            "model:\n",
            "kelell\n"
          ]
        },
        {
          "output_type": "display_data",
          "data": {
            "text/plain": [
              "<IPython.core.display.HTML object>"
            ],
            "text/html": [
              "<div style='font-family:monospace;'><span style=\"color:green;\">k</span>e<span style=\"color:green;\">l</span>e<span style=\"color:red;\">h</span><span style=\"color:green;\">l</span><span style=\"color:green;\">l</span></div>"
            ]
          },
          "metadata": {}
        },
        {
          "output_type": "stream",
          "name": "stdout",
          "text": [
            "human:\n",
            "eeh\n",
            "\n",
            "model:\n",
            "nekutsela\n"
          ]
        },
        {
          "output_type": "display_data",
          "data": {
            "text/plain": [
              "<IPython.core.display.HTML object>"
            ],
            "text/html": [
              "<div style='font-family:monospace;'>n<span style=\"color:green;\">e</span><span style=\"color:red;\">d</span><span style=\"color:red;\">i</span><span style=\"color:red;\">y</span><span style=\"color:red;\">a</span>kuts<span style=\"color:red;\">h</span>ela</div>"
            ]
          },
          "metadata": {}
        },
        {
          "output_type": "stream",
          "name": "stdout",
          "text": [
            "human:\n",
            "ndiyakutshela\n",
            "\n",
            "model:\n",
            "ngoba loku m besithengisiwe ukuthiwa kuzofikaa\n"
          ]
        },
        {
          "output_type": "display_data",
          "data": {
            "text/plain": [
              "<IPython.core.display.HTML object>"
            ],
            "text/html": [
              "<div style='font-family:monospace;'>ngoba <span style=\"color:red;\">k</span><span style=\"color:red;\">a</span>loku <span style=\"color:green;\">m</span><span style=\"color:red;\">e</span><span style=\"color:red;\">e</span> besithen<span style=\"color:red;\">j</span><span style=\"color:green;\">g</span>is<span style=\"color:green;\">i</span>we <span style=\"color:green;\">u</span>kuth<span style=\"color:green;\">i</span>wa kuzofika<span style=\"color:green;\">a</span></div>"
            ]
          },
          "metadata": {}
        },
        {
          "output_type": "stream",
          "name": "stdout",
          "text": [
            "human:\n",
            "ngoba kaloku ee besithenjiswe kuthwa kuzofika\n",
            "\n",
            "model:\n",
            "akshiwanguba kuzofika mlungu\n"
          ]
        },
        {
          "output_type": "display_data",
          "data": {
            "text/plain": [
              "<IPython.core.display.HTML object>"
            ],
            "text/html": [
              "<div style='font-family:monospace;'>ak<span style=\"color:red;\">u</span><span style=\"color:red;\">t</span>shiw<span style=\"color:red;\">o</span><span style=\"color:green;\">a</span>ng<span style=\"color:red;\">o</span><span style=\"color:red;\"> </span><span style=\"color:red;\">u</span><span style=\"color:red;\">k</span>uba kuzofika <span style=\"color:red;\">u</span>mlungu</div>"
            ]
          },
          "metadata": {}
        },
        {
          "output_type": "stream",
          "name": "stdout",
          "text": [
            "human:\n",
            "akutshiwongo ukuba kuzofika umlungu\n",
            "\n",
            "model:\n",
            "kuthe kuza belumu abesuka ephitoli\n"
          ]
        },
        {
          "output_type": "display_data",
          "data": {
            "text/plain": [
              "<IPython.core.display.HTML object>"
            ],
            "text/html": [
              "<div style='font-family:monospace;'>kuth<span style=\"color:red;\">w</span>e kuza <span style=\"color:red;\">a</span>belu<span style=\"color:green;\">m</span><span style=\"color:red;\">n</span><span style=\"color:red;\">g</span>u abesuka ep<span style=\"color:green;\">h</span>itoli</div>"
            ]
          },
          "metadata": {}
        },
        {
          "output_type": "stream",
          "name": "stdout",
          "text": [
            "human:\n",
            "kuthwe kuza abelungu abesuka epitoli\n",
            "\n",
            "model:\n",
            "\n"
          ]
        },
        {
          "output_type": "display_data",
          "data": {
            "text/plain": [
              "<IPython.core.display.HTML object>"
            ],
            "text/html": [
              "<div style='font-family:monospace;'><span style=\"color:red;\">e</span><span style=\"color:red;\">e</span></div>"
            ]
          },
          "metadata": {}
        },
        {
          "output_type": "stream",
          "name": "stdout",
          "text": [
            "human:\n",
            "ee\n",
            "\n",
            "model:\n",
            "eendakhalaza kenwa\n"
          ]
        },
        {
          "output_type": "display_data",
          "data": {
            "text/plain": [
              "<IPython.core.display.HTML object>"
            ],
            "text/html": [
              "<div style='font-family:monospace;'><span style=\"color:green;\">e</span><span style=\"color:green;\">e</span>ndakhalaza ke<span style=\"color:red;\"> </span><span style=\"color:red;\">m</span>n<span style=\"color:green;\">w</span>a<span style=\"color:red;\"> </span><span style=\"color:red;\">h</span><span style=\"color:red;\">i</span><span style=\"color:red;\">i</span></div>"
            ]
          },
          "metadata": {}
        },
        {
          "output_type": "stream",
          "name": "stdout",
          "text": [
            "human:\n",
            "ndakhalaza ke mna hii\n",
            "\n",
            "model:\n",
            "kutho ayi bafuna ukubona indlele siqoka ngayo ndlelesenza ngayizinto ncakulo lwasuku njemabekulusuku lamakuu\n"
          ]
        },
        {
          "output_type": "display_data",
          "data": {
            "text/plain": [
              "<IPython.core.display.HTML object>"
            ],
            "text/html": [
              "<div style='font-family:monospace;'>kuth<span style=\"color:green;\">o</span><span style=\"color:red;\">w</span><span style=\"color:red;\">a</span> <span style=\"color:red;\">h</span>ayi bafun<span style=\"color:red;\"> </span>a ukubona indlel<span style=\"color:red;\">a</span><span style=\"color:green;\">e</span> <span style=\"color:red;\">e</span>si<span style=\"color:red;\">g</span>qoka ngayo <span style=\"color:red;\">e</span><span style=\"color:red;\">e</span><span style=\"color:red;\"> </span><span style=\"color:red;\">i</span>ndlel<span style=\"color:red;\">a</span><span style=\"color:red;\"> </span>esenza ngay<span style=\"color:red;\">o</span><span style=\"color:red;\"> </span>izinto n<span style=\"color:red;\">x</span><span style=\"color:green;\">c</span>a<span style=\"color:red;\"> </span>kulo<span style=\"color:green;\"> </span>l<span style=\"color:green;\">w</span>a<span style=\"color:red;\"> </span>suku nje<span style=\"color:green;\">m</span><span style=\"color:green;\">a</span><span style=\"color:red;\">n</span><span style=\"color:red;\">g</span><span style=\"color:red;\"> </span><span style=\"color:red;\">o</span><span style=\"color:red;\">k</span><span style=\"color:red;\">u</span><span style=\"color:red;\"> </span>b<span style=\"color:green;\">e</span><span style=\"color:red;\">a</span><span style=\"color:red;\"> </span>kulusuku l<span style=\"color:red;\">w</span>ama<span style=\"color:red;\">g</span><span style=\"color:green;\">k</span>u<span style=\"color:red;\">g</span>u<span style=\"color:red;\">b</span><span style=\"color:red;\">e</span></div>"
            ]
          },
          "metadata": {}
        },
        {
          "output_type": "stream",
          "name": "stdout",
          "text": [
            "human:\n",
            "kuthwa hayi bafun a ukubona indlela esigqoka ngayo ee indlela esenza ngayo izinto nxa kulola suku njeng oku ba kulusuku lwamagugube\n",
            "\n",
            "model:\n",
            "k bebenqibile njengoba bekuluso ula maqububli\n"
          ]
        },
        {
          "output_type": "display_data",
          "data": {
            "text/plain": [
              "<IPython.core.display.HTML object>"
            ],
            "text/html": [
              "<div style='font-family:monospace;'><span style=\"color:red;\">o</span><span style=\"color:red;\">h</span><span style=\"color:red;\"> </span><span style=\"color:red;\">o</span>k<span style=\"color:red;\"> </span><span style=\"color:red;\">o</span><span style=\"color:red;\">h</span><span style=\"color:red;\"> </span><span style=\"color:red;\">b</span> beben<span style=\"color:red;\">x</span><span style=\"color:green;\">q</span>ibile njengo<span style=\"color:red;\"> </span><span style=\"color:red;\">k</span><span style=\"color:red;\">u</span><span style=\"color:red;\"> </span>ba bekulus<span style=\"color:green;\">o</span><span style=\"color:green;\"> </span>u<span style=\"color:red;\">k</span><span style=\"color:red;\">u</span><span style=\"color:green;\">l</span><span style=\"color:green;\">a</span> <span style=\"color:red;\">l</span><span style=\"color:red;\">w</span><span style=\"color:red;\">a</span>ma<span style=\"color:green;\">q</span><span style=\"color:red;\">g</span><span style=\"color:red;\">u</span><span style=\"color:red;\">g</span>ub<span style=\"color:red;\">e</span><span style=\"color:green;\">u</span><span style=\"color:green;\">b</span><span style=\"color:green;\">l</span><span style=\"color:green;\">i</span></div>"
            ]
          },
          "metadata": {}
        },
        {
          "output_type": "stream",
          "name": "stdout",
          "text": [
            "human:\n",
            "oh ok oh b bebenxibile njengo ku ba bekulusuku lwamagugube\n",
            "\n",
            "model:\n",
            "zinzinebi lisintu sabo\n"
          ]
        },
        {
          "output_type": "display_data",
          "data": {
            "text/plain": [
              "<IPython.core.display.HTML object>"
            ],
            "text/html": [
              "<div style='font-family:monospace;'><span style=\"color:red;\">b</span><span style=\"color:green;\">z</span><span style=\"color:green;\">i</span><span style=\"color:green;\">n</span><span style=\"color:green;\">z</span><span style=\"color:green;\">i</span><span style=\"color:green;\">n</span>e<span style=\"color:red;\">n</span><span style=\"color:red;\">x</span><span style=\"color:red;\">i</span>bi<span style=\"color:green;\"> </span>l<span style=\"color:red;\">e</span><span style=\"color:red;\"> </span>isintu sabo<span style=\"color:red;\"> </span><span style=\"color:red;\">h</span><span style=\"color:red;\">a</span><span style=\"color:red;\">y</span><span style=\"color:red;\">i</span><span style=\"color:red;\"> </span><span style=\"color:red;\">k</span><span style=\"color:red;\">e</span></div>"
            ]
          },
          "metadata": {}
        },
        {
          "output_type": "stream",
          "name": "stdout",
          "text": [
            "human:\n",
            "benxibile isintu sabo hayi ke\n",
            "\n",
            "model:\n",
            "eabi benxibile qhayinti eyasiphazamisa kukuba siyesafike lapho kulijoyindi khona\n"
          ]
        },
        {
          "output_type": "display_data",
          "data": {
            "text/plain": [
              "<IPython.core.display.HTML object>"
            ],
            "text/html": [
              "<div style='font-family:monospace;'><span style=\"color:red;\">u</span><span style=\"color:red;\">h</span><span style=\"color:red;\">m</span><span style=\"color:green;\">e</span><span style=\"color:green;\">a</span><span style=\"color:green;\">b</span><span style=\"color:green;\">i</span> <span style=\"color:red;\">y</span><span style=\"color:red;\">a</span><span style=\"color:red;\"> </span><span style=\"color:red;\">b</span><span style=\"color:red;\">e</span>benxibile qha<span style=\"color:red;\"> </span><span style=\"color:green;\">y</span>int<span style=\"color:red;\">o</span><span style=\"color:green;\">i</span> e<span style=\"color:red;\">y</span><span style=\"color:red;\">e</span><span style=\"color:red;\"> </span>yasiphazamisa kukuba siye<span style=\"color:red;\"> </span>safike<span style=\"color:green;\"> </span>l<span style=\"color:red;\">a</span><span style=\"color:red;\"> </span>apho k<span style=\"color:red;\">o</span><span style=\"color:green;\">u</span>li<span style=\"color:red;\"> </span>joyin<span style=\"color:red;\">t</span><span style=\"color:green;\">d</span>i khona</div>"
            ]
          },
          "metadata": {}
        },
        {
          "output_type": "stream",
          "name": "stdout",
          "text": [
            "human:\n",
            "uhm ya bebenxibile qha into eye yasiphazamisa kukuba siye safikela apho koli joyinti khona\n",
            "\n",
            "model:\n",
            "olll\n"
          ]
        },
        {
          "output_type": "display_data",
          "data": {
            "text/plain": [
              "<IPython.core.display.HTML object>"
            ],
            "text/html": [
              "<div style='font-family:monospace;'>o<span style=\"color:red;\">o</span><span style=\"color:red;\">h</span><span style=\"color:green;\">l</span><span style=\"color:green;\">l</span><span style=\"color:green;\">l</span></div>"
            ]
          },
          "metadata": {}
        },
        {
          "output_type": "stream",
          "name": "stdout",
          "text": [
            "human:\n",
            "ooh\n",
            "\n",
            "model:\n",
            "ngoku hayi bayahla\n"
          ]
        },
        {
          "output_type": "display_data",
          "data": {
            "text/plain": [
              "<IPython.core.display.HTML object>"
            ],
            "text/html": [
              "<div style='font-family:monospace;'>ngoku h<span style=\"color:red;\"> </span>ayi baya<span style=\"color:red;\">d</span><span style=\"color:green;\">h</span>la</div>"
            ]
          },
          "metadata": {}
        },
        {
          "output_type": "stream",
          "name": "stdout",
          "text": [
            "human:\n",
            "ngoku h ayi bayadla\n",
            "\n",
            "model:\n",
            "ngowokwazi kumbona kengumntu nxe inguye enomali obangoku ubusolo kwebonakaledlile\n"
          ]
        },
        {
          "output_type": "display_data",
          "data": {
            "text/plain": [
              "<IPython.core.display.HTML object>"
            ],
            "text/html": [
              "<div style='font-family:monospace;'>ngo<span style=\"color:red;\">k</span><span style=\"color:red;\">u</span><span style=\"color:red;\"> </span><span style=\"color:red;\">a</span>w<span style=\"color:red;\">u</span><span style=\"color:green;\">o</span>kwazi <span style=\"color:red;\">u</span>kumbona <span style=\"color:red;\">i</span><span style=\"color:green;\">k</span><span style=\"color:green;\">e</span>ngumntu nxe i<span style=\"color:red;\"> </span>nguye eno<span style=\"color:red;\">r</span>mal<span style=\"color:green;\">i</span> <span style=\"color:red;\">n</span><span style=\"color:red;\">g</span>oba<span style=\"color:red;\"> </span>ngoku u<span style=\"color:red;\"> </span><span style=\"color:green;\">b</span>usolo<span style=\"color:green;\"> </span>k<span style=\"color:green;\">w</span><span style=\"color:red;\">o</span><span style=\"color:red;\"> </span>ebonakal<span style=\"color:red;\">a</span><span style=\"color:red;\"> </span>edlile</div>"
            ]
          },
          "metadata": {}
        },
        {
          "output_type": "stream",
          "name": "stdout",
          "text": [
            "human:\n",
            "ngoku awukwazi ukumbona ingumntu nxe i nguye enormal ngoba ngoku u usoloko ebonakala edlile\n",
            "\n",
            "model:\n",
            "siyesahlangana gephayao\n"
          ]
        },
        {
          "output_type": "display_data",
          "data": {
            "text/plain": [
              "<IPython.core.display.HTML object>"
            ],
            "text/html": [
              "<div style='font-family:monospace;'><span style=\"color:red;\">e</span><span style=\"color:red;\">e</span><span style=\"color:red;\"> </span><span style=\"color:red;\">s</span><span style=\"color:red;\">i</span><span style=\"color:red;\"> </span>siye<span style=\"color:red;\"> </span>sahlangana <span style=\"color:red;\">k</span><span style=\"color:green;\">g</span>e<span style=\"color:red;\"> </span>phaya<span style=\"color:green;\">o</span></div>"
            ]
          },
          "metadata": {}
        },
        {
          "output_type": "stream",
          "name": "stdout",
          "text": [
            "human:\n",
            "ee si siye sahlangana ke phaya\n",
            "\n",
            "model:\n",
            "bagiya ke shama\n"
          ]
        },
        {
          "output_type": "display_data",
          "data": {
            "text/plain": [
              "<IPython.core.display.HTML object>"
            ],
            "text/html": [
              "<div style='font-family:monospace;'>bagiya ke sham<span style=\"color:red;\">e</span><span style=\"color:green;\">a</span></div>"
            ]
          },
          "metadata": {}
        },
        {
          "output_type": "stream",
          "name": "stdout",
          "text": [
            "human:\n",
            "bagiya ke shame\n",
            "\n",
            "model:\n",
            "ngayi bayayenza konindo chayengatibangayenza benomala\n"
          ]
        },
        {
          "output_type": "display_data",
          "data": {
            "text/plain": [
              "<IPython.core.display.HTML object>"
            ],
            "text/html": [
              "<div style='font-family:monospace;'><span style=\"color:red;\">h</span><span style=\"color:green;\">n</span><span style=\"color:green;\">g</span>ayi bayayenza <span style=\"color:red;\">b</span><span style=\"color:green;\">k</span>on<span style=\"color:red;\"> </span><span style=\"color:red;\">a</span><span style=\"color:red;\"> </span>in<span style=\"color:red;\">t</span><span style=\"color:green;\">d</span>o <span style=\"color:red;\">q</span><span style=\"color:green;\">c</span>ha<span style=\"color:red;\"> </span><span style=\"color:red;\">i</span><span style=\"color:green;\">y</span><span style=\"color:green;\">e</span>ngat<span style=\"color:red;\">h</span>i<span style=\"color:red;\"> </span>bangayenza beno<span style=\"color:red;\">r</span>mal<span style=\"color:green;\">a</span></div>"
            ]
          },
          "metadata": {}
        },
        {
          "output_type": "stream",
          "name": "stdout",
          "text": [
            "human:\n",
            "hayi bayayenza bon a into qha ingathi bangayenza benormal\n",
            "\n",
            "model:\n",
            "nakonayi bezibuyan\n"
          ]
        },
        {
          "output_type": "display_data",
          "data": {
            "text/plain": [
              "<IPython.core.display.HTML object>"
            ],
            "text/html": [
              "<div style='font-family:monospace;'><span style=\"color:red;\">u</span><span style=\"color:red;\">h</span><span style=\"color:red;\">m</span><span style=\"color:red;\"> </span><span style=\"color:red;\">k</span><span style=\"color:red;\">o</span>nakon<span style=\"color:red;\">a</span><span style=\"color:red;\"> </span><span style=\"color:red;\">h</span>ayi bezibuya<span style=\"color:green;\">n</span></div>"
            ]
          },
          "metadata": {}
        },
        {
          "output_type": "stream",
          "name": "stdout",
          "text": [
            "human:\n",
            "uhm konakona hayi bezibuya\n",
            "\n",
            "model:\n",
            "sumtlambe umnomzana uboyi\n"
          ]
        },
        {
          "output_type": "display_data",
          "data": {
            "text/plain": [
              "<IPython.core.display.HTML object>"
            ],
            "text/html": [
              "<div style='font-family:monospace;'><span style=\"color:green;\">s</span><span style=\"color:green;\">u</span>m<span style=\"color:red;\">h</span><span style=\"color:green;\">t</span>la<span style=\"color:red;\"> </span><span style=\"color:red;\">w</span><span style=\"color:red;\">u</span><span style=\"color:red;\"> </span>mb<span style=\"color:red;\">i</span><span style=\"color:green;\">e</span> umn<span style=\"color:red;\">u</span><span style=\"color:green;\">o</span>mzana ubo<span style=\"color:red;\">o</span><span style=\"color:green;\">y</span>i</div>"
            ]
          },
          "metadata": {}
        },
        {
          "output_type": "stream",
          "name": "stdout",
          "text": [
            "human:\n",
            "mhla wu mbi umnumzana ubooi\n",
            "\n",
            "model:\n",
            "aya emariki ukuya kuthenga izixha\n"
          ]
        },
        {
          "output_type": "display_data",
          "data": {
            "text/plain": [
              "<IPython.core.display.HTML object>"
            ],
            "text/html": [
              "<div style='font-family:monospace;'><span style=\"color:red;\">w</span>aya emarik<span style=\"color:red;\">e</span><span style=\"color:red;\">n</span>i ukuya kuthenga izi<span style=\"color:red;\">q</span><span style=\"color:green;\">x</span>ha<span style=\"color:red;\">m</span><span style=\"color:red;\">o</span></div>"
            ]
          },
          "metadata": {}
        },
        {
          "output_type": "stream",
          "name": "stdout",
          "text": [
            "human:\n",
            "waya emarikeni ukuya kuthenga iziqhamo\n",
            "\n",
            "model:\n",
            "ungene emarikani nabona i-pinapole elalilihleli\n"
          ]
        },
        {
          "output_type": "display_data",
          "data": {
            "text/plain": [
              "<IPython.core.display.HTML object>"
            ],
            "text/html": [
              "<div style='font-family:monospace;'>ungene emarik<span style=\"color:red;\">e</span><span style=\"color:green;\">a</span>ni <span style=\"color:red;\">w</span><span style=\"color:green;\">n</span>abona i<span style=\"color:green;\">-</span>pin<span style=\"color:red;\">e</span>ap<span style=\"color:red;\">p</span><span style=\"color:green;\">o</span>le elalilihle<span style=\"color:green;\">l</span><span style=\"color:green;\">i</span></div>"
            ]
          },
          "metadata": {}
        },
        {
          "output_type": "stream",
          "name": "stdout",
          "text": [
            "human:\n",
            "ungene emarikeni wabona ipineapple elalilihle\n",
            "\n",
            "model:\n",
            "ukhe walibona walijonga wagqitha\n"
          ]
        },
        {
          "output_type": "display_data",
          "data": {
            "text/plain": [
              "<IPython.core.display.HTML object>"
            ],
            "text/html": [
              "<div style='font-family:monospace;'>ukhe walibona walijonga wa<span style=\"color:green;\">g</span>q<span style=\"color:red;\">g</span>itha</div>"
            ]
          },
          "metadata": {}
        },
        {
          "output_type": "stream",
          "name": "stdout",
          "text": [
            "human:\n",
            "ukhe walibona walijonga waqgitha\n",
            "\n",
            "model:\n",
            "bakhangela ibhala\n"
          ]
        },
        {
          "output_type": "display_data",
          "data": {
            "text/plain": [
              "<IPython.core.display.HTML object>"
            ],
            "text/html": [
              "<div style='font-family:monospace;'><span style=\"color:red;\">w</span><span style=\"color:green;\">b</span>akhangela i<span style=\"color:red;\">i</span>b<span style=\"color:green;\">h</span>a<span style=\"color:red;\">n</span><span style=\"color:green;\">l</span>a<span style=\"color:red;\">n</span><span style=\"color:red;\">a</span></div>"
            ]
          },
          "metadata": {}
        },
        {
          "output_type": "stream",
          "name": "stdout",
          "text": [
            "human:\n",
            "wakhangela iibanana\n",
            "\n",
            "model:\n",
            "ubone ukuba makabuyele kwelapayina ebelibone kuxala ukungena kwakhe athengelona\n"
          ]
        },
        {
          "output_type": "display_data",
          "data": {
            "text/plain": [
              "<IPython.core.display.HTML object>"
            ],
            "text/html": [
              "<div style='font-family:monospace;'>ubone ukuba makabuyele kwela<span style=\"color:red;\"> </span>p<span style=\"color:green;\">a</span><span style=\"color:green;\">y</span>ina<span style=\"color:red;\"> </span><span style=\"color:red;\">e</span><span style=\"color:red;\">b</span><span style=\"color:red;\">e</span><span style=\"color:red;\">l</span><span style=\"color:red;\">i</span><span style=\"color:red;\">t</span><span style=\"color:red;\">h</span><span style=\"color:red;\">e</span> ebelibone ku<span style=\"color:red;\">q</span><span style=\"color:green;\">x</span>ala ukungena kwakhe athenge<span style=\"color:red;\"> </span>lona</div>"
            ]
          },
          "metadata": {}
        },
        {
          "output_type": "stream",
          "name": "stdout",
          "text": [
            "human:\n",
            "ubone ukuba makabuyele kwela pina ebelithe ebelibone kuqala ukungena kwakhe athenge lona\n",
            "\n",
            "model:\n",
            "wayeka ibhanana wathenga ibani\n"
          ]
        },
        {
          "output_type": "display_data",
          "data": {
            "text/plain": [
              "<IPython.core.display.HTML object>"
            ],
            "text/html": [
              "<div style='font-family:monospace;'>wa<span style=\"color:red;\">y</span><span style=\"color:red;\">i</span>yeka ib<span style=\"color:green;\">h</span>anana wathenga i<span style=\"color:red;\">p</span><span style=\"color:green;\">b</span><span style=\"color:green;\">a</span><span style=\"color:green;\">n</span>i<span style=\"color:red;\">n</span><span style=\"color:red;\">a</span></div>"
            ]
          },
          "metadata": {}
        },
        {
          "output_type": "stream",
          "name": "stdout",
          "text": [
            "human:\n",
            "wayiyeka ibanana wathenga ipina\n",
            "\n",
            "model:\n",
            "wagudukake ephethe ibyina elo\n"
          ]
        },
        {
          "output_type": "display_data",
          "data": {
            "text/plain": [
              "<IPython.core.display.HTML object>"
            ],
            "text/html": [
              "<div style='font-family:monospace;'>wag<span style=\"color:red;\">o</span><span style=\"color:green;\">u</span>duka<span style=\"color:red;\"> </span>ke ephethe i<span style=\"color:red;\">p</span><span style=\"color:green;\">b</span><span style=\"color:green;\">y</span>ina elo</div>"
            ]
          },
          "metadata": {}
        },
        {
          "output_type": "stream",
          "name": "stdout",
          "text": [
            "human:\n",
            "wagoduka ke ephethe ipina elo\n",
            "\n",
            "model:\n",
            "ezinye iimfuno esizidingayo nezi zezona zibalulekileyo kwilali yethu kukuba sibenendlela sibe neeblorho\n"
          ]
        },
        {
          "output_type": "display_data",
          "data": {
            "text/plain": [
              "<IPython.core.display.HTML object>"
            ],
            "text/html": [
              "<div style='font-family:monospace;'>ezinye iimfuno esizidingayo nezi zezona zibalulekileyo kwilali yethu kukuba sibenendlela sibe<span style=\"color:green;\"> </span>neeblorho</div>"
            ]
          },
          "metadata": {}
        },
        {
          "output_type": "stream",
          "name": "stdout",
          "text": [
            "human:\n",
            "ezinye iimfuno esizidingayo nezi zezona zibalulekileyo kwilali yethu kukuba sibenendlela sibeneeblorho\n",
            "\n",
            "model:\n",
            "ngoba kwilali yethu kwinamilambo emikhulu\n"
          ]
        },
        {
          "output_type": "display_data",
          "data": {
            "text/plain": [
              "<IPython.core.display.HTML object>"
            ],
            "text/html": [
              "<div style='font-family:monospace;'>ngo<span style=\"color:red;\"> </span><span style=\"color:red;\">k</span><span style=\"color:red;\">u</span><span style=\"color:red;\"> </span>ba kwilali yethu k<span style=\"color:red;\">u</span><span style=\"color:green;\">w</span><span style=\"color:green;\">i</span>n<span style=\"color:red;\">e</span><span style=\"color:green;\">a</span>milambo emikhulu</div>"
            ]
          },
          "metadata": {}
        },
        {
          "output_type": "stream",
          "name": "stdout",
          "text": [
            "human:\n",
            "ngo ku ba kwilali yethu kunemilambo emikhulu\n",
            "\n",
            "model:\n",
            "ekuthi xa kunethile kugcwale amanzi kube nzima ukuphumela ngaphesheya\n"
          ]
        },
        {
          "output_type": "display_data",
          "data": {
            "text/plain": [
              "<IPython.core.display.HTML object>"
            ],
            "text/html": [
              "<div style='font-family:monospace;'>ekuthi xa kunethile kugcwale amanzi kube<span style=\"color:green;\"> </span>nzima ukuphumela ngaphesheya</div>"
            ]
          },
          "metadata": {}
        },
        {
          "output_type": "stream",
          "name": "stdout",
          "text": [
            "human:\n",
            "ekuthi xa kunethile kugcwale amanzi kubenzima ukuphumela ngaphesheya\n",
            "\n",
            "model:\n",
            "ingakumbi kubantwana abafundayo nakubantu abaya kuzibhedlele nakwixiniki\n"
          ]
        },
        {
          "output_type": "display_data",
          "data": {
            "text/plain": [
              "<IPython.core.display.HTML object>"
            ],
            "text/html": [
              "<div style='font-family:monospace;'>ingakumbi kubantwana abafundayo nakubantu abaya k<span style=\"color:green;\">u</span><span style=\"color:red;\">w</span><span style=\"color:red;\">i</span>zibhedlele nakwi<span style=\"color:green;\">x</span><span style=\"color:red;\"> </span><span style=\"color:red;\">k</span><span style=\"color:red;\">l</span>iniki</div>"
            ]
          },
          "metadata": {}
        },
        {
          "output_type": "stream",
          "name": "stdout",
          "text": [
            "human:\n",
            "ingakumbi kubantwana abafundayo nakubantu abaya kwizibhedlele nakwi kliniki\n",
            "\n",
            "model:\n",
            "ikliniki zethu zikude\n"
          ]
        },
        {
          "output_type": "display_data",
          "data": {
            "text/plain": [
              "<IPython.core.display.HTML object>"
            ],
            "text/html": [
              "<div style='font-family:monospace;'><span style=\"color:red;\">i</span>ikliniki zethu zikude</div>"
            ]
          },
          "metadata": {}
        },
        {
          "output_type": "stream",
          "name": "stdout",
          "text": [
            "human:\n",
            "iikliniki zethu zikude\n",
            "\n",
            "model:\n",
            "xa sisiya ekliniki singqumla umlambo omkhulu\n"
          ]
        },
        {
          "output_type": "display_data",
          "data": {
            "text/plain": [
              "<IPython.core.display.HTML object>"
            ],
            "text/html": [
              "<div style='font-family:monospace;'>xa sisiya ekliniki sin<span style=\"color:green;\">g</span>qumla umlambo omkhulu</div>"
            ]
          },
          "metadata": {}
        },
        {
          "output_type": "stream",
          "name": "stdout",
          "text": [
            "human:\n",
            "xa sisiya ekliniki sinqumla umlambo omkhulu\n",
            "\n",
            "model:\n",
            "sisebenzisa isikhephe\n"
          ]
        },
        {
          "output_type": "display_data",
          "data": {
            "text/plain": [
              "<IPython.core.display.HTML object>"
            ],
            "text/html": [
              "<div style='font-family:monospace;'>sisebenzisa isikhephe</div>"
            ]
          },
          "metadata": {}
        },
        {
          "output_type": "stream",
          "name": "stdout",
          "text": [
            "human:\n",
            "sisebenzisa isikhephe\n",
            "\n",
            "model:\n",
            "so singavuya kakhulu xa shinofumana ibloch ukuze kuhambe imoto ngendlela ekhuselekileyo\n"
          ]
        },
        {
          "output_type": "display_data",
          "data": {
            "text/plain": [
              "<IPython.core.display.HTML object>"
            ],
            "text/html": [
              "<div style='font-family:monospace;'>so singavuya kakhulu xa s<span style=\"color:green;\">h</span>inofumana iblo<span style=\"color:red;\">r</span><span style=\"color:green;\">c</span>h<span style=\"color:red;\">o</span> ukuze kuhambe <span style=\"color:red;\">i</span>imoto ngendlela ekhuselekileyo</div>"
            ]
          },
          "metadata": {}
        },
        {
          "output_type": "stream",
          "name": "stdout",
          "text": [
            "human:\n",
            "so singavuya kakhulu xa sinofumana iblorho ukuze kuhambe iimoto ngendlela ekhuselekileyo\n",
            "\n",
            "model:\n",
            "igama lamdingontomfikile ntunja\n"
          ]
        },
        {
          "output_type": "display_data",
          "data": {
            "text/plain": [
              "<IPython.core.display.HTML object>"
            ],
            "text/html": [
              "<div style='font-family:monospace;'>igama lam<span style=\"color:red;\"> </span><span style=\"color:red;\">n</span>ding<span style=\"color:red;\">u</span><span style=\"color:green;\">o</span>ntom<span style=\"color:red;\">b</span><span style=\"color:red;\">i</span>fikile ntunja</div>"
            ]
          },
          "metadata": {}
        },
        {
          "output_type": "stream",
          "name": "stdout",
          "text": [
            "human:\n",
            "igama lam ndinguntombifikile ntunja\n",
            "\n",
            "model:\n",
            "ndifunda entabozuko efithi college\n"
          ]
        },
        {
          "output_type": "display_data",
          "data": {
            "text/plain": [
              "<IPython.core.display.HTML object>"
            ],
            "text/html": [
              "<div style='font-family:monospace;'>ndifunda entabozuko <span style=\"color:green;\">e</span>f<span style=\"color:red;\">e</span><span style=\"color:green;\">i</span>t<span style=\"color:green;\">h</span><span style=\"color:green;\">i</span> college</div>"
            ]
          },
          "metadata": {}
        },
        {
          "output_type": "stream",
          "name": "stdout",
          "text": [
            "human:\n",
            "ndifunda entabozuko fet college\n",
            "\n",
            "model:\n",
            "ndenza unyaka wam wesithathu kwizifundo education and development\n"
          ]
        },
        {
          "output_type": "display_data",
          "data": {
            "text/plain": [
              "<IPython.core.display.HTML object>"
            ],
            "text/html": [
              "<div style='font-family:monospace;'>ndenza unyaka wam wes<span style=\"color:red;\"> </span>i<span style=\"color:red;\"> </span>thathu kwizifundo education and development</div>"
            ]
          },
          "metadata": {}
        },
        {
          "output_type": "stream",
          "name": "stdout",
          "text": [
            "human:\n",
            "ndenza unyaka wam wes i thathu kwizifundo education and development\n",
            "\n",
            "model:\n",
            "xa ndisiya esikolweni ndivuka endlini ngentsimbi yesihlanu ekuseni\n"
          ]
        },
        {
          "output_type": "display_data",
          "data": {
            "text/plain": [
              "<IPython.core.display.HTML object>"
            ],
            "text/html": [
              "<div style='font-family:monospace;'>xa ndisiya es<span style=\"color:red;\"> </span>i<span style=\"color:red;\"> </span>kolweni ndivuka endlini ngentsimbi yesihlanu ekuseni</div>"
            ]
          },
          "metadata": {}
        },
        {
          "output_type": "stream",
          "name": "stdout",
          "text": [
            "human:\n",
            "xa ndisiya es i kolweni ndivuka endlini ngentsimbi yesihlanu ekuseni\n",
            "\n",
            "model:\n",
            "ndihamba umgama omde ngenyawo ndifike kumlambo ixhorha\n"
          ]
        },
        {
          "output_type": "display_data",
          "data": {
            "text/plain": [
              "<IPython.core.display.HTML object>"
            ],
            "text/html": [
              "<div style='font-family:monospace;'>ndihamba umgama omde nge<span style=\"color:red;\"> </span>nyawo ndifike kumlambo ixhorha</div>"
            ]
          },
          "metadata": {}
        },
        {
          "output_type": "stream",
          "name": "stdout",
          "text": [
            "human:\n",
            "ndihamba umgama omde nge nyawo ndifike kumlambo ixhorha\n",
            "\n",
            "model:\n",
            "apho ndiye ndikhwele isikhephe ndiphumele ngaso\n"
          ]
        },
        {
          "output_type": "display_data",
          "data": {
            "text/plain": [
              "<IPython.core.display.HTML object>"
            ],
            "text/html": [
              "<div style='font-family:monospace;'>apho ndiye ndikhwele is<span style=\"color:red;\"> </span>i<span style=\"color:red;\"> </span>khephe ndiphumele ngaso</div>"
            ]
          },
          "metadata": {}
        },
        {
          "output_type": "stream",
          "name": "stdout",
          "text": [
            "human:\n",
            "apho ndiye ndikhwele is i khephe ndiphumele ngaso\n",
            "\n",
            "model:\n",
            "emveni koko ndiphinde futhi ndihambe omnye umgama omde ngenyawo ukuya kwindlela yenqwelo\n"
          ]
        },
        {
          "output_type": "display_data",
          "data": {
            "text/plain": [
              "<IPython.core.display.HTML object>"
            ],
            "text/html": [
              "<div style='font-family:monospace;'>emveni koko ndiphinde futhi ndihambe omnye umgama omde ngenyawo ukuya kwin<span style=\"color:red;\">q</span><span style=\"color:red;\">w</span><span style=\"color:red;\">e</span><span style=\"color:red;\"> </span><span style=\"color:red;\">u</span><span style=\"color:red;\">k</span><span style=\"color:red;\">u</span><span style=\"color:red;\">y</span><span style=\"color:red;\">a</span><span style=\"color:red;\"> </span><span style=\"color:red;\">k</span><span style=\"color:red;\">w</span><span style=\"color:red;\">i</span><span style=\"color:red;\">n</span>dlela yenqwelo</div>"
            ]
          },
          "metadata": {}
        },
        {
          "output_type": "stream",
          "name": "stdout",
          "text": [
            "human:\n",
            "emveni koko ndiphinde futhi ndihambe omnye umgama omde ngenyawo ukuya kwinqwe ukuya kwindlela yenqwelo\n",
            "\n",
            "model:\n",
            "xa ndifika apho ndiye ndihayikhe iteksi ndiye esikolweni\n"
          ]
        },
        {
          "output_type": "display_data",
          "data": {
            "text/plain": [
              "<IPython.core.display.HTML object>"
            ],
            "text/html": [
              "<div style='font-family:monospace;'>xa ndifika apho ndiye ndihay<span style=\"color:green;\">i</span>khe iteksi ndiye es<span style=\"color:red;\"> </span>i<span style=\"color:red;\"> </span>kolweni</div>"
            ]
          },
          "metadata": {}
        },
        {
          "output_type": "stream",
          "name": "stdout",
          "text": [
            "human:\n",
            "xa ndifika apho ndiye ndihaykhe iteksi ndiye es i kolweni\n",
            "\n",
            "model:\n",
            "esikolweni ndiya iintsuku ezintathu ngeveki kuyaxhomekeka kekwizifundo ezo endizenzayo\n"
          ]
        },
        {
          "output_type": "display_data",
          "data": {
            "text/plain": [
              "<IPython.core.display.HTML object>"
            ],
            "text/html": [
              "<div style='font-family:monospace;'>esikolweni ndiya iintsuku ezintathu ngeveki kuyaxhomekeka k<span style=\"color:green;\">e</span><span style=\"color:green;\">k</span>wizifundo ezo <span style=\"color:green;\">e</span>ndizenzayo</div>"
            ]
          },
          "metadata": {}
        },
        {
          "output_type": "stream",
          "name": "stdout",
          "text": [
            "human:\n",
            "esikolweni ndiya iintsuku ezintathu ngeveki kuyaxhomekeka kwizifundo ezo ndizenzayo\n",
            "\n",
            "model:\n",
            "isikolo asingeni iveki yonkek\n"
          ]
        },
        {
          "output_type": "display_data",
          "data": {
            "text/plain": [
              "<IPython.core.display.HTML object>"
            ],
            "text/html": [
              "<div style='font-family:monospace;'>isikolo asingeni iveki yonke<span style=\"color:red;\"> </span><span style=\"color:red;\">t</span><span style=\"color:red;\">h</span><span style=\"color:red;\">e</span><span style=\"color:red;\">n</span><span style=\"color:red;\"> </span><span style=\"color:red;\">y</span><span style=\"color:red;\">o</span><span style=\"color:red;\">u</span><span style=\"color:red;\"> </span><span style=\"color:red;\">a</span><span style=\"color:red;\">l</span><span style=\"color:red;\">s</span><span style=\"color:red;\">o</span><span style=\"color:red;\"> </span><span style=\"color:red;\">h</span><span style=\"color:red;\">a</span><span style=\"color:red;\">v</span><span style=\"color:red;\">e</span><span style=\"color:red;\"> </span><span style=\"color:red;\">t</span><span style=\"color:red;\">o</span><span style=\"color:red;\"> </span><span style=\"color:red;\">c</span><span style=\"color:red;\">o</span><span style=\"color:red;\">m</span><span style=\"color:red;\">e</span><span style=\"color:red;\"> </span><span style=\"color:red;\">b</span><span style=\"color:red;\">a</span><span style=\"color:red;\">c</span>k</div>"
            ]
          },
          "metadata": {}
        },
        {
          "output_type": "stream",
          "name": "stdout",
          "text": [
            "human:\n",
            "isikolo asingeni iveki yonke then you also have to come back\n",
            "\n",
            "model:\n",
            "\n"
          ]
        },
        {
          "output_type": "display_data",
          "data": {
            "text/plain": [
              "<IPython.core.display.HTML object>"
            ],
            "text/html": [
              "<div style='font-family:monospace;'><span style=\"color:red;\">a</span><span style=\"color:red;\">n</span><span style=\"color:red;\">d</span><span style=\"color:red;\"> </span><span style=\"color:red;\">w</span><span style=\"color:red;\">h</span><span style=\"color:red;\">a</span><span style=\"color:red;\">t</span><span style=\"color:red;\"> </span><span style=\"color:red;\">t</span><span style=\"color:red;\">i</span><span style=\"color:red;\">m</span><span style=\"color:red;\">e</span><span style=\"color:red;\"> </span><span style=\"color:red;\">a</span><span style=\"color:red;\">r</span><span style=\"color:red;\">e</span><span style=\"color:red;\"> </span><span style=\"color:red;\">y</span><span style=\"color:red;\">o</span><span style=\"color:red;\">u</span><span style=\"color:red;\"> </span><span style=\"color:red;\">h</span><span style=\"color:red;\">o</span><span style=\"color:red;\">m</span><span style=\"color:red;\">e</span></div>"
            ]
          },
          "metadata": {}
        },
        {
          "output_type": "stream",
          "name": "stdout",
          "text": [
            "human:\n",
            "and what time are you home\n",
            "\n",
            "model:\n",
            "ca ndibuya esikolweni ndiphuma esikolweni ngentsimbi yesithathu\n"
          ]
        },
        {
          "output_type": "display_data",
          "data": {
            "text/plain": [
              "<IPython.core.display.HTML object>"
            ],
            "text/html": [
              "<div style='font-family:monospace;'><span style=\"color:red;\">x</span><span style=\"color:green;\">c</span>a ndibuya esikolweni ndiphuma esikolweni ngentsimbi yesithathu</div>"
            ]
          },
          "metadata": {}
        },
        {
          "output_type": "stream",
          "name": "stdout",
          "text": [
            "human:\n",
            "xa ndibuya esikolweni ndiphuma esikolweni ngentsimbi yesithathu\n",
            "\n",
            "model:\n",
            "ndiphinde ndihambi umgama umde okubuyela ekhayini\n"
          ]
        },
        {
          "output_type": "display_data",
          "data": {
            "text/plain": [
              "<IPython.core.display.HTML object>"
            ],
            "text/html": [
              "<div style='font-family:monospace;'>ndiphinde ndihamb<span style=\"color:red;\">e</span><span style=\"color:green;\">i</span> umgama <span style=\"color:red;\">o</span><span style=\"color:green;\">u</span>mde <span style=\"color:red;\">u</span><span style=\"color:green;\">o</span>kubuyela ekhay<span style=\"color:red;\">e</span><span style=\"color:green;\">i</span>ni</div>"
            ]
          },
          "metadata": {}
        },
        {
          "output_type": "stream",
          "name": "stdout",
          "text": [
            "human:\n",
            "ndiphinde ndihambe umgama omde ukubuyela ekhayeni\n",
            "\n",
            "model:\n",
            "ekhayeni lam ndifika ngentsimbi yesihlanu emalanga ndidiniwe ndilambile\n"
          ]
        },
        {
          "output_type": "display_data",
          "data": {
            "text/plain": [
              "<IPython.core.display.HTML object>"
            ],
            "text/html": [
              "<div style='font-family:monospace;'>ekhayeni lam ndifika ngentsimbi yesihlanu <span style=\"color:green;\">e</span>malanga ndidiniwe ndilambile</div>"
            ]
          },
          "metadata": {}
        },
        {
          "output_type": "stream",
          "name": "stdout",
          "text": [
            "human:\n",
            "ekhayeni lam ndifika ngentsimbi yesihlanu malanga ndidiniwe ndilambile\n",
            "\n",
            "model:\n",
            "mebi ukantel mi first wathidat si tuday h2016kwnsa noni nk ngempelaveki ndizavuka ekuseni\n"
          ]
        },
        {
          "output_type": "display_data",
          "data": {
            "text/plain": [
              "<IPython.core.display.HTML object>"
            ],
            "text/html": [
              "<div style='font-family:monospace;'><span style=\"color:green;\">m</span><span style=\"color:green;\">e</span><span style=\"color:green;\">b</span><span style=\"color:green;\">i</span><span style=\"color:green;\"> </span><span style=\"color:green;\">u</span><span style=\"color:green;\">k</span><span style=\"color:green;\">a</span><span style=\"color:green;\">n</span><span style=\"color:green;\">t</span><span style=\"color:green;\">e</span><span style=\"color:green;\">l</span><span style=\"color:green;\"> </span><span style=\"color:green;\">m</span><span style=\"color:green;\">i</span><span style=\"color:green;\"> </span><span style=\"color:green;\">f</span><span style=\"color:green;\">i</span><span style=\"color:green;\">r</span><span style=\"color:green;\">s</span><span style=\"color:green;\">t</span><span style=\"color:green;\"> </span><span style=\"color:green;\">w</span><span style=\"color:green;\">a</span><span style=\"color:green;\">t</span><span style=\"color:green;\">h</span><span style=\"color:green;\">i</span><span style=\"color:green;\">d</span><span style=\"color:green;\">a</span><span style=\"color:green;\">t</span><span style=\"color:green;\"> </span><span style=\"color:green;\">s</span><span style=\"color:green;\">i</span><span style=\"color:green;\"> </span><span style=\"color:green;\">t</span><span style=\"color:green;\">u</span><span style=\"color:green;\">d</span><span style=\"color:green;\">a</span><span style=\"color:green;\">y</span><span style=\"color:green;\"> </span><span style=\"color:green;\">h</span><span style=\"color:green;\">2</span><span style=\"color:green;\">0</span><span style=\"color:green;\">1</span><span style=\"color:green;\">6</span><span style=\"color:green;\">k</span><span style=\"color:green;\">w</span><span style=\"color:green;\">n</span><span style=\"color:green;\">s</span><span style=\"color:green;\">a</span><span style=\"color:green;\"> </span><span style=\"color:green;\">n</span><span style=\"color:green;\">o</span><span style=\"color:green;\">n</span><span style=\"color:green;\">i</span><span style=\"color:green;\"> </span><span style=\"color:green;\">n</span><span style=\"color:green;\">k</span><span style=\"color:green;\"> </span>ngempelaveki ndiz<span style=\"color:red;\">o</span><span style=\"color:green;\">a</span>vuka ek<span style=\"color:red;\"> </span>u<span style=\"color:red;\"> </span>seni</div>"
            ]
          },
          "metadata": {}
        },
        {
          "output_type": "stream",
          "name": "stdout",
          "text": [
            "human:\n",
            "ngempelaveki ndizovuka ek u seni\n",
            "\n",
            "model:\n",
            "ndihlabe\n"
          ]
        },
        {
          "output_type": "display_data",
          "data": {
            "text/plain": [
              "<IPython.core.display.HTML object>"
            ],
            "text/html": [
              "<div style='font-family:monospace;'>ndihla<span style=\"color:red;\">m</span>be</div>"
            ]
          },
          "metadata": {}
        },
        {
          "output_type": "stream",
          "name": "stdout",
          "text": [
            "human:\n",
            "ndihlambe\n",
            "\n",
            "model:\n",
            "ndihlambe abantwana bam\n"
          ]
        },
        {
          "output_type": "display_data",
          "data": {
            "text/plain": [
              "<IPython.core.display.HTML object>"
            ],
            "text/html": [
              "<div style='font-family:monospace;'>ndihlambe abantwana bam</div>"
            ]
          },
          "metadata": {}
        },
        {
          "output_type": "stream",
          "name": "stdout",
          "text": [
            "human:\n",
            "ndihlambe abantwana bam\n",
            "\n",
            "model:\n",
            "sitye isihlo saseseni\n"
          ]
        },
        {
          "output_type": "display_data",
          "data": {
            "text/plain": [
              "<IPython.core.display.HTML object>"
            ],
            "text/html": [
              "<div style='font-family:monospace;'>sitye isi<span style=\"color:red;\">d</span><span style=\"color:green;\">h</span>lo sase<span style=\"color:red;\">k</span><span style=\"color:red;\"> </span><span style=\"color:red;\">u</span><span style=\"color:red;\"> </span>seni</div>"
            ]
          },
          "metadata": {}
        },
        {
          "output_type": "stream",
          "name": "stdout",
          "text": [
            "human:\n",
            "sitye isidlo sasek u seni\n",
            "\n",
            "model:\n",
            "si hla le pha n zle\n"
          ]
        },
        {
          "output_type": "display_data",
          "data": {
            "text/plain": [
              "<IPython.core.display.HTML object>"
            ],
            "text/html": [
              "<div style='font-family:monospace;'>si<span style=\"color:green;\"> </span>hla<span style=\"color:green;\"> </span>le pha<span style=\"color:green;\"> </span>n<span style=\"color:red;\">d</span><span style=\"color:green;\"> </span><span style=\"color:green;\">z</span>le</div>"
            ]
          },
          "metadata": {}
        },
        {
          "output_type": "stream",
          "name": "stdout",
          "text": [
            "human:\n",
            "sihlale phandle\n",
            "\n",
            "model:\n",
            "emveni koko ndingene egadini ndihlakule\n"
          ]
        },
        {
          "output_type": "display_data",
          "data": {
            "text/plain": [
              "<IPython.core.display.HTML object>"
            ],
            "text/html": [
              "<div style='font-family:monospace;'>emveni koko ndingene egadini ndihlakule</div>"
            ]
          },
          "metadata": {}
        },
        {
          "output_type": "stream",
          "name": "stdout",
          "text": [
            "human:\n",
            "emveni koko ndingene egadini ndihlakule\n",
            "\n",
            "model:\n",
            "diphumediphumle endlin\n"
          ]
        },
        {
          "output_type": "display_data",
          "data": {
            "text/plain": [
              "<IPython.core.display.HTML object>"
            ],
            "text/html": [
              "<div style='font-family:monospace;'><span style=\"color:red;\">n</span>diphume<span style=\"color:red;\"> </span><span style=\"color:red;\">n</span>diphumle endlin<span style=\"color:red;\">i</span></div>"
            ]
          },
          "metadata": {}
        },
        {
          "output_type": "stream",
          "name": "stdout",
          "text": [
            "human:\n",
            "ndiphume ndiphumle endlini\n",
            "\n",
            "model:\n",
            "kwenzeke ingozi kumgaqwana nje omncinani\n"
          ]
        },
        {
          "output_type": "display_data",
          "data": {
            "text/plain": [
              "<IPython.core.display.HTML object>"
            ],
            "text/html": [
              "<div style='font-family:monospace;'>kwenzeke ingozi kumgaqwana nje omncinan<span style=\"color:red;\">e</span><span style=\"color:green;\">i</span></div>"
            ]
          },
          "metadata": {}
        },
        {
          "output_type": "stream",
          "name": "stdout",
          "text": [
            "human:\n",
            "kwenzeke ingozi kumgaqwana nje omncinane\n",
            "\n",
            "model:\n",
            "kuvele imoto ebomvu ebe isiza ngasentla kunye nemoto eluhlaza ebe isiza ngezantsi ziye zatshayisana ke\n"
          ]
        },
        {
          "output_type": "display_data",
          "data": {
            "text/plain": [
              "<IPython.core.display.HTML object>"
            ],
            "text/html": [
              "<div style='font-family:monospace;'>kuvele imoto ebomvu ebe isiza ngasentla kunye nemoto eluhlaza ebe isiza ngezantsi z<span style=\"color:green;\">i</span><span style=\"color:green;\">y</span><span style=\"color:green;\">e</span><span style=\"color:green;\"> </span><span style=\"color:green;\">z</span>atsh<span style=\"color:green;\">a</span><span style=\"color:green;\">y</span>isana ke</div>"
            ]
          },
          "metadata": {}
        },
        {
          "output_type": "stream",
          "name": "stdout",
          "text": [
            "human:\n",
            "kuvele imoto ebomvu ebe isiza ngasentla kunye nemoto eluhlaza ebe isiza ngezantsi zatshisana ke\n",
            "\n",
            "model:\n",
            "a\n"
          ]
        },
        {
          "output_type": "display_data",
          "data": {
            "text/plain": [
              "<IPython.core.display.HTML object>"
            ],
            "text/html": [
              "<div style='font-family:monospace;'><span style=\"color:green;\">a</span><span style=\"color:red;\">z</span><span style=\"color:red;\">i</span><span style=\"color:red;\">y</span><span style=\"color:red;\">e</span></div>"
            ]
          },
          "metadata": {}
        },
        {
          "output_type": "stream",
          "name": "stdout",
          "text": [
            "human:\n",
            "ziye\n",
            "\n",
            "model:\n",
            "zatsha zavutha amadangatyi\n"
          ]
        },
        {
          "output_type": "display_data",
          "data": {
            "text/plain": [
              "<IPython.core.display.HTML object>"
            ],
            "text/html": [
              "<div style='font-family:monospace;'>zatsha zavutha amadangatyi</div>"
            ]
          },
          "metadata": {}
        },
        {
          "output_type": "stream",
          "name": "stdout",
          "text": [
            "human:\n",
            "zatsha zavutha amadangatyi\n",
            "\n",
            "model:\n",
            "kwenzaki ele abantu abahlanokulongosa\n"
          ]
        },
        {
          "output_type": "display_data",
          "data": {
            "text/plain": [
              "<IPython.core.display.HTML object>"
            ],
            "text/html": [
              "<div style='font-family:monospace;'>kwenzak<span style=\"color:green;\">i</span><span style=\"color:green;\"> </span>ele abantu abahlan<span style=\"color:green;\">o</span><span style=\"color:red;\">u</span><span style=\"color:red;\"> </span>kulo<span style=\"color:red;\"> </span>ngo<span style=\"color:red;\">z</span><span style=\"color:red;\">i</span><span style=\"color:green;\">s</span><span style=\"color:green;\">a</span></div>"
            ]
          },
          "metadata": {}
        },
        {
          "output_type": "stream",
          "name": "stdout",
          "text": [
            "human:\n",
            "kwenzakele abantu abahlanu kulo ngozi\n",
            "\n",
            "model:\n",
            "siye sakhawuleza safowunela inqwelo yezigulane ibathathile ke yabaleqisa esibhedle\n"
          ]
        },
        {
          "output_type": "display_data",
          "data": {
            "text/plain": [
              "<IPython.core.display.HTML object>"
            ],
            "text/html": [
              "<div style='font-family:monospace;'>siye sakhawuleza safowunela inqwelo yezigulan<span style=\"color:red;\">i</span><span style=\"color:green;\">e</span> ibathathile ke yabaleqisa esibhedle<span style=\"color:red;\">l</span><span style=\"color:red;\">e</span></div>"
            ]
          },
          "metadata": {}
        },
        {
          "output_type": "stream",
          "name": "stdout",
          "text": [
            "human:\n",
            "siye sakhawuleza safowunela inqwelo yezigulani ibathathile ke yabaleqisa esibhedlele\n",
            "\n",
            "model:\n",
            "kleke pulep\n"
          ]
        },
        {
          "output_type": "display_data",
          "data": {
            "text/plain": [
              "<IPython.core.display.HTML object>"
            ],
            "text/html": [
              "<div style='font-family:monospace;'><span style=\"color:green;\">k</span><span style=\"color:red;\">g</span><span style=\"color:red;\">i</span><span style=\"color:red;\">r</span>l<span style=\"color:green;\">e</span><span style=\"color:green;\">k</span><span style=\"color:red;\"> </span><span style=\"color:red;\">u</span><span style=\"color:red;\">f</span><span style=\"color:red;\">u</span><span style=\"color:red;\">n</span><span style=\"color:red;\">d</span>e p<span style=\"color:red;\">h</span><span style=\"color:red;\">i</span><span style=\"color:green;\">u</span><span style=\"color:green;\">l</span><span style=\"color:green;\">e</span><span style=\"color:green;\">p</span></div>"
            ]
          },
          "metadata": {}
        },
        {
          "output_type": "stream",
          "name": "stdout",
          "text": [
            "human:\n",
            "girl ufunde phi\n",
            "\n",
            "model:\n",
            "ijr yamndi yenze aphegcinisizwe iskolesitisha lomamawupo ekhaya medee1an\n"
          ]
        },
        {
          "output_type": "display_data",
          "data": {
            "text/plain": [
              "<IPython.core.display.HTML object>"
            ],
            "text/html": [
              "<div style='font-family:monospace;'><span style=\"color:red;\">e</span><span style=\"color:red;\">e</span><span style=\"color:red;\">h</span><span style=\"color:red;\"> </span>ij<span style=\"color:green;\">r</span><span style=\"color:red;\">u</span><span style=\"color:red;\">n</span><span style=\"color:red;\">i</span><span style=\"color:red;\">y</span><span style=\"color:red;\">a</span> yam<span style=\"color:red;\"> </span>ndi<span style=\"color:green;\"> </span>yenze <span style=\"color:red;\">e</span><span style=\"color:red;\">e</span><span style=\"color:red;\">h</span><span style=\"color:red;\"> </span>aph<span style=\"color:red;\">a</span><span style=\"color:red;\"> </span>egcinisizwe <span style=\"color:red;\">e</span><span style=\"color:red;\">e</span><span style=\"color:red;\">h</span><span style=\"color:red;\"> </span>is<span style=\"color:red;\"> </span><span style=\"color:red;\">i</span><span style=\"color:red;\">s</span><span style=\"color:red;\"> </span><span style=\"color:red;\">i</span><span style=\"color:red;\"> </span>kol<span style=\"color:red;\">o</span><span style=\"color:red;\"> </span>es<span style=\"color:red;\"> </span>i<span style=\"color:red;\"> </span>tisha lo<span style=\"color:red;\"> </span>mama<span style=\"color:red;\"> </span>w<span style=\"color:green;\">u</span><span style=\"color:red;\">a</span><span style=\"color:red;\"> </span><span style=\"color:red;\">l</span><span style=\"color:red;\">a</span><span style=\"color:red;\"> </span>p<span style=\"color:green;\">o</span><span style=\"color:red;\">h</span><span style=\"color:red;\"> </span><span style=\"color:red;\">a</span> ekhaya m<span style=\"color:green;\">e</span><span style=\"color:red;\">a</span><span style=\"color:red;\">'</span><span style=\"color:red;\">a</span><span style=\"color:red;\">m</span><span style=\"color:red;\"> </span>de<span style=\"color:red;\">l</span>e<span style=\"color:red;\">b</span><span style=\"color:green;\">1</span>an<span style=\"color:red;\">a</span></div>"
            ]
          },
          "metadata": {}
        },
        {
          "output_type": "stream",
          "name": "stdout",
          "text": [
            "human:\n",
            "eeh ijuniya yam ndiyenze eeh apha egcinisizwe eeh is is i kolo es i tisha lo mama wa la ph a ekhaya ma'am delebana\n",
            "\n",
            "model:\n",
            "utithap loa\n"
          ]
        },
        {
          "output_type": "display_data",
          "data": {
            "text/plain": [
              "<IPython.core.display.HTML object>"
            ],
            "text/html": [
              "<div style='font-family:monospace;'><span style=\"color:red;\">o</span><span style=\"color:red;\">h</span><span style=\"color:red;\"> </span>utit<span style=\"color:red;\">s</span>ha<span style=\"color:red;\"> </span>p<span style=\"color:red;\">h</span><span style=\"color:red;\">i</span> lo<span style=\"color:red;\"> </span><span style=\"color:red;\">m</span>a<span style=\"color:red;\">m</span><span style=\"color:red;\">a</span></div>"
            ]
          },
          "metadata": {}
        },
        {
          "output_type": "stream",
          "name": "stdout",
          "text": [
            "human:\n",
            "oh utitsha phi lo mama\n",
            "\n",
            "model:\n",
            "itishegcinsizwe eps\n"
          ]
        },
        {
          "output_type": "display_data",
          "data": {
            "text/plain": [
              "<IPython.core.display.HTML object>"
            ],
            "text/html": [
              "<div style='font-family:monospace;'><span style=\"color:red;\">u</span><span style=\"color:green;\">i</span>tish<span style=\"color:red;\"> </span><span style=\"color:red;\">a</span><span style=\"color:red;\"> </span>egcin<span style=\"color:red;\">i</span>sizwe <span style=\"color:red;\">s</span><span style=\"color:green;\">e</span>ps</div>"
            ]
          },
          "metadata": {}
        },
        {
          "output_type": "stream",
          "name": "stdout",
          "text": [
            "human:\n",
            "utish a egcinisizwe sps\n",
            "\n",
            "model:\n",
            "aaaane\n"
          ]
        },
        {
          "output_type": "display_data",
          "data": {
            "text/plain": [
              "<IPython.core.display.HTML object>"
            ],
            "text/html": [
              "<div style='font-family:monospace;'><span style=\"color:green;\">a</span><span style=\"color:green;\">a</span><span style=\"color:green;\">a</span><span style=\"color:red;\">u</span><span style=\"color:red;\">f</span><span style=\"color:red;\">u</span><span style=\"color:red;\">n</span><span style=\"color:red;\">d</span><span style=\"color:red;\">i</span><span style=\"color:red;\">s</span><span style=\"color:red;\">w</span><span style=\"color:red;\">e</span><span style=\"color:red;\"> </span><span style=\"color:red;\">n</span><span style=\"color:red;\">g</span><span style=\"color:red;\">u</span><span style=\"color:red;\">b</span>an<span style=\"color:red;\">i</span><span style=\"color:red;\"> </span><span style=\"color:red;\">w</span>e<span style=\"color:red;\">n</span><span style=\"color:red;\">a</span><span style=\"color:red;\"> </span><span style=\"color:red;\">e</span><span style=\"color:red;\">s</span><span style=\"color:red;\">i</span><span style=\"color:red;\">k</span><span style=\"color:red;\">o</span><span style=\"color:red;\">l</span><span style=\"color:red;\">w</span><span style=\"color:red;\">e</span><span style=\"color:red;\">n</span><span style=\"color:red;\">i</span></div>"
            ]
          },
          "metadata": {}
        },
        {
          "output_type": "stream",
          "name": "stdout",
          "text": [
            "human:\n",
            "ufundiswe ngubani wena esikolweni\n",
            "\n",
            "model:\n",
            "umtishile noma imntolo ibiprinsiphale yasecinisizwe nezinyumise ezininzile\n"
          ]
        },
        {
          "output_type": "display_data",
          "data": {
            "text/plain": [
              "<IPython.core.display.HTML object>"
            ],
            "text/html": [
              "<div style='font-family:monospace;'><span style=\"color:red;\">n</span><span style=\"color:red;\">a</span><span style=\"color:red;\">y</span><span style=\"color:red;\">e</span><span style=\"color:red;\"> </span>u<span style=\"color:green;\">m</span><span style=\"color:red;\">n</span><span style=\"color:red;\">d</span><span style=\"color:red;\">i</span>tishile noma<span style=\"color:red;\">'</span><span style=\"color:red;\">a</span><span style=\"color:green;\"> </span><span style=\"color:green;\">i</span>m<span style=\"color:red;\"> </span><span style=\"color:green;\">n</span>tolo ibi<span style=\"color:red;\">y</span><span style=\"color:red;\">i</span>prin<span style=\"color:red;\">c</span><span style=\"color:green;\">s</span>ip<span style=\"color:green;\">h</span>al<span style=\"color:green;\">e</span> yase<span style=\"color:red;\">g</span>cinisizwe neziny<span style=\"color:green;\">u</span><span style=\"color:red;\">e</span><span style=\"color:red;\"> </span><span style=\"color:red;\">i</span><span style=\"color:red;\">i</span>mis<span style=\"color:red;\">i</span><span style=\"color:green;\">e</span> ezininzi<span style=\"color:green;\">l</span><span style=\"color:red;\"> </span><span style=\"color:red;\">k</span>e</div>"
            ]
          },
          "metadata": {}
        },
        {
          "output_type": "stream",
          "name": "stdout",
          "text": [
            "human:\n",
            "naye unditishile noma'am tolo ibiyiprincipal yasegcinisizwe nezinye iimisi ezininzi ke\n",
            "\n",
            "model:\n",
            "knai kobatiubupanakukfunda kwano\n"
          ]
        },
        {
          "output_type": "display_data",
          "data": {
            "text/plain": [
              "<IPython.core.display.HTML object>"
            ],
            "text/html": [
              "<div style='font-family:monospace;'><span style=\"color:red;\">o</span>k<span style=\"color:green;\">n</span><span style=\"color:red;\"> </span><span style=\"color:red;\">h</span>a<span style=\"color:red;\">y</span>i <span style=\"color:red;\">q</span><span style=\"color:red;\">h</span><span style=\"color:green;\">k</span><span style=\"color:green;\">o</span><span style=\"color:green;\">b</span><span style=\"color:green;\">a</span><span style=\"color:green;\">t</span><span style=\"color:green;\">i</span>ub<span style=\"color:green;\">u</span><span style=\"color:green;\">p</span>a<span style=\"color:red;\"> </span>n<span style=\"color:red;\">d</span><span style=\"color:red;\">i</span><span style=\"color:red;\">f</span><span style=\"color:red;\">u</span><span style=\"color:red;\">n</span><span style=\"color:red;\"> </span>a<span style=\"color:red;\"> </span><span style=\"color:green;\">k</span>uk<span style=\"color:red;\">u</span><span style=\"color:red;\">v</span><span style=\"color:red;\">a</span><span style=\"color:red;\"> </span><span style=\"color:red;\">n</span><span style=\"color:red;\">j</span><span style=\"color:red;\">e</span><span style=\"color:red;\"> </span><span style=\"color:red;\">n</span><span style=\"color:red;\">g</span><span style=\"color:red;\">o</span><span style=\"color:red;\">k</span><span style=\"color:red;\">u</span>funda kwa<span style=\"color:green;\">n</span><span style=\"color:red;\">k</span><span style=\"color:red;\">h</span>o</div>"
            ]
          },
          "metadata": {}
        },
        {
          "output_type": "stream",
          "name": "stdout",
          "text": [
            "human:\n",
            "ok hayi qhuba ndifun a ukuva nje ngokufunda kwakho\n",
            "\n",
            "model:\n",
            "ndaphuma eegcilisiza ndayemea\n"
          ]
        },
        {
          "output_type": "display_data",
          "data": {
            "text/plain": [
              "<IPython.core.display.HTML object>"
            ],
            "text/html": [
              "<div style='font-family:monospace;'><span style=\"color:red;\">e</span><span style=\"color:red;\">e</span><span style=\"color:red;\">h</span><span style=\"color:red;\"> </span>ndaphuma e<span style=\"color:green;\">e</span>gci<span style=\"color:red;\">n</span><span style=\"color:green;\">l</span>isiz<span style=\"color:green;\">a</span><span style=\"color:red;\">w</span><span style=\"color:red;\">e</span> nday<span style=\"color:red;\">a</span><span style=\"color:red;\"> </span>em<span style=\"color:red;\">b</span>e<span style=\"color:red;\">k</span><span style=\"color:red;\">w</span>a</div>"
            ]
          },
          "metadata": {}
        },
        {
          "output_type": "stream",
          "name": "stdout",
          "text": [
            "human:\n",
            "eeh ndaphuma egcinisizwe ndaya embekwa\n",
            "\n",
            "model:\n",
            "akhone sinye sikolo nde sikufutsane khona la e kwila lektor ampisi\n"
          ]
        },
        {
          "output_type": "display_data",
          "data": {
            "text/plain": [
              "<IPython.core.display.HTML object>"
            ],
            "text/html": [
              "<div style='font-family:monospace;'><span style=\"color:green;\">a</span><span style=\"color:red;\">k</span><span style=\"color:red;\">u</span>khon<span style=\"color:red;\">a</span><span style=\"color:green;\">e</span> <span style=\"color:red;\">e</span>sinye <span style=\"color:red;\">i</span>sikolo n<span style=\"color:red;\">j</span><span style=\"color:green;\">d</span>e<span style=\"color:red;\"> </span><span style=\"color:red;\">s</span><span style=\"color:red;\">i</span><span style=\"color:red;\"> </span><span style=\"color:red;\">u</span><span style=\"color:red;\">h</span><span style=\"color:red;\">m</span> sikufuts<span style=\"color:red;\">h</span>ane khona la e<span style=\"color:red;\">e</span><span style=\"color:red;\">h</span> kwila<span style=\"color:green;\"> </span>l<span style=\"color:red;\">i</span><span style=\"color:red;\"> </span>ek<span style=\"color:red;\">u</span>t<span style=\"color:green;\">o</span><span style=\"color:green;\">r</span><span style=\"color:red;\">h</span><span style=\"color:red;\">i</span><span style=\"color:red;\">w</span><span style=\"color:red;\">a</span> <span style=\"color:red;\">k</span><span style=\"color:red;\">w</span>ampisi</div>"
            ]
          },
          "metadata": {}
        },
        {
          "output_type": "stream",
          "name": "stdout",
          "text": [
            "human:\n",
            "kukhona esinye isikolo nje si uhm sikufutshane khona la eeh kwilali ekuthiwa kwampisi\n",
            "\n",
            "model:\n",
            "oke icinzisebenzi enziprimary eembeke ndenzi jnr yam\n"
          ]
        },
        {
          "output_type": "display_data",
          "data": {
            "text/plain": [
              "<IPython.core.display.HTML object>"
            ],
            "text/html": [
              "<div style='font-family:monospace;'><span style=\"color:red;\">e</span><span style=\"color:red;\">e</span><span style=\"color:red;\">m</span><span style=\"color:red;\"> </span>ok<span style=\"color:green;\">e</span> <span style=\"color:green;\">i</span><span style=\"color:red;\">e</span><span style=\"color:red;\">g</span>cin<span style=\"color:green;\">z</span>is<span style=\"color:red;\">i</span><span style=\"color:red;\">z</span><span style=\"color:red;\">w</span>e<span style=\"color:red;\"> </span>ben<span style=\"color:red;\">d</span><span style=\"color:green;\">z</span>i<span style=\"color:red;\">s</span><span style=\"color:green;\"> </span>enz<span style=\"color:red;\"> </span><span style=\"color:red;\">a</span><span style=\"color:red;\"> </span>iprimary e<span style=\"color:green;\">e</span>mbek<span style=\"color:green;\">e</span><span style=\"color:red;\">w</span><span style=\"color:red;\">a</span> ndenz<span style=\"color:green;\">i</span> <span style=\"color:red;\">a</span><span style=\"color:red;\"> </span><span style=\"color:red;\">i</span>j<span style=\"color:red;\">u</span>n<span style=\"color:green;\">r</span><span style=\"color:red;\">i</span><span style=\"color:red;\">y</span><span style=\"color:red;\">a</span> yam</div>"
            ]
          },
          "metadata": {}
        },
        {
          "output_type": "stream",
          "name": "stdout",
          "text": [
            "human:\n",
            "eem ok egcinisizwe bendisenz a iprimary embekwa ndenz a ijuniya yam\n",
            "\n",
            "model:\n",
            "ndaphuma ke embheka ndaye nomagqathekani sinye nzisikolo futhi naso sii-ara bhizana ndafundi junaum\n"
          ]
        },
        {
          "output_type": "display_data",
          "data": {
            "text/plain": [
              "<IPython.core.display.HTML object>"
            ],
            "text/html": [
              "<div style='font-family:monospace;'>ndaphuma ke emb<span style=\"color:green;\">h</span>ek<span style=\"color:red;\">w</span>a nday<span style=\"color:green;\">e</span> <span style=\"color:red;\">a</span><span style=\"color:red;\"> </span><span style=\"color:red;\">e</span>nomagq<span style=\"color:red;\">w</span>ath<span style=\"color:red;\">i</span><span style=\"color:green;\">e</span>kani<span style=\"color:red;\"> </span><span style=\"color:red;\">e</span> sinye n<span style=\"color:green;\">z</span><span style=\"color:red;\">j</span><span style=\"color:red;\">e</span><span style=\"color:red;\"> </span>isikolo futhi naso si<span style=\"color:green;\">i</span><span style=\"color:green;\">-</span>ara<span style=\"color:red;\">w</span><span style=\"color:red;\">u</span><span style=\"color:red;\">n</span><span style=\"color:red;\">d</span><span style=\"color:red;\">i</span> b<span style=\"color:green;\">h</span>izana ndafund<span style=\"color:green;\">i</span> <span style=\"color:red;\">a</span><span style=\"color:red;\"> </span><span style=\"color:red;\">i</span>jun<span style=\"color:red;\">i</span><span style=\"color:red;\">y</span>a<span style=\"color:green;\">u</span><span style=\"color:red;\"> </span><span style=\"color:red;\">y</span><span style=\"color:red;\">a</span>m</div>"
            ]
          },
          "metadata": {}
        },
        {
          "output_type": "stream",
          "name": "stdout",
          "text": [
            "human:\n",
            "ndaphuma ke embekwa nday a enomagqwathikani e sinye nje isikolo futhi naso siarawundi bizana ndafund a ijuniya yam\n",
            "\n",
            "model:\n",
            "dasuka futhi ndatyofunda eyunis aphonngagqibanga khonaa\n"
          ]
        },
        {
          "output_type": "display_data",
          "data": {
            "text/plain": [
              "<IPython.core.display.HTML object>"
            ],
            "text/html": [
              "<div style='font-family:monospace;'><span style=\"color:red;\">e</span><span style=\"color:red;\">e</span><span style=\"color:red;\">h</span><span style=\"color:red;\">m</span><span style=\"color:red;\">m</span><span style=\"color:red;\"> </span><span style=\"color:red;\">n</span>dasuka futhi <span style=\"color:red;\">e</span><span style=\"color:red;\">h</span><span style=\"color:red;\"> </span>nda<span style=\"color:green;\">t</span>yofunda e<span style=\"color:green;\">y</span>unis<span style=\"color:red;\">a</span> apho<span style=\"color:red;\"> </span>n<span style=\"color:red;\">d</span><span style=\"color:red;\">i</span>ngagqibanga khona<span style=\"color:green;\">a</span></div>"
            ]
          },
          "metadata": {}
        },
        {
          "output_type": "stream",
          "name": "stdout",
          "text": [
            "human:\n",
            "eehmm ndasuka futhi eh ndayofunda eunisa apho ndingagqibanga khona\n",
            "\n",
            "model:\n",
            "nianabensenzisoshalweka ndaye kaphakathi\n"
          ]
        },
        {
          "output_type": "display_data",
          "data": {
            "text/plain": [
              "<IPython.core.display.HTML object>"
            ],
            "text/html": [
              "<div style='font-family:monospace;'><span style=\"color:green;\">n</span><span style=\"color:green;\">i</span><span style=\"color:green;\">a</span><span style=\"color:green;\">n</span><span style=\"color:green;\">a</span>ben<span style=\"color:red;\">d</span><span style=\"color:red;\">i</span>senz<span style=\"color:red;\"> </span><span style=\"color:red;\">a</span><span style=\"color:red;\"> </span>iso<span style=\"color:red;\">c</span><span style=\"color:red;\">i</span><span style=\"color:green;\">s</span><span style=\"color:green;\">h</span>alw<span style=\"color:green;\">e</span><span style=\"color:red;\">o</span><span style=\"color:red;\">r</span>k<span style=\"color:green;\">a</span><span style=\"color:red;\"> </span><span style=\"color:red;\">u</span><span style=\"color:red;\">h</span><span style=\"color:red;\">m</span> ndaye<span style=\"color:green;\"> </span>ka<span style=\"color:red;\"> </span>phakathi</div>"
            ]
          },
          "metadata": {}
        },
        {
          "output_type": "stream",
          "name": "stdout",
          "text": [
            "human:\n",
            "bendisenz a isocialwork uhm ndayeka phakathi\n",
            "\n",
            "model:\n",
            "bifundwa kuba inisoshalo ibifunda ndimo\n"
          ]
        },
        {
          "output_type": "display_data",
          "data": {
            "text/plain": [
              "<IPython.core.display.HTML object>"
            ],
            "text/html": [
              "<div style='font-family:monospace;'><span style=\"color:red;\">i</span>bifundwa <span style=\"color:green;\">k</span><span style=\"color:red;\">n</span><span style=\"color:red;\">g</span>uba<span style=\"color:green;\"> </span><span style=\"color:green;\">i</span>n<span style=\"color:red;\">i</span><span style=\"color:red;\"> </span>iso<span style=\"color:red;\">c</span><span style=\"color:red;\">i</span><span style=\"color:green;\">s</span><span style=\"color:green;\">h</span>al<span style=\"color:red;\">w</span>o<span style=\"color:red;\">r</span><span style=\"color:red;\">k</span> <span style=\"color:red;\">u</span><span style=\"color:green;\">i</span>b<span style=\"color:red;\">u</span><span style=\"color:green;\">i</span>funda n<span style=\"color:red;\">t</span><span style=\"color:green;\">d</span><span style=\"color:green;\">i</span><span style=\"color:green;\">m</span>o<span style=\"color:red;\">n</span><span style=\"color:red;\">i</span></div>"
            ]
          },
          "metadata": {}
        },
        {
          "output_type": "stream",
          "name": "stdout",
          "text": [
            "human:\n",
            "ibifundwa ngubani isocialwork ubufunda ntoni\n",
            "\n",
            "model:\n",
            "ubufuna lwene bensensoshalwee\n"
          ]
        },
        {
          "output_type": "display_data",
          "data": {
            "text/plain": [
              "<IPython.core.display.HTML object>"
            ],
            "text/html": [
              "<div style='font-family:monospace;'><span style=\"color:red;\">i</span><span style=\"color:green;\">u</span>b<span style=\"color:red;\">i</span><span style=\"color:green;\">u</span>fun<span style=\"color:red;\">d</span><span style=\"color:red;\">w</span>a <span style=\"color:green;\">l</span><span style=\"color:green;\">w</span><span style=\"color:green;\">e</span>n<span style=\"color:green;\">e</span><span style=\"color:red;\">d</span><span style=\"color:red;\">i</span><span style=\"color:red;\">m</span> ben<span style=\"color:red;\">d</span><span style=\"color:red;\">i</span>sen<span style=\"color:red;\">z</span><span style=\"color:red;\">a</span><span style=\"color:red;\"> </span><span style=\"color:red;\">i</span>so<span style=\"color:red;\">c</span><span style=\"color:red;\">i</span><span style=\"color:green;\">s</span><span style=\"color:green;\">h</span>alw<span style=\"color:green;\">e</span><span style=\"color:green;\">e</span><span style=\"color:red;\">o</span><span style=\"color:red;\">r</span><span style=\"color:red;\">k</span></div>"
            ]
          },
          "metadata": {}
        },
        {
          "output_type": "stream",
          "name": "stdout",
          "text": [
            "human:\n",
            "ibifundwa ndim bendisenza isocialwork\n",
            "\n",
            "model:\n",
            "\n"
          ]
        },
        {
          "output_type": "display_data",
          "data": {
            "text/plain": [
              "<IPython.core.display.HTML object>"
            ],
            "text/html": [
              "<div style='font-family:monospace;'><span style=\"color:red;\">o</span><span style=\"color:red;\">h</span><span style=\"color:red;\">h</span></div>"
            ]
          },
          "metadata": {}
        },
        {
          "output_type": "stream",
          "name": "stdout",
          "text": [
            "human:\n",
            "ohh\n",
            "\n",
            "model:\n",
            "lannan\n"
          ]
        },
        {
          "output_type": "display_data",
          "data": {
            "text/plain": [
              "<IPython.core.display.HTML object>"
            ],
            "text/html": [
              "<div style='font-family:monospace;'><span style=\"color:green;\">l</span><span style=\"color:red;\">u</span><span style=\"color:red;\">h</span><span style=\"color:red;\">m</span><span style=\"color:red;\"> </span><span style=\"color:red;\">u</span><span style=\"color:red;\"> </span><span style=\"color:red;\">w</span><span style=\"color:red;\">e</span><span style=\"color:red;\">n</span><span style=\"color:red;\">z</span>an<span style=\"color:red;\">i</span><span style=\"color:red;\"> </span>n<span style=\"color:green;\">a</span><span style=\"color:green;\">n</span><span style=\"color:red;\">g</span><span style=\"color:red;\">o</span><span style=\"color:red;\">k</span><span style=\"color:red;\">u</span></div>"
            ]
          },
          "metadata": {}
        },
        {
          "output_type": "stream",
          "name": "stdout",
          "text": [
            "human:\n",
            "uhm u wenzani ngoku\n",
            "\n",
            "model:\n",
            "internship ekarhunsebenza e-environmental sa\n"
          ]
        },
        {
          "output_type": "display_data",
          "data": {
            "text/plain": [
              "<IPython.core.display.HTML object>"
            ],
            "text/html": [
              "<div style='font-family:monospace;'><span style=\"color:red;\">n</span><span style=\"color:red;\">g</span><span style=\"color:red;\">o</span><span style=\"color:red;\">k</span><span style=\"color:red;\">u</span><span style=\"color:red;\"> </span><span style=\"color:red;\">n</span><span style=\"color:red;\">d</span><span style=\"color:red;\">e</span><span style=\"color:red;\">n</span><span style=\"color:red;\">z</span><span style=\"color:red;\">a</span><span style=\"color:red;\"> </span><span style=\"color:red;\">i</span><span style=\"color:red;\">n</span><span style=\"color:red;\">t</span><span style=\"color:red;\">e</span><span style=\"color:red;\">r</span><span style=\"color:red;\">n</span><span style=\"color:red;\"> </span>internship <span style=\"color:red;\">k</span><span style=\"color:red;\">w</span><span style=\"color:red;\">a</span><span style=\"color:red;\"> </span>ekarhun<span style=\"color:red;\"> </span>sebenza e<span style=\"color:green;\">-</span>environmental s<span style=\"color:green;\">a</span><span style=\"color:red;\">e</span><span style=\"color:red;\">c</span><span style=\"color:red;\">t</span><span style=\"color:red;\">o</span><span style=\"color:red;\">r</span></div>"
            ]
          },
          "metadata": {}
        },
        {
          "output_type": "stream",
          "name": "stdout",
          "text": [
            "human:\n",
            "ngoku ndenza intern internship kwa ekarhun sebenza eenvironmental sector\n",
            "\n",
            "model:\n",
            "\n"
          ]
        },
        {
          "output_type": "display_data",
          "data": {
            "text/plain": [
              "<IPython.core.display.HTML object>"
            ],
            "text/html": [
              "<div style='font-family:monospace;'><span style=\"color:red;\">i</span><span style=\"color:red;\">n</span><span style=\"color:red;\">t</span><span style=\"color:red;\">o</span><span style=\"color:red;\">n</span><span style=\"color:red;\">i</span></div>"
            ]
          },
          "metadata": {}
        },
        {
          "output_type": "stream",
          "name": "stdout",
          "text": [
            "human:\n",
            "intoni\n",
            "\n",
            "model:\n",
            "\n"
          ]
        },
        {
          "output_type": "display_data",
          "data": {
            "text/plain": [
              "<IPython.core.display.HTML object>"
            ],
            "text/html": [
              "<div style='font-family:monospace;'><span style=\"color:red;\">i</span><span style=\"color:red;\">n</span><span style=\"color:red;\">t</span><span style=\"color:red;\">e</span><span style=\"color:red;\">r</span><span style=\"color:red;\">n</span><span style=\"color:red;\">s</span><span style=\"color:red;\">h</span><span style=\"color:red;\">i</span><span style=\"color:red;\">p</span></div>"
            ]
          },
          "metadata": {}
        },
        {
          "output_type": "stream",
          "name": "stdout",
          "text": [
            "human:\n",
            "internship\n",
            "\n",
            "model:\n",
            "ineni\n"
          ]
        },
        {
          "output_type": "display_data",
          "data": {
            "text/plain": [
              "<IPython.core.display.HTML object>"
            ],
            "text/html": [
              "<div style='font-family:monospace;'><span style=\"color:red;\">y</span><span style=\"color:green;\">i</span><span style=\"color:green;\">n</span>en<span style=\"color:red;\">z</span>i<span style=\"color:red;\">w</span><span style=\"color:red;\">a</span><span style=\"color:red;\"> </span><span style=\"color:red;\">n</span><span style=\"color:red;\">g</span><span style=\"color:red;\">u</span><span style=\"color:red;\">b</span><span style=\"color:red;\">a</span><span style=\"color:red;\">n</span><span style=\"color:red;\">i</span><span style=\"color:red;\"> </span><span style=\"color:red;\">i</span><span style=\"color:red;\">i</span><span style=\"color:red;\">n</span><span style=\"color:red;\">t</span><span style=\"color:red;\">e</span><span style=\"color:red;\">r</span><span style=\"color:red;\">n</span><span style=\"color:red;\">s</span><span style=\"color:red;\">h</span><span style=\"color:red;\">i</span><span style=\"color:red;\">p</span></div>"
            ]
          },
          "metadata": {}
        },
        {
          "output_type": "stream",
          "name": "stdout",
          "text": [
            "human:\n",
            "yenziwa ngubani iinternship\n",
            "\n",
            "model:\n",
            "ninwandin\n"
          ]
        },
        {
          "output_type": "display_data",
          "data": {
            "text/plain": [
              "<IPython.core.display.HTML object>"
            ],
            "text/html": [
              "<div style='font-family:monospace;'><span style=\"color:red;\">y</span><span style=\"color:red;\">e</span>n<span style=\"color:red;\">z</span>i<span style=\"color:green;\">n</span>wa<span style=\"color:red;\"> </span>ndi<span style=\"color:red;\">m</span><span style=\"color:green;\">n</span></div>"
            ]
          },
          "metadata": {}
        },
        {
          "output_type": "stream",
          "name": "stdout",
          "text": [
            "human:\n",
            "yenziwa ndim\n",
            "\n",
            "model:\n",
            "k\n"
          ]
        },
        {
          "output_type": "display_data",
          "data": {
            "text/plain": [
              "<IPython.core.display.HTML object>"
            ],
            "text/html": [
              "<div style='font-family:monospace;'><span style=\"color:red;\">o</span>k</div>"
            ]
          },
          "metadata": {}
        },
        {
          "output_type": "stream",
          "name": "stdout",
          "text": [
            "human:\n",
            "ok\n",
            "\n",
            "model:\n",
            "gabiyithiwe na-half yerz\n"
          ]
        },
        {
          "output_type": "display_data",
          "data": {
            "text/plain": [
              "<IPython.core.display.HTML object>"
            ],
            "text/html": [
              "<div style='font-family:monospace;'><span style=\"color:red;\">y</span><span style=\"color:green;\">g</span>a<span style=\"color:red;\">h</span><span style=\"color:red;\"> </span><span style=\"color:red;\">i</span>biyith<span style=\"color:red;\">u</span><span style=\"color:green;\">i</span><span style=\"color:green;\">w</span><span style=\"color:green;\">e</span> <span style=\"color:green;\">n</span>a<span style=\"color:green;\">-</span><span style=\"color:red;\">n</span><span style=\"color:red;\">d</span><span style=\"color:red;\"> </span><span style=\"color:red;\">a</span><span style=\"color:red;\"> </span>half ye<span style=\"color:red;\">a</span>r<span style=\"color:red;\">s</span><span style=\"color:green;\">z</span></div>"
            ]
          },
          "metadata": {}
        },
        {
          "output_type": "stream",
          "name": "stdout",
          "text": [
            "human:\n",
            "yah ibiyithu and a half years\n",
            "\n",
            "model:\n",
            "iqale ngo-2013 izophela ngngo-okthobha ulonyaka\n"
          ]
        },
        {
          "output_type": "display_data",
          "data": {
            "text/plain": [
              "<IPython.core.display.HTML object>"
            ],
            "text/html": [
              "<div style='font-family:monospace;'>iqale ngo<span style=\"color:green;\">-</span>2013 izophela ng<span style=\"color:green;\">n</span><span style=\"color:green;\">g</span>o<span style=\"color:green;\">-</span>o<span style=\"color:red;\">c</span><span style=\"color:green;\">k</span>t<span style=\"color:green;\">h</span>ob<span style=\"color:red;\">e</span><span style=\"color:red;\">r</span><span style=\"color:green;\">h</span><span style=\"color:green;\">a</span> <span style=\"color:red;\">k</span>ulo<span style=\"color:red;\"> </span>nyaka</div>"
            ]
          },
          "metadata": {}
        },
        {
          "output_type": "stream",
          "name": "stdout",
          "text": [
            "human:\n",
            "iqale ngo2013 izophela ngooctober kulo nyaka\n",
            "\n",
            "model:\n",
            "onyakuzayo plana a ukuye sikoloa\n"
          ]
        },
        {
          "output_type": "display_data",
          "data": {
            "text/plain": [
              "<IPython.core.display.HTML object>"
            ],
            "text/html": [
              "<div style='font-family:monospace;'><span style=\"color:red;\">u</span><span style=\"color:red;\">h</span><span style=\"color:red;\">m</span><span style=\"color:red;\"> </span><span style=\"color:red;\">k</span><span style=\"color:red;\">u</span><span style=\"color:red;\">l</span>o<span style=\"color:red;\"> </span>nyak<span style=\"color:red;\">a</span><span style=\"color:red;\"> </span>uzayo <span style=\"color:red;\">n</span><span style=\"color:red;\">d</span><span style=\"color:red;\">i</span>plana <span style=\"color:green;\">a</span><span style=\"color:green;\"> </span>ukuy<span style=\"color:green;\">e</span> <span style=\"color:red;\">a</span><span style=\"color:red;\"> </span><span style=\"color:red;\">e</span>sikol<span style=\"color:green;\">o</span><span style=\"color:green;\">a</span><span style=\"color:red;\">w</span><span style=\"color:red;\">e</span><span style=\"color:red;\">n</span><span style=\"color:red;\">i</span></div>"
            ]
          },
          "metadata": {}
        },
        {
          "output_type": "stream",
          "name": "stdout",
          "text": [
            "human:\n",
            "uhm kulo nyaka uzayo ndiplana ukuy a esikolweni\n",
            "\n",
            "model:\n",
            "isazojonga amayunivesithi awwenze azohambelana lendifuna e-agriculture\n"
          ]
        },
        {
          "output_type": "display_data",
          "data": {
            "text/plain": [
              "<IPython.core.display.HTML object>"
            ],
            "text/html": [
              "<div style='font-family:monospace;'><span style=\"color:red;\">n</span><span style=\"color:red;\">d</span>isazojonga amayunivesithi aw<span style=\"color:green;\">w</span>enz<span style=\"color:red;\">a</span><span style=\"color:green;\">e</span> azohambelana <span style=\"color:red;\">n</span><span style=\"color:red;\">a</span>le<span style=\"color:red;\"> </span>nd<span style=\"color:red;\">i</span><span style=\"color:red;\">y</span>ifuna<span style=\"color:red;\">y</span><span style=\"color:red;\">o</span> <span style=\"color:red;\">i</span><span style=\"color:green;\">e</span><span style=\"color:green;\">-</span>agriculture</div>"
            ]
          },
          "metadata": {}
        },
        {
          "output_type": "stream",
          "name": "stdout",
          "text": [
            "human:\n",
            "ndisazojonga amayunivesithi awenza azohambelana nale ndiyifunayo iagriculture\n",
            "\n",
            "model:\n",
            "bendifuna kukakho iamakholethi nacmiyunivesithi\n"
          ]
        },
        {
          "output_type": "display_data",
          "data": {
            "text/plain": [
              "<IPython.core.display.HTML object>"
            ],
            "text/html": [
              "<div style='font-family:monospace;'>bendifuna <span style=\"color:green;\">k</span>uk<span style=\"color:red;\">u</span><span style=\"color:red;\">q</span>a<span style=\"color:red;\">l</span><span style=\"color:red;\">a</span><span style=\"color:green;\">k</span><span style=\"color:green;\">h</span><span style=\"color:green;\">o</span> i<span style=\"color:red;\"> </span>ama<span style=\"color:red;\">c</span><span style=\"color:green;\">k</span><span style=\"color:green;\">h</span>ol<span style=\"color:red;\">l</span>e<span style=\"color:red;\">g</span><span style=\"color:red;\">e</span><span style=\"color:green;\">t</span><span style=\"color:green;\">h</span><span style=\"color:green;\">i</span> na<span style=\"color:green;\">c</span>m<span style=\"color:red;\">a</span><span style=\"color:green;\">i</span>yunivesithi<span style=\"color:red;\"> </span><span style=\"color:red;\">e</span><span style=\"color:red;\">e</span><span style=\"color:red;\">h</span></div>"
            ]
          },
          "metadata": {}
        },
        {
          "output_type": "stream",
          "name": "stdout",
          "text": [
            "human:\n",
            "bendifuna ukuqala i amacollege namayunivesithi eeh\n",
            "\n",
            "model:\n",
            "\n"
          ]
        },
        {
          "output_type": "display_data",
          "data": {
            "text/plain": [
              "<IPython.core.display.HTML object>"
            ],
            "text/html": [
              "<div style='font-family:monospace;'><span style=\"color:red;\">o</span><span style=\"color:red;\">h</span><span style=\"color:red;\">h</span><span style=\"color:red;\"> </span><span style=\"color:red;\">o</span><span style=\"color:red;\">h</span></div>"
            ]
          },
          "metadata": {}
        },
        {
          "output_type": "stream",
          "name": "stdout",
          "text": [
            "human:\n",
            "ohh oh\n",
            "\n"
          ]
        }
      ]
    }
  ]
}